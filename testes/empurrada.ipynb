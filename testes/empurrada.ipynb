{
 "cells": [
  {
   "cell_type": "code",
   "execution_count": 1,
   "metadata": {},
   "outputs": [
    {
     "name": "stdout",
     "output_type": "stream",
     "text": [
      "Arquivo mais recente encontrado: C:\\\\Freightech\\\\load\\\\EMPURRADA\\EMPURRADA (3).xlsx\n"
     ]
    },
    {
     "name": "stderr",
     "output_type": "stream",
     "text": [
      "C:\\Users\\ADMIN.JOAO\\AppData\\Local\\Packages\\PythonSoftwareFoundation.Python.3.12_qbz5n2kfra8p0\\LocalCache\\local-packages\\Python312\\site-packages\\openpyxl\\styles\\stylesheet.py:237: UserWarning: Workbook contains no default style, apply openpyxl's default\n",
      "  warn(\"Workbook contains no default style, apply openpyxl's default\")\n"
     ]
    },
    {
     "name": "stdout",
     "output_type": "stream",
     "text": [
      "Query executada com sucesso na tabela DESPESAS OPERCIONAIS.\n"
     ]
    },
    {
     "name": "stderr",
     "output_type": "stream",
     "text": [
      "C:\\Users\\ADMIN.JOAO\\AppData\\Local\\Packages\\PythonSoftwareFoundation.Python.3.12_qbz5n2kfra8p0\\LocalCache\\local-packages\\Python312\\site-packages\\openpyxl\\styles\\stylesheet.py:237: UserWarning: Workbook contains no default style, apply openpyxl's default\n",
      "  warn(\"Workbook contains no default style, apply openpyxl's default\")\n"
     ]
    },
    {
     "name": "stdout",
     "output_type": "stream",
     "text": [
      "Query executada com sucesso na tabela BENEFÍCIOS REMUNERADOS.\n"
     ]
    },
    {
     "name": "stderr",
     "output_type": "stream",
     "text": [
      "C:\\Users\\ADMIN.JOAO\\AppData\\Local\\Packages\\PythonSoftwareFoundation.Python.3.12_qbz5n2kfra8p0\\LocalCache\\local-packages\\Python312\\site-packages\\openpyxl\\styles\\stylesheet.py:237: UserWarning: Workbook contains no default style, apply openpyxl's default\n",
      "  warn(\"Workbook contains no default style, apply openpyxl's default\")\n"
     ]
    },
    {
     "name": "stdout",
     "output_type": "stream",
     "text": [
      "Query executada com sucesso na tabela QLP EQUIPE.\n"
     ]
    },
    {
     "name": "stderr",
     "output_type": "stream",
     "text": [
      "C:\\Users\\ADMIN.JOAO\\AppData\\Local\\Packages\\PythonSoftwareFoundation.Python.3.12_qbz5n2kfra8p0\\LocalCache\\local-packages\\Python312\\site-packages\\openpyxl\\styles\\stylesheet.py:237: UserWarning: Workbook contains no default style, apply openpyxl's default\n",
      "  warn(\"Workbook contains no default style, apply openpyxl's default\")\n"
     ]
    },
    {
     "name": "stdout",
     "output_type": "stream",
     "text": [
      "Query executada com sucesso na tabela PARÂMETROS EQUIPE.\n"
     ]
    },
    {
     "name": "stderr",
     "output_type": "stream",
     "text": [
      "C:\\Users\\ADMIN.JOAO\\AppData\\Local\\Packages\\PythonSoftwareFoundation.Python.3.12_qbz5n2kfra8p0\\LocalCache\\local-packages\\Python312\\site-packages\\openpyxl\\styles\\stylesheet.py:237: UserWarning: Workbook contains no default style, apply openpyxl's default\n",
      "  warn(\"Workbook contains no default style, apply openpyxl's default\")\n"
     ]
    },
    {
     "name": "stdout",
     "output_type": "stream",
     "text": [
      "Query executada com sucesso na tabela QLP ADM.\n"
     ]
    },
    {
     "name": "stderr",
     "output_type": "stream",
     "text": [
      "C:\\Users\\ADMIN.JOAO\\AppData\\Local\\Packages\\PythonSoftwareFoundation.Python.3.12_qbz5n2kfra8p0\\LocalCache\\local-packages\\Python312\\site-packages\\openpyxl\\styles\\stylesheet.py:237: UserWarning: Workbook contains no default style, apply openpyxl's default\n",
      "  warn(\"Workbook contains no default style, apply openpyxl's default\")\n"
     ]
    },
    {
     "name": "stdout",
     "output_type": "stream",
     "text": [
      "Query executada com sucesso na tabela CAVALO.\n"
     ]
    },
    {
     "name": "stderr",
     "output_type": "stream",
     "text": [
      "C:\\Users\\ADMIN.JOAO\\AppData\\Local\\Packages\\PythonSoftwareFoundation.Python.3.12_qbz5n2kfra8p0\\LocalCache\\local-packages\\Python312\\site-packages\\openpyxl\\styles\\stylesheet.py:237: UserWarning: Workbook contains no default style, apply openpyxl's default\n",
      "  warn(\"Workbook contains no default style, apply openpyxl's default\")\n"
     ]
    },
    {
     "name": "stdout",
     "output_type": "stream",
     "text": [
      "Query executada com sucesso na tabela CARRETA.\n"
     ]
    },
    {
     "name": "stderr",
     "output_type": "stream",
     "text": [
      "C:\\Users\\ADMIN.JOAO\\AppData\\Local\\Packages\\PythonSoftwareFoundation.Python.3.12_qbz5n2kfra8p0\\LocalCache\\local-packages\\Python312\\site-packages\\openpyxl\\styles\\stylesheet.py:237: UserWarning: Workbook contains no default style, apply openpyxl's default\n",
      "  warn(\"Workbook contains no default style, apply openpyxl's default\")\n"
     ]
    },
    {
     "name": "stdout",
     "output_type": "stream",
     "text": [
      "Query executada com sucesso na tabela PARÂMETROS MANUTENÇÃO.\n"
     ]
    },
    {
     "name": "stderr",
     "output_type": "stream",
     "text": [
      "C:\\Users\\ADMIN.JOAO\\AppData\\Local\\Packages\\PythonSoftwareFoundation.Python.3.12_qbz5n2kfra8p0\\LocalCache\\local-packages\\Python312\\site-packages\\openpyxl\\styles\\stylesheet.py:237: UserWarning: Workbook contains no default style, apply openpyxl's default\n",
      "  warn(\"Workbook contains no default style, apply openpyxl's default\")\n"
     ]
    },
    {
     "name": "stdout",
     "output_type": "stream",
     "text": [
      "Query executada com sucesso na tabela PARÂMETROS OPERACIONAIS.\n"
     ]
    },
    {
     "name": "stderr",
     "output_type": "stream",
     "text": [
      "C:\\Users\\ADMIN.JOAO\\AppData\\Local\\Packages\\PythonSoftwareFoundation.Python.3.12_qbz5n2kfra8p0\\LocalCache\\local-packages\\Python312\\site-packages\\openpyxl\\styles\\stylesheet.py:237: UserWarning: Workbook contains no default style, apply openpyxl's default\n",
      "  warn(\"Workbook contains no default style, apply openpyxl's default\")\n"
     ]
    },
    {
     "name": "stdout",
     "output_type": "stream",
     "text": [
      "Query executada com sucesso na tabela PNEU.\n"
     ]
    },
    {
     "name": "stderr",
     "output_type": "stream",
     "text": [
      "C:\\Users\\ADMIN.JOAO\\AppData\\Local\\Packages\\PythonSoftwareFoundation.Python.3.12_qbz5n2kfra8p0\\LocalCache\\local-packages\\Python312\\site-packages\\openpyxl\\styles\\stylesheet.py:237: UserWarning: Workbook contains no default style, apply openpyxl's default\n",
      "  warn(\"Workbook contains no default style, apply openpyxl's default\")\n"
     ]
    },
    {
     "name": "stdout",
     "output_type": "stream",
     "text": [
      "Query executada com sucesso na tabela CUSTO EQUIPE.\n"
     ]
    },
    {
     "name": "stderr",
     "output_type": "stream",
     "text": [
      "C:\\Users\\ADMIN.JOAO\\AppData\\Local\\Packages\\PythonSoftwareFoundation.Python.3.12_qbz5n2kfra8p0\\LocalCache\\local-packages\\Python312\\site-packages\\openpyxl\\styles\\stylesheet.py:237: UserWarning: Workbook contains no default style, apply openpyxl's default\n",
      "  warn(\"Workbook contains no default style, apply openpyxl's default\")\n"
     ]
    },
    {
     "name": "stdout",
     "output_type": "stream",
     "text": [
      "Query executada com sucesso na tabela UNIFORMES E EPIS.\n"
     ]
    },
    {
     "name": "stderr",
     "output_type": "stream",
     "text": [
      "C:\\Users\\ADMIN.JOAO\\AppData\\Local\\Packages\\PythonSoftwareFoundation.Python.3.12_qbz5n2kfra8p0\\LocalCache\\local-packages\\Python312\\site-packages\\openpyxl\\styles\\stylesheet.py:237: UserWarning: Workbook contains no default style, apply openpyxl's default\n",
      "  warn(\"Workbook contains no default style, apply openpyxl's default\")\n"
     ]
    },
    {
     "name": "stdout",
     "output_type": "stream",
     "text": [
      "Query executada com sucesso na tabela COMBUSTÍVEL.\n"
     ]
    },
    {
     "name": "stderr",
     "output_type": "stream",
     "text": [
      "C:\\Users\\ADMIN.JOAO\\AppData\\Local\\Packages\\PythonSoftwareFoundation.Python.3.12_qbz5n2kfra8p0\\LocalCache\\local-packages\\Python312\\site-packages\\openpyxl\\styles\\stylesheet.py:237: UserWarning: Workbook contains no default style, apply openpyxl's default\n",
      "  warn(\"Workbook contains no default style, apply openpyxl's default\")\n"
     ]
    },
    {
     "name": "stdout",
     "output_type": "stream",
     "text": [
      "Query executada com sucesso na tabela TRECHOS.\n"
     ]
    },
    {
     "name": "stderr",
     "output_type": "stream",
     "text": [
      "C:\\Users\\ADMIN.JOAO\\AppData\\Local\\Packages\\PythonSoftwareFoundation.Python.3.12_qbz5n2kfra8p0\\LocalCache\\local-packages\\Python312\\site-packages\\openpyxl\\styles\\stylesheet.py:237: UserWarning: Workbook contains no default style, apply openpyxl's default\n",
      "  warn(\"Workbook contains no default style, apply openpyxl's default\")\n"
     ]
    },
    {
     "name": "stdout",
     "output_type": "stream",
     "text": [
      "Query executada com sucesso na tabela CONSUMO.\n"
     ]
    },
    {
     "name": "stderr",
     "output_type": "stream",
     "text": [
      "C:\\Users\\ADMIN.JOAO\\AppData\\Local\\Packages\\PythonSoftwareFoundation.Python.3.12_qbz5n2kfra8p0\\LocalCache\\local-packages\\Python312\\site-packages\\openpyxl\\styles\\stylesheet.py:237: UserWarning: Workbook contains no default style, apply openpyxl's default\n",
      "  warn(\"Workbook contains no default style, apply openpyxl's default\")\n"
     ]
    },
    {
     "name": "stdout",
     "output_type": "stream",
     "text": [
      "Erro ao executar a query: 1064 (42000): You have an error in your SQL syntax; check the manual that corresponds to your MySQL server version for the right syntax to use near 'OPERACIONAIS() VALUES (\"EMPURRADA_2_2_2025\",\"07526557001505_CERV\",\"CAMAÇARI\",\"B' at line 1\n",
      "INSERT IGNORE INTO DESPESA OPERACIONAIS() VALUES (\"EMPURRADA_2_2_2025\",\"07526557001505_CERV\",\"CAMAÇARI\",\"BR04\",\"nan\",\"nan\",\"nan\",\"20618821000799\",\"OPERALOG\",\"390268\",\"nan\",\"1\",\"nan\",\"nan\",\"MATERIAL DE ESCRITÓRIO\",\"1\",\"1262.0\",\"1262.0\",\"24.27\",\"0244e182-a49d-4b34-9624-7c78049a5e21\"),(\"EMPURRADA_2_2_2025\",\"07526557001505_CERV\",\"CAMAÇARI\",\"BR04\",\"nan\",\"nan\",\"nan\",\"20618821000799\",\"OPERALOG\",\"390268\",\"nan\",\"1\",\"nan\",\"nan\",\"COMUNICAÇÃO FIXA\",\"1\",\"160.97\",\"160.97\",\"3.1\",\"7063e450-c096-4877-b17b-6892ba456f51\"),(\"EMPURRADA_2_2_2025\",\"07526557001505_CERV\",\"CAMAÇARI\",\"BR04\",\"nan\",\"nan\",\"nan\",\"20618821000799\",\"OPERALOG\",\"390268\",\"nan\",\"1\",\"nan\",\"nan\",\"MANUTENÇÃO DE SISTEMAS\",\"1\",\"402.44\",\"402.44\",\"7.74\",\"f6b176bc-db08-43d6-b753-c96dd7c8fdfd\"),(\"EMPURRADA_2_2_2025\",\"07526557001505_CERV\",\"CAMAÇARI\",\"BR04\",\"nan\",\"nan\",\"nan\",\"20618821000799\",\"OPERALOG\",\"390268\",\"nan\",\"1\",\"nan\",\"nan\",\"LACRE\",\"0\",\"0.0\",\"0.0\",\"0.0\",\"accf1916-673a-49de-91f5-6f2185e9844e\"),(\"EMPURRADA_2_2_2025\",\"07526557001505_CERV\",\"CAMAÇARI\",\"BR04\",\"nan\",\"nan\",\"nan\",\"20618821000799\",\"OPERALOG\",\"390268\",\"nan\",\"1\",\"nan\",\"nan\",\"CELULAR TRACKING\",\"59\",\"1443.73\",\"24.47\",\"27.76\",\"1f17e259-ebef-4700-b12f-7944bd0af8b1\"),(\"EMPURRADA_2_2_2025\",\"07526557001505_CERV\",\"CAMAÇARI\",\"BR04\",\"nan\",\"nan\",\"nan\",\"20618821000799\",\"OPERALOG\",\"390268\",\"nan\",\"1\",\"nan\",\"nan\",\"SALA\",\"1\",\"0.0\",\"0.0\",\"0.0\",\"bb8de1da-492a-4bba-8ba0-ac080d340d85\"),(\"EMPURRADA_2_2_2025\",\"07526557001505_CERV\",\"CAMAÇARI\",\"BR04\",\"nan\",\"nan\",\"nan\",\"20618821000799\",\"OPERALOG\",\"390268\",\"nan\",\"1\",\"nan\",\"nan\",\"PPRA\",\"1\",\"252.69\",\"252.69\",\"4.86\",\"626e3418-329a-4a73-881f-b83626bab699\"),(\"EMPURRADA_2_2_2025\",\"07526557001505_CERV\",\"CAMAÇARI\",\"BR04\",\"nan\",\"nan\",\"nan\",\"20618821000799\",\"OPERALOG\",\"390268\",\"nan\",\"1\",\"nan\",\"nan\",\"ASSESSORIA JURIDICA\",\"1\",\"168.45\",\"168.45\",\"3.24\",\"8c5f2f22-cb3c-49dd-abbc-a31c97aebb35\"),(\"EMPURRADA_2_2_2025\",\"07526557001505_CERV\",\"CAMAÇARI\",\"BR04\",\"nan\",\"nan\",\"nan\",\"20618821000799\",\"OPERALOG\",\"390268\",\"nan\",\"1\",\"nan\",\"nan\",\"ONIBUS PARA EQUIPE\",\"1\",\"60000.0\",\"60000.0\",\"1153.85\",\"24aafa49-6f7c-4c59-8de7-7290c0309fd9\"),(\"EMPURRADA_2_2_2025\",\"07526557001505_CERV\",\"CAMAÇARI\",\"BR04\",\"nan\",\"nan\",\"nan\",\"20618821000799\",\"OPERALOG\",\"390268\",\"nan\",\"1\",\"nan\",\"nan\",\"Pagamento Mindsight\",\"1\",\"383.64\",\"383.64\",\"7.38\",\"cc917976-ad64-48a6-9df4-392280a862c2\"),(\"EMPURRADA_2_2_2025\",\"07526557001009_CERV\",\"CDD CEBRASA\",\"BR12\",\"nan\",\"nan\",\"nan\",\"7451885000194\",\"HORIZONTE\",\"316377\",\"nan\",\"36\",\"NO\",\"nan\",\"MATERIAL DE ESCRITÓRIO\",\"0\",\"0.0\",\"0.0\",\"0.0\",\"af61f170-b25e-46b9-9535-aaf3f202e979\"),(\"EMPURRADA_2_2_2025\",\"07526557001009_CERV\",\"CDD CEBRASA\",\"BR12\",\"nan\",\"nan\",\"nan\",\"7451885000194\",\"HORIZONTE\",\"316377\",\"nan\",\"36\",\"NO\",\"nan\",\"COMUNICAÇÃO MOVEL\",\"0\",\"0.0\",\"0.0\",\"0.0\",\"6265b338-f266-4350-9a5f-8286c40ffd5e\"),(\"EMPURRADA_2_2_2025\",\"07526557001009_CERV\",\"CDD CEBRASA\",\"BR12\",\"nan\",\"nan\",\"nan\",\"7451885000194\",\"HORIZONTE\",\"316377\",\"nan\",\"36\",\"NO\",\"nan\",\"COMUNICAÇÃO FIXA\",\"0\",\"0.0\",\"0.0\",\"0.0\",\"6bc50f50-f5aa-4417-acc3-c3eb12a1c31e\"),(\"EMPURRADA_2_2_2025\",\"07526557001009_CERV\",\"CDD CEBRASA\",\"BR12\",\"nan\",\"nan\",\"nan\",\"7451885000194\",\"HORIZONTE\",\"316377\",\"nan\",\"36\",\"NO\",\"nan\",\"MANUTENÇÃO DE SISTEMAS\",\"0\",\"0.0\",\"0.0\",\"0.0\",\"cbdc845a-2ae1-4212-8d53-3d458b17401f\"),(\"EMPURRADA_2_2_2025\",\"07526557001009_CERV\",\"CDD CEBRASA\",\"BR12\",\"nan\",\"nan\",\"nan\",\"7451885000194\",\"HORIZONTE\",\"316377\",\"nan\",\"36\",\"NO\",\"nan\",\"LACRE\",\"0\",\"0.0\",\"0.0\",\"0.0\",\"906455a4-1af7-4c9c-9fa4-c29df48c51b3\"),(\"EMPURRADA_2_2_2025\",\"07526557001009_CERV\",\"CDD CEBRASA\",\"BR12\",\"nan\",\"nan\",\"nan\",\"7451885000194\",\"HORIZONTE\",\"316377\",\"nan\",\"36\",\"NO\",\"nan\",\"CELULAR TRACKING\",\"17\",\"415.99\",\"24.47\",\"37.82\",\"db62cdf5-05e0-47e4-9864-b30d5a766d73\"),(\"EMPURRADA_2_2_2025\",\"07526557001009_CERV\",\"CDD CEBRASA\",\"BR12\",\"nan\",\"nan\",\"nan\",\"7451885000194\",\"HORIZONTE\",\"316377\",\"nan\",\"36\",\"NO\",\"nan\",\"SALA\",\"0\",\"0.0\",\"0.0\",\"0.0\",\"7ebc1e90-bd5a-44f4-833b-df6737e4c011\"),(\"EMPURRADA_2_2_2025\",\"07526557001009_CERV\",\"CDD CEBRASA\",\"BR12\",\"nan\",\"nan\",\"nan\",\"7451885000194\",\"HORIZONTE\",\"316377\",\"nan\",\"36\",\"NO\",\"nan\",\"Aluguel de Carreta - OTX7592\",\"1\",\"3000.0\",\"3000.0\",\"272.73\",\"c6a5e5c7-3887-46d0-846b-9d93fcc99ebe\"),(\"EMPURRADA_2_2_2025\",\"07526557001009_CERV\",\"CDD CEBRASA\",\"BR12\",\"nan\",\"nan\",\"nan\",\"7451885000194\",\"HORIZONTE\",\"316377\",\"nan\",\"36\",\"NO\",\"nan\",\"Aluguel de Carreta - OTX7582\",\"1\",\"3000.0\",\"3000.0\",\"272.73\",\"a5c03c0c-40ac-4ed8-a174-8e95f6d70d15\"),(\"EMPURRADA_2_2_2025\",\"07526557001009_CERV\",\"CDD CEBRASA\",\"BR12\",\"nan\",\"nan\",\"nan\",\"7451885000194\",\"HORIZONTE\",\"316377\",\"nan\",\"36\",\"NO\",\"nan\",\"Aluguel de Carreta - ORE0690\",\"1\",\"3000.0\",\"3000.0\",\"272.73\",\"22dde936-0389-4986-9475-1ff7ab8931fa\"),(\"EMPURRADA_2_2_2025\",\"07526557001009_CERV\",\"CDD CEBRASA\",\"BR12\",\"nan\",\"nan\",\"nan\",\"7451885000194\",\"HORIZONTE\",\"316377\",\"nan\",\"36\",\"NO\",\"nan\",\"Aluguel de Carreta - OHI8659\",\"1\",\"3000.0\",\"3000.0\",\"272.73\",\"4443fc8d-05e7-430c-816c-ab9a5095134b\"),(\"EMPURRADA_2_2_2025\",\"07526557001009_CERV\",\"CDD CEBRASA\",\"BR12\",\"nan\",\"nan\",\"nan\",\"7451885000194\",\"HORIZONTE\",\"316377\",\"nan\",\"36\",\"NO\",\"nan\",\"Aluguel de Carreta - OTI3645\",\"1\",\"3000.0\",\"3000.0\",\"272.73\",\"80f25b9b-3d58-46a1-9854-dfff8e09eecc\"),(\"EMPURRADA_2_2_2025\",\"07526557001009_CERV\",\"CDD CEBRASA\",\"BR12\",\"nan\",\"nan\",\"nan\",\"7451885000194\",\"HORIZONTE\",\"316377\",\"nan\",\"36\",\"NO\",\"nan\",\"Aluguel de Carreta - OTI4085\",\"1\",\"3000.0\",\"3000.0\",\"272.73\",\"cadcab02-8a65-40d9-9204-d2535c876212\"),(\"EMPURRADA_2_2_2025\",\"07526557001009_CERV\",\"CDD CEBRASA\",\"BR12\",\"nan\",\"nan\",\"nan\",\"7451885000194\",\"HORIZONTE\",\"316377\",\"nan\",\"36\",\"NO\",\"nan\",\"Aluguel de Carreta - OTI3985\",\"1\",\"3000.0\",\"3000.0\",\"272.73\",\"52d3df68-78a3-4e4a-974e-b16788c85634\"),(\"EMPURRADA_2_2_2025\",\"07526557001009_CERV\",\"CDD CEBRASA\",\"BR12\",\"nan\",\"nan\",\"nan\",\"7451885000194\",\"HORIZONTE\",\"316377\",\"nan\",\"36\",\"NO\",\"nan\",\"Aluguel Estrutura Garagem\",\"1\",\"17508.94\",\"17508.94\",\"1591.72\",\"edf9365f-70e0-44b7-9fbe-99790107d0b1\"),(\"EMPURRADA_2_2_2025\",\"07526557005683_CERV\",\"EQUATORIAL\",\"BR36\",\"991.0\",\"nan\",\"nan\",\"7451885000780\",\"HORIZONTE\",\"316377\",\"nan\",\"7\",\"nan\",\"nan\",\"MATERIAL DE ESCRITÓRIO\",\"1\",\"0.0\",\"0.0\",\"0.0\",\"e6869910-9e79-45b3-826b-8a260985460c\"),(\"EMPURRADA_2_2_2025\",\"07526557005683_CERV\",\"EQUATORIAL\",\"BR36\",\"991.0\",\"nan\",\"nan\",\"7451885000780\",\"HORIZONTE\",\"316377\",\"nan\",\"7\",\"nan\",\"nan\",\"COMUNICAÇÃO MOVEL\",\"17\",\"0.0\",\"0.0\",\"0.0\",\"94e97282-5b8e-49d8-a19c-7ba4d09a1bc8\"),(\"EMPURRADA_2_2_2025\",\"07526557005683_CERV\",\"EQUATORIAL\",\"BR36\",\"991.0\",\"nan\",\"nan\",\"7451885000780\",\"HORIZONTE\",\"316377\",\"nan\",\"7\",\"nan\",\"nan\",\"COMUNICAÇÃO FIXA\",\"1\",\"0.0\",\"0.0\",\"0.0\",\"fe8ac866-39b2-4690-935e-586304dff328\"),(\"EMPURRADA_2_2_2025\",\"07526557005683_CERV\",\"EQUATORIAL\",\"BR36\",\"991.0\",\"nan\",\"nan\",\"7451885000780\",\"HORIZONTE\",\"316377\",\"nan\",\"7\",\"nan\",\"nan\",\"MANUTENÇÃO DE SISTEMAS\",\"1\",\"0.0\",\"0.0\",\"0.0\",\"5418c3c9-1047-4350-8500-8484c616d7a5\"),(\"EMPURRADA_2_2_2025\",\"07526557005683_CERV\",\"EQUATORIAL\",\"BR36\",\"991.0\",\"nan\",\"nan\",\"7451885000780\",\"HORIZONTE\",\"316377\",\"nan\",\"7\",\"nan\",\"nan\",\"LACRE\",\"0\",\"0.0\",\"0.0\",\"0.0\",\"d43fcca9-27be-4cfe-8095-6d69d775ad02\"),(\"EMPURRADA_2_2_2025\",\"07526557005683_CERV\",\"EQUATORIAL\",\"BR36\",\"991.0\",\"nan\",\"nan\",\"7451885000780\",\"HORIZONTE\",\"316377\",\"nan\",\"7\",\"nan\",\"nan\",\"CELULAR TRACKING\",\"17\",\"415.99\",\"24.47\",\"52.0\",\"d171c16a-b0eb-4528-a18c-9642fa0e2242\"),(\"EMPURRADA_2_2_2025\",\"07526557005683_CERV\",\"EQUATORIAL\",\"BR36\",\"991.0\",\"nan\",\"nan\",\"7451885000780\",\"HORIZONTE\",\"316377\",\"nan\",\"7\",\"nan\",\"nan\",\"SALA\",\"1\",\"0.0\",\"0.0\",\"0.0\",\"e6fa2275-b766-4c4e-a797-c7195bf17df6\"),(\"EMPURRADA_2_2_2025\",\"07526557005683_CERV\",\"EQUATORIAL\",\"BR36\",\"991.0\",\"nan\",\"nan\",\"7451885000780\",\"HORIZONTE\",\"316377\",\"nan\",\"7\",\"nan\",\"nan\",\"Aluguel carreta - OYR5058\",\"1\",\"3000.0\",\"3000.0\",\"375.0\",\"925f138d-7314-4d44-9613-e6fca5255032\"),(\"EMPURRADA_2_2_2025\",\"07526557005683_CERV\",\"EQUATORIAL\",\"BR36\",\"991.0\",\"nan\",\"nan\",\"7451885000780\",\"HORIZONTE\",\"316377\",\"nan\",\"7\",\"nan\",\"nan\",\"Estrutura Garagem Empurrada\",\"1\",\"10845.49\",\"10845.49\",\"1355.69\",\"cfb07d92-ac31-4e86-83ea-1b4755e3462a\"),(\"EMPURRADA_2_2_2025\",\"07526557005683_CERV\",\"EQUATORIAL\",\"BR36\",\"991.0\",\"nan\",\"nan\",\"7451885000780\",\"HORIZONTE\",\"316377\",\"nan\",\"7\",\"nan\",\"nan\",\"BNS 4° TRI ( até fevereiro/25)\",\"1\",\"11207.72\",\"11207.72\",\"1400.96\",\"7a5ac530-f23d-4a93-ae2f-373dee212963\"),(\"EMPURRADA_2_2_2025\",\"03134910000236_CERV_MAN\",\"MANAUS\",\"BR01\",\"nan\",\"nan\",\"nan\",\"7462961000167\",\"HORIZONTE\",\"313103\",\"nan\",\"4\",\"nan\",\"nan\",\"MATERIAL DE ESCRITÓRIO\",\"0\",\"0.0\",\"0.0\",\"0.0\",\"71818f63-fd72-4762-8197-60d8f1d93f00\"),(\"EMPURRADA_2_2_2025\",\"03134910000236_CERV_MAN\",\"MANAUS\",\"BR01\",\"nan\",\"nan\",\"nan\",\"7462961000167\",\"HORIZONTE\",\"313103\",\"nan\",\"4\",\"nan\",\"nan\",\"COMUNICAÇÃO MOVEL\",\"0\",\"0.0\",\"0.0\",\"0.0\",\"e3244966-87f7-4c83-a32e-86d015bf3b99\"),(\"EMPURRADA_2_2_2025\",\"03134910000236_CERV_MAN\",\"MANAUS\",\"BR01\",\"nan\",\"nan\",\"nan\",\"7462961000167\",\"HORIZONTE\",\"313103\",\"nan\",\"4\",\"nan\",\"nan\",\"COMUNICAÇÃO FIXA\",\"0\",\"0.0\",\"0.0\",\"0.0\",\"665fe5d4-8224-4069-8300-921e88fab17d\"),(\"EMPURRADA_2_2_2025\",\"03134910000236_CERV_MAN\",\"MANAUS\",\"BR01\",\"nan\",\"nan\",\"nan\",\"7462961000167\",\"HORIZONTE\",\"313103\",\"nan\",\"4\",\"nan\",\"nan\",\"MANUTENÇÃO DE SISTEMAS\",\"0\",\"0.0\",\"0.0\",\"0.0\",\"52a9530e-420d-45f8-a89e-b24985d7a148\"),(\"EMPURRADA_2_2_2025\",\"03134910000236_CERV_MAN\",\"MANAUS\",\"BR01\",\"nan\",\"nan\",\"nan\",\"7462961000167\",\"HORIZONTE\",\"313103\",\"nan\",\"4\",\"nan\",\"nan\",\"LACRE\",\"0\",\"0.0\",\"0.0\",\"0.0\",\"b93a525e-bdb9-455b-9181-5a5af6693359\"),(\"EMPURRADA_2_2_2025\",\"03134910000236_CERV_MAN\",\"MANAUS\",\"BR01\",\"nan\",\"nan\",\"nan\",\"7462961000167\",\"HORIZONTE\",\"313103\",\"nan\",\"4\",\"nan\",\"nan\",\"CELULAR TRACKING\",\"7\",\"171.29\",\"24.47\",\"57.1\",\"a4c46b25-db54-49d9-b232-2203d45a72c0\"),(\"EMPURRADA_2_2_2025\",\"03134910000236_CERV_MAN\",\"MANAUS\",\"BR01\",\"nan\",\"nan\",\"nan\",\"7462961000167\",\"HORIZONTE\",\"313103\",\"nan\",\"4\",\"nan\",\"nan\",\"SALA\",\"0\",\"0.0\",\"0.0\",\"0.0\",\"b4fea45c-0191-410a-9138-1b8049a6aba3\"),(\"EMPURRADA_2_2_2025\",\"07526557002153_CERV\",\"PERNAMBUCO\",\"BR31\",\"nan\",\"nan\",\"nan\",\"3965584001523\",\"HORIZONTE\",\"421808\",\"nan\",\"12\",\"nan\",\"nan\",\"MATERIAL DE ESCRITÓRIO\",\"1\",\"0.0\",\"0.0\",\"0.0\",\"97ad0dcf-e771-43f0-b937-64ce5c764373\"),(\"EMPURRADA_2_2_2025\",\"07526557002153_CERV\",\"PERNAMBUCO\",\"BR31\",\"nan\",\"nan\",\"nan\",\"3965584001523\",\"HORIZONTE\",\"421808\",\"nan\",\"12\",\"nan\",\"nan\",\"COMUNICAÇÃO MOVEL\",\"95\",\"0.0\",\"0.0\",\"0.0\",\"a43a619d-d7f1-4af9-8642-047427c879ea\"),(\"EMPURRADA_2_2_2025\",\"07526557002153_CERV\",\"PERNAMBUCO\",\"BR31\",\"nan\",\"nan\",\"nan\",\"3965584001523\",\"HORIZONTE\",\"421808\",\"nan\",\"12\",\"nan\",\"nan\",\"COMUNICAÇÃO FIXA\",\"1\",\"0.0\",\"0.0\",\"0.0\",\"d8f45f2a-945c-47b6-a03a-bf3e7fe16da8\"),(\"EMPURRADA_2_2_2025\",\"07526557002153_CERV\",\"PERNAMBUCO\",\"BR31\",\"nan\",\"nan\",\"nan\",\"3965584001523\",\"HORIZONTE\",\"421808\",\"nan\",\"12\",\"nan\",\"nan\",\"MANUTENÇÃO DE SISTEMAS\",\"1\",\"0.0\",\"0.0\",\"0.0\",\"62f7e832-d4c1-4a82-a1b7-5c3a9dd900bb\"),(\"EMPURRADA_2_2_2025\",\"07526557002153_CERV\",\"PERNAMBUCO\",\"BR31\",\"nan\",\"nan\",\"nan\",\"3965584001523\",\"HORIZONTE\",\"421808\",\"nan\",\"12\",\"nan\",\"nan\",\"LACRE\",\"0\",\"0.0\",\"0.0\",\"0.0\",\"98ba186b-33d5-4695-93cc-cb1dfa9b6edb\"),(\"EMPURRADA_2_2_2025\",\"07526557002153_CERV\",\"PERNAMBUCO\",\"BR31\",\"nan\",\"nan\",\"nan\",\"3965584001523\",\"HORIZONTE\",\"421808\",\"nan\",\"12\",\"nan\",\"nan\",\"CELULAR TRACKING\",\"95\",\"2324.65\",\"24.47\",\"48.43\",\"a6bd2125-2aec-4361-b547-e5d40432f498\"),(\"EMPURRADA_2_2_2025\",\"07526557002153_CERV\",\"PERNAMBUCO\",\"BR31\",\"nan\",\"nan\",\"nan\",\"3965584001523\",\"HORIZONTE\",\"421808\",\"nan\",\"12\",\"nan\",\"nan\",\"SALA\",\"1\",\"0.0\",\"0.0\",\"0.0\",\"2dfd4efd-fe00-42a6-b606-569be49a03fc\"),(\"EMPURRADA_2_2_2025\",\"07526557002153_CERV\",\"PERNAMBUCO\",\"BR31\",\"nan\",\"nan\",\"nan\",\"3965584001523\",\"HORIZONTE\",\"421808\",\"nan\",\"12\",\"nan\",\"nan\",\"Estrutura Garagem Empurrada\",\"1\",\"22036.84\",\"22036.84\",\"459.1\",\"e3cabef0-36a4-4f1a-9517-fac8c917846e\"),(\"EMPURRADA_2_2_2025\",\"07526557002153_CERV\",\"PERNAMBUCO\",\"BR31\",\"nan\",\"nan\",\"nan\",\"3965584001523\",\"HORIZONTE\",\"421808\",\"nan\",\"12\",\"nan\",\"nan\",\"Pagamento Mindsight\",\"1\",\"2171.14\",\"2171.14\",\"45.23\",\"2b55824e-ba06-4e29-836f-3679cdb4cb2e\"),(\"EMPURRADA_2_2_2025\",\"07526557002153_CERV\",\"PERNAMBUCO\",\"BR31\",\"nan\",\"nan\",\"nan\",\"3965584001523\",\"HORIZONTE\",\"421808\",\"nan\",\"12\",\"nan\",\"nan\",\"BNS 4° TRI ( até fevereiro/25)\",\"1\",\"59505.78\",\"59505.78\",\"1239.7\",\"d53fdd3b-5578-4247-b400-ca1d15b810e5\"),(\"EMPURRADA_1_2_2025\",\"07526557001505_CERV\",\"CAMAÇARI\",\"BR04\",\"nan\",\"nan\",\"nan\",\"20618821000799\",\"OPERALOG\",\"390268\",\"nan\",\"1\",\"nan\",\"nan\",\"MATERIAL DE ESCRITÓRIO\",\"1\",\"1262.0\",\"1262.0\",\"28.68\",\"0244e182-a49d-4b34-9624-7c78049a5e21\"),(\"EMPURRADA_1_2_2025\",\"07526557001505_CERV\",\"CAMAÇARI\",\"BR04\",\"nan\",\"nan\",\"nan\",\"20618821000799\",\"OPERALOG\",\"390268\",\"nan\",\"1\",\"nan\",\"nan\",\"COMUNICAÇÃO FIXA\",\"1\",\"160.97\",\"160.97\",\"3.66\",\"7063e450-c096-4877-b17b-6892ba456f51\"),(\"EMPURRADA_1_2_2025\",\"07526557001505_CERV\",\"CAMAÇARI\",\"BR04\",\"nan\",\"nan\",\"nan\",\"20618821000799\",\"OPERALOG\",\"390268\",\"nan\",\"1\",\"nan\",\"nan\",\"MANUTENÇÃO DE SISTEMAS\",\"1\",\"402.44\",\"402.44\",\"9.15\",\"f6b176bc-db08-43d6-b753-c96dd7c8fdfd\"),(\"EMPURRADA_1_2_2025\",\"07526557001505_CERV\",\"CAMAÇARI\",\"BR04\",\"nan\",\"nan\",\"nan\",\"20618821000799\",\"OPERALOG\",\"390268\",\"nan\",\"1\",\"nan\",\"nan\",\"LACRE\",\"0\",\"0.0\",\"0.0\",\"0.0\",\"accf1916-673a-49de-91f5-6f2185e9844e\"),(\"EMPURRADA_1_2_2025\",\"07526557001505_CERV\",\"CAMAÇARI\",\"BR04\",\"nan\",\"nan\",\"nan\",\"20618821000799\",\"OPERALOG\",\"390268\",\"nan\",\"1\",\"nan\",\"nan\",\"CELULAR TRACKING\",\"51\",\"1247.97\",\"24.47\",\"28.36\",\"1f17e259-ebef-4700-b12f-7944bd0af8b1\"),(\"EMPURRADA_1_2_2025\",\"07526557001505_CERV\",\"CAMAÇARI\",\"BR04\",\"nan\",\"nan\",\"nan\",\"20618821000799\",\"OPERALOG\",\"390268\",\"nan\",\"1\",\"nan\",\"nan\",\"SALA\",\"1\",\"0.0\",\"0.0\",\"0.0\",\"bb8de1da-492a-4bba-8ba0-ac080d340d85\"),(\"EMPURRADA_1_2_2025\",\"07526557001505_CERV\",\"CAMAÇARI\",\"BR04\",\"nan\",\"nan\",\"nan\",\"20618821000799\",\"OPERALOG\",\"390268\",\"nan\",\"1\",\"nan\",\"nan\",\"PPRA\",\"1\",\"252.69\",\"252.69\",\"5.74\",\"626e3418-329a-4a73-881f-b83626bab699\"),(\"EMPURRADA_1_2_2025\",\"07526557001505_CERV\",\"CAMAÇARI\",\"BR04\",\"nan\",\"nan\",\"nan\",\"20618821000799\",\"OPERALOG\",\"390268\",\"nan\",\"1\",\"nan\",\"nan\",\"ASSESSORIA JURIDICA\",\"1\",\"168.45\",\"168.45\",\"3.83\",\"8c5f2f22-cb3c-49dd-abbc-a31c97aebb35\"),(\"EMPURRADA_1_2_2025\",\"07526557001505_CERV\",\"CAMAÇARI\",\"BR04\",\"nan\",\"nan\",\"nan\",\"20618821000799\",\"OPERALOG\",\"390268\",\"nan\",\"1\",\"nan\",\"nan\",\"ONIBUS PARA EQUIPE\",\"1\",\"60000.0\",\"60000.0\",\"1363.64\",\"24aafa49-6f7c-4c59-8de7-7290c0309fd9\"),(\"EMPURRADA_1_2_2025\",\"07526557001505_CERV\",\"CAMAÇARI\",\"BR04\",\"nan\",\"nan\",\"nan\",\"20618821000799\",\"OPERALOG\",\"390268\",\"nan\",\"1\",\"nan\",\"nan\",\"Pagamento Mindsight\",\"1\",\"383.64\",\"383.64\",\"8.72\",\"cc917976-ad64-48a6-9df4-392280a862c2\"),(\"EMPURRADA_1_2_2025\",\"07526557001009_CERV\",\"CDD CEBRASA\",\"BR12\",\"nan\",\"nan\",\"nan\",\"7451885000194\",\"HORIZONTE\",\"316377\",\"nan\",\"36\",\"NO\",\"nan\",\"MATERIAL DE ESCRITÓRIO\",\"0\",\"0.0\",\"0.0\",\"0.0\",\"af61f170-b25e-46b9-9535-aaf3f202e979\"),(\"EMPURRADA_1_2_2025\",\"07526557001009_CERV\",\"CDD CEBRASA\",\"BR12\",\"nan\",\"nan\",\"nan\",\"7451885000194\",\"HORIZONTE\",\"316377\",\"nan\",\"36\",\"NO\",\"nan\",\"COMUNICAÇÃO MOVEL\",\"0\",\"0.0\",\"0.0\",\"0.0\",\"6265b338-f266-4350-9a5f-8286c40ffd5e\"),(\"EMPURRADA_1_2_2025\",\"07526557001009_CERV\",\"CDD CEBRASA\",\"BR12\",\"nan\",\"nan\",\"nan\",\"7451885000194\",\"HORIZONTE\",\"316377\",\"nan\",\"36\",\"NO\",\"nan\",\"COMUNICAÇÃO FIXA\",\"0\",\"0.0\",\"0.0\",\"0.0\",\"6bc50f50-f5aa-4417-acc3-c3eb12a1c31e\"),(\"EMPURRADA_1_2_2025\",\"07526557001009_CERV\",\"CDD CEBRASA\",\"BR12\",\"nan\",\"nan\",\"nan\",\"7451885000194\",\"HORIZONTE\",\"316377\",\"nan\",\"36\",\"NO\",\"nan\",\"MANUTENÇÃO DE SISTEMAS\",\"0\",\"0.0\",\"0.0\",\"0.0\",\"cbdc845a-2ae1-4212-8d53-3d458b17401f\"),(\"EMPURRADA_1_2_2025\",\"07526557001009_CERV\",\"CDD CEBRASA\",\"BR12\",\"nan\",\"nan\",\"nan\",\"7451885000194\",\"HORIZONTE\",\"316377\",\"nan\",\"36\",\"NO\",\"nan\",\"LACRE\",\"0\",\"0.0\",\"0.0\",\"0.0\",\"906455a4-1af7-4c9c-9fa4-c29df48c51b3\"),(\"EMPURRADA_1_2_2025\",\"07526557001009_CERV\",\"CDD CEBRASA\",\"BR12\",\"nan\",\"nan\",\"nan\",\"7451885000194\",\"HORIZONTE\",\"316377\",\"nan\",\"36\",\"NO\",\"nan\",\"CELULAR TRACKING\",\"16\",\"391.52\",\"24.47\",\"35.59\",\"db62cdf5-05e0-47e4-9864-b30d5a766d73\"),(\"EMPURRADA_1_2_2025\",\"07526557001009_CERV\",\"CDD CEBRASA\",\"BR12\",\"nan\",\"nan\",\"nan\",\"7451885000194\",\"HORIZONTE\",\"316377\",\"nan\",\"36\",\"NO\",\"nan\",\"SALA\",\"0\",\"0.0\",\"0.0\",\"0.0\",\"7ebc1e90-bd5a-44f4-833b-df6737e4c011\"),(\"EMPURRADA_1_2_2025\",\"07526557001009_CERV\",\"CDD CEBRASA\",\"BR12\",\"nan\",\"nan\",\"nan\",\"7451885000194\",\"HORIZONTE\",\"316377\",\"nan\",\"36\",\"NO\",\"nan\",\"Aluguel de Carreta - OTX7592\",\"1\",\"3000.0\",\"3000.0\",\"272.73\",\"c6a5e5c7-3887-46d0-846b-9d93fcc99ebe\"),(\"EMPURRADA_1_2_2025\",\"07526557001009_CERV\",\"CDD CEBRASA\",\"BR12\",\"nan\",\"nan\",\"nan\",\"7451885000194\",\"HORIZONTE\",\"316377\",\"nan\",\"36\",\"NO\",\"nan\",\"Aluguel de Carreta - OTX7582\",\"1\",\"3000.0\",\"3000.0\",\"272.73\",\"a5c03c0c-40ac-4ed8-a174-8e95f6d70d15\"),(\"EMPURRADA_1_2_2025\",\"07526557001009_CERV\",\"CDD CEBRASA\",\"BR12\",\"nan\",\"nan\",\"nan\",\"7451885000194\",\"HORIZONTE\",\"316377\",\"nan\",\"36\",\"NO\",\"nan\",\"Aluguel de Carreta - ORE0690\",\"1\",\"3000.0\",\"3000.0\",\"272.73\",\"22dde936-0389-4986-9475-1ff7ab8931fa\"),(\"EMPURRADA_1_2_2025\",\"07526557001009_CERV\",\"CDD CEBRASA\",\"BR12\",\"nan\",\"nan\",\"nan\",\"7451885000194\",\"HORIZONTE\",\"316377\",\"nan\",\"36\",\"NO\",\"nan\",\"Aluguel de Carreta - OHI8659\",\"1\",\"3000.0\",\"3000.0\",\"272.73\",\"4443fc8d-05e7-430c-816c-ab9a5095134b\"),(\"EMPURRADA_1_2_2025\",\"07526557001009_CERV\",\"CDD CEBRASA\",\"BR12\",\"nan\",\"nan\",\"nan\",\"7451885000194\",\"HORIZONTE\",\"316377\",\"nan\",\"36\",\"NO\",\"nan\",\"Aluguel de Carreta - OTI3645\",\"1\",\"3000.0\",\"3000.0\",\"272.73\",\"80f25b9b-3d58-46a1-9854-dfff8e09eecc\"),(\"EMPURRADA_1_2_2025\",\"07526557001009_CERV\",\"CDD CEBRASA\",\"BR12\",\"nan\",\"nan\",\"nan\",\"7451885000194\",\"HORIZONTE\",\"316377\",\"nan\",\"36\",\"NO\",\"nan\",\"Aluguel de Carreta - OTI4085\",\"1\",\"3000.0\",\"3000.0\",\"272.73\",\"cadcab02-8a65-40d9-9204-d2535c876212\"),(\"EMPURRADA_1_2_2025\",\"07526557001009_CERV\",\"CDD CEBRASA\",\"BR12\",\"nan\",\"nan\",\"nan\",\"7451885000194\",\"HORIZONTE\",\"316377\",\"nan\",\"36\",\"NO\",\"nan\",\"Aluguel de Carreta - OTI3985\",\"1\",\"3000.0\",\"3000.0\",\"272.73\",\"52d3df68-78a3-4e4a-974e-b16788c85634\"),(\"EMPURRADA_1_2_2025\",\"07526557001009_CERV\",\"CDD CEBRASA\",\"BR12\",\"nan\",\"nan\",\"nan\",\"7451885000194\",\"HORIZONTE\",\"316377\",\"nan\",\"36\",\"NO\",\"nan\",\"Aluguel Estrutura Garagem\",\"1\",\"17508.94\",\"17508.94\",\"1591.72\",\"edf9365f-70e0-44b7-9fbe-99790107d0b1\"),(\"EMPURRADA_1_2_2025\",\"07526557005683_CERV\",\"EQUATORIAL\",\"BR36\",\"991.0\",\"nan\",\"nan\",\"7451885000780\",\"HORIZONTE\",\"316377\",\"nan\",\"7\",\"nan\",\"nan\",\"MATERIAL DE ESCRITÓRIO\",\"1\",\"0.0\",\"0.0\",\"0.0\",\"e6869910-9e79-45b3-826b-8a260985460c\"),(\"EMPURRADA_1_2_2025\",\"07526557005683_CERV\",\"EQUATORIAL\",\"BR36\",\"991.0\",\"nan\",\"nan\",\"7451885000780\",\"HORIZONTE\",\"316377\",\"nan\",\"7\",\"nan\",\"nan\",\"COMUNICAÇÃO MOVEL\",\"16\",\"0.0\",\"0.0\",\"0.0\",\"94e97282-5b8e-49d8-a19c-7ba4d09a1bc8\"),(\"EMPURRADA_1_2_2025\",\"07526557005683_CERV\",\"EQUATORIAL\",\"BR36\",\"991.0\",\"nan\",\"nan\",\"7451885000780\",\"HORIZONTE\",\"316377\",\"nan\",\"7\",\"nan\",\"nan\",\"COMUNICAÇÃO FIXA\",\"1\",\"0.0\",\"0.0\",\"0.0\",\"fe8ac866-39b2-4690-935e-586304dff328\"),(\"EMPURRADA_1_2_2025\",\"07526557005683_CERV\",\"EQUATORIAL\",\"BR36\",\"991.0\",\"nan\",\"nan\",\"7451885000780\",\"HORIZONTE\",\"316377\",\"nan\",\"7\",\"nan\",\"nan\",\"MANUTENÇÃO DE SISTEMAS\",\"1\",\"0.0\",\"0.0\",\"0.0\",\"5418c3c9-1047-4350-8500-8484c616d7a5\"),(\"EMPURRADA_1_2_2025\",\"07526557005683_CERV\",\"EQUATORIAL\",\"BR36\",\"991.0\",\"nan\",\"nan\",\"7451885000780\",\"HORIZONTE\",\"316377\",\"nan\",\"7\",\"nan\",\"nan\",\"LACRE\",\"0\",\"0.0\",\"0.0\",\"0.0\",\"d43fcca9-27be-4cfe-8095-6d69d775ad02\"),(\"EMPURRADA_1_2_2025\",\"07526557005683_CERV\",\"EQUATORIAL\",\"BR36\",\"991.0\",\"nan\",\"nan\",\"7451885000780\",\"HORIZONTE\",\"316377\",\"nan\",\"7\",\"nan\",\"nan\",\"CELULAR TRACKING\",\"16\",\"391.52\",\"24.47\",\"43.5\",\"d171c16a-b0eb-4528-a18c-9642fa0e2242\"),(\"EMPURRADA_1_2_2025\",\"07526557005683_CERV\",\"EQUATORIAL\",\"BR36\",\"991.0\",\"nan\",\"nan\",\"7451885000780\",\"HORIZONTE\",\"316377\",\"nan\",\"7\",\"nan\",\"nan\",\"SALA\",\"1\",\"0.0\",\"0.0\",\"0.0\",\"e6fa2275-b766-4c4e-a797-c7195bf17df6\"),(\"EMPURRADA_1_2_2025\",\"07526557005683_CERV\",\"EQUATORIAL\",\"BR36\",\"991.0\",\"nan\",\"nan\",\"7451885000780\",\"HORIZONTE\",\"316377\",\"nan\",\"7\",\"nan\",\"nan\",\"Aluguel carreta - OYR5058\",\"1\",\"3000.0\",\"3000.0\",\"333.33\",\"925f138d-7314-4d44-9613-e6fca5255032\"),(\"EMPURRADA_1_2_2025\",\"07526557005683_CERV\",\"EQUATORIAL\",\"BR36\",\"991.0\",\"nan\",\"nan\",\"7451885000780\",\"HORIZONTE\",\"316377\",\"nan\",\"7\",\"nan\",\"nan\",\"Estrutura Garagem Empurrada\",\"1\",\"10845.49\",\"10845.49\",\"1205.05\",\"cfb07d92-ac31-4e86-83ea-1b4755e3462a\"),(\"EMPURRADA_1_2_2025\",\"07526557005683_CERV\",\"EQUATORIAL\",\"BR36\",\"991.0\",\"nan\",\"nan\",\"7451885000780\",\"HORIZONTE\",\"316377\",\"nan\",\"7\",\"nan\",\"nan\",\"BNS 4° TRI ( até fevereiro/25)\",\"1\",\"11207.72\",\"11207.72\",\"1245.3\",\"7a5ac530-f23d-4a93-ae2f-373dee212963\"),(\"EMPURRADA_1_2_2025\",\"03134910000236_CERV_MAN\",\"MANAUS\",\"BR01\",\"nan\",\"nan\",\"nan\",\"7462961000167\",\"HORIZONTE\",\"313103\",\"nan\",\"4\",\"nan\",\"nan\",\"MATERIAL DE ESCRITÓRIO\",\"0\",\"0.0\",\"0.0\",\"0.0\",\"71818f63-fd72-4762-8197-60d8f1d93f00\"),(\"EMPURRADA_1_2_2025\",\"03134910000236_CERV_MAN\",\"MANAUS\",\"BR01\",\"nan\",\"nan\",\"nan\",\"7462961000167\",\"HORIZONTE\",\"313103\",\"nan\",\"4\",\"nan\",\"nan\",\"COMUNICAÇÃO MOVEL\",\"0\",\"0.0\",\"0.0\",\"0.0\",\"e3244966-87f7-4c83-a32e-86d015bf3b99\"),(\"EMPURRADA_1_2_2025\",\"03134910000236_CERV_MAN\",\"MANAUS\",\"BR01\",\"nan\",\"nan\",\"nan\",\"7462961000167\",\"HORIZONTE\",\"313103\",\"nan\",\"4\",\"nan\",\"nan\",\"COMUNICAÇÃO FIXA\",\"0\",\"0.0\",\"0.0\",\"0.0\",\"665fe5d4-8224-4069-8300-921e88fab17d\"),(\"EMPURRADA_1_2_2025\",\"03134910000236_CERV_MAN\",\"MANAUS\",\"BR01\",\"nan\",\"nan\",\"nan\",\"7462961000167\",\"HORIZONTE\",\"313103\",\"nan\",\"4\",\"nan\",\"nan\",\"MANUTENÇÃO DE SISTEMAS\",\"0\",\"0.0\",\"0.0\",\"0.0\",\"52a9530e-420d-45f8-a89e-b24985d7a148\"),(\"EMPURRADA_1_2_2025\",\"03134910000236_CERV_MAN\",\"MANAUS\",\"BR01\",\"nan\",\"nan\",\"nan\",\"7462961000167\",\"HORIZONTE\",\"313103\",\"nan\",\"4\",\"nan\",\"nan\",\"LACRE\",\"0\",\"0.0\",\"0.0\",\"0.0\",\"b93a525e-bdb9-455b-9181-5a5af6693359\"),(\"EMPURRADA_1_2_2025\",\"03134910000236_CERV_MAN\",\"MANAUS\",\"BR01\",\"nan\",\"nan\",\"nan\",\"7462961000167\",\"HORIZONTE\",\"313103\",\"nan\",\"4\",\"nan\",\"nan\",\"CELULAR TRACKING\",\"7\",\"171.29\",\"24.47\",\"24.47\",\"a4c46b25-db54-49d9-b232-2203d45a72c0\"),(\"EMPURRADA_1_2_2025\",\"03134910000236_CERV_MAN\",\"MANAUS\",\"BR01\",\"nan\",\"nan\",\"nan\",\"7462961000167\",\"HORIZONTE\",\"313103\",\"nan\",\"4\",\"nan\",\"nan\",\"SALA\",\"0\",\"0.0\",\"0.0\",\"0.0\",\"b4fea45c-0191-410a-9138-1b8049a6aba3\"),(\"EMPURRADA_1_2_2025\",\"07526557002153_CERV\",\"PERNAMBUCO\",\"BR31\",\"nan\",\"nan\",\"nan\",\"3965584001523\",\"HORIZONTE\",\"421808\",\"nan\",\"12\",\"nan\",\"nan\",\"MATERIAL DE ESCRITÓRIO\",\"1\",\"0.0\",\"0.0\",\"0.0\",\"97ad0dcf-e771-43f0-b937-64ce5c764373\"),(\"EMPURRADA_1_2_2025\",\"07526557002153_CERV\",\"PERNAMBUCO\",\"BR31\",\"nan\",\"nan\",\"nan\",\"3965584001523\",\"HORIZONTE\",\"421808\",\"nan\",\"12\",\"nan\",\"nan\",\"COMUNICAÇÃO MOVEL\",\"85\",\"0.0\",\"0.0\",\"0.0\",\"a43a619d-d7f1-4af9-8642-047427c879ea\"),(\"EMPURRADA_1_2_2025\",\"07526557002153_CERV\",\"PERNAMBUCO\",\"BR31\",\"nan\",\"nan\",\"nan\",\"3965584001523\",\"HORIZONTE\",\"421808\",\"nan\",\"12\",\"nan\",\"nan\",\"COMUNICAÇÃO FIXA\",\"1\",\"0.0\",\"0.0\",\"0.0\",\"d8f45f2a-945c-47b6-a03a-bf3e7fe16da8\"),(\"EMPURRADA_1_2_2025\",\"07526557002153_CERV\",\"PERNAMBUCO\",\"BR31\",\"nan\",\"nan\",\"nan\",\"3965584001523\",\"HORIZONTE\",\"421808\",\"nan\",\"12\",\"nan\",\"nan\",\"MANUTENÇÃO DE SISTEMAS\",\"1\",\"0.0\",\"0.0\",\"0.0\",\"62f7e832-d4c1-4a82-a1b7-5c3a9dd900bb\"),(\"EMPURRADA_1_2_2025\",\"07526557002153_CERV\",\"PERNAMBUCO\",\"BR31\",\"nan\",\"nan\",\"nan\",\"3965584001523\",\"HORIZONTE\",\"421808\",\"nan\",\"12\",\"nan\",\"nan\",\"LACRE\",\"0\",\"0.0\",\"0.0\",\"0.0\",\"98ba186b-33d5-4695-93cc-cb1dfa9b6edb\"),(\"EMPURRADA_1_2_2025\",\"07526557002153_CERV\",\"PERNAMBUCO\",\"BR31\",\"nan\",\"nan\",\"nan\",\"3965584001523\",\"HORIZONTE\",\"421808\",\"nan\",\"12\",\"nan\",\"nan\",\"CELULAR TRACKING\",\"85\",\"2079.95\",\"24.47\",\"50.73\",\"a6bd2125-2aec-4361-b547-e5d40432f498\"),(\"EMPURRADA_1_2_2025\",\"07526557002153_CERV\",\"PERNAMBUCO\",\"BR31\",\"nan\",\"nan\",\"nan\",\"3965584001523\",\"HORIZONTE\",\"421808\",\"nan\",\"12\",\"nan\",\"nan\",\"SALA\",\"1\",\"0.0\",\"0.0\",\"0.0\",\"2dfd4efd-fe00-42a6-b606-569be49a03fc\"),(\"EMPURRADA_1_2_2025\",\"07526557002153_CERV\",\"PERNAMBUCO\",\"BR31\",\"nan\",\"nan\",\"nan\",\"3965584001523\",\"HORIZONTE\",\"421808\",\"nan\",\"12\",\"nan\",\"nan\",\"Estrutura Garagem Empurrada\",\"1\",\"22036.84\",\"22036.84\",\"537.48\",\"e3cabef0-36a4-4f1a-9517-fac8c917846e\"),(\"EMPURRADA_1_2_2025\",\"07526557002153_CERV\",\"PERNAMBUCO\",\"BR31\",\"nan\",\"nan\",\"nan\",\"3965584001523\",\"HORIZONTE\",\"421808\",\"nan\",\"12\",\"nan\",\"nan\",\"Pagamento Mindsight\",\"1\",\"2171.14\",\"2171.14\",\"52.95\",\"2b55824e-ba06-4e29-836f-3679cdb4cb2e\"),(\"EMPURRADA_1_2_2025\",\"07526557002153_CERV\",\"PERNAMBUCO\",\"BR31\",\"nan\",\"nan\",\"nan\",\"3965584001523\",\"HORIZONTE\",\"421808\",\"nan\",\"12\",\"nan\",\"nan\",\"BNS 4° TRI ( até fevereiro/25)\",\"1\",\"59505.78\",\"59505.78\",\"1451.36\",\"d53fdd3b-5578-4247-b400-ca1d15b810e5\")\n"
     ]
    },
    {
     "name": "stderr",
     "output_type": "stream",
     "text": [
      "C:\\Users\\ADMIN.JOAO\\AppData\\Local\\Packages\\PythonSoftwareFoundation.Python.3.12_qbz5n2kfra8p0\\LocalCache\\local-packages\\Python312\\site-packages\\openpyxl\\styles\\stylesheet.py:237: UserWarning: Workbook contains no default style, apply openpyxl's default\n",
      "  warn(\"Workbook contains no default style, apply openpyxl's default\")\n"
     ]
    },
    {
     "name": "stdout",
     "output_type": "stream",
     "text": [
      "Erro ao executar a query: 1146 (42S02): Table 'dbfreightech.RESUMO_FIXO_EMPURRADA' doesn't exist\n",
      "INSERT IGNORE INTO RESUMO_FIXO_EMPURRADA() VALUES (\"EMPURRADA_2_2_2025\",\"07526557001505_CERV\",\"CAMAÇARI\",\"BR04\",\"nan\",\"nan\",\"nan\",\"20618821000799\",\"OPERALOG\",\"390268\",\"nan\",\"1\",\"nan\",\"nan\",\"1192.23\",\"nan\",\"nan\",\"nan\",\"nan\",\"nan\",\"nan\",\"nan\",\"nan\",\"nan\",\"nan\",\"nan\",\"nan\",\"nan\",\"nan\",\"nan\",\"nan\",\"nan\",\"nan\",\"nan\",\"9679.26\",\"3271.68\",\"49\",\"13837.8\",\"1429.6\",\"15.2\",\"4338.36\",\"567.49\",\"4158.54\",\"1066.68\",\"0\",\"0.0\",\"7\",\"0\",\"960682.5\",\"277.94\",\"548.92\",\"20.05\",\"19605.77\",\"8781.6\",\"6177.57\",\"3\",\"11890.76\",\"1487.64\",\"15.2\",\"8474.01\",\"527.31\",\"3109.16\",\"2296.44\",\"0\",\"0\",\"0\",\"0\",\"65557.22\",\"277.94\",\"647.13\",\"20.05\",\"21852.41\",\"52\",\"13738.8\",\"9633.62\",\"4105.18\",\"0.0\",\"1432.55\",\"15.2\",\"565.45\",\"0\",\"277.94\",\"553.91\",\"20.05\",\"4548.65\",\"3419.44\",\"1129.21\",\"0\",\"7\",\"1025440.07\",\"19720.0\",\"nan\",\"nan\",\"nan\",\"nan\",\"nan\",\"nan\",\"nan\",\"nan\",\"nan\",\"nan\",\"nan\",\"nan\",\"nan\",\"nan\",\"nan\",\"1170.97\",\"7542.1\",\"0\",\"364.8\",\"4887.43\",\"4490.41\",\"127.08\",\"99.92\",\"1039585.23\",\"8968.33\",\"15.95\",\"59.74\",\"21216.03\",\"215.19\",\"816.2\",\"1540.76\",\"8326.01\",\"0\",\"480.0\",\"4887.43\",\"6407.11\",\"167.21\",\"131.48\",\"83437.99\",\"12796.4\",\"20.99\",\"78.6\",\"27812.66\",\"283.15\",\"1019.54\",\"1192.31\",\"7587.32\",\"0\",\"371.45\",\"4887.43\",\"4600.99\",\"129.4\",\"101.75\",\"1123023.22\",\"9189.18\",\"16.24\",\"60.82\",\"21596.6\",\"219.11\",\"827.93\",\"0\",\"0\",\"0\",\"0\",\"877.06\",\"15.2\",\"407.98\",\"0\",\"277.94\",\"175.94\",\"0\",\"5893.17\",\"4170.49\",\"1722.68\",\"0\",\"8\",\"6770.23\",\"5683.76\",\"295555.61\",\"5683.76\",\"3.24\",\"0\",\"3.1\",\"0\",\"0\",\"7.74\",\"24.27\",\"4.86\",\"64242.37\",\"0\",\"1235.43\",\"624.93\",\"829.79\",\"26.18\",\"191615.13\",\"2204.01\",\"0\",\"3684.91\",\"0.0\",\"51920.7\",\"46236.94\",\"c994e29f-2abc-4eb6-ae9e-b889e3451898\"),(\"EMPURRADA_2_2_2025\",\"07526557001009_CERV\",\"CDD CEBRASA\",\"BR12\",\"nan\",\"nan\",\"nan\",\"7451885000194\",\"HORIZONTE\",\"316377\",\"nan\",\"36\",\"NO\",\"nan\",\"3538.63\",\"nan\",\"nan\",\"nan\",\"nan\",\"nan\",\"nan\",\"nan\",\"nan\",\"nan\",\"nan\",\"nan\",\"nan\",\"nan\",\"nan\",\"nan\",\"nan\",\"nan\",\"nan\",\"nan\",\"7374.81\",\"5551.52\",\"9\",\"9788.7\",\"1340.99\",\"15.2\",\"6248.21\",\"608.86\",\"2413.89\",\"696.69\",\"0\",\"0.0\",\"6\",\"0\",\"156401.13\",\"277.94\",\"418.94\",\"20.05\",\"17377.9\",\"7880.17\",\"5225.29\",\"2\",\"10190.88\",\"1431.2\",\"15.2\",\"6757.51\",\"565.12\",\"2310.71\",\"1532.22\",\"0\",\"0\",\"0\",\"0\",\"36759.19\",\"277.94\",\"552.89\",\"20.05\",\"18379.6\",\"11\",\"9836.02\",\"7434.26\",\"2401.75\",\"0.0\",\"1351.61\",\"15.2\",\"603.71\",\"0\",\"277.94\",\"434.7\",\"20.05\",\"6308.12\",\"5513.14\",\"794.99\",\"0\",\"6\",\"192453.24\",\"17495.75\",\"nan\",\"nan\",\"nan\",\"nan\",\"nan\",\"nan\",\"nan\",\"nan\",\"nan\",\"nan\",\"nan\",\"nan\",\"nan\",\"nan\",\"nan\",\"785.58\",\"3605.53\",\"0\",\"599.95\",\"1484.56\",\"2934.65\",\"66.8\",\"0.0\",\"115136.67\",\"6089.71\",\"12.09\",\"34.3\",\"12792.96\",\"163.07\",\"622.25\",\"1180.06\",\"6095.77\",\"0\",\"901.22\",\"2969.12\",\"4799.43\",\"100.34\",\"0.0\",\"42198.97\",\"9959.33\",\"18.16\",\"51.52\",\"21099.49\",\"244.96\",\"875.35\",\"857.3\",\"4058.3\",\"0\",\"654.73\",\"1754.48\",\"3273.7\",\"72.9\",\"0.0\",\"157335.64\",\"6793.28\",\"13.19\",\"37.43\",\"14303.24\",\"177.96\",\"668.27\",\"0\",\"0\",\"0\",\"0\",\"406.59\",\"15.2\",\"0.0\",\"0\",\"277.94\",\"113.45\",\"0\",\"6414.36\",\"6414.36\",\"0.0\",\"0\",\"7\",\"6820.96\",\"5186.96\",\"57056.58\",\"5186.96\",\"0.0\",\"0\",\"0.0\",\"0\",\"0\",\"0.0\",\"0.0\",\"0.0\",\"38924.93\",\"0\",\"3538.63\",\"1045.31\",\"1478.5\",\"123.75\",\"72721.43\",\"3951.95\",\"0\",\"6611.04\",\"11.53\",\"47135.62\",\"41948.66\",\"273422e0-b5f1-4cfd-95ab-f0e0db71c50d\"),(\"EMPURRADA_2_2_2025\",\"07526557005683_CERV\",\"EQUATORIAL\",\"BR36\",\"991.0\",\"nan\",\"nan\",\"7451885000780\",\"HORIZONTE\",\"316377\",\"nan\",\"7\",\"nan\",\"nan\",\"3183.65\",\"nan\",\"nan\",\"nan\",\"nan\",\"nan\",\"nan\",\"nan\",\"nan\",\"nan\",\"nan\",\"nan\",\"nan\",\"nan\",\"nan\",\"nan\",\"nan\",\"nan\",\"nan\",\"nan\",\"11543.71\",\"4466.89\",\"8\",\"16142.59\",\"1658.5\",\"15.2\",\"6028.69\",\"674.45\",\"4598.89\",\"1561.79\",\"0\",\"0.0\",\"9\",\"0\",\"190638.21\",\"277.94\",\"670.86\",\"20.05\",\"23829.78\",\"0.0\",\"0.0\",\"0\",\"0.0\",\"0.0\",\"0.0\",\"0.0\",\"0.0\",\"0.0\",\"0.0\",\"0\",\"0\",\"0\",\"0\",\"0.0\",\"0.0\",\"0.0\",\"0.0\",\"0.0\",\"8\",\"16142.59\",\"11543.71\",\"4598.89\",\"0.0\",\"1658.5\",\"15.2\",\"674.45\",\"0\",\"277.94\",\"670.86\",\"20.05\",\"6028.69\",\"4466.89\",\"1561.79\",\"0\",\"9\",\"190638.21\",\"23829.78\",\"nan\",\"nan\",\"nan\",\"nan\",\"nan\",\"nan\",\"nan\",\"nan\",\"nan\",\"nan\",\"nan\",\"nan\",\"nan\",\"nan\",\"nan\",\"543.22\",\"4316.36\",\"0\",\"1350.0\",\"2212.78\",\"3235.75\",\"65.24\",\"0.0\",\"114456.53\",\"6595.68\",\"67.5\",\"0.0\",\"14307.07\",\"159.27\",\"77.62\",\"0.0\",\"0.0\",\"0\",\"0.0\",\"0.0\",\"0.0\",\"0.0\",\"0.0\",\"0.0\",\"0.0\",\"0.0\",\"0.0\",\"0.0\",\"0.0\",\"0.0\",\"543.22\",\"4316.36\",\"0\",\"1350.0\",\"2212.78\",\"3235.75\",\"65.24\",\"0.0\",\"114456.53\",\"6595.68\",\"67.5\",\"0.0\",\"14307.07\",\"159.27\",\"77.62\",\"0\",\"0\",\"0\",\"0\",\"990.29\",\"15.2\",\"519.91\",\"0\",\"277.94\",\"177.23\",\"0\",\"5982.5\",\"4201.09\",\"1781.41\",\"0\",\"1\",\"6972.79\",\"7405.91\",\"59247.31\",\"7405.91\",\"0.0\",\"0\",\"0.0\",\"0\",\"0\",\"0.0\",\"0.0\",\"0.0\",\"25469.2\",\"0\",\"3183.65\",\"611.78\",\"2194.68\",\"170.16\",\"71737.12\",\"5977.54\",\"0\",\"8967.14\",\"12.97\",\"57693.55\",\"50287.63\",\"ab0c9be8-ad1d-4235-8dbc-c8975b1889ab\"),(\"EMPURRADA_2_2_2025\",\"03134910000236_CERV_MAN\",\"MANAUS\",\"BR01\",\"nan\",\"nan\",\"nan\",\"7462961000167\",\"HORIZONTE\",\"313103\",\"nan\",\"4\",\"nan\",\"nan\",\"57.1\",\"nan\",\"nan\",\"nan\",\"nan\",\"nan\",\"nan\",\"nan\",\"nan\",\"nan\",\"nan\",\"nan\",\"nan\",\"nan\",\"nan\",\"nan\",\"nan\",\"nan\",\"nan\",\"nan\",\"9976.06\",\"4968.04\",\"3\",\"13884.43\",\"1597.19\",\"15.2\",\"5520.43\",\"784.56\",\"3908.37\",\"552.38\",\"0\",\"0.0\",\"4\",\"0\",\"63006.13\",\"294.87\",\"482.5\",\"20.05\",\"21002.04\",\"0.0\",\"0.0\",\"0\",\"0.0\",\"0.0\",\"0.0\",\"0.0\",\"0.0\",\"0.0\",\"0.0\",\"0\",\"0\",\"0\",\"0\",\"0.0\",\"0.0\",\"0.0\",\"0.0\",\"0.0\",\"3\",\"13884.43\",\"9976.06\",\"3908.37\",\"0.0\",\"1597.19\",\"15.2\",\"784.56\",\"0\",\"294.87\",\"482.5\",\"20.05\",\"5520.43\",\"4968.04\",\"552.38\",\"0\",\"4\",\"63006.13\",\"21002.04\",\"nan\",\"nan\",\"nan\",\"nan\",\"nan\",\"nan\",\"nan\",\"nan\",\"nan\",\"nan\",\"nan\",\"nan\",\"nan\",\"nan\",\"nan\",\"705.63\",\"4057.44\",\"0\",\"879.3\",\"1251.35\",\"4124.34\",\"86.99\",\"0.0\",\"49223.64\",\"8013.74\",\"15.74\",\"430.48\",\"16407.88\",\"212.36\",\"687.94\",\"0.0\",\"0.0\",\"0\",\"0.0\",\"0.0\",\"0.0\",\"0.0\",\"0.0\",\"0.0\",\"0.0\",\"0.0\",\"0.0\",\"0.0\",\"0.0\",\"0.0\",\"705.63\",\"4057.44\",\"0\",\"879.3\",\"1251.35\",\"4124.34\",\"86.99\",\"0.0\",\"49223.64\",\"8013.74\",\"15.74\",\"430.48\",\"16407.88\",\"212.36\",\"687.94\",\"0\",\"0\",\"0\",\"0\",\"0.0\",\"0.0\",\"0.0\",\"0\",\"0.0\",\"0.0\",\"0\",\"0.0\",\"0.0\",\"0.0\",\"0\",\"0\",\"0.0\",\"5311.26\",\"15933.77\",\"5311.26\",\"0.0\",\"0\",\"0.0\",\"0\",\"0\",\"0.0\",\"0.0\",\"0.0\",\"171.29\",\"0\",\"57.1\",\"1911.85\",\"2681.05\",\"453.75\",\"35876.68\",\"6885.34\",\"0\",\"11958.89\",\"26.91\",\"54737.17\",\"49425.91\",\"c7dc95c4-90a4-4c33-9a3e-0b4591059c84\"),(\"EMPURRADA_2_2_2025\",\"07526557002153_CERV\",\"PERNAMBUCO\",\"BR31\",\"nan\",\"nan\",\"nan\",\"3965584001523\",\"HORIZONTE\",\"421808\",\"nan\",\"12\",\"nan\",\"nan\",\"1792.47\",\"nan\",\"nan\",\"nan\",\"nan\",\"nan\",\"nan\",\"nan\",\"nan\",\"nan\",\"nan\",\"nan\",\"nan\",\"nan\",\"nan\",\"nan\",\"nan\",\"nan\",\"nan\",\"nan\",\"8626.83\",\"3874.58\",\"45\",\"12378.08\",\"1187.79\",\"10.91\",\"5423.67\",\"508.55\",\"3301.43\",\"1549.09\",\"0\",\"449.82\",\"47\",\"0\",\"854529.25\",\"199.39\",\"454.56\",\"14.39\",\"18989.54\",\"7181.23\",\"5237.54\",\"3\",\"9134.47\",\"1252.1\",\"15.2\",\"6773.35\",\"414.99\",\"1953.25\",\"1535.81\",\"0\",\"0\",\"0\",\"0\",\"51479.78\",\"277.94\",\"523.92\",\"20.05\",\"17159.93\",\"48\",\"12275.65\",\"8581.18\",\"3258.85\",\"435.62\",\"1189.82\",\"11.04\",\"505.59\",\"0\",\"201.87\",\"456.75\",\"14.57\",\"5466.29\",\"3917.62\",\"1548.67\",\"0\",\"47\",\"908724.56\",\"18931.76\",\"nan\",\"nan\",\"nan\",\"nan\",\"nan\",\"nan\",\"nan\",\"nan\",\"nan\",\"nan\",\"nan\",\"nan\",\"nan\",\"nan\",\"nan\",\"636.46\",\"2963.81\",\"0\",\"158.08\",\"1742.68\",\"4700.27\",\"71.5\",\"0.0\",\"762654.8\",\"9109.25\",\"12.94\",\"230.14\",\"16947.88\",\"174.55\",\"112.01\",\"688.0\",\"3028.67\",\"0\",\"170.88\",\"1742.68\",\"5367.02\",\"77.29\",\"0.0\",\"56957.45\",\"10401.44\",\"13.99\",\"248.77\",\"18985.82\",\"188.69\",\"87.06\",\"639.68\",\"2967.87\",\"0\",\"158.88\",\"1742.68\",\"4741.94\",\"71.86\",\"0.0\",\"819612.24\",\"9190.01\",\"13.0\",\"231.3\",\"17075.26\",\"175.44\",\"110.45\",\"0\",\"0\",\"0\",\"0\",\"501.55\",\"15.2\",\"11.81\",\"0\",\"277.94\",\"196.6\",\"0\",\"7437.58\",\"5487.73\",\"1949.85\",\"0\",\"14\",\"7939.13\",\"6982.67\",\"335168.09\",\"6982.67\",\"0.0\",\"0\",\"0.0\",\"0\",\"0\",\"0.0\",\"0.0\",\"0.0\",\"86038.41\",\"0\",\"1792.47\",\"739.18\",\"1311.24\",\"28.36\",\"260474.99\",\"3338.17\",\"0\",\"5426.56\",\"9.61\",\"50208.71\",\"43226.05\",\"e32ade3a-952a-4387-97b2-ff7d9433ea05\"),(\"EMPURRADA_1_2_2025\",\"07526557001505_CERV\",\"CAMAÇARI\",\"BR04\",\"nan\",\"nan\",\"nan\",\"20618821000799\",\"OPERALOG\",\"390268\",\"nan\",\"1\",\"nan\",\"nan\",\"1404.55\",\"nan\",\"nan\",\"nan\",\"nan\",\"nan\",\"nan\",\"nan\",\"nan\",\"nan\",\"nan\",\"nan\",\"nan\",\"nan\",\"nan\",\"nan\",\"nan\",\"nan\",\"nan\",\"nan\",\"9644.6\",\"3318.82\",\"41\",\"13801.0\",\"1425.76\",\"15.2\",\"4407.49\",\"564.87\",\"4156.4\",\"1088.67\",\"0\",\"0.0\",\"7\",\"0\",\"805004.26\",\"277.94\",\"547.7\",\"20.05\",\"19634.25\",\"8781.6\",\"6177.57\",\"3\",\"11890.76\",\"1487.64\",\"15.2\",\"8474.01\",\"527.31\",\"3109.16\",\"2296.44\",\"0\",\"0\",\"0\",\"0\",\"65557.22\",\"277.94\",\"647.13\",\"20.05\",\"21852.41\",\"44\",\"13688.63\",\"9593.83\",\"4094.8\",\"0.0\",\"1429.4\",\"15.2\",\"562.66\",\"0\",\"277.94\",\"553.55\",\"20.05\",\"4646.7\",\"3486.98\",\"1159.71\",\"0\",\"7\",\"869648.12\",\"19764.73\",\"nan\",\"nan\",\"nan\",\"nan\",\"nan\",\"nan\",\"nan\",\"nan\",\"nan\",\"nan\",\"nan\",\"nan\",\"nan\",\"nan\",\"nan\",\"1170.97\",\"7542.1\",\"0\",\"364.8\",\"4887.43\",\"4490.41\",\"127.08\",\"99.92\",\"869857.03\",\"8968.33\",\"15.95\",\"59.74\",\"21216.03\",\"215.19\",\"816.2\",\"1540.76\",\"8326.01\",\"0\",\"480.0\",\"4887.43\",\"6407.11\",\"167.21\",\"131.48\",\"83437.99\",\"12796.4\",\"20.99\",\"78.6\",\"27812.66\",\"283.15\",\"1019.54\",\"1196.19\",\"7595.54\",\"0\",\"372.65\",\"4887.43\",\"4621.09\",\"129.82\",\"102.08\",\"953295.02\",\"9229.33\",\"16.3\",\"61.02\",\"21665.8\",\"219.83\",\"830.06\",\"0\",\"0\",\"0\",\"0\",\"652.98\",\"15.2\",\"208.82\",\"0\",\"277.94\",\"151.02\",\"0\",\"4908.37\",\"3579.67\",\"1328.7\",\"0\",\"16\",\"5561.35\",\"5665.34\",\"249274.89\",\"5665.34\",\"3.83\",\"0\",\"3.66\",\"0\",\"0\",\"9.15\",\"28.68\",\"5.74\",\"64046.61\",\"0\",\"1455.6\",\"738.55\",\"980.66\",\"30.94\",\"191615.13\",\"2604.74\",\"0\",\"4354.89\",\"0.0\",\"52906.36\",\"47241.02\",\"c994e29f-2abc-4eb6-ae9e-b889e3451898\"),(\"EMPURRADA_1_2_2025\",\"07526557001009_CERV\",\"CDD CEBRASA\",\"BR12\",\"nan\",\"nan\",\"nan\",\"7451885000194\",\"HORIZONTE\",\"316377\",\"nan\",\"36\",\"NO\",\"nan\",\"3536.41\",\"nan\",\"nan\",\"nan\",\"nan\",\"nan\",\"nan\",\"nan\",\"nan\",\"nan\",\"nan\",\"nan\",\"nan\",\"nan\",\"nan\",\"nan\",\"nan\",\"nan\",\"nan\",\"nan\",\"7467.35\",\"5489.88\",\"9\",\"9919.22\",\"1365.56\",\"15.2\",\"6236.34\",\"621.81\",\"2451.88\",\"746.45\",\"0\",\"0.0\",\"5\",\"0\",\"157690.05\",\"277.94\",\"430.55\",\"20.05\",\"17521.12\",\"7880.17\",\"5225.29\",\"2\",\"10190.88\",\"1431.2\",\"15.2\",\"6757.51\",\"565.12\",\"2310.71\",\"1532.22\",\"0\",\"0\",\"0\",\"0\",\"36759.19\",\"277.94\",\"552.89\",\"20.05\",\"18379.6\",\"11\",\"9953.18\",\"7518.95\",\"2434.23\",\"0.0\",\"1373.76\",\"15.2\",\"614.73\",\"0\",\"277.94\",\"445.84\",\"20.05\",\"6301.48\",\"5456.81\",\"844.67\",\"0\",\"5\",\"193912.69\",\"17628.43\",\"nan\",\"nan\",\"nan\",\"nan\",\"nan\",\"nan\",\"nan\",\"nan\",\"nan\",\"nan\",\"nan\",\"nan\",\"nan\",\"nan\",\"nan\",\"785.58\",\"3605.53\",\"0\",\"599.95\",\"1484.56\",\"2934.65\",\"66.8\",\"0.0\",\"115136.67\",\"6089.71\",\"12.09\",\"34.3\",\"12792.96\",\"163.07\",\"622.25\",\"1180.06\",\"6095.77\",\"0\",\"901.22\",\"2969.12\",\"4799.43\",\"100.34\",\"0.0\",\"42198.97\",\"9959.33\",\"18.16\",\"51.52\",\"21099.49\",\"244.96\",\"875.35\",\"857.3\",\"4058.3\",\"0\",\"654.73\",\"1754.48\",\"3273.7\",\"72.9\",\"0.0\",\"157335.64\",\"6793.28\",\"13.19\",\"37.43\",\"14303.24\",\"177.96\",\"668.27\",\"0\",\"0\",\"0\",\"0\",\"392.41\",\"15.2\",\"0.0\",\"0\",\"277.94\",\"99.27\",\"0\",\"6414.36\",\"6414.36\",\"0.0\",\"0\",\"8\",\"6806.78\",\"5186.96\",\"57056.58\",\"5186.96\",\"0.0\",\"0\",\"0.0\",\"0\",\"0\",\"0.0\",\"0.0\",\"0.0\",\"38900.46\",\"0\",\"3536.41\",\"1045.31\",\"1478.5\",\"123.75\",\"72721.43\",\"3951.95\",\"0\",\"6611.04\",\"11.53\",\"47266.07\",\"42079.11\",\"273422e0-b5f1-4cfd-95ab-f0e0db71c50d\"),(\"EMPURRADA_1_2_2025\",\"07526557005683_CERV\",\"EQUATORIAL\",\"BR36\",\"991.0\",\"nan\",\"nan\",\"7451885000780\",\"HORIZONTE\",\"316377\",\"nan\",\"7\",\"nan\",\"nan\",\"2827.19\",\"nan\",\"nan\",\"nan\",\"nan\",\"nan\",\"nan\",\"nan\",\"nan\",\"nan\",\"nan\",\"nan\",\"nan\",\"nan\",\"nan\",\"nan\",\"nan\",\"nan\",\"nan\",\"nan\",\"11513.9\",\"4483.51\",\"9\",\"16268.15\",\"1652.75\",\"15.2\",\"6031.57\",\"671.3\",\"4754.25\",\"1548.07\",\"0\",\"0.0\",\"7\",\"0\",\"215572.19\",\"277.94\",\"668.25\",\"20.05\",\"23952.47\",\"0.0\",\"0.0\",\"0\",\"0.0\",\"0.0\",\"0.0\",\"0.0\",\"0.0\",\"0.0\",\"0.0\",\"0\",\"0\",\"0\",\"0\",\"0.0\",\"0.0\",\"0.0\",\"0.0\",\"0.0\",\"9\",\"16268.15\",\"11513.9\",\"4754.25\",\"0.0\",\"1652.75\",\"15.2\",\"671.3\",\"0\",\"277.94\",\"668.25\",\"20.05\",\"6031.57\",\"4483.51\",\"1548.07\",\"0\",\"7\",\"215572.19\",\"23952.47\",\"nan\",\"nan\",\"nan\",\"nan\",\"nan\",\"nan\",\"nan\",\"nan\",\"nan\",\"nan\",\"nan\",\"nan\",\"nan\",\"nan\",\"nan\",\"543.22\",\"4316.36\",\"0\",\"1350.0\",\"2212.78\",\"3235.75\",\"65.24\",\"0.0\",\"128763.6\",\"6595.68\",\"67.5\",\"0.0\",\"14307.07\",\"159.27\",\"77.62\",\"0.0\",\"0.0\",\"0\",\"0.0\",\"0.0\",\"0.0\",\"0.0\",\"0.0\",\"0.0\",\"0.0\",\"0.0\",\"0.0\",\"0.0\",\"0.0\",\"0.0\",\"543.22\",\"4316.36\",\"0\",\"1350.0\",\"2212.78\",\"3235.75\",\"65.24\",\"0.0\",\"128763.6\",\"6595.68\",\"67.5\",\"0.0\",\"14307.07\",\"159.27\",\"77.62\",\"0\",\"0\",\"0\",\"0\",\"735.85\",\"15.2\",\"265.48\",\"0\",\"277.94\",\"177.23\",\"0\",\"5982.5\",\"4201.09\",\"1781.41\",\"0\",\"2\",\"6718.35\",\"7121.18\",\"64090.6\",\"7121.18\",\"0.0\",\"0\",\"0.0\",\"0\",\"0\",\"0.0\",\"0.0\",\"0.0\",\"25444.73\",\"0\",\"2827.19\",\"543.8\",\"1950.83\",\"151.25\",\"71737.12\",\"5313.37\",\"0\",\"7970.79\",\"11.53\",\"56178.69\",\"49057.52\",\"ab0c9be8-ad1d-4235-8dbc-c8975b1889ab\"),(\"EMPURRADA_1_2_2025\",\"03134910000236_CERV_MAN\",\"MANAUS\",\"BR01\",\"nan\",\"nan\",\"nan\",\"7462961000167\",\"HORIZONTE\",\"313103\",\"nan\",\"4\",\"nan\",\"nan\",\"24.47\",\"nan\",\"nan\",\"nan\",\"nan\",\"nan\",\"nan\",\"nan\",\"nan\",\"nan\",\"nan\",\"nan\",\"nan\",\"nan\",\"nan\",\"nan\",\"nan\",\"nan\",\"nan\",\"nan\",\"9976.06\",\"4968.04\",\"7\",\"13884.43\",\"1597.19\",\"15.2\",\"5520.43\",\"784.56\",\"3908.37\",\"552.38\",\"0\",\"0.0\",\"0\",\"0\",\"147014.3\",\"294.87\",\"482.5\",\"20.05\",\"21002.04\",\"0.0\",\"0.0\",\"0\",\"0.0\",\"0.0\",\"0.0\",\"0.0\",\"0.0\",\"0.0\",\"0.0\",\"0\",\"0\",\"0\",\"0\",\"0.0\",\"0.0\",\"0.0\",\"0.0\",\"0.0\",\"7\",\"13884.43\",\"9976.06\",\"3908.37\",\"0.0\",\"1597.19\",\"15.2\",\"784.56\",\"0\",\"294.87\",\"482.5\",\"20.05\",\"5520.43\",\"4968.04\",\"552.38\",\"0\",\"0\",\"147014.3\",\"21002.04\",\"nan\",\"nan\",\"nan\",\"nan\",\"nan\",\"nan\",\"nan\",\"nan\",\"nan\",\"nan\",\"nan\",\"nan\",\"nan\",\"nan\",\"nan\",\"705.63\",\"4057.44\",\"0\",\"879.3\",\"1251.35\",\"4124.34\",\"86.99\",\"0.0\",\"114855.17\",\"8013.74\",\"15.74\",\"430.48\",\"16407.88\",\"212.36\",\"687.94\",\"0.0\",\"0.0\",\"0\",\"0.0\",\"0.0\",\"0.0\",\"0.0\",\"0.0\",\"0.0\",\"0.0\",\"0.0\",\"0.0\",\"0.0\",\"0.0\",\"0.0\",\"705.63\",\"4057.44\",\"0\",\"879.3\",\"1251.35\",\"4124.34\",\"86.99\",\"0.0\",\"114855.17\",\"8013.74\",\"15.74\",\"430.48\",\"16407.88\",\"212.36\",\"687.94\",\"0\",\"0\",\"0\",\"0\",\"0.0\",\"0.0\",\"0.0\",\"0\",\"0.0\",\"0.0\",\"0\",\"0.0\",\"0.0\",\"0.0\",\"0\",\"0\",\"0.0\",\"5018.04\",\"35126.25\",\"5018.04\",\"0.0\",\"0\",\"0.0\",\"0\",\"0\",\"0.0\",\"0.0\",\"0.0\",\"171.29\",\"0\",\"24.47\",\"819.37\",\"1149.02\",\"194.46\",\"35876.68\",\"2950.86\",\"0\",\"5125.24\",\"11.53\",\"47577.67\",\"42559.63\",\"c7dc95c4-90a4-4c33-9a3e-0b4591059c84\"),(\"EMPURRADA_1_2_2025\",\"07526557002153_CERV\",\"PERNAMBUCO\",\"BR31\",\"nan\",\"nan\",\"nan\",\"3965584001523\",\"HORIZONTE\",\"421808\",\"nan\",\"12\",\"nan\",\"nan\",\"2092.53\",\"nan\",\"nan\",\"nan\",\"nan\",\"nan\",\"nan\",\"nan\",\"nan\",\"nan\",\"nan\",\"nan\",\"nan\",\"nan\",\"nan\",\"nan\",\"nan\",\"nan\",\"nan\",\"nan\",\"8078.1\",\"3715.83\",\"41\",\"11650.23\",\"1099.85\",\"10.38\",\"5198.14\",\"473.89\",\"3067.46\",\"1482.31\",\"0\",\"504.68\",\"41\",\"0\",\"735877.45\",\"189.81\",\"412.08\",\"13.7\",\"17948.23\",\"7181.23\",\"5237.54\",\"0\",\"9134.47\",\"1252.1\",\"15.2\",\"6773.35\",\"414.99\",\"1953.25\",\"1535.81\",\"0\",\"0\",\"3\",\"0\",\"0.0\",\"277.94\",\"523.92\",\"20.05\",\"17159.93\",\"41\",\"11561.44\",\"8046.45\",\"3028.13\",\"486.86\",\"1105.23\",\"10.55\",\"471.81\",\"0\",\"192.92\",\"416.02\",\"13.92\",\"5253.74\",\"3769.54\",\"1484.2\",\"0\",\"44\",\"734736.73\",\"17920.41\",\"nan\",\"nan\",\"nan\",\"nan\",\"nan\",\"nan\",\"nan\",\"nan\",\"nan\",\"nan\",\"nan\",\"nan\",\"nan\",\"nan\",\"nan\",\"636.46\",\"2963.81\",\"0\",\"158.08\",\"1742.68\",\"4700.27\",\"71.5\",\"0.0\",\"694863.26\",\"9109.25\",\"12.94\",\"230.14\",\"16947.88\",\"174.55\",\"112.01\",\"0.0\",\"0.0\",\"0\",\"0.0\",\"0.0\",\"0.0\",\"0.0\",\"0.0\",\"0.0\",\"0.0\",\"0.0\",\"0.0\",\"0.0\",\"0.0\",\"0.0\",\"636.46\",\"2963.81\",\"0\",\"158.08\",\"1742.68\",\"4700.27\",\"71.5\",\"0.0\",\"694863.26\",\"9109.25\",\"12.94\",\"230.14\",\"16947.88\",\"174.55\",\"112.01\",\"0\",\"0\",\"0\",\"0\",\"511.28\",\"15.2\",\"12.46\",\"0\",\"277.94\",\"205.67\",\"0\",\"7368.99\",\"5357.96\",\"2011.03\",\"0\",\"24\",\"7880.27\",\"6618.41\",\"271354.7\",\"6618.41\",\"0.0\",\"0\",\"0.0\",\"0\",\"0\",\"0.0\",\"0.0\",\"0.0\",\"85793.71\",\"0\",\"2092.53\",\"865.38\",\"1535.11\",\"33.2\",\"260474.99\",\"3908.1\",\"0\",\"6353.05\",\"11.25\",\"49932.28\",\"43313.87\",\"e32ade3a-952a-4387-97b2-ff7d9433ea05\")\n"
     ]
    },
    {
     "name": "stderr",
     "output_type": "stream",
     "text": [
      "C:\\Users\\ADMIN.JOAO\\AppData\\Local\\Packages\\PythonSoftwareFoundation.Python.3.12_qbz5n2kfra8p0\\LocalCache\\local-packages\\Python312\\site-packages\\openpyxl\\styles\\stylesheet.py:237: UserWarning: Workbook contains no default style, apply openpyxl's default\n",
      "  warn(\"Workbook contains no default style, apply openpyxl's default\")\n"
     ]
    },
    {
     "name": "stdout",
     "output_type": "stream",
     "text": [
      "Query executada com sucesso na tabela ENCARGOS_COM_FERIAS.\n"
     ]
    },
    {
     "name": "stderr",
     "output_type": "stream",
     "text": [
      "C:\\Users\\ADMIN.JOAO\\AppData\\Local\\Packages\\PythonSoftwareFoundation.Python.3.12_qbz5n2kfra8p0\\LocalCache\\local-packages\\Python312\\site-packages\\openpyxl\\styles\\stylesheet.py:237: UserWarning: Workbook contains no default style, apply openpyxl's default\n",
      "  warn(\"Workbook contains no default style, apply openpyxl's default\")\n"
     ]
    },
    {
     "name": "stdout",
     "output_type": "stream",
     "text": [
      "Query executada com sucesso na tabela ENCARGOS_SEM_FERIAS.\n"
     ]
    },
    {
     "name": "stderr",
     "output_type": "stream",
     "text": [
      "C:\\Users\\ADMIN.JOAO\\AppData\\Local\\Packages\\PythonSoftwareFoundation.Python.3.12_qbz5n2kfra8p0\\LocalCache\\local-packages\\Python312\\site-packages\\openpyxl\\styles\\stylesheet.py:237: UserWarning: Workbook contains no default style, apply openpyxl's default\n",
      "  warn(\"Workbook contains no default style, apply openpyxl's default\")\n"
     ]
    },
    {
     "name": "stdout",
     "output_type": "stream",
     "text": [
      "Query executada com sucesso na tabela PARAMETROS_FISCAL.\n"
     ]
    }
   ],
   "source": [
    "import pandas as pd\n",
    "import mysql.connector\n",
    "import mysql\n",
    "import os\n",
    "from datetime import datetime\n",
    "\n",
    "host_name = \"172.16.0.28\" \n",
    "user_name = \"joaotavares\" \n",
    "user_password = \"@joaotavares\"\n",
    "database='dbfreightech'\n",
    "\n",
    "def nome_tabela(nome_arquivo, aba):\n",
    "    tabela = None  # Inicializa tabela para evitar UnboundLocalError \n",
    "    colunas = None\n",
    "    try:\n",
    "        if \"EMPURRADA\" in nome_arquivo:\n",
    "            if \"DESPESAS OPERCIONAIS\" == aba:\n",
    "                tabela = \"DESPESAS_OPERACIONAIS_EMPURRADA\" \n",
    "            elif \"BENEFÍCIOS REMUNERADOS\" == aba:    \n",
    "                tabela = \"BENEFICIOS_REMUNERADO_EMPURRADA\"\n",
    "            elif \"QLP EQUIPE\" == aba: \n",
    "                tabela = \"QLP_EQUIPE_EMPURRADA\"\n",
    "            elif \"PARÂMETROS EQUIPE\" == aba:\n",
    "                tabela = \"PARAMETROS_EQUIPE_EMPURRADA\"\n",
    "            elif \"QLP ADM\" == aba:\n",
    "                tabela = \"QLP_ADM_EMPURRADA\"    \n",
    "            elif \"CAVALO\" == aba:\n",
    "                tabela = \"CAVALO_EMPURRADA\"\n",
    "            elif \"CARRETA\" == aba:\n",
    "                tabela = \"CARRETA_EMPURRADA\"\n",
    "            elif \"PARÂMETROS MANUTENÇÃO\" == aba:\n",
    "                tabela = \"PARAMETROS_MANUNTENCAO_EMPURRADA\"\n",
    "            elif \"PARÂMETROS OPERACIONAIS\" == aba:\n",
    "                tabela = \"PARAMETROS_OPERACIONAIS_EMPURRADA\"\n",
    "            elif \"PNEU\" == aba:\n",
    "                tabela = \"PNEU_EMPURRADA\"\n",
    "            elif \"CUSTO EQUIPE\" == aba:\n",
    "                tabela = \"CUSTO_EQUIPE_EMPURRADA\"\n",
    "            elif \"UNIFORMES E EPIS\" == aba:\n",
    "                tabela = \"UNI_EPI_EMPURRADA\"\n",
    "            elif \"COMBUSTÍVEL\" == aba:\n",
    "                tabela = \"COMBUSTIVEL_EMPURRADA\"\n",
    "            elif \"TRECHOS\" == aba:\n",
    "                tabela = \"TRECHOS_EMPURRADA\"\n",
    "            elif \"CONSUMO\" == aba:\n",
    "                tabela = \"CONSUMO_EMPURRADA\"   \n",
    "            elif \"ENCARGOS_COM_FERIAS\" == aba:\n",
    "                tabela = \"ENCARGOS_COM_FERIAS_EMPURRADA\"       \n",
    "            elif \"ENCARGOS_SEM_FERIAS\" == aba:\n",
    "                tabela = \"ENCARGOS_SEM_FERIAS_EMPURRADA\"  \n",
    "            elif \"PARAMETROS_FISCAL\" == aba:\n",
    "                tabela =  \"PAREMETROS_FISCAIS_EMPURRADA\"           \n",
    "            else:\n",
    "                tabela = aba\n",
    "    except Exception as e:\n",
    "        print(f\"Erro ao determinar o nome da tabela: {e}\")\n",
    "    \n",
    "    return tabela\n",
    "\n",
    "\n",
    "def colunas_tabela(tabela):\n",
    "    colunas = \"\"  # Initialize colunas to avoid UnboundLocalError\n",
    "    if tabela == \"DESPESAS_OPERACIONAIS_EMPURRADA\":\n",
    "        colunas = \"`VIGENCIA`, `UNIDADE_CNPJ`, `UNIDADE_NOME`, `UNIDADE_SAP`, `UNIDADE_TMS`, `UNIDADE_PROMAX_UNB`, `UNIDADE_REGIONAL`, `OPERADOR_CNPJ`, `OPERADOR_NOME`, `OPERADOR_SAP`, `OPERADOR_TMS`, `OPERADOR_PROMAX`, `ORGANIZACAO_DE_COMPRAS`, `PRAZO_PAGAMENTO`, `DESCRICAO`, `QUANTIDADE`, `VALOR_TOTAL`, `VALOR_UNITARIO`, `VALOR_POR_EQUIPAMENTO`, `_ID`\"\n",
    "    elif tabela == \"BENEFICIOS_REMUNERADO_EMPURRADA\":\n",
    "        colunas = \"`VIGENCIA`, `UNIDADE_CNPJ`, `UNIDADE_NOME`, `UNIDADE_SAP`, `UNIDADE_TMS`, `UNIDADE_PROMAX_UNB`, `UNIDADE_REGIONAL`, `OPERADOR_CNPJ`, `OPERADOR_NOME`, `OPERADOR_SAP`, `OPERADOR_TMS`, `OPERADOR_PROMAX`, `ORGANIZACAO_DE_COMPRAS`, `PRAZO_PAGAMENTO`, `CARGO_BENEFICIO`, `ITEM_BENEFICIO`, `PARTICIPACAO_EMPRESA`, `QUANTIDADE`, `QUANTIDADE_DE_DIAS_UTEIS`, `RESSARCIMENTO_FUNCIONARIO`, `TOTAL`, `TURNO_EMPURRADA`, `VALOR`, `_ID`\"\n",
    "    elif tabela == \"QLP_EQUIPE_EMPURRADA\":\n",
    "        colunas = \"`Vigencia`, `Unidade_CNPJ`, `Unidade_Nome`, `Unidade_SAP`, `Unidade_TMS`, `Unidade_Promax_UNB`, `Unidade_Regional`, `Operador_CNPJ`, `Operador_Nome`, `Operador_SAP`, `Operador_TMS`, `Operador_Promax`, `Organizacao_de_Compras`, `Prazo_Pagamento`, `adicionalNoturno`, `assistenciaMedica`, `cafeDaManha`, `cargoEquipeEmpurrada`, `cestaBasica`, `diaria`, `dsrAdicionalNoturno`, `duracaoAbono`, `outro`, `pcmsoPorMes`, `percentualEncargoEProvisao`, `pisoSalarial`, `plr`, `premiacaoProdutividade`, `quantidadePorCaminhao`, `quantidadeTotalxCaminhaoAtivo`, `remuneracaoContraCheque`, `remuneracaoFixa`, `remuneracaoVariavel`, `salarioFixo`, `seguroDeVida`, `ticketRefeicaoLiquido`, `total`, `totalBeneficioFixo`, `totalDaRemuneracao`, `totalEncargoProvisao`, `totalRemuneracao`, `totalUniformeEPI`, `turnoEmpurrada`, `valeTransporteLiquido`, `valorAbono`, `valorAbonoAplicado`, `_id`\"\n",
    "    elif tabela == \"PARAMETROS_EQUIPE_EMPURRADA\":\n",
    "        colunas = \"`VIGENCIA`, `UNIDADE_CNPJ`, `UNIDADE_NOME`, `UNIDADE_SAP`, `UNIDADE_TMS`, `UNIDADE_PROMAX_UNB`, `UNIDADE_REGIONAL`, `OPERADOR_CNPJ`, `OPERADOR_NOME`, `OPERADOR_SAP`, `OPERADOR_TMS`, `OPERADOR_PROMAX`, `ORGANIZACAO_DE_COMPRAS`, `PRAZO_PAGAMENTO`, `ACORDO_COLETIVO_01`, `ACORDO_COLETIVO_02`, `PERCENTUAL_TO_PARA_REMUNERACAO_DE_FERISTAS`, `PISO_SALARIAL_ANTERIOR_01`, `PISO_SALARIAL_ANTERIOR_02`, `AJUSTADO`, `DATA_ALTERACAO_MOTORISTA_25`, `DATA_ALTERACAO_MOTORISTA_28`, `DATA_ALTERACAO_MOTORISTA_40`, `DATABASE_`, `ENCARGO_E_PROVISAO_COM_FERIAS`, `ENCARGO_E_PROVISAO_SEM_FERIAS`, `FATOR_MOTORISTA_PRODUTIVIDADE`, `FATOR_MOTORISTA_REAL`, `PERCENTUAL_ACORDO_COLETIVO_MOTORISTA_25`, `PISO_SALARIAL_ANTERIOR_MOTORISTA_25`, `PREMIO_PRODUTIVIDADE`, `_ID`\"\n",
    "    elif tabela == \"QLP_ADM_EMPURRADA\":\n",
    "        colunas = \"`VIGENCIA`, `UNIDADE_CNPJ`, `UNIDADE_NOME`, `UNIDADE_SAP`, `UNIDADE_TMS`, `UNIDADE_PROMAX_UNB`, `UNIDADE_REGIONAL`, `OPERADOR_CNPJ`, `OPERADOR_NOME`, `OPERADOR_SAP`, `OPERADOR_TMS`, `OPERADOR_PROMAX`, `ORGANIZACAO_DE_COMPRAS`, `PRAZO_PAGAMENTO`, `CARGO`, `DESPESA_BENEFICIO`, `DESPESA_ENCARGOS`, `DESPESA_FROTA_LEVE`, `DESPESA_ORDENADOS`, `DESPESA_TELEFONIA`, `DESPESA_UNIFORMES`, `QLP_BENCHMARK_QUANTIDADE`, `QLP_BENCHMARK_SALARIO`, `QUANTIDADE_BENEFICIO`, `QUANTIDADE_ENCARGOS`, `QUANTIDADE_FROTA_LEVE`, `QUANTIDADE_ORDENADOS`, `QUANTIDADE_TELEFONIA`, `QUANTIDADE_UNIFORMES`, `SALARIO_ENCARGOS`, `SALARIO_ORDENADOS`, `VALE_TRANSPORTE`, `VALOR_BENEFICIO`, `VALOR_FROTA_LEVE`, `VALOR_TELEFONIA`, `VALOR_UNIFORMES`, `_ID`\"\n",
    "    elif tabela == \"CAVALO_EMPURRADA\":\n",
    "        colunas = \"`VIGENCIA`, `UNIDADE_CNPJ`, `UNIDADE_NOME`, `UNIDADE_SAP`, `UNIDADE_TMS`, `UNIDADE_PROMAX_UNB`, `UNIDADE_REGIONAL`, `OPERADOR_CNPJ`, `OPERADOR_NOME`, `OPERADOR_SAP`, `OPERADOR_TMS`, `OPERADOR_PROMAX`, `ORGANIZACAO_DE_COMPRAS`, `PRAZO_PAGAMENTO`, `CUSTO_VARIAVEL_SIMULADO`, `GANHADOR_BID`, `PADRAO`, `PLACA`, `PLACA_CARRETA`, `SPREAD_BNDES`, `SPREAD_BANCO`, `TJLP`, `TAXA_FINAME`, `AMORTIZACAO_CAVALO`, `ANO`, `ANO_BID`, `ATIVO`, `CAMBIO`, `CARENCIA`, `CHASSI`, `CICLO`, `COMBUSTIVEL_CAPACIDADE`, `COMBUSTIVEL_CONSUMO_BENCHMARK`, `COMBUSTIVEL_CONSUMO_NEG`, `COMBUSTIVEL_CONSUMO_NEG_INTEIRO`, `COMBUSTIVEL_PERCENTUAL_PERDA_VIDA`, `COMBUSTIVEL_VIDA_CAVALO`, `CUSTO_ALUGUEL`, `DATA`, `DATA_FIM_CONTRATO`, `EIXO_EMPURRADA`, `FAIXA_KM`, `FINAME_CAVALO`, `FREE_MAINTENANCE`, `IPVA_LICENCIAMENTO`, `JUROS_FINAME_CAVALO`, `LUCRO_FIXOMODELO_NOVO_CICLO_CAVALO`, `LUCRO_VARIAVEL_PREVISTO_CAVALO`, `MANUTENCAO_ANO`, `MANUTENCAO_BID`, `MANUTENCAO_COMPRA_FORA_DO_BID_AUTORIZADA`, `MANUTENCAO_CONTRATO`, `MANUTENCAO_FREE_MAINTENANCE`, `MANUTENCAO_REAIS_KM`, `MANUTENCAO_REAIS_KM_INTEIRO`, `MANUTENCAO_VIDA_MESES`, `MES_DE_ENTRADA`, `MODELO_EMPURRADA`, `MONTADORA`, `ODOMETRO_ENTRADA`, `PERCENTUAL_ENTRADA`, `PERCENTUAL_ICMS`, `PERCENTUAL_REAJUSTE_APLICADO`, `PERIODO_FINAME`, `PNEU_MEDIDA_EMPURRADA`, `REAISKM`, `REGIAO_EMPURRADA`, `STATUS_FINANCIAMENTO_T1SHARED`, `TELEMETRIA_OBRIGATORIA`, `TIPO_COMBUSTIVEL_EMPURRADA`, `VALOR_ICMS`, `VALOR_NF_COMPRA`, `VALOR_PIS_COFINS`, `VALOR_PNEU`, `VALOR_REAJUSTADO`, `_ID`\"\n",
    "    elif tabela == \"CARRETA_EMPURRADA\":\n",
    "        colunas = \"`VIGENCIA`, `UNIDADE_CNPJ`, `UNIDADE_NOME`, `UNIDADE_SAP`, `UNIDADE_TMS`, `UNIDADE_PROMAX_UNB`, `UNIDADE_REGIONAL`, `OPERADOR_CNPJ`, `OPERADOR_NOME`, `OPERADOR_SAP`, `OPERADOR_TMS`, `OPERADOR_PROMAX`, `ORGANIZACAO_DE_COMPRAS`, `PRAZO_PAGAMENTO`, `PLACA`, `SPREAD_BNDES`, `SPREAD_BANCO`, `TJLP`, `TAXA_FINAME`, `AMORTIZACAO_CAVALO`, `ANO`, `CAPACIDADE_EMPURRADA`, `CAPACIDADE_PALLETS_REAL_EMPURRADA`, `CARENCIA`, `CHASSI`, `CICLO`, `CUSTO_ALUGUEL`, `CUSTO_FIXO`, `DATA`, `DATA_FIM_CONTRATO`, `DOUBLE_DECK`, `EIXO_EMPURRADA`, `FAIXA_REFLEXIVA`, `FINAME`, `FINAME_CAVALO`, `ICMS`, `IMPLEMENTO`, `IPVA_LICENCIAMENTO`, `IPVA_LICENCIAMENTO_MENSAL`, `JUROS_FINAME_CAVALO`, `LUCRO_FIXOMODELO_NOVO_CICLO_CAVALO`, `LUCRO_FIXOMODELO_NOVO_CICLO_CARRETA`, `LUCRO_VARIAVEL_PREVISTO`, `LUCRO_VARIAVEL_PREVISTO_CARRETA`, `MES_DE_ENTRADA`, `MODELO`, `PERCENTUAL_ENTRADA`, `PERCENTUAL_ICMS`, `PERIODO_FINAME`, `PIS_COFINS`, `PNEU_MEDIDA_EMPURRADA`, `RASTREADOR`, `REVESTIMENTO`, `SEGURO`, `STATUS_FINANCIAMENTO`, `STATUS_FINANCIAMENTO_T1SHARED`, `TACOGRAFO`, `TIPO_CARROCERIA_EMPURRADA`, `VALOR_ICMS`, `VALOR_NF_COMPRA`, `VALOR_PIS_COFINS`, `VALOR_PNEUS`, `_ID`\"\n",
    "    elif tabela == \"PARAMETROS_MANUNTENCAO_EMPURRADA\":\n",
    "        colunas = \"`VIGENCIA`, `UNIDADE_CNPJ`, `UNIDADE_NOME`, `UNIDADE_SAP`, `UNIDADE_TMS`, `UNIDADE_PROMAX_UNB`, `UNIDADE_REGIONAL`, `OPERADOR_CNPJ`, `OPERADOR_NOME`, `OPERADOR_SAP`, `OPERADOR_TMS`, `OPERADOR_PROMAX`, `ORGANIZACAO_DE_COMPRAS`, `PRAZO_PAGAMENTO`, `CONSUMO`, `MANUTENCAO_EXTRA`, `MANUTENCAO_REAIS_KM`, `_ID`\"\n",
    "    elif tabela == \"PARAMETROS_OPERACIONAIS_EMPURRADA\":\n",
    "        colunas = \"`VIGENCIA`, `UNIDADE_CNPJ`, `UNIDADE_NOME`, `UNIDADE_SAP`, `UNIDADE_TMS`, `UNIDADE_PROMAX_UNB`, `UNIDADE_REGIONAL`, `OPERADOR_CNPJ`, `OPERADOR_NOME`, `OPERADOR_SAP`, `OPERADOR_TMS`, `OPERADOR_PROMAX`, `ORGANIZACAO_DE_COMPRAS`, `PRAZO_PAGAMENTO`, `ADM_CONSUMO_FROTA_LEVE`, `ADM_CUSTO_FABRICA`, `ADM_CUSTO_GASOLINA_ETANOL_ANP`, `ADM_CUSTO_GASOLINA_ETANOL_COM_CREDITO_IMPOSTOS`, `ADM_CUSTO_GASOLINA_ETANOL_TRANSPORTADORA`, `ADM_FROTA_LEVE_CARRO`, `ADM_REFEITORIO_FABRICA`, `ADM_TELEFONIA_MOVEL`, `ALIQUOTA_FIXA_ICMS_DIESEL`, `CODIGO_PROMAX_OPERADOR`, `CODIGO_PROMAX_UNIDADE`, `CUSTO_GERAL_EXISTE_VENDA_CARCAÇA`, `CUSTO_GERAL_FAIXA_REFLEXIVA`, `CUSTO_GERAL_PERCENTUAL_SEGURO_CASCO_TERCEIRO`, `CUSTO_GERAL_QUANTIDADE_DE_RECAPAGENS`, `CUSTO_GERAL_RASTREADOR`, `CUSTO_GERAL_REAIS_PNEU_DIRECIONAL`, `CUSTO_GERAL_REAIS_PNEU_TRACAO`, `CUSTO_GERAL_RECAPAGEM_DIRECIONAL`, `CUSTO_GERAL_RECAPAGEM_TRACAO`, `CUSTO_GERAL_REVESTIMENTO`, `CUSTO_GERAL_TACOGRAFO`, `CUSTO_GERAL_VALOR_VENDA_CARCAÇA`, `CUSTO_VARIAVEL_CUSTO_DIESEL`, `CUSTO_VARIAVEL_CUSTO_DIESEL_COM_CREDITO_IMPOSTOS`, `CUSTO_VARIAVEL_CUSTO_POR_LAVAGEM`, `CUSTO_VARIAVEL_FATOR_DE_MOTORISTA_CARRO`, `CUSTO_VARIAVEL_PRECO_ARLAREAIS`, `CUSTO_VARIAVEL_PRECO_DIESEL_ANP`, `CUSTO_VARIAVEL_PRECO_DIESEL_S10_ANP`, `CUSTO_VARIAVEL_PRECO_DIESEL_S10_TRANSPORTADORA`, `CUSTO_VARIAVEL_PRECO_DIESEL_TRANSPORTADORA`, `CUSTO_VARIAVEL_QUANTIDADE_DE_CARROS_EURO_III`, `CUSTO_VARIAVEL_QUANTIDADE_DE_CARROS_EURO_V`, `CUSTO_VARIAVEL_QUANTIDADE_DE_LAVAGENS`, `FAIXA_BENCHMARK`, `GERAL_FROTA_ATIVA`, `GERAL_FROTA_INATIVA`, `GERAL_INICIO_DATA_DE_VIGENCIA`, `GERAL_INICIO_OPERACAO`, `GERAL_KM_MEDIO_UNIDADE`, `GERAL_QUANTIDADE_CARRO`, `GERAL_TAMANHO_OPERACAO_PARA_ADM`, `IMPOSTO_COFINS_LUCRO_PRESUMIDO`, `IMPOSTO_COFINS_LUCRO_REAL`, `IMPOSTO_CONTRIBUICAO_PREV_SEM_RECEITA_BRUTA`, `IMPOSTO_CREDITO_DE_ICMS_EQUIPAMENTO`, `IMPOSTO_CREDITO_ICMS_DIESEL`, `IMPOSTO_CREDITO_ICMS_INSUMOS`, `IMPOSTO_CREDITO_ICMS_PNEU`, `IMPOSTO_CREDITO_ICMS_PRESUMIDO`, `IMPOSTO_CREDITO_PIS_COFINS_INSUMO`, `IMPOSTO_ICMS`, `IMPOSTO_ICMS_CAVLO`, `IMPOSTO_ICMS_IMPLEMENTO`, `IMPOSTO_ICMS_PARA_CUSTO_FIXO`, `IMPOSTO_ISS`, `IMPOSTO_LUCRO_PRESUMIDO`, `IMPOSTO_PERCENTUAL_DE_ICMS_PARA_CREDITO_DIESEL`, `IMPOSTO_PERCENTUAL_DE_ICMS_PARA_CREDITO_INSUMOS`, `IMPOSTO_PERCENTUAL_DE_ICMS_PARA_CREDITO_PNEU`, `IMPOSTO_PIS_LUCRO_PRESUMIDO`, `IMPOSTO_PIS_LUCRO_REAL`, `REC_ICMS`, `REC_PIS_COFINS`, `REGIAO_EMPURRADA`, `_ID`\"\n",
    "    elif tabela == \"PNEU_EMPURRADA\":\n",
    "        colunas = \"`VIGENCIA`, `UNIDADE_CNPJ`, `UNIDADE_NOME`, `UNIDADE_SAP`, `UNIDADE_TMS`, `UNIDADE_PROMAX_UNB`, `UNIDADE_REGIONAL`, `OPERADOR_CNPJ`, `OPERADOR_NOME`, `OPERADOR_SAP`, `OPERADOR_TMS`, `OPERADOR_PROMAX`, `ORGANIZACAO_DE_COMPRAS`, `PRAZO_PAGAMENTO`, `ANO`, `PNEU_MEDIDA_EMPURRADA`, `TIPO_PNEU`, `VALOR`, `_ID`\"\n",
    "    elif tabela == \"CUSTO_EQUIPE_EMPURRADA\":\n",
    "        colunas = \"`VIGENCIA`, `UNIDADE_CNPJ`, `UNIDADE_NOME`, `UNIDADE_SAP`, `UNIDADE_TMS`, `UNIDADE_PROMAX_UNB`, `UNIDADE_REGIONAL`, `OPERADOR_CNPJ`, `OPERADOR_NOME`, `OPERADOR_SAP`, `OPERADOR_TMS`, `OPERADOR_PROMAX`, `ORGANIZACAO_DE_COMPRAS`, `PRAZO_PAGAMENTO`, `ASSISTENCIA_MEDICA`, `BENEFICIO_FIXO`, `CAFE_DA_MANHA`, `CARGO_EQUIPE_EMPURRADA`, `CESTA_BASICA`, `DIARIA`, `ENCARGO_PROVISAO`, `FATOR_MOTORISTA`, `FROTA_ATIVA`, `OUTRO`, `PCMSO_POR_MES`, `PLR`, `SALARIO_FIXO`, `SEGURO_DE_VIDA`, `TICKET_REFEICAO_LIQUIDO`, `TOTAL`, `TOTAL_UNIFORME_EPI`, `VALE_TRANSPORTE_LIQUIDO`, `_ID`\"\n",
    "    elif tabela == \"UNI_EPI_EMPURRADA\":\n",
    "        colunas = \"`VIGENCIA`, `UNIDADE_CNPJ`, `UNIDADE_NOME`, `UNIDADE_SAP`, `UNIDADE_TMS`, `UNIDADE_PROMAX_UNB`, `UNIDADE_REGIONAL`, `OPERADOR_CNPJ`, `OPERADOR_NOME`, `OPERADOR_SAP`, `OPERADOR_TMS`, `OPERADOR_PROMAX`, `ORGANIZACAO_DE_COMPRAS`, `PRAZO_PAGAMENTO`, `CUSTO`, `CUSTO_MES`, `ICMS_REGIAO`, `ITEM_EPI`, `QUANTIDADE_ANO`, `TIPO_EQUIPE`, `_ID`\"\n",
    "    elif tabela == \"COMBUSTIVEL_EMPURRADA\":\n",
    "        colunas = \"`VIGENCIA`, `UNIDADE_CNPJ`, `UNIDADE_NOME`, `UNIDADE_SAP`, `UNIDADE_TMS`, `UNIDADE_PROMAX_UNB`, `UNIDADE_REGIONAL`, `OPERADOR_CNPJ`, `OPERADOR_NOME`, `OPERADOR_SAP`, `OPERADOR_TMS`, `OPERADOR_PROMAX`, `ORGANIZACAO_DE_COMPRAS`, `PRAZO_PAGAMENTO`, `CREDITO_IMPOSTO`, `DESCRICAO`, `INICIATIVA`, `PRECO_ANP`, `PRECO_CREDITO_IMPOSTOS`, `PRECO_OPERADORA`, `_ID`\"\n",
    "    elif tabela == \"TRECHOS_EMPURRADA\":\n",
    "        colunas = \"`Vigencia`, `Unidade_CNPJ`, `Unidade_Nome`, `Unidade_SAP`, `Unidade_TMS`, `Unidade_Promax_UNB`, `Unidade_Regional`, `Operador_CNPJ`, `Operador_Nome`, `Operador_SAP`, `Operador_TMS`, `Operador_Promax`, `Organizacao_de_Compras`, `Prazo_Pagamento`, `Capacidade`, `Destino`, `destino_SAP`, `destino_TMS`, `F_MOV`, `Origem`, `origem_SAP`, `origem_TMS`, `cargaHorariaMotoristaPuxadaMensal`, `cargaHorariaPorTrajetoMinuto`, `cargaHorariaPorTrajetoMinutoLucro`, `cargaHorarioTrajetoDia`, `cargaHorarioTrajetoMes`, `chaveTrecho`, `cnpjIda`, `cnpjVolta`, `consumoDieselAjustado`, `custoDaDiaria`, `custoDoTr`, `diasMes`, `dieselConsumoDieselReaisKM`, `dieselConsumoKmL`, `fatorMotoristaAjustado`, `fatorMotoristaIndicado`, `faturamentoDestinoObrigatorio`, `freteComCprb`, `freteCtrc`, `freteLiquido`, `fretePTms`, `fretePisCofins`, `freteReaisKMDiesel`, `freteReaisKMLavagem`, `freteReaisKMLucroVariavel`, `freteReaisKMManutencaoCarreta`, `freteReaisKMManutencaoCavalo`, `freteReaisKMPedagio`, `freteReaisKMPneu`, `freteReaisKMSalarioVariavel`, `freteReaisKMSeguro`, `freteReaisViagemDiesel`, `freteReaisViagemLavagem`, `freteReaisViagemLucroVariavel`, `freteReaisViagemManutencaoCarreta`, `freteReaisViagemManutencaoCavalo`, `freteReaisViagemPedagio`, `freteReaisViagemPneus`, `freteReaisViagemSalarioVariavel`, `freteReaisViagemSeguro`, `frotaNoMunicipio`, `gradeCarregamento`, `icmsIss`, `impostosIcmsIss`, `kmIda`, `kmRodado`, `kmRodadoMesPorEquipe`, `kmRodadoMesPorEquipeLucro`, `kmVolta`, `lavagemReaisKm`, `lucroVariavelReaisKm`, `manutencaoCavalo`, `manutencaoImplementoReaiskm`, `observacao`, `pedagio`, `pedagioPorEixoIdaVolta`, `pedagioReaisKM`, `percentualIcmsIss`, `percentualPerdaDescartavel`, `percentualPerdaKm`, `percentualPerdaRegiao`, `pneuCustoPneusCamarasReaisKm`, `pneuQuantidadeDePneus`, `pneuValorDeVendaDaCarcaca`, `pneuValorMedioDaRecapagem`, `pneuValorMedioPneus`, `pneuVidautilPneu`, `premioProdutividadeFatorMotorista`, `premioProdutividadeKmRodado`, `premioProdutividadeSalarioVariavel`, `premioProdutividadeSalarioVariavelReaisKm`, `previsaoViagens`, `regiaoEmpurrada`, `seguro`, `seguroReaiskm`, `tempoInternoDestino`, `tempoInternoDestinoLucro`, `tempoInternoOrigem`, `tempoInternoOrigemLucro`, `tempoRefeicaoMinuto`, `tempoTrajetoFabricaCDMinuto`, `trechoComDiaria`, `trechoComVr`, `turnoEmpurrada`, `turnosFabrica`, `velocidadeMediaKmH`, `vidautilAjustadaPneu`, `_id`\"\n",
    "    elif tabela == \"CONSUMO_EMPURRADA\":\n",
    "        colunas = \"`Vigencia`, `Unidade_CNPJ`, `Unidade_Nome`, `Unidade_SAP`, `Unidade_TMS`, `Unidade_Promax_UNB`, `Unidade_Regional`, `Operador_CNPJ`, `Operador_Nome`, `Operador_SAP`, `Operador_TMS`, `Operador_Promax`, `Organizacao_de_Compras`, `Prazo_Pagamento`, `Capacidade_Empurrada`, `Consumo`, `Ford`, `Iveco`, `Mercedes`, `Scania`, `Volks`, `Volvo`, `_ID`\"\n",
    "    elif tabela == \"ENCARGOS_COM_FERIAS_EMPURRADA\":\n",
    "        colunas = \"`Vigencia`, `Unidade_CNPJ`, `Unidade_Nome`, `Unidade_SAP`, `Unidade_TMS`, `Unidade_Promax_UNB`, `Unidade_Regional`, `Operador_CNPJ`, `Operador_Nome`, `Operador_SAP`, `Operador_TMS`, `Operador_Promax`, `Organizacao_de_Compras`, `Prazo_Pagamento`, `auxilioDoenca`, `auxilioDoencaRpsA`, `auxilioDoencaRpsB`, `auxilioDoencaRpsC`, `avisoPrevio`, `avisoPrevioRpsA`, `avisoPrevioRpsB`, `avisoPrevioRpsC`, `decimoTerceiroSalario`, `decimoTerceiroSalarioRpsA`, `decimoTerceiroSalarioRpsB`, `decimoTerceiroSalarioRpsC`, `diasDeAviso`, `diferencaProvisaoFerias`, `diferencaProvisaoFeriasRpsA`, `diferencaProvisaoFeriasRpsB`, `diferencaProvisaoFeriasRpsC`, `feriasNormais`, `feriasNormaisRpsA`, `feriasNormaisRpsB`, `feriasNormaisRpsC`, `feriasProporcionaisIndenizadas`, `feriasProporcionaisIndenizadasFormula`, `feriasProporcionaisIndenizadasRpsA`, `feriasProporcionaisIndenizadasRpsB`, `feriasProporcionaisIndenizadasRpsC`, `feriasUmTerco`, `feriasUmTercoRpsA`, `feriasUmTercoRpsB`, `feriasUmTercoRpsC`, `feristaFerias`, `feristaFeriasRpsA`, `feristaFeriasRpsB`, `feristaFeriasRpsC`, `fgts`, `incidenciaCumulativa`, `incidenciaCumulativaFerista`, `incidenciaCumulativaFeristaRpsA`, `incidenciaCumulativaFeristaRpsB`, `incidenciaCumulativaFeristaRpsC`, `incidenciaEngargosFerista`, `incidenciaEngargosFeristaRpsA`, `incidenciaEngargosFeristaRpsB`, `incidenciaEngargosFeristaRpsC`, `incidenciaUmTercoFeriasSobreAviso`, `incidenciaUmTercoFeriasSobreAvisoRpsA`, `incidenciaUmTercoFeriasSobreAvisoRpsB`, `incidenciaUmTercoFeriasSobreAvisoRpsC`, `incra`, `inss`, `involuntario`, `mesDissidio`, `multaFGTS`, `salarioEducacao`, `sebrae`, `seguroAcidenteTrabalho`, `senat`, `sest`, `tempoMedioCasa`, `total`, `totalEncargos`, `totalFerista`, `totalProvisoes`, `totalRpsA`, `totalRpsB`, `totalRpsC`, `turnOver`, `voluntario`, `_id`\"\n",
    "    elif tabela == \"ENCARGOS_SEM_FERIAS_EMPURRADA\": \n",
    "        colunas = \"`Vigencia`, `Unidade_CNPJ`, `Unidade_Nome`, `Unidade_SAP`, `Unidade_TMS`, `Unidade_Promax_UNB`, `Unidade_Regional`, `Operador_CNPJ`, `Operador_Nome`, `Operador_SAP`, `Operador_TMS`, `Operador_Promax`, `Organizacao_de_Compras`, `Prazo_Pagamento`, `auxilioDoenca`, `auxilioDoencaRpsA`, `auxilioDoencaRpsB`, `auxilioDoencaRpsC`, `avisoPrevio`, `avisoPrevioRpsA`, `avisoPrevioRpsB`, `avisoPrevioRpsC`, `decimoTerceiroSalario`, `decimoTerceiroSalarioRpsA`, `decimoTerceiroSalarioRpsB`, `decimoTerceiroSalarioRpsC`, `diasDeAviso`, `diferencaProvisaoFerias`, `diferencaProvisaoFeriasRpsA`, `diferencaProvisaoFeriasRpsB`, `diferencaProvisaoFeriasRpsC`, `feriasNormais`, `feriasNormaisRpsA`, `feriasNormaisRpsB`, `feriasNormaisRpsC`, `feriasProporcionaisIndenizadas`, `feriasProporcionaisIndenizadasFormula`, `feriasProporcionaisIndenizadasRpsA`, `feriasProporcionaisIndenizadasRpsB`, `feriasProporcionaisIndenizadasRpsC`, `feriasUmTerco`, `feriasUmTercoRpsA`, `feriasUmTercoRpsB`, `feriasUmTercoRpsC`, `feristaFerias`, `feristaFeriasRpsA`, `feristaFeriasRpsB`, `feristaFeriasRpsC`, `fgts`, `incidenciaCumulativa`, `incidenciaCumulativaFerista`, `incidenciaCumulativaFeristaRpsA`, `incidenciaCumulativaFeristaRpsB`, `incidenciaCumulativaFeristaRpsC`, `incidenciaEngargosFerista`, `incidenciaEngargosFeristaRpsA`, `incidenciaEngargosFeristaRpsB`, `incidenciaEngargosFeristaRpsC`, `incidenciaUmTercoFeriasSobreAviso`, `incidenciaUmTercoFeriasSobreAvisoRpsA`, `incidenciaUmTercoFeriasSobreAvisoRpsB`, `incidenciaUmTercoFeriasSobreAvisoRpsC`, `incra`, `inss`, `involuntario`, `mesDissidio`, `multaFGTS`, `salarioEducacao`, `sebrae`, `seguroAcidenteTrabalho`, `senat`, `sest`, `tempoMedioCasa`, `total`, `totalEncargos`, `totalFerista`, `totalProvisoes`, `totalRpsA`, `totalRpsB`, `totalRpsC`, `turnOver`, `voluntario`, `_id`\"\n",
    "    elif tabela == \"PAREMETROS_FISCAIS_EMPURRADA\":\n",
    "        colunas = \"`Vigencia`, `Unidade_CNPJ`, `Unidade_Nome`, `Unidade_SAP`, `Unidade_TMS`, `Unidade_Promax_UNB`, `Unidade_Regional`, `Operador_CNPJ`, `Operador_Nome`, `Operador_SAP`, `Operador_TMS`, `Operador_Promax`, `Organizacao_de_Compras`, `Prazo_Pagamento`, `ICMS`, `ISS`, `cdd`, `creditoIcms`, `ded1`, `ded2`, `geo`, `pisCofinsDed1`, `pisCofinsDed2`, `pisCofinsSpot1`, `pw`, `sap`, `sim`, `spot1`, `uf`, `_id`\"\n",
    "\n",
    "\n",
    "    return colunas\n",
    "    \n",
    "def conectar_banco(host_name, user_name, user_password, database):\n",
    "    try:\n",
    "        connection = mysql.connector.connect(\n",
    "            host=host_name,\n",
    "            user=user_name,\n",
    "            password=user_password,\n",
    "            database=database\n",
    "        )\n",
    "        # print(\"Conexão ao banco de dados MySQL realizada com sucesso\")\n",
    "    except mysql.connector.Error as err:\n",
    "        print(f\"Erro ao conectar ao banco de dados: '{err}'\")\n",
    "    return connection\n",
    "\n",
    "def encontrar_arquivo_mais_recente(diretorio, prefixo):\n",
    "    arquivos = [f for f in os.listdir(diretorio) if f.startswith(prefixo) and f.endswith('.xlsx')]\n",
    "    if not arquivos:\n",
    "        return None\n",
    "    return max(arquivos, key=lambda f: os.path.getmtime(os.path.join(diretorio, f)))\n",
    "\n",
    "diretorio =  r'C:\\\\Freightech\\\\load\\\\EMPURRADA'                                                                                                                                                                                                                                                                                                                                                                                                                                                                                                                                                                                                                                                                                                                                                                                                                                                                                                                                                                                                                                                                                                                                                                                                                                                                                                                                                                                                                                                                                                                                                                                                                                                                                                                                                                                                                                                                                                                                                                                                                                                                                                                                                                                                                                                                                                                                                                                                                                                                                                                                                                                                                                                                                                                                                                                                                                                                                                                                                                                                                                                                                                                                                                                                                                                                                                                                                                                                                                                                                                                                                                                                                                                                                                                                                                                                                                                                                                                                                                                                                                                                                                                                                                                                                                                                                                                                                                                                                                                                                                                                                                                                                                                                                                                                                                                                                                                                                                                                                                                                                                                                                                                                                                                                                                                                                                                                                                                                                                                                                                                                                                                                                                                                                                                                                                                                                                                                                                                                                                                                                                                                                                                                                                                                                                                                                                                                                                                                                                             \n",
    "prefixo = 'EMPURRADA'\n",
    "\n",
    "nome_arquivo_mais_recente = encontrar_arquivo_mais_recente(diretorio, prefixo)\n",
    "\n",
    "if nome_arquivo_mais_recente:\n",
    "    nome_arquivo = os.path.join(diretorio, nome_arquivo_mais_recente)\n",
    "    print(f\"Arquivo mais recente encontrado: {nome_arquivo}\")\n",
    "    \n",
    "    arquivo_excel = pd.ExcelFile(nome_arquivo)\n",
    "    nomes_abas = arquivo_excel.sheet_names\n",
    "\n",
    "    for nome_aba in nomes_abas:\n",
    "        arquivo = pd.read_excel(nome_arquivo, sheet_name=nome_aba)\n",
    "        tabelaInsert = nome_tabela(nome_arquivo, nome_aba)\n",
    "        colunasInsert = colunas_tabela(tabelaInsert)\n",
    "        colunas = arquivo.columns.tolist()\n",
    "        todosValores = \"\"\n",
    "        total_linhas = 0\n",
    "        for index, linha in arquivo.iterrows():\n",
    "            total_linhas += 1\n",
    "            valores = linha.tolist()\n",
    "            valores_string = ','.join(['\"'+str(valor).rstrip('\\'\"')+'\"' for valor in valores])\n",
    "            valores_string = \"(\" + valores_string + \"),\"\n",
    "            todosValores += valores_string\n",
    "        todosValores = todosValores.rstrip(',')\n",
    "\n",
    "        sql = f\"INSERT IGNORE INTO {tabelaInsert}({colunasInsert}) VALUES {todosValores}\"\n",
    "        sqlLog = f\"INSERT INTO LOGIMPORTACAO (TABELA, TOTALREGISTROS) VALUES ('{tabelaInsert}', {total_linhas})\"\n",
    "\n",
    "        conexao = conectar_banco(host_name, user_name, user_password, database)\n",
    "        conexaoLog = conectar_banco(host_name, user_name, user_password, database)\n",
    "        cursor = conexao.cursor()\n",
    "        cursorLog = conexaoLog.cursor()\n",
    "        try:\n",
    "            cursor.execute(sql)\n",
    "            conexao.commit()\n",
    "            cursorLog.execute(sqlLog)\n",
    "            conexaoLog.commit()\n",
    "            print(f\"Query executada com sucesso na tabela {nome_aba}.\")\n",
    "        except Exception as e:\n",
    "            conexao.rollback()\n",
    "            print(f\"Erro ao executar a query: {e}\")\n",
    "            print(sql)\n",
    "            conexaoLog.rollback()\n",
    "        finally:\n",
    "            cursor.close()\n",
    "            conexao.close()\n",
    "            cursorLog.close()\n",
    "            conexaoLog.close()\n",
    "else:\n",
    "    print(\"Nenhum arquivo encontrado com o prefixo especificado.\")\n",
    "\n"
   ]
  },
  {
   "cell_type": "code",
   "execution_count": 3,
   "metadata": {},
   "outputs": [
    {
     "name": "stdout",
     "output_type": "stream",
     "text": [
      "C:\\Users\\ADMIN.JOAO\\AppData\\Local\\Microsoft\\WindowsApps\\PythonSoftwareFoundation.Python.3.12_qbz5n2kfra8p0\\python.exe\n"
     ]
    }
   ],
   "source": [
    "import sys\n",
    "print(sys.executable)"
   ]
  },
  {
   "cell_type": "markdown",
   "metadata": {},
   "source": [
    "1. DESPESAS_OPERACIONAIS_EMPURRADA-205 -205-255-256-\n",
    "2. BENEFICIOS_REMUNERADO_EMPURRADA-1223 -1223 - 1529- 1530 \n",
    "3. QLP_EQUIPE_EMPURRADA-847 -839 - 1049 - 1059-60\n",
    "4. PARAMETROS_EQUIPE_EMPURRADA-19-19-24-25- \n",
    "QLP_ADM_EMPURRADA-847 -847 - 1059-1060- \n",
    "CAVALO_EMPURRADA-787 - 787 - 984-985-994 \n",
    "7. CARRETA_EMPURRADA-937 - 937 - 984-1173-1187 \n",
    "PARAMETROS_MANUNTENCAO_EMPURRADA-19 - 19 - 24 -25-\n",
    "PARAMETROS_OPERACIONAIS_EMPURRADA-19 - 19 - 24-25 \n",
    "PNEU_EMPURRADA-319 - 319 - 399 - 400-\n",
    "11. CUSTO_EQUIPE_EMPURRADA-59 - 59 - 74 - 75 \n",
    "UNIFORMES_EPI_EMPURRADA- (corrigir)- 840 \n",
    "COMBUSTIVEL_EMPURRADA-79 - 79 - 99 - 100 -\n",
    "14. TRECHOS_EMPURRADA-(corrigir)-7838 \n",
    "15. CONSUMO_EMPURRADA-(corrigir)-70 \n",
    "16.ENCARGO_COM_FERIAS-10 \n",
    "17.ENCARGO_SEM_FERIAS-55 "
   ]
  }
 ],
 "metadata": {
  "kernelspec": {
   "display_name": "Python 3",
   "language": "python",
   "name": "python3"
  },
  "language_info": {
   "codemirror_mode": {
    "name": "ipython",
    "version": 3
   },
   "file_extension": ".py",
   "mimetype": "text/x-python",
   "name": "python",
   "nbconvert_exporter": "python",
   "pygments_lexer": "ipython3",
   "version": "3.12.9"
  }
 },
 "nbformat": 4,
 "nbformat_minor": 2
}
