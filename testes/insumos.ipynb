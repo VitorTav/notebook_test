{
 "cells": [
  {
   "cell_type": "code",
   "execution_count": 1,
   "metadata": {},
   "outputs": [
    {
     "name": "stdout",
     "output_type": "stream",
     "text": [
      "Arquivo mais recente encontrado: C:\\\\Freightech\\\\load\\\\INSUMOS\\INSUMOS_2025-02-04_14-40-00.xlsx\n"
     ]
    },
    {
     "name": "stderr",
     "output_type": "stream",
     "text": [
      "C:\\Users\\ADMIN.JOAO\\AppData\\Local\\Packages\\PythonSoftwareFoundation.Python.3.12_qbz5n2kfra8p0\\LocalCache\\local-packages\\Python312\\site-packages\\openpyxl\\styles\\stylesheet.py:237: UserWarning: Workbook contains no default style, apply openpyxl's default\n",
      "  warn(\"Workbook contains no default style, apply openpyxl's default\")\n"
     ]
    },
    {
     "name": "stdout",
     "output_type": "stream",
     "text": [
      "Conexão ao banco de dados MySQL realizada com sucesso\n",
      "Query executada com sucesso na tabela DESPESAS OPERACIONAIS.\n"
     ]
    },
    {
     "name": "stderr",
     "output_type": "stream",
     "text": [
      "C:\\Users\\ADMIN.JOAO\\AppData\\Local\\Packages\\PythonSoftwareFoundation.Python.3.12_qbz5n2kfra8p0\\LocalCache\\local-packages\\Python312\\site-packages\\openpyxl\\styles\\stylesheet.py:237: UserWarning: Workbook contains no default style, apply openpyxl's default\n",
      "  warn(\"Workbook contains no default style, apply openpyxl's default\")\n"
     ]
    },
    {
     "name": "stdout",
     "output_type": "stream",
     "text": [
      "Conexão ao banco de dados MySQL realizada com sucesso\n",
      "Query executada com sucesso na tabela BENEFÍCIOS REMUNERADOS.\n"
     ]
    },
    {
     "name": "stderr",
     "output_type": "stream",
     "text": [
      "C:\\Users\\ADMIN.JOAO\\AppData\\Local\\Packages\\PythonSoftwareFoundation.Python.3.12_qbz5n2kfra8p0\\LocalCache\\local-packages\\Python312\\site-packages\\openpyxl\\styles\\stylesheet.py:237: UserWarning: Workbook contains no default style, apply openpyxl's default\n",
      "  warn(\"Workbook contains no default style, apply openpyxl's default\")\n"
     ]
    },
    {
     "name": "stdout",
     "output_type": "stream",
     "text": [
      "Conexão ao banco de dados MySQL realizada com sucesso\n",
      "Query executada com sucesso na tabela QLP EQUIPE.\n",
      "Conexão ao banco de dados MySQL realizada com sucesso\n"
     ]
    },
    {
     "name": "stderr",
     "output_type": "stream",
     "text": [
      "C:\\Users\\ADMIN.JOAO\\AppData\\Local\\Packages\\PythonSoftwareFoundation.Python.3.12_qbz5n2kfra8p0\\LocalCache\\local-packages\\Python312\\site-packages\\openpyxl\\styles\\stylesheet.py:237: UserWarning: Workbook contains no default style, apply openpyxl's default\n",
      "  warn(\"Workbook contains no default style, apply openpyxl's default\")\n",
      "C:\\Users\\ADMIN.JOAO\\AppData\\Local\\Packages\\PythonSoftwareFoundation.Python.3.12_qbz5n2kfra8p0\\LocalCache\\local-packages\\Python312\\site-packages\\openpyxl\\styles\\stylesheet.py:237: UserWarning: Workbook contains no default style, apply openpyxl's default\n",
      "  warn(\"Workbook contains no default style, apply openpyxl's default\")\n"
     ]
    },
    {
     "name": "stdout",
     "output_type": "stream",
     "text": [
      "Query executada com sucesso na tabela PARÂMETROS EQUIPE.\n",
      "Conexão ao banco de dados MySQL realizada com sucesso\n",
      "Query executada com sucesso na tabela QLP ADM.\n"
     ]
    },
    {
     "name": "stderr",
     "output_type": "stream",
     "text": [
      "C:\\Users\\ADMIN.JOAO\\AppData\\Local\\Packages\\PythonSoftwareFoundation.Python.3.12_qbz5n2kfra8p0\\LocalCache\\local-packages\\Python312\\site-packages\\openpyxl\\styles\\stylesheet.py:237: UserWarning: Workbook contains no default style, apply openpyxl's default\n",
      "  warn(\"Workbook contains no default style, apply openpyxl's default\")\n"
     ]
    },
    {
     "name": "stdout",
     "output_type": "stream",
     "text": [
      "Conexão ao banco de dados MySQL realizada com sucesso\n",
      "Query executada com sucesso na tabela CAVALO.\n"
     ]
    },
    {
     "name": "stderr",
     "output_type": "stream",
     "text": [
      "C:\\Users\\ADMIN.JOAO\\AppData\\Local\\Packages\\PythonSoftwareFoundation.Python.3.12_qbz5n2kfra8p0\\LocalCache\\local-packages\\Python312\\site-packages\\openpyxl\\styles\\stylesheet.py:237: UserWarning: Workbook contains no default style, apply openpyxl's default\n",
      "  warn(\"Workbook contains no default style, apply openpyxl's default\")\n"
     ]
    },
    {
     "name": "stdout",
     "output_type": "stream",
     "text": [
      "Conexão ao banco de dados MySQL realizada com sucesso\n",
      "Query executada com sucesso na tabela CARRETA.\n"
     ]
    },
    {
     "name": "stderr",
     "output_type": "stream",
     "text": [
      "C:\\Users\\ADMIN.JOAO\\AppData\\Local\\Packages\\PythonSoftwareFoundation.Python.3.12_qbz5n2kfra8p0\\LocalCache\\local-packages\\Python312\\site-packages\\openpyxl\\styles\\stylesheet.py:237: UserWarning: Workbook contains no default style, apply openpyxl's default\n",
      "  warn(\"Workbook contains no default style, apply openpyxl's default\")\n"
     ]
    },
    {
     "name": "stdout",
     "output_type": "stream",
     "text": [
      "Conexão ao banco de dados MySQL realizada com sucesso\n",
      "Query executada com sucesso na tabela TRECHOS.\n"
     ]
    },
    {
     "name": "stderr",
     "output_type": "stream",
     "text": [
      "C:\\Users\\ADMIN.JOAO\\AppData\\Local\\Packages\\PythonSoftwareFoundation.Python.3.12_qbz5n2kfra8p0\\LocalCache\\local-packages\\Python312\\site-packages\\openpyxl\\styles\\stylesheet.py:237: UserWarning: Workbook contains no default style, apply openpyxl's default\n",
      "  warn(\"Workbook contains no default style, apply openpyxl's default\")\n",
      "C:\\Users\\ADMIN.JOAO\\AppData\\Local\\Packages\\PythonSoftwareFoundation.Python.3.12_qbz5n2kfra8p0\\LocalCache\\local-packages\\Python312\\site-packages\\openpyxl\\styles\\stylesheet.py:237: UserWarning: Workbook contains no default style, apply openpyxl's default\n",
      "  warn(\"Workbook contains no default style, apply openpyxl's default\")\n"
     ]
    },
    {
     "name": "stdout",
     "output_type": "stream",
     "text": [
      "Conexão ao banco de dados MySQL realizada com sucesso\n",
      "Query executada com sucesso na tabela CONSUMO.\n",
      "Conexão ao banco de dados MySQL realizada com sucesso\n",
      "Query executada com sucesso na tabela PARÂMETROS MANUTENÇÃO.\n"
     ]
    },
    {
     "name": "stderr",
     "output_type": "stream",
     "text": [
      "C:\\Users\\ADMIN.JOAO\\AppData\\Local\\Packages\\PythonSoftwareFoundation.Python.3.12_qbz5n2kfra8p0\\LocalCache\\local-packages\\Python312\\site-packages\\openpyxl\\styles\\stylesheet.py:237: UserWarning: Workbook contains no default style, apply openpyxl's default\n",
      "  warn(\"Workbook contains no default style, apply openpyxl's default\")\n",
      "C:\\Users\\ADMIN.JOAO\\AppData\\Local\\Packages\\PythonSoftwareFoundation.Python.3.12_qbz5n2kfra8p0\\LocalCache\\local-packages\\Python312\\site-packages\\openpyxl\\styles\\stylesheet.py:237: UserWarning: Workbook contains no default style, apply openpyxl's default\n",
      "  warn(\"Workbook contains no default style, apply openpyxl's default\")\n"
     ]
    },
    {
     "name": "stdout",
     "output_type": "stream",
     "text": [
      "Conexão ao banco de dados MySQL realizada com sucesso\n",
      "Query executada com sucesso na tabela PARÂMETROS OPERACIONAIS.\n",
      "Conexão ao banco de dados MySQL realizada com sucesso\n",
      "Query executada com sucesso na tabela PNEU.\n",
      "Conexão ao banco de dados MySQL realizada com sucesso\n",
      "Query executada com sucesso na tabela FATURAMENTO.\n"
     ]
    },
    {
     "name": "stderr",
     "output_type": "stream",
     "text": [
      "C:\\Users\\ADMIN.JOAO\\AppData\\Local\\Packages\\PythonSoftwareFoundation.Python.3.12_qbz5n2kfra8p0\\LocalCache\\local-packages\\Python312\\site-packages\\openpyxl\\styles\\stylesheet.py:237: UserWarning: Workbook contains no default style, apply openpyxl's default\n",
      "  warn(\"Workbook contains no default style, apply openpyxl's default\")\n",
      "C:\\Users\\ADMIN.JOAO\\AppData\\Local\\Packages\\PythonSoftwareFoundation.Python.3.12_qbz5n2kfra8p0\\LocalCache\\local-packages\\Python312\\site-packages\\openpyxl\\styles\\stylesheet.py:237: UserWarning: Workbook contains no default style, apply openpyxl's default\n",
      "  warn(\"Workbook contains no default style, apply openpyxl's default\")\n"
     ]
    },
    {
     "name": "stdout",
     "output_type": "stream",
     "text": [
      "Conexão ao banco de dados MySQL realizada com sucesso\n",
      "Query executada com sucesso na tabela CUSTO EQUIPE.\n"
     ]
    },
    {
     "name": "stderr",
     "output_type": "stream",
     "text": [
      "C:\\Users\\ADMIN.JOAO\\AppData\\Local\\Packages\\PythonSoftwareFoundation.Python.3.12_qbz5n2kfra8p0\\LocalCache\\local-packages\\Python312\\site-packages\\openpyxl\\styles\\stylesheet.py:237: UserWarning: Workbook contains no default style, apply openpyxl's default\n",
      "  warn(\"Workbook contains no default style, apply openpyxl's default\")\n"
     ]
    },
    {
     "name": "stdout",
     "output_type": "stream",
     "text": [
      "Conexão ao banco de dados MySQL realizada com sucesso\n",
      "Query executada com sucesso na tabela UNIFORMES E EPIS.\n",
      "Conexão ao banco de dados MySQL realizada com sucesso\n",
      "Query executada com sucesso na tabela COMBUSTÍVEL.\n"
     ]
    },
    {
     "name": "stderr",
     "output_type": "stream",
     "text": [
      "C:\\Users\\ADMIN.JOAO\\AppData\\Local\\Packages\\PythonSoftwareFoundation.Python.3.12_qbz5n2kfra8p0\\LocalCache\\local-packages\\Python312\\site-packages\\openpyxl\\styles\\stylesheet.py:237: UserWarning: Workbook contains no default style, apply openpyxl's default\n",
      "  warn(\"Workbook contains no default style, apply openpyxl's default\")\n"
     ]
    }
   ],
   "source": [
    "import pandas as pd\n",
    "import mysql.connector\n",
    "import mysql\n",
    "import os\n",
    "from datetime import datetime\n",
    "\n",
    "host_name = \"172.16.0.28\" \n",
    "user_name = \"joaotavares\" \n",
    "user_password = \"@joaotavares\"\n",
    "database='dbfreightech'\n",
    "\n",
    "def nome_tabela(nome_arquivo, aba):\n",
    "    tabela = None  \n",
    "    colunas = None #Initialize tabela to avoid UnboundLocalError \n",
    "    retorno = []\n",
    "\n",
    "    if \"INSUMOS\" in nome_arquivo:\n",
    "        if \"DESPESAS OPERACIONAIS\" == aba:\n",
    "            tabela = \"DESPESAS_OPERACIONAIS_INSUMOS\"\n",
    "            colunas = \"`VIGENCIA`, `UNIDADE_CNPJ`, `UNIDADE_NOME`, `UNIDADE_SAP`, `UNIDADE_TMS`, `UNIDADE_PROMAX_UNB`, `UNIDADE_REGIONAL`, `OPERADOR_CNPJ`, `OPERADOR_NOME`, `OPERADOR_SAP`, `OPERADOR_TMS`, `OPERADOR_PROMAX`, `ORGANIZACAO_DE_COMPRAS`, `PRAZO_PAGAMENTO`, `DESCRICAO`, `QUANTIDADE`, `VALOR_TOTAL`, `VALOR_UNITARIO`, `VALOR_POR_EQUIPAMENTO`, `_ID`\"\n",
    "        elif \"BENEFÍCIOS REMUNERADOS\" == aba:    \n",
    "            tabela = \"BENEFICIO_REMUNERADO_INSUMOS\"\n",
    "            colunas = \"`VIGENCIA`, `UNIDADE_CNPJ`, `UNIDADE_NOME`, `UNIDADE_SAP`, `UNIDADE_TMS`, `UNIDADE_PROMAX_UNB`, `UNIDADE_REGIONAL`, `OPERADOR_CNPJ`, `OPERADOR_NOME`, `OPERADOR_SAP`, `OPERADOR_TMS`, `OPERADOR_PROMAX`, `ORGANIZACAO_DE_COMPRAS`, `PRAZO_PAGAMENTO`, `CARGO_BENEFICIO`, `ITEM_BENEFICIO`, `PARTICIPACAO_EMPRESA`, `QUANTIDADE`, `QUANTIDADE_DE_DIAS_UTEIS`, `RESSARCIMENTO_FUNCIONARIO`, `TOTAL`, `TURNO_EMPURRADA`, `VALOR`, `_ID`\"\n",
    "\n",
    "        elif \"QLP EQUIPE\" == aba: \n",
    "            tabela = \"QLP_EQUIPE_INSUMOS\"\n",
    "        elif \"PARÂMETROS EQUIPE\" == aba:\n",
    "            tabela = \"PARAMETROS_EQUIPE_INSUMOS\"\n",
    "        elif \"QLP ADM\" == aba:\n",
    "            tabela = \"QLP_ADM_INSUMOS\"   \n",
    "        elif \"CAVALO\" == aba:\n",
    "            tabela = \"CAVALO_INSUMOS\"\n",
    "        elif \"CARRETA\" == aba:\n",
    "            tabela = \"CARRETA_INSUMOS\"\n",
    "        elif \"TRECHOS\" == aba:\n",
    "            tabela = \"TRECHOS_INSUMOS\"\n",
    "        elif \"CONSUMO\" == aba:\n",
    "            tabela = \"CONSUMO_INSUMOS\"\n",
    "        elif \"PARÂMETROS MANUTENÇÃO\" == aba:\n",
    "            tabela = \"PARAMETROS_MANUTENCAO_INSUMOS\"\n",
    "        elif \"PARÂMETROS OPERACIONAIS\" == aba:\n",
    "            tabela = \"PARAMETROS_OPERACIONAIS_INSUMOS\"\n",
    "        elif \"PNEU\" == aba:\n",
    "            tabela = \"PNEU_INSUMOS\"\n",
    "        elif \"FATURAMENTO\" == aba:\n",
    "            tabela = \"FATURAMENTO_INSUMOS\"\n",
    "        elif \"CUSTO EQUIPE\" == aba:\n",
    "            tabela = \"CUSTO_EQUIPE_INSUMOS\"\n",
    "        elif \"UNIFORMES E EPIS\" == aba:\n",
    "            tabela = \"UNIFORMES_EPI_INSUMOS\"\n",
    "        elif \"COMBUSTÍVEL\" == aba:\n",
    "            tabela = \"COMBUSTIVEL_INSUMOS\"                                         \n",
    "        else:\n",
    "            tabela = aba\n",
    "    return tabela\n",
    "\n",
    "def colunas_tabela(tabela):\n",
    "    colunas = \"\"  # Initialize colunas to avoid UnboundLocalError\n",
    "    if tabela == \"DESPESAS_OPERACIONAIS_INSUMOS\":\n",
    "        colunas = \"`VIGENCIA`, `UNIDADE_CNPJ`, `UNIDADE_NOME`, `UNIDADE_SAP`, `UNIDADE_TMS`, `UNIDADE_PROMAX_UNB`, `UNIDADE_REGIONAL`, `OPERADOR_CNPJ`, `OPERADOR_NOME`, `OPERADOR_SAP`, `OPERADOR_TMS`, `OPERADOR_PROMAX`, `ORGANIZACAO_DE_COMPRAS`, `PRAZO_PAGAMENTO`, `DESCRICAO`, `QUANTIDADE`, `VALOR_TOTAL`, `VALOR_UNITARIO`, `VALOR_POR_EQUIPAMENTO`, `_ID`\"\n",
    "    elif tabela == \"BENEFICIO_REMUNERADO_INSUMOS\":\n",
    "        colunas = \"`VIGENCIA`, `UNIDADE_CNPJ`, `UNIDADE_NOME`, `UNIDADE_SAP`, `UNIDADE_TMS`, `UNIDADE_PROMAX_UNB`, `UNIDADE_REGIONAL`, `OPERADOR_CNPJ`, `OPERADOR_NOME`, `OPERADOR_SAP`, `OPERADOR_TMS`, `OPERADOR_PROMAX`, `ORGANIZACAO_DE_COMPRAS`, `PRAZO_PAGAMENTO`, `CARGO_BENEFICIO`, `ITEM_BENEFICIO`, `PARTICIPACAO_EMPRESA`, `QUANTIDADE`, `QUANTIDADE_DE_DIAS_UTEIS`, `RESSARCIMENTO_FUNCIONARIO`, `TOTAL`, `TURNO_EMPURRADA`, `VALOR`, `_ID`\"\n",
    "    elif tabela == \"QLP_EQUIPE_INSUMOS\":\n",
    "        colunas = \"`Vigencia`, `Unidade_CNJP`, `Unidade_Nome`, `Unidade_SAP`, `Unidade_TMS`, `Unidade_Promax_UNB`, `Unidade_Regional`, `Operador_CNPJ`, `Operador_Nome`, `Operador_SAP`, `Operador_TMS`, `Operador_Promax`, `Organizacao_de_Compras`, `Prazo_Pagamento`, `cargoQlpEmpurrada`, `valor0`, `valor15`, `valor30`, `valor50`, `valor60`, `valor70`, `valor80`, `_id`\"\n",
    "    elif tabela == \"PARAMETROS_EQUIPE_INSUMOS\":\n",
    "        colunas = \"`Vigencia`, `Unidade_CNPJ`, `Unidade_Nome`, `Unidade_SAP`, `Unidade_TMS`, `Unidade_Promax_UNB`, `Unidade_Regional`, `Operador_CNPJ`, `Operador_Nome`, `Operador_SAP`, `Operador_TMS`, `Operador_Promax`, `Organizacao_de_Compras`, `Prazo_Pagamento`, `Percentual_Acordo_Coletivo1`, `Percentual_Acordo_Coletivo2`, `Percentual_TO_Remuneracao_Feristas`, `Piso_Salarial_Anterior1`, `Piso_Salarial_Anterior2`, `Ajustado`, `Data_Alteracao_Motorista25`, `Data_Alteracao_Motorista28`, `Data_Alteracao_Motorista40`, `Data_Base`, `Encargo_Provisao_Com_Ferias`, `Encargo_Provisao_Sem_Ferias`, `Fator_Motorista_Produtividade`, `Fator_Motorista_Real`, `Percentual_Acordo_Coletivo_Motorista25`, `Piso_Salarial_Anterior_Motorista25`, `Premio_Produtividade`, `_ID`\"\n",
    "    elif tabela == \"QLP_ADM_INSUMOS\":\n",
    "        colunas = \"`VIGENCIA`, `UNIDADE_CNPJ`, `UNIDADE_NOME`, `UNIDADE_SAP`, `UNIDADE_TMS`, `UNIDADE_PROMAX_UNB`, `UNIDADE_REGIONAL`, `OPERADOR_CNPJ`, `OPERADOR_NOME`, `OPERADOR_SAP`, `OPERADOR_TMS`, `OPERADOR_PROMAX`, `ORGANIZACAO_DE_COMPRAS`, `PRAZO_PAGAMENTO`, `CARGO`, `DESPESA_BENEFICIO`, `DESPESA_ENCARGOS`, `DESPESA_FROTA_LEVE`, `DESPESA_ORDENADOS`, `DESPESA_TELEFONIA`, `DESPESA_UNIFORMES`, `QLP_BENCHMARK_QUANTIDADE`, `QLP_BENCHMARK_SALARIO`, `QUANTIDADE_BENEFICIO`, `QUANTIDADE_ENCARGOS`, `QUANTIDADE_FROTA_LEVE`, `QUANTIDADE_ORDENADOS`, `QUANTIDADE_TELEFONIA`, `QUANTIDADE_UNIFORMES`, `SALARIO_ENCARGOS`, `SALARIO_ORDENADOS`, `VALE_TRANSPORTE`, `VALOR_BENEFICIO`, `VALOR_FROTA_LEVE`, `VALOR_TELEFONIA`, `VALOR_UNIFORMES`, `_ID`\"   \n",
    "    elif tabela == \"CAVALO_INSUMOS\":\n",
    "        colunas = \"`Vigencia`, `Unidade_CNPJ`, `Unidade_Nome`, `Unidade_SAP`, `Unidade_TMS`, `Unidade_Promax_UNB`, `Unidade_Regional`, `Operador_CNPJ`, `Operador_Nome`, `Operador_SAP`, `Operador_TMS`, `Operador_Promax`, `Organizacao_de_Compras`, `Prazo_Pagamento`, `Custo_Variavel_Simulado`, `Ganhador_BID`, `Padrao`, `Placa`, `Placa_Carreta`, `Spread_BNDES`, `Spread_Banco`, `TJLP`, `Taxa_Finame`, `amortizacaoCavalo`, `ano`, `anoBid`, `ativo`, `cambio`, `carencia`, `chassi`, `ciclo`, `combustivelCapacidade`, `combustivelConsumoBenchmark`, `combustivelConsumoNeg`, `combustivelConsumoNegInteiro`, `combustivelPercentualPerdaVida`, `combustivelVidaCavalo`, `data`, `dataFimContrato`, `eixoEmpurrada`, `faixaKm`, `finameCavalo`, `freeMaintenance`, `ipvaLicenciamento`, `jurosFinameCavalo`, `lucroFixomodeloNovoCicloCavalo`, `lucroVariavelPrevistoCavalo`, `manutencaoBid`, `manutencaoCompraForaDoBidAutorizada`, `manutencaoContrato`, `manutencaoFreeMaintenance`, `manutencaoReaisKm`, `manutencaoReaisKmInteiro`, `manutencaoVidaMeses`, `mesDeEntrada`, `modeloEmpurrada`, `montadora`, `odometroEntrada`, `percentualEntrada`, `percentualIcms`, `percentualReajusteAplicado`, `periodoFiname`, `pneuMedidaEmpurrada`, `reaiskm`, `regiaoInsumos`, `statusFinanciamentoT1Shared`, `telemetriaObrigatoria`, `tipoCombustivelEmpurrada`, `valorIcms`, `valorNfCompra`, `valorPisCofins`, `valorPneu`, `valorReajustado`, `_id`\"\n",
    "    elif tabela == \"CARRETA_INSUMOS\":\n",
    "        colunas = \"`VIGENCIA`, `UNIDADE_CNPJ`, `UNIDADE_NOME`, `UNIDADE_SAP`, `UNIDADE_TMS`, `UNIDADE_PROMAX_UNB`, `UNIDADE_REGIONAL`, `OPERADOR_CNPJ`, `OPERADOR_NOME`, `OPERADOR_SAP`, `OPERADOR_TMS`, `OPERADOR_PROMAX`, `ORGANIZACAO_DE_COMPRAS`, `PRAZO_PAGAMENTO`, `PLACA`, `SPREAD_BNDES`, `SPREAD_BANCO`, `TJLP`, `TAXA_FINAME`, `AMORTIZACAO_IMPLEMENTO`, `ANO`, `CAPACIDADE_EMPURRADA`, `CAPACIDADE_PALLETS_REAL_EMPURRADA`, `CARENCIA`, `CHASSI`, `CICLO`, `CUSTO_FIXO`, `DATA`, `DATA_FIM_CONTRATO`, `DOUBLE_DECK`, `EIXO_EMPURRADA`, `FAIXA_REFLEXIVA`, `FINAME`, `FINAME_IMPLEMENTO`, `ICMS`, `IMPLEMENTO`, `IPVA_LICENCIAMENTO`, `IPVA_LICENCIAMENTO_MENSAL`, `JUROS_FINAME_IMPLEMENTO`, `LUCRO_FIXOMODELO_NOVO_CICLO`, `LUCRO_FIXOMODELO_NOVO_CICLO_CARRETA`, `LUCRO_VARIAVEL_PREVISTO`, `LUCRO_VARIAVEL_PREVISTO_CARRETA`, `MES_DE_ENTRADA`, `MODELO`, `PERCENTUAL_ENTRADA`, `PERCENTUAL_ICMS`, `PERIODO_FINAME`, `PIS_COFINS`, `PNEU_MEDIDA_EMPURRADA`, `RASTREADOR`, `REVESTIMENTO`, `SEGURO`, `STATUS_FINANCIAMENTO`, `STATUS_FINANCIAMENTO_T1_SHARED`, `TACOGRAFO`, `TIPO_CARROCERIA_EMPURRADA`, `VALOR_ICMS`, `VALOR_NF_COMPRA`, `VALOR_PIS_COFINS`, `VALOR_PNEUS`, `_ID`\"\n",
    "    elif tabela == \"TRECHOS_INSUMOS\":\n",
    "        colunas = \"`VIGENCIA`, `UNIDADE_CNPJ`, `UNIDADE_NOME`, `UNIDADE_SAP`, `UNIDADE_TMS`, `UNIDADE_PROMAX_UNB`, `UNIDADE_REGIONAL`, `OPERADOR_CNPJ`, `OPERADOR_NOME`, `OPERADOR_SAP`, `OPERADOR_TMS`, `OPERADOR_PROMAX`, `ORGANIZACAO_DE_COMPRAS`, `PRAZO_PAGAMENTO`, `CAPACIDADE`, `DESTINO`, `DESTINO_SAP`, `DESTINO_TMS`, `F_MOV`, `ORIGEM`, `ORIGEM_SAP`, `ORIGEM_TMS`, `CARGA_HORARIA_MOTORISTA_PUXADA_MENSAL`, `CARGA_HORARIA_POR_TRAJETO_MINUTO`, `CARGA_HORARIA_POR_TRAJETO_MINUTO_LUCRO`, `CARGA_HORARIO_TRAJETO_DIA`, `CARGA_HORARIO_TRAJETO_MES`, `CHAVE_TRECHO`, `CNPJ_IDA`, `CNPJ_VOLTA`, `CONSUMO_DIESEL_AJUSTADO`, `CUSTO_DA_DIARIA`, `CUSTO_DO_TR`, `DIAS_MES`, `DIESEL_CONSUMO_DIESEL_REAIS_KM`, `DIESEL_CONSUMO_KM_L`, `FATOR_MOTORISTA_AJUSTADO`, `FATOR_MOTORISTA_INDICADO`, `FATURAMENTO_DESTINO_OBRIGATORIO`, `FRETE_COM_CPRB`, `FRETE_CTRC`, `FRETE_LIQUIDO`, `FRETE_P_TMS`, `FRETE_PIS_COFINS`, `FRETE_REAIS_KM_DIESEL`, `FRETE_REAIS_KM_LAVAGEM`, `FRETE_REAIS_KM_LUCRO_VARIAVEL`, `FRETE_REAIS_KM_MANUTENCAO_CARRETA`, `FRETE_REAIS_KM_MANUTENCAO_CAVALO`, `FRETE_REAIS_KM_PEDAGIO`, `FRETE_REAIS_KM_PNEU`, `FRETE_REAIS_KM_SALARIO_VARIAVEL`, `FRETE_REAIS_KM_SEGURO`, `FRETE_REAIS_VIAGEM_DIESEL`, `FRETE_REAIS_VIAGEM_LAVAGEM`, `FRETE_REAIS_VIAGEM_LUCRO_VARIAVEL`, `FRETE_REAIS_VIAGEM_MANUTENCAO_CARRETA`, `FRETE_REAIS_VIAGEM_MANUTENCAO_CAVALO`, `FRETE_REAIS_VIAGEM_PEDAGIO`, `FRETE_REAIS_VIAGEM_PNEUS`, `FRETE_REAIS_VIAGEM_SALARIO_VARIAVEL`, `FRETE_REAIS_VIAGEM_SEGURO`, `FROTA_NO_MUNICIPIO`, `GRADE_CARREGAMENTO`, `ICMS_ISS`, `IMPOSTOS_ICMS_ISS`, `KM_IDA`, `KM_RODADO`, `KM_RODADO_MES_POR_EQUIPE`, `KM_RODADO_MES_POR_EQUIPE_LUCRO`, `KM_VOLTA`, `LAVAGEM_REAIS_KM`, `LUCRO_VARIAVEL_REAIS_KM`, `MANUTENCAO_CAVALO`, `MANUTENCAO_IMPLEMENTO_REAIS_KM`, `OBSERVACAO`, `PEDAGIO`, `PEDAGIO_POR_EIXO_IDA_VOLTA`, `PEDAGIO_REAIS_KM`, `PERCENTUAL_ICMS_ISS`, `PERCENTUAL_PERDA_DESCARTAVEL`, `PERCENTUAL_PERDA_KM`, `PERCENTUAL_PERDA_REGIAO`, `PNEU_CUSTO_PNEUS_CAMARAS_REAIS_KM`, `PNEU_QUANTIDADE_DE_PNEUS`, `PNEU_VALOR_DE_VENDA_DA_CARCACA`, `PNEU_VALOR_MEDIO_DA_RECAPAGEM`, `PNEU_VALOR_MEDIO_PNEUS`, `PNEU_VIDA_UTIL_PNEU`, `PREMIO_PRODUTIVIDADE_FATOR_MOTORISTA`, `PREMIO_PRODUTIVIDADE_KM_RODADO`, `PREMIO_PRODUTIVIDADE_SALARIO_VARIAVEL`, `PREMIO_PRODUTIVIDADE_SALARIO_VARIAVEL_REAIS_KM`, `PREVISAO_VIAGENS`, `REGIAO_INSUMOS`, `SEGURO`, `SEGURO_REAIS_KM`, `TEMPO_INTERNO_DESTINO`, `TEMPO_INTERNO_DESTINO_LUCRO`, `TEMPO_INTERNO_ORIGEM`, `TEMPO_INTERNO_ORIGEM_LUCRO`, `TEMPO_REFEICAO_MINUTO`, `TEMPO_TRAJETO_FABRICA_CD_MINUTO`, `TRECHO_COM_DIARIA`, `TRECHO_COM_VR`, `TURNO_EMPURRADA`, `TURNOS_FABRICA`, `VELOCIDADE_MEDIA_KM_H`, `VIDA_UTIL_AJUSTADA_PNEU`, `_ID`\"\n",
    "    elif tabela == \"CONSUMO_INSUMOS\":\n",
    "        colunas = \"`Vigencia`, `Unidade_CNPJ`, `Unidade_Nome`, `Unidade_SAP`, `Unidade_TMS`, `Unidade_Promax_UNB`, `Unidade_Regional`, `Operador_CNPJ`, `Operador_Nome`, `Operador_SAP`, `Operador_TMS`, `Operador_Promax`, `Organizacao_de_Compras`, `Prazo_Pagamento`, `capacidadeEmpurrada`, `consumo`, `ford`, `iveco`, `mercedes`, `scania`, `volks`, `volvo`, `_id`\"\n",
    "    elif tabela == \"PARAMETROS_MANUTENCAO_INSUMOS\":\n",
    "        colunas = \"`Vigencia`, `Unidade_CNPJ`, `Unidade_Nome`, `Unidade_SAP`, `Unidade_TMS`, `Unidade_Promax_UNB`, `Unidade_Regional`, `Operador_CNPJ`, `Operador_Nome`, `Operador_SAP`, `Operador_TMS`, `Operador_Promax`, `Organizacao_de_Compras`, `Prazo_Pagamento`, `consumo`, `manutencaoExtra`, `manutencaoReaisKm`, `_id`\"\n",
    "    elif tabela == \"PARAMETROS_OPERACIONAIS_INSUMOS\":\n",
    "        colunas = \"`Vigencia`, `Unidade_CNPJ`, `Unidade_Nome`, `Unidade_SAP`, `Unidade_TMS`, `Unidade_Promax_UNB`, `Unidade_Regional`, `Operador_CNPJ`, `Operador_Nome`, `Operador_SAP`, `Operador_TMS`, `Operador_Promax`, `Organizacao_de_Compras`, `Prazo_Pagamento`, `admConsumoFrotaLeve`, `admCustoFabrica`, `admCustoGasolinaEtanolAnp`, `admCustoGasolinaEtanolComCreditoImpostos`, `admCustoGasolinaEtanolTransportadora`, `admFrotaLeveCarro`, `admRefeitorioFabrica`, `admTelefoniaMovel`, `aliquotaFixaICMSDiesel`, `codigoPromaxOperador`, `codigoPromaxUnidade`, `custoGeralExisteVendaCarcaca`, `custoGeralFaixaReflexiva`, `custoGeralPercentualSeguroCascoTerceiro`, `custoGeralQuantidadeDeRecapagens`, `custoGeralRastreador`, `custoGeralReaisPneuDirecional`, `custoGeralReaisPneuTracao`, `custoGeralRecapagemDirecional`, `custoGeralRecapagemTracao`, `custoGeralRevestimento`, `custoGeralTacografo`, `custoGeralValorVendaCarcaca`, `custoVariavelCustoDiesel`, `custoVariavelCustoDieselComCreditoImpostos`, `custoVariavelCustoPorLavagem`, `custoVariavelFatorDeMotoristaCarro`, `custoVariavelPrecoArlareais`, `custoVariavelPrecoDieselAnp`, `custoVariavelPrecoDieselS10Anp`, `custoVariavelPrecoDieselS10Transportadora`, `custoVariavelPrecoDieselTransportadora`, `custoVariavelQuantidadeDeCarrosEuroIII`, `custoVariavelQuantidadeDeCarrosEuroV`, `custoVariavelQuantidadeDeLavagens`, `faixaBenchmark`, `geralFrotaAtiva`, `geralFrotaInativa`, `geralInicioDataDeVigencia`, `geralInicioOperacao`, `geralKmMedioUnidade`, `geralQuantidadeCarro`, `geralTamanhoOperacaoParaAdm`, `impostoCofinsLucroPresumido`, `impostoCofinsLucroReal`, `impostoContribuicaoPrevSemReceitaBruta`, `impostoCreditoDeIcmsEquipamento`, `impostoCreditoIcmsDiesel`, `impostoCreditoIcmsInsumos`, `impostoCreditoIcmsPneu`, `impostoCreditoIcmsPresumido`, `impostoCreditoPisCofinsInsumo`, `impostoIcms`, `impostoIcmsCavalo`, `impostoIcmsImplemento`, `impostoIcmsParaCustoFixo`, `impostoIss`, `impostoLucroPresumido`, `impostoPercentualDeIcmsParaCreditoDiesel`, `impostoPercentualDeIcmsParaCreditoInsumos`, `impostoPercentualDeIcmsParaCreditoPneu`, `impostoPisLucroPresumido`, `impostoPisLucroReal`, `recIcms`, `recPisCofins`, `regiaoInsumos`, `_id`\"\n",
    "    elif tabela == \"PNEU_INSUMOS\":\n",
    "        colunas = \"`Vigencia`, `Unidade_CNPJ`, `Unidade_Nome`, `Unidade_SAP`, `Unidade_TMS`, `Unidade_Promax_UNB`, `Unidade_Regional`, `Operador_CNPJ`, `Operador_Nome`, `Operador_SAP`, `Operador_TMS`, `Operador_Promax`, `Organizacao_de_Compras`, `Prazo_Pagamento`, `ano`, `pneuMedidaEmpurrada`, `tipoPneu`, `valor`, `_id`\"\n",
    "    elif tabela == \"FATURAMENTO_INSUMOS\":\n",
    "        colunas = \"`VIGENCIA`, `UNIDADE_CNPJ`, `UNIDADE_NOME`, `UNIDADE_SAP`, `UNIDADE_TMS`, `UNIDADE_PROMAX_UNB`, `UNIDADE_REGIONAL`, `OPERADOR_CNPJ`, `OPERADOR_NOME`, `OPERADOR_SAP`, `OPERADOR_TMS`, `OPERADOR_PROMAX`, `ORGANIZACAO_DE_COMPRAS`, `PRAZO_PAGAMENTO`, `CHECKIMPOSTOICMS`, `CHECKIMPOSTOICMSEQUIPAMENTOEQUIPE`, `CHECKIMPOSTOLUCROPRESUMIDO`, `CHECKIMPOSTOPISCOFINS`, `EQUIPAMENTOATIVOFRETECOMCPRB`, `EQUIPAMENTOATIVOFRETECTRC`, `EQUIPAMENTOATIVOFRETELIQUIDO`, `EQUIPAMENTOATIVOFRETEPISCOFINS`, `EQUIPAMENTOATIVOIMPOSTOSICMSISS`, `EQUIPAMENTOATIVOPERCENTUALICMSISS`, `EQUIPAMENTOATIVOQUANTIDADE`, `EQUIPAMENTOATIVOVALORPARASRTRANS`, `EQUIPAMENTOATIVOVALORUNITARIO`, `EQUIPAMENTOPARADOFRETECOMCPRB`, `EQUIPAMENTOPARADOFRETECTRC`, `EQUIPAMENTOPARADOFRETELIQUIDO`, `EQUIPAMENTOPARADOFRETEPISCOFINS`, `EQUIPAMENTOPARADOIMPOSTOSICMSISS`, `EQUIPAMENTOPARADOPERCENTUALICMSISS`, `EQUIPAMENTOPARADOQUANTIDADE`, `EQUIPAMENTOPARADOVALORPARASRTRANS`, `EQUIPAMENTOPARADOVALORUNITARIO`, `EQUIPEATIVOFRETECOMCPRB`, `EQUIPEATIVOFRETECTRC`, `EQUIPEATIVOFRETELIQUIDO`, `EQUIPEATIVOFRETEPISCOFINS`, `EQUIPEATIVOIMPOSTOSICMSISS`, `EQUIPEATIVOPERCENTUALICMSISS`, `EQUIPEATIVOQUANTIDADE`, `EQUIPEATIVOVALORPARASRTRANS`, `EQUIPEATIVOVALORUNITARIO`, `ESTACIONARIAATIVOFRETECOMCPRB`, `ESTACIONARIAATIVOFRETECTRC`, `ESTACIONARIAATIVOFRETELIQUIDO`, `ESTACIONARIAATIVOFRETEPISCOFINS`, `ESTACIONARIAATIVOIMPOSTOSICMSISS`, `ESTACIONARIAATIVOPERCENTUALICMSISS`, `ESTACIONARIAATIVOQUANTIDADE`, `ESTACIONARIAATIVOVALORPARASRTRANS`, `ESTACIONARIAATIVOVALORUNITARIO`, `OUTRADESPESAFRETECOMCPRB`, `OUTRADESPESAFRETECTRC`, `OUTRADESPESAFRETELIQUIDO`, `OUTRADESPESAFRETEPISCOFINS`, `OUTRADESPESAIMPOSTOSICMSISS`, `OUTRADESPESAPERCENTUALICMSISS`, `OUTRADESPESAQUANTIDADE`, `OUTRADESPESAVALORPARASRTRANS`, `OUTRADESPESAVALORUNITARIO`, `QLPADM_FRETECOMCPRB`, `QLPADM_FRETECTRC`, `QLPADM_FRETELIQUIDO`, `QLPADM_FRETEPISCOFINS`, `QLPADM_IMPOSTOSICMSISS`, `QLPADM_PERCENTUALICMSISS`, `QLPADM_QUANTIDADE`, `QLPADM_VALORPARASRTRANS`, `QLPADM_VALORUNITARIO`, `_ID`\"\n",
    "    elif tabela ==\"CUSTO_EQUIPE_INSUMOS\":\n",
    "        colunas = \"`VIGENCIA`, `UNIDADE_CNPJ`, `UNIDADE_NOME`, `UNIDADE_SAP`, `UNIDADE_TMS`, `UNIDADE_PROMAX_UNB`, `UNIDADE_REGIONAL`, `OPERADOR_CNPJ`, `OPERADOR_NOME`, `OPERADOR_SAP`, `OPERADOR_TMS`, `OPERADOR_PROMAX`, `ORGANIZACAO_DE_COMPRAS`, `PRAZO_PAGAMENTO`, `ASSISTENCIA_MEDICA`, `BENEFICIO_FIXO`, `CAFE_DA_MANHA`, `CARGO_EQUIPE_EMPURRADA`, `CESTA_BASICA`, `DIARIA`, `ENCARGO_PROVISAO`, `FATOR_MOTORISTA`, `FROTA_ATIVA`, `OUTRO`, `PCMSO_POR_MES`, `PLR`, `SALARIO_FIXO`, `SEGURO_DE_VIDA`, `TICKET_REFEICAO_LIQUIDO`, `TOTAL`, `TOTAL_UNIFORME_EPI`, `VALE_TRANSPORTE_LIQUIDO`, `_ID`\"    \n",
    "    elif tabela ==\"UNIFORMES_EPI_INSUMOS\":\n",
    "        colunas=\"`VIGENCIA`, `UNIDADE_CNPJ`, `UNIDADE_NOME`, `UNIDADE_SAP`, `UNIDADE_TMS`, `UNIDADE_PROMAX_UNB`, `UNIDADE_REGIONAL`, `OPERADOR_CNPJ`, `OPERADOR_NOME`, `OPERADOR_SAP`, `OPERADOR_TMS`, `OPERADOR_PROMAX`, `ORGANIZACAO_DE_COMPRAS`, `PRAZO_PAGAMENTO`, `CUSTO`, `CUSTO_MES`, `ICMS_REGIAO`, `ITEM_EPI`, `QUANTIDADE_ANO`, `TIPO_EQUIPE`, `_ID`\"\n",
    "    elif tabela ==\"COMBUSTIVEL_INSUMOS\":\n",
    "        colunas=\"`VIGENCIA`, `UNIDADE_CNPJ`, `UNIDADE_NOME`, `UNIDADE_SAP`, `UNIDADE_TMS`, `UNIDADE_PROMAX_UNB`, `UNIDADE_REGIONAL`, `OPERADOR_CNPJ`, `OPERADOR_NOME`, `OPERADOR_SAP`, `OPERADOR_TMS`, `OPERADOR_PROMAX`, `ORGANIZACAO_DE_COMPRAS`, `PRAZO_PAGAMENTO`, `CREDITOIMPOSTO`, `DESCRICAO`, `INICIATIVA`, `PRECOANP`, `PRECOCREDITOIMPOSTOS`, `PRECOOPERADORA`, `_ID`\"\n",
    "\n",
    "    return colunas\n",
    "    \n",
    "\n",
    "    \n",
    "def conectar_banco(host_name, user_name, user_password, database):\n",
    "    try:\n",
    "        connection = mysql.connector.connect(\n",
    "            host=host_name,\n",
    "            user=user_name,\n",
    "            password=user_password,\n",
    "            database=database\n",
    "        )\n",
    "        print (\"Conexão ao banco de dados MySQL realizada com sucesso\")\n",
    "    except mysql.connector.Error as err:\n",
    "        print(f\"Erro ao conectar ao banco de dados: '{err}'\")\n",
    "    return connection        \n",
    "\n",
    "def encontrar_arquivo_mais_recente(diretorio, prefixo):\n",
    "    arquivos = [f for f in os.listdir(diretorio) if f.startswith(prefixo) and f.endswith('.xlsx')]\n",
    "    if not arquivos:\n",
    "        return None\n",
    "    return max(arquivos, key=lambda f: os.path.getmtime(os.path.join(diretorio, f)))\n",
    "\n",
    "diretorio =  r'C:\\\\Freightech\\\\load\\\\INSUMOS'\n",
    "prefixo = 'INSUMOS'\n",
    "\n",
    "nome_arquivo_mais_recente = encontrar_arquivo_mais_recente(diretorio, prefixo)\n",
    "\n",
    "if nome_arquivo_mais_recente:\n",
    "    nome_arquivo = os.path.join(diretorio, nome_arquivo_mais_recente)\n",
    "    print(f\"Arquivo mais recente encontrado: {nome_arquivo}\")\n",
    "    \n",
    "    arquivo_excel = pd.ExcelFile(nome_arquivo)\n",
    "    nomes_abas = arquivo_excel.sheet_names\n",
    "\n",
    "    for nome_aba in nomes_abas:\n",
    "        arquivo = pd.read_excel(nome_arquivo, sheet_name=nome_aba)\n",
    "        tabelaInsert = nome_tabela(nome_arquivo, nome_aba)\n",
    "        colunasInsert = colunas_tabela(tabelaInsert)\n",
    "        colunas = arquivo.columns.tolist()\n",
    "        todosValores = \"\"\n",
    "        for index, linha in arquivo.iterrows():\n",
    "            valores = linha.tolist()\n",
    "            valores_string = ','.join(['\"'+str(valor).rstrip('\\'\"')+'\"' for valor in valores])\n",
    "            valores_string = \"(\" + valores_string + \"),\"\n",
    "            todosValores += valores_string\n",
    "\n",
    "\n",
    "        todosValores = todosValores.rstrip(',')\n",
    "        if not colunasInsert:\n",
    "            print(\"Erro: colunasInsert está vazio. Encerrando a aplicação.\")\n",
    "            exit(1)\n",
    "        sql = f\"INSERT IGNORE INTO {tabelaInsert}({colunasInsert}) VALUES {todosValores}\"\n",
    "\n",
    "\n",
    "        # print(sql)\n",
    "        conexao = conectar_banco(host_name, user_name, user_password, database)\n",
    "        cursor = conexao.cursor()\n",
    "        try:\n",
    "            cursor.execute(sql)\n",
    "            conexao.commit()\n",
    "            print(f\"Query executada com sucesso na tabela {nome_aba}.\")\n",
    "        except Exception as e:\n",
    "            conexao.rollback()\n",
    "            print(f\"Erro ao executar a query: {e}\")\n",
    "            # print(sql) \n",
    "        finally:\n",
    "            cursor.close()\n",
    "            conexao.close()\n",
    "else:\n",
    "    print(\"Nenhum arquivo encontrado com o prefixo especificado.\")\n"
   ]
  },
  {
   "cell_type": "markdown",
   "metadata": {},
   "source": [
    "        \"DESPESAS_OPERACIONAIS_INSUMOS\",-490-588 \n",
    "        \"BENEFICIO_REMUNERADO_INSUMOS\",-3460-3460  \n",
    "        \"QLP_EQUIPE_INSUMOS\",-408-12 \n",
    "        \"PARAMETROS_EQUIPE_INSUMOS\",-12 -12 \n",
    "        \"QLP_ADM_INSUMOS\",-12 - 408 \n",
    "        \"CAVALO_INSUMOS\",-195-195 \n",
    "        \"CARRETA_INSUMOS\",-255 - 255 \n",
    "        \"TRECHOS_INSUMOS\",-246 -246 \n",
    "        \"CONSUMO_INSUMOS\",-92 - 92 \n",
    "        \"PARAMETROS_MANUTENCAO_INSUMOS\",-12 -12 \n",
    "        \"PARAMETROS_OPERACIONAIS_INSUMOS\",-12 -12 \n",
    "        \"PNEU_INSUMOS\",-192 -192 \n",
    "        \"FATURAMENTO_INSUMOS\",-18-18 \n",
    "        \"CUSTO_EQUIPE_INSUMOS\",-36 -36 \n",
    "        \"UNIFORMES_EPIS_INSUMOS\",-336 - 336 \n",
    "        \"COMBUSTIVEL_INSUMOS\"-24- 24 "
   ]
  },
  {
   "cell_type": "code",
   "execution_count": 1,
   "metadata": {},
   "outputs": [
    {
     "name": "stdout",
     "output_type": "stream",
     "text": [
      "C:\\Users\\ADMIN.JOAO\\AppData\\Local\\Microsoft\\WindowsApps\\PythonSoftwareFoundation.Python.3.12_qbz5n2kfra8p0\\python.exe\n"
     ]
    }
   ],
   "source": [
    "import sys\n",
    "print(sys.executable)"
   ]
  }
 ],
 "metadata": {
  "kernelspec": {
   "display_name": "Python 3",
   "language": "python",
   "name": "python3"
  },
  "language_info": {
   "codemirror_mode": {
    "name": "ipython",
    "version": 3
   },
   "file_extension": ".py",
   "mimetype": "text/x-python",
   "name": "python",
   "nbconvert_exporter": "python",
   "pygments_lexer": "ipython3",
   "version": "3.12.9"
  }
 },
 "nbformat": 4,
 "nbformat_minor": 2
}
