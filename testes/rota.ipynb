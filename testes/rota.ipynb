{
 "cells": [
  {
   "cell_type": "code",
   "execution_count": 3,
   "metadata": {},
   "outputs": [
    {
     "name": "stdout",
     "output_type": "stream",
     "text": [
      "Arquivo mais recente encontrado: C:\\\\Freightech\\\\load\\\\ROTA\\ROTA_2025-02-04_14-07-58.xlsx\n"
     ]
    },
    {
     "name": "stderr",
     "output_type": "stream",
     "text": [
      "C:\\Users\\ADMIN.JOAO\\AppData\\Local\\Packages\\PythonSoftwareFoundation.Python.3.12_qbz5n2kfra8p0\\LocalCache\\local-packages\\Python312\\site-packages\\openpyxl\\styles\\stylesheet.py:237: UserWarning: Workbook contains no default style, apply openpyxl's default\n",
      "  warn(\"Workbook contains no default style, apply openpyxl's default\")\n"
     ]
    },
    {
     "name": "stdout",
     "output_type": "stream",
     "text": [
      "aba:EQP_ENTREGA tabela:EQP_ENTREGA_ROTA\n",
      "Query executada com sucesso na tabela EQP_ENTREGA_ROTA.\n"
     ]
    },
    {
     "name": "stderr",
     "output_type": "stream",
     "text": [
      "C:\\Users\\ADMIN.JOAO\\AppData\\Local\\Packages\\PythonSoftwareFoundation.Python.3.12_qbz5n2kfra8p0\\LocalCache\\local-packages\\Python312\\site-packages\\openpyxl\\styles\\stylesheet.py:237: UserWarning: Workbook contains no default style, apply openpyxl's default\n",
      "  warn(\"Workbook contains no default style, apply openpyxl's default\")\n"
     ]
    },
    {
     "name": "stdout",
     "output_type": "stream",
     "text": [
      "aba:EQP_FAD tabela:EQP_FAD_ROTA\n",
      "Query executada com sucesso na tabela EQP_FAD_ROTA.\n"
     ]
    },
    {
     "name": "stderr",
     "output_type": "stream",
     "text": [
      "C:\\Users\\ADMIN.JOAO\\AppData\\Local\\Packages\\PythonSoftwareFoundation.Python.3.12_qbz5n2kfra8p0\\LocalCache\\local-packages\\Python312\\site-packages\\openpyxl\\styles\\stylesheet.py:237: UserWarning: Workbook contains no default style, apply openpyxl's default\n",
      "  warn(\"Workbook contains no default style, apply openpyxl's default\")\n"
     ]
    },
    {
     "name": "stdout",
     "output_type": "stream",
     "text": [
      "aba:EQP_NOTURNA tabela:EQP_NOTURNA_ROTA\n",
      "Query executada com sucesso na tabela EQP_NOTURNA_ROTA.\n"
     ]
    },
    {
     "name": "stderr",
     "output_type": "stream",
     "text": [
      "C:\\Users\\ADMIN.JOAO\\AppData\\Local\\Packages\\PythonSoftwareFoundation.Python.3.12_qbz5n2kfra8p0\\LocalCache\\local-packages\\Python312\\site-packages\\openpyxl\\styles\\stylesheet.py:237: UserWarning: Workbook contains no default style, apply openpyxl's default\n",
      "  warn(\"Workbook contains no default style, apply openpyxl's default\")\n"
     ]
    },
    {
     "name": "stdout",
     "output_type": "stream",
     "text": [
      "aba:EQP_VAN tabela:EQP_VAN_ROTA\n",
      "Query executada com sucesso na tabela EQP_VAN_ROTA.\n"
     ]
    },
    {
     "name": "stderr",
     "output_type": "stream",
     "text": [
      "C:\\Users\\ADMIN.JOAO\\AppData\\Local\\Packages\\PythonSoftwareFoundation.Python.3.12_qbz5n2kfra8p0\\LocalCache\\local-packages\\Python312\\site-packages\\openpyxl\\styles\\stylesheet.py:237: UserWarning: Workbook contains no default style, apply openpyxl's default\n",
      "  warn(\"Workbook contains no default style, apply openpyxl's default\")\n"
     ]
    },
    {
     "name": "stdout",
     "output_type": "stream",
     "text": [
      "aba:CAMINHÃO tabela:CAMINHAO_ROTA\n",
      "Query executada com sucesso na tabela CAMINHAO_ROTA.\n"
     ]
    },
    {
     "name": "stderr",
     "output_type": "stream",
     "text": [
      "C:\\Users\\ADMIN.JOAO\\AppData\\Local\\Packages\\PythonSoftwareFoundation.Python.3.12_qbz5n2kfra8p0\\LocalCache\\local-packages\\Python312\\site-packages\\openpyxl\\styles\\stylesheet.py:237: UserWarning: Workbook contains no default style, apply openpyxl's default\n",
      "  warn(\"Workbook contains no default style, apply openpyxl's default\")\n"
     ]
    },
    {
     "name": "stdout",
     "output_type": "stream",
     "text": [
      "aba:FATURAMENTO tabela:FATURAMENTO_ROTA\n",
      "Query executada com sucesso na tabela FATURAMENTO_ROTA.\n"
     ]
    },
    {
     "name": "stderr",
     "output_type": "stream",
     "text": [
      "C:\\Users\\ADMIN.JOAO\\AppData\\Local\\Packages\\PythonSoftwareFoundation.Python.3.12_qbz5n2kfra8p0\\LocalCache\\local-packages\\Python312\\site-packages\\openpyxl\\styles\\stylesheet.py:237: UserWarning: Workbook contains no default style, apply openpyxl's default\n",
      "  warn(\"Workbook contains no default style, apply openpyxl's default\")\n"
     ]
    },
    {
     "name": "stdout",
     "output_type": "stream",
     "text": [
      "aba:QLP ADM tabela:QLP_ADM_ROTA\n",
      "Query executada com sucesso na tabela QLP_ADM_ROTA.\n"
     ]
    },
    {
     "name": "stderr",
     "output_type": "stream",
     "text": [
      "C:\\Users\\ADMIN.JOAO\\AppData\\Local\\Packages\\PythonSoftwareFoundation.Python.3.12_qbz5n2kfra8p0\\LocalCache\\local-packages\\Python312\\site-packages\\openpyxl\\styles\\stylesheet.py:237: UserWarning: Workbook contains no default style, apply openpyxl's default\n",
      "  warn(\"Workbook contains no default style, apply openpyxl's default\")\n"
     ]
    },
    {
     "name": "stdout",
     "output_type": "stream",
     "text": [
      "aba:RECARGA tabela:RECARGA_ROTA\n",
      "Query executada com sucesso na tabela RECARGA_ROTA.\n"
     ]
    },
    {
     "name": "stderr",
     "output_type": "stream",
     "text": [
      "C:\\Users\\ADMIN.JOAO\\AppData\\Local\\Packages\\PythonSoftwareFoundation.Python.3.12_qbz5n2kfra8p0\\LocalCache\\local-packages\\Python312\\site-packages\\openpyxl\\styles\\stylesheet.py:237: UserWarning: Workbook contains no default style, apply openpyxl's default\n",
      "  warn(\"Workbook contains no default style, apply openpyxl's default\")\n"
     ]
    },
    {
     "name": "stdout",
     "output_type": "stream",
     "text": [
      "aba:DESPESAS OPERACIONAIS tabela:DESPESAS_OPERACIONAIS_ROTA\n",
      "Query executada com sucesso na tabela DESPESAS_OPERACIONAIS_ROTA.\n"
     ]
    },
    {
     "name": "stderr",
     "output_type": "stream",
     "text": [
      "C:\\Users\\ADMIN.JOAO\\AppData\\Local\\Packages\\PythonSoftwareFoundation.Python.3.12_qbz5n2kfra8p0\\LocalCache\\local-packages\\Python312\\site-packages\\openpyxl\\styles\\stylesheet.py:237: UserWarning: Workbook contains no default style, apply openpyxl's default\n",
      "  warn(\"Workbook contains no default style, apply openpyxl's default\")\n"
     ]
    },
    {
     "name": "stdout",
     "output_type": "stream",
     "text": [
      "aba:MANUTENÇÃO CARROCERIA tabela:MANUNTENCAO_CARROCERIA_ROTA\n",
      "Query executada com sucesso na tabela MANUNTENCAO_CARROCERIA_ROTA.\n"
     ]
    },
    {
     "name": "stderr",
     "output_type": "stream",
     "text": [
      "C:\\Users\\ADMIN.JOAO\\AppData\\Local\\Packages\\PythonSoftwareFoundation.Python.3.12_qbz5n2kfra8p0\\LocalCache\\local-packages\\Python312\\site-packages\\openpyxl\\styles\\stylesheet.py:237: UserWarning: Workbook contains no default style, apply openpyxl's default\n",
      "  warn(\"Workbook contains no default style, apply openpyxl's default\")\n"
     ]
    },
    {
     "name": "stdout",
     "output_type": "stream",
     "text": [
      "aba:COMBUSTÍVEL tabela:COMBUSTIVEL_ROTA\n",
      "Query executada com sucesso na tabela COMBUSTIVEL_ROTA.\n"
     ]
    },
    {
     "name": "stderr",
     "output_type": "stream",
     "text": [
      "C:\\Users\\ADMIN.JOAO\\AppData\\Local\\Packages\\PythonSoftwareFoundation.Python.3.12_qbz5n2kfra8p0\\LocalCache\\local-packages\\Python312\\site-packages\\openpyxl\\styles\\stylesheet.py:237: UserWarning: Workbook contains no default style, apply openpyxl's default\n",
      "  warn(\"Workbook contains no default style, apply openpyxl's default\")\n"
     ]
    },
    {
     "name": "stdout",
     "output_type": "stream",
     "text": [
      "aba:PARÂMETROS OPERAÇÃO tabela:PARAMETROS_OPERACAO_ROTA\n",
      "Query executada com sucesso na tabela PARAMETROS_OPERACAO_ROTA.\n"
     ]
    },
    {
     "name": "stderr",
     "output_type": "stream",
     "text": [
      "C:\\Users\\ADMIN.JOAO\\AppData\\Local\\Packages\\PythonSoftwareFoundation.Python.3.12_qbz5n2kfra8p0\\LocalCache\\local-packages\\Python312\\site-packages\\openpyxl\\styles\\stylesheet.py:237: UserWarning: Workbook contains no default style, apply openpyxl's default\n",
      "  warn(\"Workbook contains no default style, apply openpyxl's default\")\n"
     ]
    },
    {
     "name": "stdout",
     "output_type": "stream",
     "text": [
      "aba:CONSUMO tabela:CONSUMO_ROTA\n",
      "Query executada com sucesso na tabela CONSUMO_ROTA.\n"
     ]
    },
    {
     "name": "stderr",
     "output_type": "stream",
     "text": [
      "C:\\Users\\ADMIN.JOAO\\AppData\\Local\\Packages\\PythonSoftwareFoundation.Python.3.12_qbz5n2kfra8p0\\LocalCache\\local-packages\\Python312\\site-packages\\openpyxl\\styles\\stylesheet.py:237: UserWarning: Workbook contains no default style, apply openpyxl's default\n",
      "  warn(\"Workbook contains no default style, apply openpyxl's default\")\n"
     ]
    },
    {
     "name": "stdout",
     "output_type": "stream",
     "text": [
      "aba:MANUTENÇÃO CAMINHÃO tabela:MANUTENCAO_CAMINHAO_ROTA\n",
      "Query executada com sucesso na tabela MANUTENCAO_CAMINHAO_ROTA.\n"
     ]
    },
    {
     "name": "stderr",
     "output_type": "stream",
     "text": [
      "C:\\Users\\ADMIN.JOAO\\AppData\\Local\\Packages\\PythonSoftwareFoundation.Python.3.12_qbz5n2kfra8p0\\LocalCache\\local-packages\\Python312\\site-packages\\openpyxl\\styles\\stylesheet.py:237: UserWarning: Workbook contains no default style, apply openpyxl's default\n",
      "  warn(\"Workbook contains no default style, apply openpyxl's default\")\n"
     ]
    },
    {
     "name": "stdout",
     "output_type": "stream",
     "text": [
      "aba:PNEUS tabela:PNEUS_ROTA\n",
      "Query executada com sucesso na tabela PNEUS_ROTA.\n"
     ]
    },
    {
     "name": "stderr",
     "output_type": "stream",
     "text": [
      "C:\\Users\\ADMIN.JOAO\\AppData\\Local\\Packages\\PythonSoftwareFoundation.Python.3.12_qbz5n2kfra8p0\\LocalCache\\local-packages\\Python312\\site-packages\\openpyxl\\styles\\stylesheet.py:237: UserWarning: Workbook contains no default style, apply openpyxl's default\n",
      "  warn(\"Workbook contains no default style, apply openpyxl's default\")\n"
     ]
    },
    {
     "name": "stdout",
     "output_type": "stream",
     "text": [
      "aba:UNIFORMES E EPIS tabela:UNIFORMES_EPI_ROTA\n",
      "Query executada com sucesso na tabela UNIFORMES_EPI_ROTA.\n"
     ]
    },
    {
     "name": "stderr",
     "output_type": "stream",
     "text": [
      "C:\\Users\\ADMIN.JOAO\\AppData\\Local\\Packages\\PythonSoftwareFoundation.Python.3.12_qbz5n2kfra8p0\\LocalCache\\local-packages\\Python312\\site-packages\\openpyxl\\styles\\stylesheet.py:237: UserWarning: Workbook contains no default style, apply openpyxl's default\n",
      "  warn(\"Workbook contains no default style, apply openpyxl's default\")\n"
     ]
    },
    {
     "name": "stdout",
     "output_type": "stream",
     "text": [
      "aba:BENEFÍCIOS EQUIPE ENTREGA tabela:BENEFICIO_EQUIPE_ENTREGA_ROTA\n",
      "Query executada com sucesso na tabela BENEFICIO_EQUIPE_ENTREGA_ROTA.\n"
     ]
    },
    {
     "name": "stderr",
     "output_type": "stream",
     "text": [
      "C:\\Users\\ADMIN.JOAO\\AppData\\Local\\Packages\\PythonSoftwareFoundation.Python.3.12_qbz5n2kfra8p0\\LocalCache\\local-packages\\Python312\\site-packages\\openpyxl\\styles\\stylesheet.py:237: UserWarning: Workbook contains no default style, apply openpyxl's default\n",
      "  warn(\"Workbook contains no default style, apply openpyxl's default\")\n"
     ]
    },
    {
     "name": "stdout",
     "output_type": "stream",
     "text": [
      "aba:BENEFÍCIOS ADM tabela:BENEFICIOS_ADM_ROTA\n",
      "Query executada com sucesso na tabela BENEFICIOS_ADM_ROTA.\n"
     ]
    },
    {
     "name": "stderr",
     "output_type": "stream",
     "text": [
      "C:\\Users\\ADMIN.JOAO\\AppData\\Local\\Packages\\PythonSoftwareFoundation.Python.3.12_qbz5n2kfra8p0\\LocalCache\\local-packages\\Python312\\site-packages\\openpyxl\\styles\\stylesheet.py:237: UserWarning: Workbook contains no default style, apply openpyxl's default\n",
      "  warn(\"Workbook contains no default style, apply openpyxl's default\")\n"
     ]
    },
    {
     "name": "stdout",
     "output_type": "stream",
     "text": [
      "aba:BENEFÍCIOS NOTURNA tabela:BENEFICIOS_NOTURNA_ROTA\n",
      "Query executada com sucesso na tabela BENEFICIOS_NOTURNA_ROTA.\n"
     ]
    },
    {
     "name": "stderr",
     "output_type": "stream",
     "text": [
      "C:\\Users\\ADMIN.JOAO\\AppData\\Local\\Packages\\PythonSoftwareFoundation.Python.3.12_qbz5n2kfra8p0\\LocalCache\\local-packages\\Python312\\site-packages\\openpyxl\\styles\\stylesheet.py:237: UserWarning: Workbook contains no default style, apply openpyxl's default\n",
      "  warn(\"Workbook contains no default style, apply openpyxl's default\")\n"
     ]
    },
    {
     "name": "stdout",
     "output_type": "stream",
     "text": [
      "aba:RESUMO tabela:RESUMO_ROTA\n",
      "Query executada com sucesso na tabela RESUMO_ROTA.\n"
     ]
    },
    {
     "name": "stderr",
     "output_type": "stream",
     "text": [
      "C:\\Users\\ADMIN.JOAO\\AppData\\Local\\Packages\\PythonSoftwareFoundation.Python.3.12_qbz5n2kfra8p0\\LocalCache\\local-packages\\Python312\\site-packages\\openpyxl\\styles\\stylesheet.py:237: UserWarning: Workbook contains no default style, apply openpyxl's default\n",
      "  warn(\"Workbook contains no default style, apply openpyxl's default\")\n"
     ]
    },
    {
     "name": "stdout",
     "output_type": "stream",
     "text": [
      "aba:VAN tabela:VAN_ROTA\n",
      "Query executada com sucesso na tabela VAN_ROTA.\n"
     ]
    },
    {
     "name": "stderr",
     "output_type": "stream",
     "text": [
      "C:\\Users\\ADMIN.JOAO\\AppData\\Local\\Packages\\PythonSoftwareFoundation.Python.3.12_qbz5n2kfra8p0\\LocalCache\\local-packages\\Python312\\site-packages\\openpyxl\\styles\\stylesheet.py:237: UserWarning: Workbook contains no default style, apply openpyxl's default\n",
      "  warn(\"Workbook contains no default style, apply openpyxl's default\")\n"
     ]
    },
    {
     "name": "stdout",
     "output_type": "stream",
     "text": [
      "aba:RESUMO VAN tabela:RESUMO_VAN_ROTA\n",
      "Query executada com sucesso na tabela RESUMO_VAN_ROTA.\n"
     ]
    },
    {
     "name": "stderr",
     "output_type": "stream",
     "text": [
      "C:\\Users\\ADMIN.JOAO\\AppData\\Local\\Packages\\PythonSoftwareFoundation.Python.3.12_qbz5n2kfra8p0\\LocalCache\\local-packages\\Python312\\site-packages\\openpyxl\\styles\\stylesheet.py:237: UserWarning: Workbook contains no default style, apply openpyxl's default\n",
      "  warn(\"Workbook contains no default style, apply openpyxl's default\")\n"
     ]
    },
    {
     "name": "stdout",
     "output_type": "stream",
     "text": [
      "aba:ENCARGOS_COM_FERIAS tabela:ENCARGOS_COM_FERIAS_ROTA\n",
      "Query executada com sucesso na tabela ENCARGOS_COM_FERIAS_ROTA.\n"
     ]
    },
    {
     "name": "stderr",
     "output_type": "stream",
     "text": [
      "C:\\Users\\ADMIN.JOAO\\AppData\\Local\\Packages\\PythonSoftwareFoundation.Python.3.12_qbz5n2kfra8p0\\LocalCache\\local-packages\\Python312\\site-packages\\openpyxl\\styles\\stylesheet.py:237: UserWarning: Workbook contains no default style, apply openpyxl's default\n",
      "  warn(\"Workbook contains no default style, apply openpyxl's default\")\n"
     ]
    },
    {
     "name": "stdout",
     "output_type": "stream",
     "text": [
      "aba:ENCARGOS_SEM_FERIAS tabela:ENCARGOS_SEM_FERIAS_ROTA\n",
      "Query executada com sucesso na tabela ENCARGOS_SEM_FERIAS_ROTA.\n"
     ]
    },
    {
     "name": "stderr",
     "output_type": "stream",
     "text": [
      "C:\\Users\\ADMIN.JOAO\\AppData\\Local\\Packages\\PythonSoftwareFoundation.Python.3.12_qbz5n2kfra8p0\\LocalCache\\local-packages\\Python312\\site-packages\\openpyxl\\styles\\stylesheet.py:237: UserWarning: Workbook contains no default style, apply openpyxl's default\n",
      "  warn(\"Workbook contains no default style, apply openpyxl's default\")\n"
     ]
    },
    {
     "name": "stdout",
     "output_type": "stream",
     "text": [
      "aba:RESUMO_SRTRANS tabela:RESUMO_SRTRANS_ROTA\n",
      "Query executada com sucesso na tabela RESUMO_SRTRANS_ROTA.\n"
     ]
    },
    {
     "name": "stderr",
     "output_type": "stream",
     "text": [
      "C:\\Users\\ADMIN.JOAO\\AppData\\Local\\Packages\\PythonSoftwareFoundation.Python.3.12_qbz5n2kfra8p0\\LocalCache\\local-packages\\Python312\\site-packages\\openpyxl\\styles\\stylesheet.py:237: UserWarning: Workbook contains no default style, apply openpyxl's default\n",
      "  warn(\"Workbook contains no default style, apply openpyxl's default\")\n"
     ]
    },
    {
     "name": "stdout",
     "output_type": "stream",
     "text": [
      "aba:RESUMO_SRTRANS_VAN tabela:RESUMO_SRTRANS_VAN_ROTA\n",
      "Query executada com sucesso na tabela RESUMO_SRTRANS_VAN_ROTA.\n"
     ]
    },
    {
     "name": "stderr",
     "output_type": "stream",
     "text": [
      "C:\\Users\\ADMIN.JOAO\\AppData\\Local\\Packages\\PythonSoftwareFoundation.Python.3.12_qbz5n2kfra8p0\\LocalCache\\local-packages\\Python312\\site-packages\\openpyxl\\styles\\stylesheet.py:237: UserWarning: Workbook contains no default style, apply openpyxl's default\n",
      "  warn(\"Workbook contains no default style, apply openpyxl's default\")\n"
     ]
    },
    {
     "name": "stdout",
     "output_type": "stream",
     "text": [
      "aba:EQP_NOTURNA_VAN tabela:EQP_NOTURNA_VAN\n",
      "Erro ao executar a query: 1064 (42000): You have an error in your SQL syntax; check the manual that corresponds to your MySQL server version for the right syntax to use near '' at line 1\n",
      "INSERT IGNORE INTO EQP_NOTURNA_VAN() VALUES \n"
     ]
    }
   ],
   "source": [
    "import pandas as pd\n",
    "import mysql.connector\n",
    "import mysql\n",
    "import os\n",
    "from datetime import datetime\n",
    "\n",
    "host_name = \"172.16.0.28\" \n",
    "user_name = \"joaotavares\" \n",
    "user_password = \"@joaotavares\"\n",
    "database='dbfreightech'\n",
    "\n",
    "def nome_tabela(nome_arquivo, aba):\n",
    "    tabela = None  # Initialize tabela to avoid UnboundLocalError \n",
    "    colunas = None\n",
    "    retorno = []\n",
    "    #print(aba)\n",
    "    if \"ROTA\" in nome_arquivo:\n",
    "        if \"EQP_ENTREGA\" == aba:\n",
    "            tabela = 'EQP_ENTREGA_ROTA'\n",
    "            colunas = \"`VIGENCIA`, `UNIDADE_CNPJ`, `UNIDADE_NOME`, `UNIDADE_SAP`, `UNIDADE_TMS`, `UNIDADE_PROMAX_UNB`, `UNIDADE_REGIONAL`, `OPERADOR_CNPJ`, `OPERADOR_NOME`, `OPERADOR_SAP`, `OPERADOR_TMS`, `OPERADOR_PROMAX`, `ORGANIZACAO_DE_COMPRAS`, `PRAZO_PAGAMENTO`, `CARGO`, `DSR`, `HORA_EXTRA_FIXA`, `OUTROS`, `PERCENTUAL_ABSENTEÍSMO`, `PERCENTUAL_ENCARGO_E_PROVISÃO`, `PERCENTUAL_HORA_EXTRA`, `PERCENTUAL_TURN_OVER_ANO`, `PISO_SALARIAL`, `PREMIAÇÃO_PLUS`, `QUANTIDADE_HORA_EXTRA_FIXA`, `QUANTIDADE_TOTAL_X_CAMINHÃO_ATIVO`, `QUANTIDADE_POR_CAMINHÃO`, `REMUNERAÇÃO_FIXA_CONTRA_CHEQUE`, `TOTAL_ORDENADO`, `TOTAL_REMUNERAÇÃO`, `TOTAL_REMUNERAÇÃO_BENEFÍCIO`, `TURNO`, `DURACAOABONO`, `EQUIPEPARTTIME`, `QUANTIDADEHORASMESPARTTIME`, `VALORABONO`, `VALORABONOAPLICADO`, `_ID`\"\n",
    "        elif \"EQP_FAD\" == aba:    \n",
    "            tabela = \"EQP_FAD_ROTA\"\n",
    "            colunas = \"`VIGENCIA`, `UNIDADE_CNPJ`, `UNIDADE_NOME`, `UNIDADE_SAP`, `UNIDADE_TMS`, `UNIDADE_PROMAX_UNB`, `UNIDADE_REGIONAL`, `OPERADOR_CNPJ`, `OPERADOR_NOME`, `OPERADOR_SAP`, `OPERADOR_TMS`, `OPERADOR_PROMAX`, `ORGANIZACAO_DE_COMPRAS`, `PRAZO_PAGAMENTO`, `BENEFICIOS`, `CARGO`, `PERCENTUAL_ENCARGO_E_PROVISÃO`, `QUANTIDADE`, `VALOR_TOTAL`, `VALOR_UNITARIO`, `_ID`\"\n",
    "        elif \"EQP_NOTURNA\" == aba: \n",
    "            tabela = \"EQP_NOTURNA_ROTA\"\n",
    "            colunas = \"`VIGENCIA`, `UNIDADE_CNPJ`, `UNIDADE_NOME`, `UNIDADE_SAP`, `UNIDADE_TMS`, `UNIDADE_PROMAX_UNB`, `UNIDADE_REGIONAL`, `OPERADOR_CNPJ`, `OPERADOR_NOME`, `OPERADOR_SAP`, `OPERADOR_TMS`, `OPERADOR_PROMAX`, `ORGANIZACAO_DE_COMPRAS`, `PRAZO_PAGAMENTO`, `ADCIONAL_NOTURNO`, `CARGO`, `CUSTO_OPERACIONAL`, `DSR`, `EQUIPE_DE_ENTREGA`, `PERCENTUAL_ADCIONAL_NOTURNO`, `PERCENTUAL_PROVISAO_ENCARGOS_COM_FERIAS`, `PERCENTUAL_PROVISAO_ENCARGOS_SEM_FERIAS`, `PISO_SALARIAL`, `QUANTIDADE_HORA_NOTURNA`, `TOTAL_CUSTO_FIXO`, `TOTAL_CUSTO_VARIAVEL`, `TOTAL_UNIFORME_EPI`, `TURNO`, `_ID`\"\n",
    "        elif \"EQP_VAN\" == aba:\n",
    "            tabela = \"EQP_VAN_ROTA\"\n",
    "            colunas = \"`VIGENCIA`, `UNIDADE_CNPJ`, `UNIDADE_NOME`, `UNIDADE_SAP`, `UNIDADE_TMS`, `UNIDADE_PROMAX_UNB`, `UNIDADE_REGIONAL`, `OPERADOR_CNPJ`, `OPERADOR_NOME`, `OPERADOR_SAP`, `OPERADOR_TMS`, `OPERADOR_PROMAX`, `ORGANIZACAO_DE_COMPRAS`, `PRAZO_PAGAMENTO`, `CARGO`, `DSR`, `HORA_EXTRA_FIXA`, `OUTROS`, `PERCENTUAL_ABSENTEÍSMO`, `PERCENTUAL_ENCARGO_E_PROVISÃO`, `PERCENTUAL_HORA_EXTRA`, `PERCENTUAL_TURN_OVER_ANO`, `PISO_SALARIAL`, `PREMIAÇÃO_PLUS`, `QUANTIDADE_HORA_EXTRA_FIXA`, `QUANTIDADE_TOTAL_X_CAMINHÃO_ATIVO`, `QUANTIDADE_POR_CAMINHÃO`, `REMUNERAÇÃO_FIXA_CONTRA_CHEQUE`, `TOTAL_ORDENADO`, `TOTAL_REMUNERAÇÃO`, `TOTAL_REMUNERAÇÃO_BENEFÍCIO`, `TURNO`, `DURACA_ABONO`, `EQUIPE_PART_TIME`, `QUANTIDA_DE_HORAS_MES_PARTTIME`, `VALOR_ABONO`, `VALOR_ABONO_APLICADO`, `_ID`\"\n",
    "        elif \"CAMINHÃO\" == aba:\n",
    "            tabela = \"CAMINHAO_ROTA\" \n",
    "            colunas = \"`VIGENCIA`, `UNIDADE_CNPJ`, `UNIDADE_NOME`, `UNIDADE_SAP`, `UNIDADE_TMS`, `UNIDADE_PROMAX_UNB`, `UNIDADE_REGIONAL`, `OPERADOR_CNPJ`, `OPERADOR_NOME`, `OPERADOR_SAP`, `OPERADOR_TMS`, `OPERADOR_PROMAX`, `ORGANIZACAO_DE_COMPRAS`, `PRAZO_PAGAMENTO`, `AMORTIZACAO`, `ANO`, `ANO_CARROCERIA`, `ANO_CAVALO`, `ANO_VEICULO`, `ATIVO`, `BENCHMARK_CONSUMO`, `CAPACIDADE_DE_PALLETS`, `CAPACIDADE_EM_CAIXAS`, `CARENCIA`, `CICLO_CARROCERIA`, `CICLO_CAVALO`, `CONSUMO_KM_L`, `CONSUMO_RS_KM`, `CUSTO_ALUGUEL`, `DATA_ALTERACAO_ODOMETRO`, `DATA_ENTRADA`, `DEPRECIACAO_CARROCERIA`, `DEPRECIACAO_CAVALO`, `EIXO_DIANTEIRO`, `EIXO_TRASEIRO`, `ENTRADA`, `FINAME_MODELO_NOVO`, `FAIXA_REFLEXIVA`, `FATOR_CORRECAO_REGIAO`, `GANHO_POR_KM_RODADO`, `ICMS_ANUAL`, `ICMS_CARROCERIA`, `ICMS_CAVALO`, `IPVA_LICENCIAMENTO`, `IPVA_LICENCIAMENTO_CAVALO`, `IMPLEMENTO`, `JUROS`, `KM_MES_ELD`, `KM_MES_ROADSHOW`, `KM_ODOMETRO`, `KM_TOTAL`, `LAVAGEM`, `LOGO_PADRAO`, `LUCRO_FINAME`, `LUCRO_FINAME_VARIAVEL`, `LUCRO_FIXO`, `LUCRO_TOTAL_CUSTO_VARIAVEL`, `LUCRO_VARIAVEL`, `MANUTENCAO_CARROCERIA_RS_KM`, `MANUTENCAO_RS_KM`, `MATERIAL`, `MEDIDA_PNEU`, `MODELO`, `MODELO_CAVALO`, `MONTADORA`, `MOTOR`, `MES_PARCELA`, `MES_ENTRADA_CARROCERIA`, `MES_ENTRADA_CAVALO`, `MES_ENTRADA_NOVO_MODELO`, `ODOMETRO_PREVISTO`, `PIS_COFINS_ANUAL`, `PERCENT_RESIDUAL_CINCO_ANOS_CAVALO`, `PERCENT_RESIDUAL_CINCO_ANOS_CARROCERIA`, `PERCENT_RESIDUAL_OITO_ANOS_CARROCERIA`, `PERCENT_RESIDUAL_OITO_ANOS_CAVALO`, `PERDA_ANO_VEICULO`, `PERFIL`, `PERIODO_CAVALO`, `PERIODO_FINAME`, `PLACA`, `PNEU_POR_KM`, `PRECO_LISO`, `PRECO_MONTAGEM`, `PRECO_PROTETOR`, `PRECO_RECAPAGEM`, `PRECO_TRACAO`, `PRECO_CAMERA`, `QUANTIDADE_PNEUS`, `QUANTIDADE_RECAPAGEM`, `RS_KM`, `RASTREADOR`, `REMUNERACAO_K`, `REMUNERACAO_K_IMPOSTOS`, `REMUNERACAO_MODELO`, `SEGURO`, `SPREAD_BNDES`, `SPREAD_BANCO`, `TJLP`, `TAXA_CUSTO_FIXO_CARROCERIA`, `TAXA_CUSTO_FIXO_CAVALO`, `TAXA_FINAME`, `TIPO`, `TOTAL_CUSTO_FIXO`, `TOTAL_CUSTO_VARIAVEL`, `VALOR_ICMS_CARROCERIA`, `VALOR_ICMS_CAVALO`, `VALOR_LIQUIDO_DEPRECIACAO_CAVALO`, `VALOR_LIQUIDO_DEPRECIACAO_CARROCERIA`, `VALOR_LIQUIDO_REMUNERACAO_K_CARROCERIA`, `VALOR_LIQUIDO_REMUNERACAO_K_CAVALO`, `VALOR_PIS_COFINS_CARROCERIA`, `VALOR_PIS_COFINS_CAVALO`, `VALOR_PNEU`, `VALOR_COMPRA_CARROCERIA`, `VALOR_COMPRA_CAVALO`, `VIDA_PNEUS_KM`, `ANO_BID`, `CHASSI`, `CUSTO_VARIAVEL_SIMULADO`, `FREE_MAINTENANCE`, `LOGO_PADRAO_SHARED`, `MANUTENCAO_ANO`, `MANUTENCAO_BID`, `MANUTENCAO_COMPRA_FORA_DO_BID_AUTORIZADA`, `MANUTENCAO_CONTRATO`, `MANUTENCAO_FREE_MAINTENANCE`, `MANUTENCAO_REAIS_KM`, `MANUTENCAO_VIDA_MESES`, `MATERIAL_SHARED`, `MODELO_SHARED`, `MOTOR_SHARED`, `PERCENTUAL_REAJUSTE_APLICADO`, `PERFIL_SHARED`, `STATUS_FINANCIAMENTO_CARROCERIA_SHARED`, `STATUS_FINANCIAMENTO_CAVALO_SHARED`, `STATUS_FINANCIAMENTO_SHARED`, `TELEMETRIA_OBRIGATORIA`, `TIPO_COMBUSTIVEL_SHARED`, `VALOR_REAJUSTADO`, `_ID`\"\n",
    "        elif \"FATURAMENTO\" == aba:\n",
    "            tabela = \"FATURAMENTO_ROTA\"\n",
    "            colunas = \"`VIGENCIA`, `UNIDADE_CNPJ`, `UNIDADE_NOME`, `UNIDADE_SAP`, `UNIDADE_TMS`, `UNIDADE_PROMAX_UNB`, `UNIDADE_REGIONAL`, `OPERADOR_CNPJ`, `OPERADOR_NOME`, `OPERADOR_SAP`, `OPERADOR_TMS`, `OPERADOR_PROMAX`, `ORGANIZACAO_DE_COMPRAS`, `PRAZO_PAGAMENTO`, `CUSTO_FIXO_FROTA_ATIVO_BRUTO`, `CUSTO_FIXO_FROTA_ATIVO_QUANTIDADE`, `CUSTO_FIXO_FROTA_ATIVA_BRUTO_POR_CAMINHAO`, `CUSTO_FIXO_FROTA_INATIVA_BRUTO`, `CUSTO_FIXO_FROTA_INATIVA_BRUTO_QUANTIDADE`, `CUSTO_FIXO_FROTA_INATIVA_BRUTO_POR_CAMINHAO`, `CUSTO_FIXO_LIQUIDO`, `CUSTO_FIXO_LIQUIDO_QUANTIDADE`, `CUSTO_FIXO_LIQUIDO_POR_CAMINHAO`, `CUSTO_VARIAVEL_FROTA_ATIVA_BRUTO`, `CUSTO_VARIAVEL_FROTA_ATIVA_BRUTO_QUANTIDADE`, `CUSTO_VARIAVEL_FROTA_ATIVA_BRUTO_POR_CAMINHAO`, `CUSTO_VARIAVEL_LIQUIDO`, `CUSTO_VARIAVEL_LIQUIDO_QUANTIDADE`, `CUSTO_VARIAVEL_LIQUIDO_POR_CAMINHAO`, `DENTRO_DO_MUNICIPIO_BRUTO`, `DENTRO_DO_MUNICIPIO_BRUTO_QUANTIDADE`, `DENTRO_DO_MUNICIPIO_BRUTO_POR_CAMINHAO`, `FORA_DO_MUNICIPIO_BRUTO`, `FORA_DO_MUNICIPIO_BRUTO_QUANTIDADE`, `FORA_DO_MUNICIPIO_BRUTO_POR_CAMINHAO`, `IMPOSTO_DENTRO_MUNICIPIO_BRUTO`, `IMPOSTO_DENTRO_MUNICIPIO_BRUTO_QUANTIDADE`, `IMPOSTO_DENTRO_MUNICIPIO_BRUTO_POR_CAMINHAO`, `IMPOSTO_FORA_MUNICIPIO_BRUTO`, `IMPOSTO_FORA_MUNICIPIO_BRUTO_QUANTIDADE`, `IMPOSTO_FORA_MUNICIPIO_BRUTO_POR_CAMINHAO`, `LUCRO_OPERACIONAL_VARIAVEL_LIQUIDO`, `LUCRO_OPERACIONAL_VARIAVEL_LIQUIDO_QUANTIDADE`, `LUCRO_OPERACIONAL_VARIAVEL_LIQUIDO_POR_CAMINHAO`, `REMUNERACAO_FIXA_EQUIPE_DE_ENTREGA_LIQUIDO`, `REMUNERACAO_FIXA_EQUIPE_DE_ENTREGA_LIQUIDO_QUANTIDADE`, `REMUNERACAO_FIXA_EQUIPE_DE_ENTREGA_LIQUIDO_POR_CAMINHAO`, `REMUNERACAO_FIXA_FROTA_ATIVA_LIQUIDO`, `REMUNERACAO_FIXA_FROTA_ATIVA_LIQUIDO_POR_CAMINHAO`, `REMUNERACAO_FIXA_FROTA_ATIVA_LIQUIDO_QUANTIDADE`, `REMUNERACAO_FIXA_FROTA_PARADA_LIQUIDO`, `REMUNERACAO_FIXA_FROTA_PARADA_LIQUIDO_QUANTIDADE`, `REMUNERACAO_FIXA_FROTA_PARADA_LIQUIDO_POR_CAMINHAO`, `REMUNERACAO_FIXA_QLP_ADM_LIQUIDO`, `REMUNERACAO_FIXA_QLP_ADM_QUANTIDADE`, `REMUNERACAO_FIXA_QLP_ADM_LIQUIDO_POR_CAMINHAO`, `REMUNERACAO_OUTRAS_DESPESAS_LIQUIDO`, `REMUNERACAO_OUTRAS_DESPESAS_LIQUIDO_QUANTIDADE`, `REMUNERACAO_OUTRAS_DESPESAS_LIQUIDO_POR_CAMINHAO`, `REMUNERACAO_VARIAVEL_LIQUIDO`, `REMUNERACAO_VARIAVEL_LIQUIDO_QUANTIDADE`, `REMUNERACAO_VARIAVEL_LIQUIDO_POR_CAMINHAO`, `TOTAL`, `TOTAL_CAMINHAO_ATIVO`, `TOTAL_CAMINHAO_PARADO`, `TOTAL_CUSTO_VARIAVEL_LIQUIDO`, `TOTAL_CUSTO_VARIAVEL_LIQUIDO_QUANTIDADE`, `TOTAL_CUSTO_VARIAVEL_LIQUIDO_POR_CAMINHAO`, `TOTAL_LIQUIDO`, `TOTAL_LIQUIDO_QUANTIDADE`, `TOTAL_LIQUIDO_POR_CAMINHAO`, `TOTAL_QUANTIDADE`, `TOTAL_POR_CAMINHAO`, `_ID`\"\n",
    "        elif \"QLP ADM\" == aba:\n",
    "            tabela = \"QLP_ADM_ROTA\"\n",
    "            colunas = \"`VIGENCIA`, `UNIDADE_CNPJ`, `UNIDADE_NOME`, `UNIDADE_SAP`, `UNIDADE_TMS`, `UNIDADE_PROMAX_UNB`, `UNIDADE_REGIONAL`, `OPERADOR_CNPJ`, `OPERADOR_NOME`, `OPERADOR_SAP`, `OPERADOR_TMS`, `OPERADOR_PROMAX`, `ORGANIZACAO_DE_COMPRAS`, `PRAZO_PAGAMENTO`, `CARGO`, `DESPESA_BENEFICIO`, `DESPESA_ENCARGOS`, `DESPESA_FROTA_LEVA`, `DESPESA_ORDENADOS`, `DESPESA_TELEFONIA`, `DESPESA_UNIFORMES`, `QLP_BENCHMARK_QUANTIDADE`, `QLP_BENCHMARK_SALARIO`, `QUANTIDADE_BENEFICIO`, `QUANTIDADE_ENCARGOS`, `QUANTIDADE_FROTA_LEVE`, `QUANTIDADE_ORDENADOS`, `QUANTIDADE_TELEFONIA`, `QUANTIDADE_UNIFORMES`, `SALARIO_ENCARGOS`, `SALARIO_ORDENADOS`, `VALE_TRANSPORTE`, `VALOR_BENEFICIO`, `VALOR_FROTA_LEVE`, `VALOR_TELEFONIA`, `VALOR_UNIFORMES`, `_ID`\"\n",
    "        elif \"RECARGA\" == aba:\n",
    "            tabela = \"RECARGA_ROTA\"\n",
    "            colunas = \"`VIGENCIA`, `UNIDADE_CNPJ`, `UNIDADE_NOME`, `UNIDADE_SAP`, `UNIDADE_TMS`, `UNIDADE_PROMAX_UNB`, `UNIDADE_REGIONAL`, `OPERADOR_CNPJ`, `OPERADOR_NOME`, `OPERADOR_SAP`, `OPERADOR_TMS`, `OPERADOR_PROMAX`, `ORGANIZACAO_DE_COMPRAS`, `PRAZO_PAGAMENTO`, `COMBUSTIVEL_POR_KM`, `CUSTO_VARIAVEL_CAMINHAO`, `CUSTO_VARIAVEL_EQUPE_ENTREGA`, `CUSTO_VARIAVEL_RECARGA`, `CUSTO_VARIAVEL_POR_KM`, `EQUIPE_ENTRGA_AJUDANTE`, `EQUIPE_ENTRGA_MOTORISTA`, `KM_POR_VIAGEM`, `LAVAGEM_POR_KM`, `LUCRO`, `MANUTENCAO_CAMINHAO_POR_KM`, `MANUTENCAO_CARROCERIA_POR_KM`, `PERCENTUAL_PROVISOES_ENCARGOS_AJUDANTE`, `PERCENTUAL_PROVISOES_ENCARGOS_MOTORISTA`, `PNEU_POR_KM`, `PREMIO_DSR_AJUDANTE`, `PREMIO_DSR_MOTORISTA`, `TOTAL_PREMIACAO_ENC_PROV_AJUDANTE`, `TOTAL_PREMIACAO_ENC_PROV_MOTORISTA`, `_ID`\"\n",
    "        elif \"DESPESAS OPERACIONAIS\" == aba:\n",
    "            tabela = \"DESPESAS_OPERACIONAIS_ROTA\"\n",
    "            colunas = \"`VIGENCIA`, `UNIDADE_CNPJ`, `UNIDADE_NOME`, `UNIDADE_SAP`, `UNIDADE_TMS`, `UNIDADE_PROMAX_UNB`, `UNIDADE_REGIONAL`, `OPERADOR_CNPJ`, `OPERADOR_NOME`, `OPERADOR_SAP`, `OPERADOR_TMS`, `OPERADOR_PROMAX`, `ORGANIZACAO_DE_COMPRAS`, `PRAZO_PAGAMENTO`, `DESCRICAO`, `QUANTIDADE`, `VALOR_TOTAL`, `VALOR_UNITARIO`, `VALOR_POR_EQUIPAMENTO`, `_ID`\"\n",
    "        elif \"MANUTENÇÃO CARROCERIA\" == aba:\n",
    "            tabela = \"MANUNTENCAO_CARROCERIA_ROTA\"  \n",
    "            colunas = \"`VIGENCIA`, `UNIDADE_CNPJ`, `UNIDADE_NOME`, `UNIDADE_SAP`, `UNIDADE_TMS`, `UNIDADE_PROMAX_UNB`, `UNIDADE_REGIONAL`, `OPERADOR_CNPJ`, `OPERADOR_NOME`, `OPERADOR_SAP`, `OPERADOR_TMS`, `OPERADOR_PROMAX`, `ORGANIZACAO_DE_COMPRAS`, `PRAZO_PAGAMENTO`, `MATERIAL`, `PERFIL`, `TIPO`, `VALOR_POR_ANO`, `VALOR_POR_MES`, `_ID`\"\n",
    "        elif \"COMBUSTÍVEL\" == aba:\n",
    "            tabela = \"COMBUSTIVEL_ROTA\"  \n",
    "            colunas = \"`VIGENCIA`, `UNIDADE_CNPJ`, `UNIDADE_NOME`, `UNIDADE_SAP`, `UNIDADE_TMS`, `UNIDADE_PROMAX_UNB`, `UNIDADE_REGIONAL`, `OPERADOR_CNPJ`, `OPERADOR_NOME`, `OPERADOR_SAP`, `OPERADOR_TMS`, `OPERADOR_PROMAX`, `ORGANIZACAO_DE_COMPRAS`, `PRAZO_PAGAMENTO`, `CREDITO_SOBRE_ATIVOS`, `INICIATIVA`, `PRECO_ANP`, `PRECO_CREDITO_IMPOSTOS`, `PRECO_OPERADORA`, `TIPO_COMBUSTIVEL_SHARED`, `_ID`\"\n",
    "        elif \"PARÂMETROS OPERAÇÃO\" == aba:\n",
    "            tabela = \"PARAMETROS_OPERACAO_ROTA\"\n",
    "            colunas = \"`VIGENCIA`, `UNIDADE_CNPJ`, `UNIDADE_NOME`, `UNIDADE_SAP`, `UNIDADE_TMS`, `UNIDADE_PROMAX_UNB`, `UNIDADE_REGIONAL`, `OPERADOR_CNPJ`, `OPERADOR_NOME`, `OPERADOR_SAP`, `OPERADOR_TMS`, `OPERADOR_PROMAX`, `ORGANIZACAO_DE_COMPRAS`, `PRAZO_PAGAMENTO`, `ALMOCO_FABRICA`, `ANO_ICMS`, `ANO_PIS_COFINS`, `CDD_INTERNO`, `COFINS_PRESUMIDO`, `COFINS_REAL`, `CONE_DE_SEGURANCA`, `CONSUMO_FROTA_LEVE`, `CONTRIBUICAO__PREVIDENCIA`, `CREDITO_ICMS`, `CREDITO_ICMS_PRESUMIDO`, `CREDITO_SOBRE_ATIVOS`, `CUSTO_DE_LAVAGEM`, `DATA_LIMITE_DE_NEGOCIACAO`, `FAIXA_BENCHMARK`, `FAIXA_REFLEXIVA`, `FROTA_FIXA_DENTRO_DO_MUNICIPIO`, `FROTA_FIXA_FORA_DO_MUNICIPIO`, `FROTA_LEVE_CARRO`, `FROTA_LEVE_PICKUP`, `ICMS`, `ICMS_CREDITO_SEM_INSUMO`, `ISS`, `INICIO_DATA_VIGENCIA`, `INICIO_OPERACAO`, `KM_MENSAL_NOTURNA`, `KM_MENSAL_PRIMEIRA_VIAGEM`, `KM_RECARGA_POR_VIAGEM`, `LUCRO_PRESUMIDO`, `PIS_PRESUMIDO`, `PIS_REAL`, `PERCENTUAL_ICMS_CREDITO_PNEU`, `QUANTIDADE_MES`, `QUANTIDADE_LAVAGENS`, `QUANTIDADE_ROTAS_NOTURNAS`, `RASTREADOR`, `REGIAO`, `RISCO`, `SEGURO`, `TAMANHO_OPERACAO`, `TELEFONIA_MOVEL`, `TOTAL_QUANTIDADE_DESPESAS`, `TOTAL_VALOR_DESPESAS`, `ALIQUOTA_FIXA_ICMS_DIESEL`, `CODIGO_PROMAX_OPERADOR`, `CODIGO_PROMAX_UNIDADE`, `CUSTO_LAVAGEM_10P`, `CUSTO_LAVAGEM_12P`, `CUSTO_LAVAGEM_14P`, `CUSTO_LAVAGEM_28P`, `CUSTO_LAVAGEM_4P`, `CUSTO_LAVAGEM_6P`, `CUSTO_LAVAGEM_8P`, `CUSTO_DE_LAVAGEM_VAN`, `DATA_QUINZANA_VIGENCIA`, `KM_MENSAL_ELETRICO`, `KM_MENSAL_REMUNERADO_VAN`, `_ID`\"\n",
    "        elif \"CONSUMO\" == aba:\n",
    "            tabela = \"CONSUMO_ROTA\"\n",
    "            colunas = \"`VIGENCIA`, `UNIDADE_CNPJ`, `UNIDADE_NOME`, `UNIDADE_SAP`, `UNIDADE_TMS`, `UNIDADE_PROMAX_UNB`, `UNIDADE_REGIONAL`, `OPERADOR_CNPJ`, `OPERADOR_NOME`, `OPERADOR_SAP`, `OPERADOR_TMS`, `OPERADOR_PROMAX`, `ORGANIZACAO_DE_COMPRAS`, `PRAZO_PAGAMENTO`, `ANO_0`, `ANO_1`, `ANO_2`, `ANO_3`, `ANO_4`, `ANO_5`, `KM_1000`, `KM_2000`, `KM_3000`, `KM_4000`, `KM_999`, `_ID`\"\n",
    "        elif \"MANUTENÇÃO CAMINHÃO\" == aba:\n",
    "            tabela = \"MANUTENCAO_CAMINHAO_ROTA\"\n",
    "            colunas = \"`VIGENCIA`, `UNIDADE_CNPJ`, `UNIDADE_NOME`, `UNIDADE_SAP`, `UNIDADE_TMS`, `UNIDADE_PROMAX_UNB`, `UNIDADE_REGIONAL`, `OPERADOR_CNPJ`, `OPERADOR_NOME`, `OPERADOR_SAP`, `OPERADOR_TMS`, `OPERADOR_PROMAX`, `ORGANIZACAO_DE_COMPRAS`, `PRAZO_PAGAMENTO`, `ANO`, `CAPACIDADE_CAMINHAO`, `KM_1000`, `KM_1250`, `KM_1500`, `KM_1750`, `KM_2000`, `KM_2250`, `KM_2500`, `KM_2750`, `KM_3000`, `KM_3250`, `KM_3500`, `_ID`\"\n",
    "        elif \"PNEUS\" == aba:\n",
    "            tabela = \"PNEUS_ROTA\"    \n",
    "            colunas = \"`VIGENCIA`, `UNIDADE_CNPJ`, `UNIDADE_NOME`, `UNIDADE_SAP`, `UNIDADE_TMS`, `UNIDADE_PROMAX_UNB`, `UNIDADE_REGIONAL`, `OPERADOR_CNPJ`, `OPERADOR_NOME`, `OPERADOR_SAP`, `OPERADOR_TMS`, `OPERADOR_PROMAX`, `ORGANIZACAO_DE_COMPRAS`, `PRAZO_PAGAMENTO`, `CAMARA`, `MEDIDA`, `PRECO_CAMARA`, `PRECO_LISO`, `PRECO_MONTAGEM`, `PRECO_PROTETOR`, `PRECO_RECAPAGEM`, `PRECO_TRACAO`, `REGIAO`, `_ID`\"\n",
    "        elif \"UNIFORMES E EPIS\" == aba:\n",
    "            tabela = \"UNIFORMES_EPI_ROTA\"   \n",
    "            colunas = \"`VIGENCIA`, `UNIDADE_CNPJ`, `UNIDADE_NOME`, `UNIDADE_SAP`, `UNIDADE_TMS`, `UNIDADE_PROMAX_UNB`, `UNIDADE_REGIONAL`, `OPERADOR_CNPJ`, `OPERADOR_NOME`, `OPERADOR_SAP`, `OPERADOR_TMS`, `OPERADOR_PROMAX`, `ORGANIZACAO_DE_COMPRAS`, `PRAZO_PAGAMENTO`, `CUSTO`, `CUSTO_MES`, `ICMS_REGIAO`, `ITEM_EPI`, `QUANTIDADE_ANO`, `TIPO_EQUIPE`, `_ID`\"\n",
    "        elif \"BENEFÍCIOS EQUIPE ENTREGA\" == aba:\n",
    "            tabela = \"BENEFICIO_EQUIPE_ENTREGA_ROTA\"\n",
    "            colunas = \"`VIGENCIA`, `UNIDADE_CNPJ`, `UNIDADE_NOME`, `UNIDADE_SAP`, `UNIDADE_TMS`, `UNIDADE_PROMAX_UNB`, `UNIDADE_REGIONAL`, `OPERADOR_CNPJ`, `OPERADOR_NOME`, `OPERADOR_SAP`, `OPERADOR_TMS`, `OPERADOR_PROMAX`, `ORGANIZACAO_DE_COMPRAS`, `PRAZO_PAGAMENTO`, `BENEFICIO`, `CARGO`, `TOTAL_BENEFICIO`, `TURNO`, `PERMITIR_CALCULO_PROPORCIONAL`, `_ID`\"\n",
    "        elif \"BENEFÍCIOS ADM\" == aba:\n",
    "            tabela = \"BENEFICIOS_ADM_ROTA\"     \n",
    "            colunas = \"`VIGENCIA`, `UNIDADE_CNPJ`, `UNIDADE_NOME`, `UNIDADE_SAP`, `UNIDADE_TMS`, `UNIDADE_PROMAX_UNB`, `UNIDADE_REGIONAL`, `OPERADOR_CNPJ`, `OPERADOR_NOME`, `OPERADOR_SAP`, `OPERADOR_TMS`, `OPERADOR_PROMAX`, `ORGANIZACAO_DE_COMPRAS`, `PRAZO_PAGAMENTO`, `CARGO_BENEFICIO`, `ITEM_BENEFICIO`, `PARTICIPACAO_DA_EMPRESA`, `QUANTIDADE`, `QUANTIDADE_DE_DIAS_UTEIS`, `RESSARCIMENTO_FUNCIONARIO`, `TOTAL`, `VALOR`, `_ID`\"\n",
    "        elif \"BENEFÍCIOS NOTURNA\" == aba:\n",
    "            tabela = \"BENEFICIOS_NOTURNA_ROTA\"   \n",
    "            colunas = \"`VIGENCIA`, `UNIDADE_CNPJ`, `UNIDADE_NOME`, `UNIDADE_SAP`, `UNIDADE_TMS`, `UNIDADE_PROMAX_UNB`, `UNIDADE_REGIONAL`, `OPERADOR_CNPJ`, `OPERADOR_NOME`, `OPERADOR_SAP`, `OPERADOR_TMS`, `OPERADOR_PROMAX`, `ORGANIZACAO_DE_COMPRAS`, `PRAZO_PAGAMENTO`, `BENEFICIO`, `CARGO`, `TOTAL_BENEFICIO`, `TURNO`, `_ID`\"\n",
    "        elif \"RESUMO\" == aba:\n",
    "            tabela = \"RESUMO_ROTA\" \n",
    "            colunas = \"`VIGENCIA`, `UNIDADE_CNPJ`, `UNIDADE_NOME`, `UNIDADE_SAP`, `UNIDADE_TMS`, `UNIDADE_PROMAX_UNB`, `UNIDADE_REGIONAL`, `OPERADOR_CNPJ`, `OPERADOR_NOME`, `OPERADOR_SAP`, `OPERADOR_TMS`, `OPERADOR_PROMAX`, `ORGANIZACAO_DE_COMPRAS`, `PRAZO_PAGAMENTO`, `ASSESSORIA_JURIDICA`, `BENEFICIOS`, `BENEFICIOS_AJUDANTE_POR_CAMINHAO`, `BENEFICIOS_MOTORISTA_POR_CAMINHAO`, `COMBUSTIVEL_R_KM`, `COMUNICACAO_FIXA`, `CONE`, `DEPRECIACAO_CAMINHAO`, `DEPRECIACAO_CAMINHAO_PARADO`, `DEPRECIACAO_CARROCERIA`, `DEPRECIACAO_CARROCERIA_PARADO`, `ENCARGOS_E_PROVISOES`, `FAD`, `FINAME_MODELO_NOVO`, `FINAME_MODELO_NOVO_PARADO`, `FAIXA_REFLEXIVA`, `FAIXA_REFLEXIVA_PARADO`, `FROTA_LEVE`, `IPVA_LICEN_MENSAL`, `IPVA_LICENC_MENSAL_PARADO`, `INCENTIVO`, `KM_REMUNERADO`, `LAVAGEM`, `LINK`, `LUCRO_FINAME_MODELO_ANTIGO`, `LUCRO_FINAME_PARADO`, `LUCRO_FIXO_MODELO_NOVO`, `LUCRO_FIXO_MODELO_NOVO_PARADO`, `LUCRO_VARIAVEL_MODELO_NOVO`, `MANUTENCAO_CAMINHAO_R_KM`, `MANUTENCAO_CARRINHOS_TROCA`, `MANUTENCAO_CARROCERIA_R_KM`, `MANUTENCAO_SISTEMAS`, `MATERIAL_ESCRITORIO`, `OUTROS`, `PPRA`, `PNEU_R_KM`, `QUANTIDADE_AJUDANTE_POR_CAMINHAO`, `QUANTIDADE_MOTORISTA_POR_CAMINHAO`, `RASTREADOR`, `RASTREADOR_PARADO`, `REMUNERACAO_K`, `REMUNERACAO_K_IMPOSTOS`, `REMUNERACAO_K_IMPOSTOS_PARADO`, `REMUNERACAO_K_PARADO`, `REMUNERACAO_UNIDADE`, `SALARIO`, `SALARIO_FIXO_AJUDANTE_POR_CAMINHAO`, `SALARIO_FIXO_MOTORISTA_POR_CAMINHAO`, `SEGURO`, `SEGURO_PARADO`, `TELEFONIA_MOVEL`, `TOTAL_CAMINHAO_ATIVO`, `TOTAL_CAMINHAO_PARADO`, `TOTAL_CUSTO`, `TOTAL_EQUIPE_ENTREGA`, `TOTAL_ESTIMADA`, `TOTAL_FROTA`, `TOTAL_FROTA_ATIVA`, `TOTAL_FROTA_PARADA`, `TOTAL_OPERACIONAL_PREVISTO`, `TOTAL_OUTRAS_DESPESAS`, `TOTAL_QLP_ADM`, `TOTAL_R_KM`, `TOTAL_VIAGENS`, `TOTAL_POR_CAMINHAO_EQUIPE_DE_ENTREGA`, `TOTAL_POR_CAMINHAO_ESTIMADA`, `TOTAL_POR_CAMINHAO_FROTA_ATIVA`, `TOTAL_POR_CAMINHAO_FROTA_PARADA`, `TOTAL_POR_CAMINHAO_OPERACIONAL_PREVISTO`, `TOTAL_POR_CAMINHAO_OUTRAS_DESPESAS`, `TOTAL_POR_CAMINHAO_QLP_ADM`, `TOTAL_POR_CAMINHAO_VIAGENS`, `UNIFORME_AJUDANTE_POR_CAMINHAO`, `UNIFORME_MOTORISTA_POR_CAMINHAO`, `UNIFORMES`, `HES_RV_DSR_PROV_AJUDANTE`, `HES_RV_DSR_PROV_MOTORISTA`, `TOTAL_CAMINHAO_ALUGUEL`, `TOTAL_CUSTO_FIXO_ALUGADO_POR_CAMINHAO`, `TOTAL_CUSTO_VARIAVEL_ALUGADO`, `TOTAL_LUCRO_ALUGUEL`, `_ID`\"\n",
    "        elif \"VAN\" == aba:\n",
    "            tabela = \"VAN_ROTA\"\n",
    "            colunas = \"`VIGENCIA`, `UNIDADE_CNPJ`, `UNIDADE_NOME`, `UNIDADE_SAP`, `UNIDADE_TMS`, `UNIDADE_PROMAX_UNB`, `UNIDADE_REGIONAL`, `OPERADOR_CNPJ`, `OPERADOR_NOME`, `OPERADOR_SAP`, `OPERADOR_TMS`, `OPERADOR_PROMAX`, `ORGANIZACAO_DE_COMPRAS`, `PRAZO_PAGAMENTO`, `CUSTO_ALUGUEL`, `AMORTIZACAO`, `ANO`, `ANO_BID`, `ANO_CARROCERIA`, `ANO_CAVALO`, `ANO_ICMS`, `ANO_PIS_COFINS`, `ANO_VEICULO`, `ATIVO`, `BM_CONSUMO`, `CAPACIDADE_CAIXA`, `CAPACIDADE_PALLETS`, `CAPACIDADE_PALLETS_SHARED`, `CARENCIA`, `CHASSI`, `CICLO`, `CICLO_CARROCERIA`, `CICLO_CAVALO`, `CONSUMO_KM_POR_LITRO`, `CONSUMO_REAIS_POR_KM`, `DATA_ALTERACAO_ODOMETRO`, `DATA_ENTRADA`, `DATA_FIM_CONTRATO`, `DATA_LIMITE_NEGOCIACAO`, `DEPRECIACAO_CARROCERIA`, `DEPRECIACAO_CAVALO`, `EIXO_DIANTEIRO`, `EIXO_TRASEIRO`, `FAIXA_REFLEXIVA`, `FATOR_CORRECAO_REGIAO`, `FINAME_MODELO_NOVO`, `FREE_MAINTENANCE`, `GANHO_KM_RODADO`, `ICMS_ANUAL`, `ICMS_CARROCERIA`, `ICMS_CAVALO`, `IMPLEMENTO`, `IMPLEMENTO_SHARED`, `IPVA_LICENCIAMENTO`, `IPVA_LICENCIAMENTO_CAVALO`, `JUROS`, `KM_MES_ELD`, `KM_MES_ROAD_SHOW`, `KM_ODOMETRO`, `KM_TOTAL`, `LAVAGEM`, `LAVAGEM_POR_KM`, `LOGO_PADRAO`, `LOGO_PADRAO_SHARED`, `LUCRO_FINAME`, `LUCRO_FINAME_VARIAVEL`, `LUCRO_FIXO`, `LUCRO_TOTAL_CUSTO_VARIAVEL`, `LUCRO_VARIAVEL`, `MANUTENCAO_ANO`, `MANUTENCAO_BID`, `MANUTENCAO_CARROCERIA_REAIS_POR_KM`, `MANUTENCAO_COMPRA_FORA_DO_BID_AUTORIZADA`, `MANUTENCAO_CONTRATO`, `MANUTENCAO_FREE_MAINTENANCE`, `MANUTENCAO_REAIS_KM`, `MANUTENCAO_REAIS_POR_KM`, `MANUTENCAO_VIDA_MESES`, `MATERIAL`, `MATERIAL_SHARED`, `MEDIDA`, `MEDIDA_PNEU_SHARED`, `MES_ENTRADA`, `MES_ENTRADA_CARROCERIA`, `MES_ENTRADA_CAVALO`, `MES_ENTRADA_NOVO_MODELO`, `MES_PARCELA`, `MODELO`, `MODELO_CAVALO`, `MODELO_SHARED`, `MONTADORA`, `MOTOR`, `MOTOR_SHARED`, `ODOMETRO_PREVISTO`, `PERCENTUAL_ENTRADA`, `PERCENTUAL_RESIDUAL_5_ANOS_CARROCERIA`, `PERCENTUAL_RESIDUAL_5_ANOS_CAVALO`, `PERCENTUAL_RESIDUAL_8_ANOS_CARROCERIA`, `PERCENTUAL_RESIDUAL_8_ANOS_CAVALO`, `PERDA_ANO_VEICULO`, `PERFIL`, `PERFIL_SHARED`, `PERIODO_CARROCERIA`, `PERIODO_CAVALO`, `PERIODO_FINAME`, `PIS_CONFINS_ANUAL`, `PLACA`, `PNEU_POR_KM`, `PRECO_CAMARA`, `PRECO_LISO`, `PRECO_MONTAGEM`, `PRECO_PROTETOR`, `PRECO_RECAPAGEM`, `PRECO_TRACAO`, `QUANTIDADE_PNEUS`, `QUANTIDADE_RECAPAGEM`, `RASTREADOR`, `REAIS_KM`, `REMUNERACAO_K`, `REMUNERACAO_K_IMPOSTOS`, `REMUNERACAO_MODELO`, `REMUNERACAO_MODELO_SHARED`, `SEGURO`, `SPREAD_BANCO`, `SPREAD_BNDES`, `STATUS_FINANCIAMENTO`, `STATUS_FINANCIAMENTO_CARROCERIA`, `STATUS_FINANCIAMENTO_CARROCERIA_SHARED`, `STATUS_FINANCIAMENTO_CAVALO`, `STATUS_FINANCIAMENTO_CAVALO_SHARED`, `STATUS_FINANCIAMENTO_SHARED`, `TAXA_CUSTO_FIXO_CARROCERIA`, `TAXA_CUSTO_FIXO_CAVALO`, `TAXA_FINAME`, `TELEMETRIA_OBRIGATORIA`, `TIPO`, `TIPO_COMBUSTIVEL`, `TIPO_COMBUSTIVEL_SHARED`, `TIPO_SHARED`, `TJLP`, `TOTAL_CUSTO_FIXO`, `TOTAL_CUSTO_VARIAVEL`, `VALOR_COMPRA_CARROCERIA`, `VALOR_COMPRA_CAVALO`, `VALOR_ICMS_CARROCERIA`, `VALOR_ICMS_CAVALO`, `VALOR_LIQUIDO_DEPRECIACAO_CARROCERIA`, `VALOR_LIQUIDO_DEPRECIACAO_CAVALO`, `VALOR_LIQUIDO_REM_K_CARROCERIA`, `VALOR_LIQUIDO_REM_K_CAVALO`, `VALOR_PIS_CONFINS_CARROCERIA`, `VALOR_PIS_CONFINS_CAVALO`, `VALOR_PNEUS`, `VIDA_PNEUS_KM`, `_ID`\"\n",
    "        elif \"RESUMO VAN\" == aba:\n",
    "            tabela = \"RESUMO_VAN_ROTA\"   \n",
    "            colunas = \"`VIGENCIA`, `UNIDADE_CNPJ`, `UNIDADE_NOME`, `UNIDADE_SAP`, `UNIDADE_TMS`, `UNIDADE_PROMAX_UNB`, `UNIDADE_REGIONAL`, `OPERADOR_CNPJ`, `OPERADOR_NOME`, `OPERADOR_SAP`, `OPERADOR_TMS`, `OPERADOR_PROMAX`, `ORGANIZACAO_DE_COMPRAS`, `PRAZO_PAGAMENTO`, `ASSESSORIA_JURIDICA`, `BENEFICIOS`, `BENEFICIOS_AJUDANTE_POR_CAMINHAO`, `BENEFICIOS_MOTORISTA_POR_CAMINHAO`, `COMBUSTIVEL_R_KM`, `COMUNICACAO_FIXA`, `CONE`, `DEPRECIACAO_CAMINHAO`, `DEPRECIACAO_CAMINHAO_PARADO`, `DEPRECIACAO_CARROCERIA`, `DEPRECIACAO_CARROCERIA_PARADO`, `ENCARGOS_E_PROVISOES`, `FAD`, `FAIXA_REFLETIVA_PARADO`, `FAIXA_REFLEXIVA`, `FINAME_MODELO_NOVO`, `FINAME_MODELO_NOVO_PARADO`, `FROTA_LEVE`, `HES_RV_DSR_PROV_AJUDANTE`, `HES_RV_DSR_PROV_MOTORISTA`, `INCENTIVO`, `IPVA_LICEN_MENSAL`, `IPVA_LICENC_MENSAL_PARADO`, `KM_REMUNERADO`, `LAVAGEM`, `LINK`, `LUCRO_FINAME_MODELO_ANTIGO`, `LUCRO_FINAME_PARADO`, `LUCRO_FIXO_MODELO_NOVO`, `LUCRO_FIXO_MODELO_NOVO_PARADO`, `LUCRO_VARIAVEL_MODELO_NOVO`, `MANUTENCAO_CAMINHAO_R_KM`, `MANUTENCAO_CARRINHOS_TROCA`, `MANUTENCAO_CARROCERIA_R_KM`, `MANUTENCAO_SISTEMAS`, `MATERIAL_ESCRITORIO`, `OUTROS`, `PNEU_R_KM`, `PPRA`, `QUANTIDADE_AJUDANTE_POR_CAMINHAO`, `QUANTIDADE_MOTORISTA_POR_CAMINHAO`, `RASTREADOR`, `RASTREADOR_PARADO`, `REMUNERACAO_K`, `REMUNERACAO_K_IMPOSTOS`, `REMUNERACAO_K_IMPOSTOS_PARADO`, `REMUNERACAO_K_PARADO`, `REMUNERACAO_UNIDADE`, `SALARIO`, `SALARIO_FIXO_AJUDANTE_POR_CAMINHAO`, `SALARIO_FIXO_MOTORISTA_POR_CAMINHAO`, `SEGURO`, `SEGURO_PARADO`, `TELEFONIA_MOVEL`, `TOTAL_CAMINHAO_ATIVO`, `TOTAL_CAMINHAO_PARADO`, `TOTAL_CUSTO`, `TOTAL_EQUIPE_ENTREGA`, `TOTAL_ESTIMADA`, `TOTAL_FROTA`, `TOTAL_FROTA_ATIVA`, `TOTAL_FROTA_PARADA`, `TOTAL_OPERACIONAL_PREVISTO`, `TOTAL_OUTRAS_DESPESAS`, `TOTAL_POR_CAMINHAO_EQUIPE_DE_ENTREGA`, `TOTAL_POR_CAMINHAO_ESTIMADA`, `TOTAL_POR_CAMINHAO_FROTA_ATIVA`, `TOTAL_POR_CAMINHAO_FROTA_PARADA`, `TOTAL_POR_CAMINHAO_OPERACIONAL_PREVISTO`, `TOTAL_POR_CAMINHAO_OUTRAS_DESPESAS`, `TOTAL_POR_CAMINHAO_QLP_ADM`, `TOTAL_POR_CAMINHAO_VIAGENS`, `TOTAL_QLP_ADM`, `TOTAL_R_KM`, `TOTAL_VIAGENS`, `UNIFORME_AJUDANTE_POR_CAMINHAO`, `UNIFORME_MOTORISTA_POR_CAMINHAO`, `UNIFORMES`, `_ID`\"\n",
    "        elif \"ENCARGOS_COM_FERIAS\" == aba:\n",
    "            tabela = \"ENCARGOS_COM_FERIAS_ROTA\"\n",
    "            colunas = \"`VIGENCIA`, `UNIDADE_CNPJ`, `UNIDADE_NOME`, `UNIDADE_SAP`, `UNIDADE_TMS`, `UNIDADE_PROMAX_UNB`, `UNIDADE_REGIONAL`, `OPERADOR_CNPJ`, `OPERADOR_NOME`, `OPERADOR_SAP`, `OPERADOR_TMS`, `OPERADOR_PROMAX`, `ORGANIZACAO_DE_COMPRAS`, `PRAZO_PAGAMENTO`, `AUSENCIA_LEGAL`, `AUSENCIA_LEGAL_RPS_A`, `AUSENCIA_LEGAL_RPS_B`, `AUSENCIA_LEGAL_RPS_C`, `AVISO_PREVIO`, `AVISO_PREVIO_RPS_A`, `AVISO_PREVIO_RPS_B`, `AVISO_PREVIO_RPS_C`, `DIFERENCA_PROVISAO_FERIAS`, `DIFERENCA_PROVISAO_FERIAS_RPS_A`, `DIFERENCA_PROVISAO_FERIAS_RPS_B`, `DIFERENCA_PROVISAO_FERIAS_RPS_C`, `DECIMO_TERCEIRO_SALARIO`, `DECIMO_TERCEIRO_SALARIO_RPS_A`, `DECIMO_TERCEIRO_SALARIO_RPS_B`, `DECIMO_TERCEIRO_SALARIO_RPS_C`, `FGTS`, `FERIAS_1_3`, `FERIAS_1_3_RPS_A`, `FERIAS_1_3_RPS_B`, `FERIAS_1_3_RPS_C`, `FERIAS_NORMAIS`, `FERIAS_NORMAIS_RPS_A`, `FERIAS_NORMAIS_RPS_B`, `FERIAS_NORMAIS_RPS_C`, `FERIAS_PROPORCIONAIS_INDENIZADAS`, `FERIAS_PROPORCIONAIS_INDENIZADAS_RPS_A`, `FERIAS_PROPORCIONAIS_INDENIZADAS_RPS_B`, `FERIAS_PROPORCIONAIS_INDENIZADAS_RPS_C`, `INCRA`, `INSS`, `INCIDENCIA_CUMULATIVA`, `MULTA_FGTS`, `SEBRAE`, `SENAT`, `SEST`, `SALARIO_EDUCACAO`, `SEGURO_ACIDENTE_DE_TRABALHO`, `TOTAL`, `TOTAL_ENCARGOS`, `TOTAL_PROVISOES`, `TOTAL_RPS_A`, `TOTAL_RPS_B`, `TOTAL_RPS_C`, `AVISO_PREVIO_FORMULA`, `DIAS_DE_AVISO`, `FERIAS_PROPORCIONAIS_INDENIZADAS_FORMULA`, `INCIDENCIA_UM_TERCO_FERIAS_SOBRE_AVISO`, `INCIDENCIA_UM_TERCO_FERIAS_SOBRE_AVISO_RPS_A`, `INCIDENCIA_UM_TERCO_FERIAS_SOBRE_AVISO_RPS_B`, `INCIDENCIA_UM_TERCO_FERIAS_SOBRE_AVISO_RPS_C`, `INVOLUNTARIO`, `MES_DISSIDIO`, `TEMPO_MEDIO_CASA`, `TURN_OVER`, `VOLUNTARIO`, `_ID`\"\n",
    "        elif \"ENCARGOS_SEM_FERIAS\" == aba:\n",
    "            tabela = \"ENCARGOS_SEM_FERIAS_ROTA\"  \n",
    "            colunas = \"`VIGENCIA`, `UNIDADE_CNJP`, `UNIDADE_NOME`, `UNIDADE_SAP`, `UNIDADE_TMS`, `UNIDADE_PROMAX_UNB`, `UNIDADE_REGIONAL`, `OPERADOR_CNJP`, `OPERADOR_NOME`, `OPERADOR_SAP`, `OPERADOR_TMS`, `OPERADOR_PROMAX`, `ORGANIZACAO_DE_COMPRAS`, `PRAZO_PAGAMENTO`, `AUSENCIA_LEGAL`, `AUSENCIA_LEGAL_RPS_A`, `AUSENCIA_LEGAL_RPS_B`, `AUSENCIA_LEGAL_RPS_C`, `AVISO_PREVIOUS`, `AVISO_PREVIOUS_RPS_A`, `AVISO_PREVIOUS_RPS_B`, `AVISO_PREVIOUS_RPS_C`, `DIFERENCA_PROVISAO_FERIAS`, `DIFERENCA_PROVISAO_FERIAS_RPS_A`, `DIFERENCA_PROVISAO_FERIAS_RPS_B`, `DIFERENCA_PROVISAO_FERIAS_RPS_C`, `DECIMO_TERCEIRO_SALARIO`, `DECIMO_TERCEIRO_SALARIO_RPS_A`, `DECIMO_TERCEIRO_SALARIO_RPS_B`, `DECIMO_TERCEIRO_SALARIO_RPS_C`, `FGTS`, `FERIAS_1_3`, `FERIAS_1_3_RPS_A`, `FERIAS_1_3_RPS_B`, `FERIAS_1_3_RPS_C`, `FERIAS_NORMAIS`, `FERIAS_NORMAIS_RPS_A`, `FERIAS_NORMAIS_RPS_B`, `FERIAS_NORMAIS_RPS_C`, `FERIAS_PROPORCIONAIS_INDENIZADAS`, `FERIAS_PROPORCIONAIS_INDENIZADAS_RPS_A`, `FERIAS_PROPORCIONAIS_INDENIZADAS_RPS_B`, `FERIAS_PROPORCIONAIS_INDENIZADAS_RPS_C`, `INCRA`, `INSS`, `INCIDENCIA_CUMULATIVA`, `MULTA_FGTS`, `SEBRAE`, `SENAT`, `SEST`, `SALARIO_EDUCACAO`, `SEGURO_ACIDENTE_DE_TRABALHO`, `TOTAL`, `TOTAL_ENCARGOS`, `TOTAL_PROVISOES`, `TOTAL_RPS_A`, `TOTAL_RPS_B`, `TOTAL_RPS_C`, `AVISOPREVIOFORMULA`, `DIASDEAVISO`, `FERIASPROPORCIONAISINDENIZADASFORMULA`, `INCIDENCIAUMTERCOFERIASOBREAVISO`, `INCIDENCIAUMTERCOFERIASOBREAVISORPSA`, `INCIDENCIAUMTERCOFERIASOBREAVISORPSB`, `INCIDENCIAUMTERCOFERIASOBREAVISORPSC`, `INVOLUNTARIO`, `MESDISSIDIO`, `TEMPO_MEDIO_CASA`, `TURNOVER`, `VOLUNTARIO`, `_ID`\"\n",
    "        elif \"RESUMO_SRTRANS\" == aba:\n",
    "            tabela = \"RESUMO_SRTRANS_ROTA\"\n",
    "            colunas = \"`VIGENCIA`, `UNIDADE_CNPJ`, `UNIDADE_NOME`, `UNIDADE_SAP`, `UNIDADE_TMS`, `UNIDADE_PROMAX_UNB`, `UNIDADE_REGIONAL`, `OPERADOR_CNPJ`, `OPERADOR_NOME`, `OPERADOR_SAP`, `OPERADOR_TMS`, `OPERADOR_PROMAX`, `ORGANIZACAO_DE_COMPRAS`, `PRAZO_PAGAMENTO`, `ADERENCIA_AO_TRACKING`, `AJUDANTE_FATOR_1_BATE_JORNADA`, `AJUDANTE_FATOR_1_NAO_BATE_JORNADA`, `AJUDANTE_FATOR_1_RECARGA`, `AJUDANTE_FATOR_1_RECARGA_VIAGEM`, `AJUDANTE_FATOR_2_BATE_JORNADA`, `AJUDANTE_FATOR_2_NAO_BATE_JORNADA`, `AJUDANTE_FATOR_2_RECARGA`, `AJUDANTE_FATOR_2_RECARGA_VIAGEM`, `CUSTO_AJUDANTE`, `CUSTO_AJUDANTE_RESERVA`, `CUSTO_EQUIPE_ENTREGA_ESPECIAL`, `CUSTO_EQUIPE_ENTREGA_FIXO`, `CUSTO_EQUIPE_ENTREGA_MARKETING`, `CUSTO_EQUIPE_ENTREGA_NOTURNA`, `CUSTO_EQUIPE_ENTREGA_PADRAO`, `CUSTO_EQUIPE_ENTREGA_REFRIGERACAO`, `CUSTO_FIXO`, `CUSTO_FIXO_ESPECIAL`, `CUSTO_FIXO_FINAME`, `CUSTO_FIXO_MARKETING`, `CUSTO_FIXO_NOTURNA`, `CUSTO_FIXO_PADRAO`, `CUSTO_FIXO_QUITADO`, `CUSTO_FIXO_REFRIGERACAO`, `CUSTO_VARIAVEL_ESPECIAL`, `CUSTO_VARIAVEL_FIXO`, `CUSTO_VARIAVEL_MARKETING`, `CUSTO_VARIAVEL_NOTURNA`, `CUSTO_VARIAVEL_PADRAO`, `CUSTO_VARIAVEL_RECARGA`, `CUSTO_VARIAVEL_REFRIGERACAO`, `CUSTOS_INDIRETOS_ESPECIAL`, `CUSTOS_INDIRETOS_FIXO`, `CUSTOS_INDIRETOS_MARKETING`, `CUSTOS_INDIRETOS_NOTURNA`, `CUSTOS_INDIRETOS_PADRAO`, `CUSTOS_INDIRETOS_REFRIGERACAO`, `ENCARGOS`, `ENTREGUE_TRACKING`, `FINAME`, `FATOR_AJUDANTE`, `FATOR_PRIMEIRA_VIAGEM_AJUDANTE`, `ITEM_1_DESCRICAO`, `ITEM_1_REM`, `ITEM_1_REM_AJUDANTE`, `ITEM_1_REM_MOTORISTA`, `ITEM_1_REM_VALOR`, `ITEM_1_REMUNERACAO`, `ITEM_1_VALOR`, `ITEM_2_DESCRICAO`, `ITEM_2_REM`, `ITEM_2_REM_AJUDANTE`, `ITEM_2_REM_MOTORISTA`, `ITEM_2_REM_VALOR`, `ITEM_2_REMUNERACAO`, `ITEM_2_VALOR`, `ITEM_3_DESCRICAO`, `ITEM_3_REM`, `ITEM_3_REM_AJUDANTE`, `ITEM_3_REM_MOTORISTA`, `ITEM_3_REM_VALOR`, `ITEM_3_REMUNERACAO`, `ITEM_3_VALOR`, `LUCRO_ESPECIAL`, `LUCRO_FIXO`, `LUCRO_MARKETING`, `LUCRO_NOTURNA`, `LUCRO_PADRAO`, `LUCRO_REFRIGERACAO`, `META`, `META_DISPONIB_FF`, `META_JORNADA_LIQUIDA`, `META_JORNADA_LIQUIDA_12X36_HH`, `META_JORNADA_LIQUIDA_12X36_MM`, `META_JORNADA_LIQUIDA_HORA`, `META_JORNADA_LIQUIDA_MM`, `META_JORNADA_LIQUIDA_MINUTO`, `MOTORISTA_FATOR_1_BATE_JORNADA`, `MOTORISTA_FATOR_1_NAO_BATE_JORNADA`, `MOTORISTA_FATOR_1_RECARGA`, `MOTORISTA_FATOR_1_RECARGA_VIAGEM`, `MOTORISTA_FATOR_2_BATE_JORNADA`, `MOTORISTA_FATOR_2_NAO_BATE_JORNADA`, `MOTORISTA_FATOR_2_RECARGA`, `MOTORISTA_FATOR_2_RECARGA_VIAGEM`, `NIVEL_DE_SERVICO`, `NUMERO_MINIMO_DE_VIAGENS`, `PAGAR_LUCRO`, `PAGAR_REMUNERACAO`, `REALIZAR_DESCONTO`, `TOTAL_VEICULO_ESPECIAL`, `TOTAL_VEICULO_FIXO`, `TOTAL_VEICULO_MARKETING`, `TOTAL_VEICULO_NOTURNA`, `TOTAL_VEICULO_PADRAO`, `TOTAL_VEICULO_REFRIGERACAO`, `TOTAL_VEICULOS_INATIVOS_AMBEV`, `TOTAL_VEICULOS_INATIVOS_FINAME`, `TOTAL_VEICULOS_INATIVOS_QUITADO`, `TOTAL_VEICULOS_INATIVOS_TOTAL`, `VALOR_BONUS_AJUDANTE`, `VALOR_BONUS_MOTORISTA`, `VALOR_LUCRO`, `VALOR_PONTO_AJUDANTE`, `VALOR_PONTO_AJUDANTE_PARA_CADA`, `VALOR_PONTO_MOTORISTA`, `VALOR_PONTO_MOTORISTA_PARA_CADA`, `CUSTOFIXOEXIFRS16`, `CUSTOFIXOIFRS16`, `_ID`\"   \n",
    "        elif \"RESUMO_SRTRANS_VAN\" == aba:\n",
    "            tabela = \"RESUMO_SRTRANS_VAN_ROTA\"  \n",
    "            colunas = \"`VIGENCIA`, `UNIDADE_CNPJ`, `UNIDADE_NOME`, `UNIDADE_SAP`, `UNIDADE_TMS`, `UNIDADE_PROMAX_UNB`, `UNIDADE_REGIONAL`, `OPERADOR_CNPJ`, `OPERADOR_NOME`, `OPERADOR_SAP`, `OPERADOR_TMS`, `OPERADOR_PROMAX`, `ORGANIZACAO_DE_COMPRAS`, `PRAZO_PAGAMENTO`, `ADERENCIA_AO_TRACKING`, `AJUDANTE_FATOR_1_BATE_JORNADA`, `AJUDANTE_FATOR_1_NAO_BATE_JORNADA`, `AJUDANTE_FATOR_1_RECARGA`, `AJUDANTE_FATOR_1_RECARGA_VIAGEM`, `AJUDANTE_FATOR_2_BATE_JORNADA`, `AJUDANTE_FATOR_2_NAO_BATE_JORNADA`, `AJUDANTE_FATOR_2_RECARGA`, `AJUDANTE_FATOR_2_RECARGA_VIAGEM`, `CUSTO_AJUDANTE`, `CUSTO_AJUDANTE_RESERVA`, `CUSTO_EQUIPE_ENTREGA_ESPECIAL`, `CUSTO_EQUIPE_ENTREGA_FIXO`, `CUSTO_EQUIPE_ENTREGA_MARKETING`, `CUSTO_EQUIPE_ENTREGA_NOTURNA`, `CUSTO_EQUIPE_ENTREGA_PADRAO`, `CUSTO_EQUIPE_ENTREGA_REFRIGERACAO`, `CUSTO_FIXO_ESPECIAL`, `CUSTO_FIXO_FINAME`, `CUSTO_FIXO_FIXO`, `CUSTO_FIXO_MARKETING`, `CUSTO_FIXO_NOTURNA`, `CUSTO_FIXO_PADRAO`, `CUSTO_FIXO_QUITADO`, `CUSTO_FIXO_REFRIGERACAO`, `CUSTO_VARIAVEL_ESPECIAL`, `CUSTO_VARIAVEL_FIXO`, `CUSTO_VARIAVEL_MARKETING`, `CUSTO_VARIAVEL_NOTURNA`, `CUSTO_VARIAVEL_PADRAO`, `CUSTO_VARIAVEL_RECARGA`, `CUSTO_VARIAVEL_REFRIGERACAO`, `CUSTOS_INDIRETOS_ESPECIAL`, `CUSTOS_INDIRETOS_FIXO`, `CUSTOS_INDIRETOS_MARKETING`, `CUSTOS_INDIRETOS_NOTURNA`, `CUSTOS_INDIRETOS_PADRAO`, `CUSTOS_INDIRETOS_REFRIGERACAO`, `ENCARGOS`, `ENTREGUE_TRACKING`, `FATOR_AJUDANTE`, `FATOR_PRIMEIRA_VIAGEM_AJUDANTE`, `FINAME`, `ITEM_1_DESCRICAO`, `ITEM_1_REM`, `ITEM_1_REM_AJUDANTE`, `ITEM_1_REM_MOTORISTA`, `ITEM_1_REM_VALOR`, `ITEM_1_REMUNERACAO`, `ITEM_1_VALOR`, `ITEM_2_DESCRICAO`, `ITEM_2_REM`, `ITEM_2_REM_AJUDANTE`, `ITEM_2_REM_MOTORISTA`, `ITEM_2_REM_VALOR`, `ITEM_2_REMUNERACAO`, `ITEM_2_VALOR`, `ITEM_3_DESCRICAO`, `ITEM_3_REM`, `ITEM_3_REM_AJUDANTE`, `ITEM_3_REM_MOTORISTA`, `ITEM_3_REM_VALOR`, `ITEM_3_REMUNERACAO`, `ITEM_3_VALOR`, `LUCRO_ESPECIAL`, `LUCRO_FIXO`, `LUCRO_MARKETING`, `LUCRO_NOTURNA`, `LUCRO_PADRAO`, `LUCRO_REFRIGERACAO`, `META`, `META_DISPONIVEL_FF`, `META_JORNADA_LIQUIDA`, `META_JORNADA_LIQUIDA_12X36_HH`, `META_JORNADA_LIQUIDA_12X36_MM`, `META_JORNADA_LIQUIDA_HORA`, `META_JORNADA_LIQUIDA_MM`, `META_JORNADA_LIQUIDA_MINUTO`, `MOTORISTA_FATOR_1_BATE_JORNADA`, `MOTORISTA_FATOR_1_NAO_BATE_JORNADA`, `MOTORISTA_FATOR_1_RECARGA`, `MOTORISTA_FATOR_1_RECARGA_VIAGEM`, `MOTORISTA_FATOR_2_BATE_JORNADA`, `MOTORISTA_FATOR_2_NAO_BATE_JORNADA`, `MOTORISTA_FATOR_2_RECARGA`, `MOTORISTA_FATOR_2_RECARGA_VIAGEM`, `NIVEL_DE_SERVICO`, `NUMERO_MINIMO_DE_VIAGENS`, `PAGAR_LUCRO`, `PAGAR_REMUNERACAO`, `REALIZAR_DESCONTO`, `TOTAL_VEICULO_PADRAO`, `TOTAL_VEICULO_ESPECIAL`, `TOTAL_VEICULO_FIXO`, `TOTAL_VEICULOS_INATIVOS_AMBEV`, `TOTAL_VEICULOS_INATIVOS_FINAME`, `TOTAL_VEICULOS_INATIVOS_QUITADO`, `TOTAL_VEICULOS_INATIVOS_TOTAL`, `TOTAL_VEICULO_MARKETING`, `TOTAL_VEICULO_NOTURNA`, `TOTAL_VEICULO_REFRIGERACAO`, `VALOR_BONUS_AJUDANTE`, `VALOR_BONUS_MOTORISTA`, `VALOR_LUCRO`, `VALOR_PONTO_AJUDANTE`, `VALOR_PONTO_AJUDANTE_PARA_CADA`, `VALOR_PONTO_MOTORISTA`, `VALOR_PONTO_MOTORISTA_PARA_CADA`, `_ID`\"\n",
    "        else :\n",
    "            tabela = aba\n",
    "            colunas = \"\"\n",
    "\n",
    "    return tabela, colunas\n",
    "\n",
    "def colunas_tabela(tabela):\n",
    "    colunas = \"\"  # Initialize colunas to avoid UnboundLocalError \n",
    "    if tabela == \"EQP_ENTREGA_ROTA\":\n",
    "        colunas = \"`VIGENCIA`, `UNIDADE_CNPJ`, `UNIDADE_NOME`, `UNIDADE_SAP`, `UNIDADE_TMS`, `UNIDADE_PROMAX_UNB`, `UNIDADE_REGIONAL`, `OPERADOR_CNPJ`, `OPERADOR_NOME`, `OPERADOR_SAP`, `OPERADOR_TMS`, `OPERADOR_PROMAX`, `ORGANIZACAO_DE_COMPRAS`, `PRAZO_PAGAMENTO`, `CARGO`, `DSR`, `HORA_EXTRA_FIXA`, `OUTROS`, `PERCENTUAL_ABSENTEÍSMO`, `PERCENTUAL_ENCARGO_E_PROVISÃO`, `PERCENTUAL_HORA_EXTRA`, `PERCENTUAL_TURN_OVER_ANO`, `PISO_SALARIAL`, `PREMIAÇÃO_PLUS`, `QUANTIDADE_HORA_EXTRA_FIXA`, `QUANTIDADE_TOTAL_X_CAMINHÃO_ATIVO`, `QUANTIDADE_POR_CAMINHÃO`, `REMUNERAÇÃO_FIXA_CONTRA_CHEQUE`, `TOTAL_ORDENADO`, `TOTAL_REMUNERAÇÃO`, `TOTAL_REMUNERAÇÃO_BENEFÍCIO`, `TURNO`, `DURACAOABONO`, `EQUIPEPARTTIME`, `QUANTIDADEHORASMESPARTTIME`, `VALORABONO`, `VALORABONOAPLICADO`, `_ID`\"\n",
    "    elif tabela == \"EQP_FAD_ROTA\":\n",
    "        colunas = \"`VIGENCIA`, `UNIDADE_CNPJ`, `UNIDADE_NOME`, `UNIDADE_SAP`, `UNIDADE_TMS`, `UNIDADE_PROMAX_UNB`, `UNIDADE_REGIONAL`, `OPERADOR_CNPJ`, `OPERADOR_NOME`, `OPERADOR_SAP`, `OPERADOR_TMS`, `OPERADOR_PROMAX`, `ORGANIZACAO_DE_COMPRAS`, `PRAZO_PAGAMENTO`, `BENEFICIOS`, `CARGO`, `PERCENTUAL_ENCARGO_E_PROVISÃO`, `QUANTIDADE`, `VALOR_TOTAL`, `VALOR_UNITARIO`, `_ID`\"\n",
    "    elif tabela == \"EQP_NOTURNA_ROTA\":\n",
    "        colunas = \"`VIGENCIA`, `UNIDADE_CNPJ`, `UNIDADE_NOME`, `UNIDADE_SAP`, `UNIDADE_TMS`, `UNIDADE_PROMAX_UNB`, `UNIDADE_REGIONAL`, `OPERADOR_CNPJ`, `OPERADOR_NOME`, `OPERADOR_SAP`, `OPERADOR_TMS`, `OPERADOR_PROMAX`, `ORGANIZACAO_DE_COMPRAS`, `PRAZO_PAGAMENTO`, `ADCIONAL_NOTURNO`, `CARGO`, `CUSTO_OPERACIONAL`, `DSR`, `EQUIPE_DE_ENTREGA`, `PERCENTUAL_ADCIONAL_NOTURNO`, `PERCENTUAL_PROVISAO_ENCARGOS_COM_FERIAS`, `PERCENTUAL_PROVISAO_ENCARGOS_SEM_FERIAS`, `PISO_SALARIAL`, `QUANTIDADE_HORA_NOTURNA`, `TOTAL_CUSTO_FIXO`, `TOTAL_CUSTO_VARIAVEL`, `TOTAL_UNIFORME_EPI`, `TURNO`, `_ID`\"\n",
    "    elif tabela == \"EQP_VAN_ROTA\":\n",
    "        colunas = \"`VIGENCIA`, `UNIDADE_CNPJ`, `UNIDADE_NOME`, `UNIDADE_SAP`, `UNIDADE_TMS`, `UNIDADE_PROMAX_UNB`, `UNIDADE_REGIONAL`, `OPERADOR_CNPJ`, `OPERADOR_NOME`, `OPERADOR_SAP`, `OPERADOR_TMS`, `OPERADOR_PROMAX`, `ORGANIZACAO_DE_COMPRAS`, `PRAZO_PAGAMENTO`, `CARGO`, `DSR`, `HORA_EXTRA_FIXA`, `OUTROS`, `PERCENTUAL_ABSENTEÍSMO`, `PERCENTUAL_ENCARGO_E_PROVISÃO`, `PERCENTUAL_HORA_EXTRA`, `PERCENTUAL_TURN_OVER_ANO`, `PISO_SALARIAL`, `PREMIAÇÃO_PLUS`, `QUANTIDADE_HORA_EXTRA_FIXA`, `QUANTIDADE_TOTAL_X_CAMINHÃO_ATIVO`, `QUANTIDADE_POR_CAMINHÃO`, `REMUNERAÇÃO_FIXA_CONTRA_CHEQUE`, `TOTAL_ORDENADO`, `TOTAL_REMUNERAÇÃO`, `TOTAL_REMUNERAÇÃO_BENEFÍCIO`, `TURNO`, `DURACA_ABONO`, `EQUIPE_PART_TIME`, `QUANTIDA_DE_HORAS_MES_PARTTIME`, `VALOR_ABONO`, `VALOR_ABONO_APLICADO`, `_ID`\"\n",
    "    elif tabela == \"CAMINHAO_ROTA\":\n",
    "        colunas = \"`VIGENCIA`, `UNIDADE_CNPJ`, `UNIDADE_NOME`, `UNIDADE_SAP`, `UNIDADE_TMS`, `UNIDADE_PROMAX_UNB`, `UNIDADE_REGIONAL`, `OPERADOR_CNPJ`, `OPERADOR_NOME`, `OPERADOR_SAP`, `OPERADOR_TMS`, `OPERADOR_PROMAX`, `ORGANIZACAO_DE_COMPRAS`, `PRAZO_PAGAMENTO`, `AMORTIZACAO`, `ANO`, `ANO_CARROCERIA`, `ANO_CAVALO`, `ANO_VEICULO`, `ATIVO`, `BENCHMARK_CONSUMO`, `CAPACIDADE_DE_PALLETS`, `CAPACIDADE_EM_CAIXAS`, `CARENCIA`, `CICLO_CARROCERIA`, `CICLO_CAVALO`, `CONSUMO_KM_L`, `CONSUMO_RS_KM`, `CUSTO_ALUGUEL`, `DATA_ALTERACAO_ODOMETRO`, `DATA_ENTRADA`, `DEPRECIACAO_CARROCERIA`, `DEPRECIACAO_CAVALO`, `EIXO_DIANTEIRO`, `EIXO_TRASEIRO`, `ENTRADA`, `FINAME_MODELO_NOVO`, `FAIXA_REFLEXIVA`, `FATOR_CORRECAO_REGIAO`, `GANHO_POR_KM_RODADO`, `ICMS_ANUAL`, `ICMS_CARROCERIA`, `ICMS_CAVALO`, `IPVA_LICENCIAMENTO`, `IPVA_LICENCIAMENTO_CAVALO`, `IMPLEMENTO`, `JUROS`, `KM_MES_ELD`, `KM_MES_ROADSHOW`, `KM_ODOMETRO`, `KM_TOTAL`, `LAVAGEM`, `LOGO_PADRAO`, `LUCRO_FINAME`, `LUCRO_FINAME_VARIAVEL`, `LUCRO_FIXO`, `LUCRO_TOTAL_CUSTO_VARIAVEL`, `LUCRO_VARIAVEL`, `MANUTENCAO_CARROCERIA_RS_KM`, `MANUTENCAO_RS_KM`, `MATERIAL`, `MEDIDA_PNEU`, `MODELO`, `MODELO_CAVALO`, `MONTADORA`, `MOTOR`, `MES_PARCELA`, `MES_ENTRADA_CARROCERIA`, `MES_ENTRADA_CAVALO`, `MES_ENTRADA_NOVO_MODELO`, `ODOMETRO_PREVISTO`, `PIS_COFINS_ANUAL`, `PERCENT_RESIDUAL_CINCO_ANOS_CAVALO`, `PERCENT_RESIDUAL_CINCO_ANOS_CARROCERIA`, `PERCENT_RESIDUAL_OITO_ANOS_CARROCERIA`, `PERCENT_RESIDUAL_OITO_ANOS_CAVALO`, `PERDA_ANO_VEICULO`, `PERFIL`, `PERIODO_CAVALO`, `PERIODO_FINAME`, `PLACA`, `PNEU_POR_KM`, `PRECO_LISO`, `PRECO_MONTAGEM`, `PRECO_PROTETOR`, `PRECO_RECAPAGEM`, `PRECO_TRACAO`, `PRECO_CAMERA`, `QUANTIDADE_PNEUS`, `QUANTIDADE_RECAPAGEM`, `RS_KM`, `RASTREADOR`, `REMUNERACAO_K`, `REMUNERACAO_K_IMPOSTOS`, `REMUNERACAO_MODELO`, `SEGURO`, `SPREAD_BNDES`, `SPREAD_BANCO`, `TJLP`, `TAXA_CUSTO_FIXO_CARROCERIA`, `TAXA_CUSTO_FIXO_CAVALO`, `TAXA_FINAME`, `TIPO`, `TOTAL_CUSTO_FIXO`, `TOTAL_CUSTO_VARIAVEL`, `VALOR_ICMS_CARROCERIA`, `VALOR_ICMS_CAVALO`, `VALOR_LIQUIDO_DEPRECIACAO_CAVALO`, `VALOR_LIQUIDO_DEPRECIACAO_CARROCERIA`, `VALOR_LIQUIDO_REMUNERACAO_K_CARROCERIA`, `VALOR_LIQUIDO_REMUNERACAO_K_CAVALO`, `VALOR_PIS_COFINS_CARROCERIA`, `VALOR_PIS_COFINS_CAVALO`, `VALOR_PNEU`, `VALOR_COMPRA_CARROCERIA`, `VALOR_COMPRA_CAVALO`, `VIDA_PNEUS_KM`, `ANO_BID`, `CHASSI`, `CUSTO_VARIAVEL_SIMULADO`, `FREE_MAINTENANCE`, `LOGO_PADRAO_SHARED`, `MANUTENCAO_ANO`, `MANUTENCAO_BID`, `MANUTENCAO_COMPRA_FORA_DO_BID_AUTORIZADA`, `MANUTENCAO_CONTRATO`, `MANUTENCAO_FREE_MAINTENANCE`, `MANUTENCAO_REAIS_KM`, `MANUTENCAO_VIDA_MESES`, `MATERIAL_SHARED`, `MODELO_SHARED`, `MOTOR_SHARED`, `PERCENTUAL_REAJUSTE_APLICADO`, `PERFIL_SHARED`, `STATUS_FINANCIAMENTO_CARROCERIA_SHARED`, `STATUS_FINANCIAMENTO_CAVALO_SHARED`, `STATUS_FINANCIAMENTO_SHARED`, `TELEMETRIA_OBRIGATORIA`, `TIPO_COMBUSTIVEL_SHARED`, `VALOR_REAJUSTADO`, `_ID`\"\n",
    "    elif tabela == \"FATURAMENTO_ROTA\":\n",
    "        colunas = \"`VIGENCIA`, `UNIDADE_CNPJ`, `UNIDADE_NOME`, `UNIDADE_SAP`, `UNIDADE_TMS`, `UNIDADE_PROMAX_UNB`, `UNIDADE_REGIONAL`, `OPERADOR_CNPJ`, `OPERADOR_NOME`, `OPERADOR_SAP`, `OPERADOR_TMS`, `OPERADOR_PROMAX`, `ORGANIZACAO_DE_COMPRAS`, `PRAZO_PAGAMENTO`, `CUSTO_FIXO_FROTA_ATIVO_BRUTO`, `CUSTO_FIXO_FROTA_ATIVO_QUANTIDADE`, `CUSTO_FIXO_FROTA_ATIVA_BRUTO_POR_CAMINHAO`, `CUSTO_FIXO_FROTA_INATIVA_BRUTO`, `CUSTO_FIXO_FROTA_INATIVA_BRUTO_QUANTIDADE`, `CUSTO_FIXO_FROTA_INATIVA_BRUTO_POR_CAMINHAO`, `CUSTO_FIXO_LIQUIDO`, `CUSTO_FIXO_LIQUIDO_QUANTIDADE`, `CUSTO_FIXO_LIQUIDO_POR_CAMINHAO`, `CUSTO_VARIAVEL_FROTA_ATIVA_BRUTO`, `CUSTO_VARIAVEL_FROTA_ATIVA_BRUTO_QUANTIDADE`, `CUSTO_VARIAVEL_FROTA_ATIVA_BRUTO_POR_CAMINHAO`, `CUSTO_VARIAVEL_LIQUIDO`, `CUSTO_VARIAVEL_LIQUIDO_QUANTIDADE`, `CUSTO_VARIAVEL_LIQUIDO_POR_CAMINHAO`, `DENTRO_DO_MUNICIPIO_BRUTO`, `DENTRO_DO_MUNICIPIO_BRUTO_QUANTIDADE`, `DENTRO_DO_MUNICIPIO_BRUTO_POR_CAMINHAO`, `FORA_DO_MUNICIPIO_BRUTO`, `FORA_DO_MUNICIPIO_BRUTO_QUANTIDADE`, `FORA_DO_MUNICIPIO_BRUTO_POR_CAMINHAO`, `IMPOSTO_DENTRO_MUNICIPIO_BRUTO`, `IMPOSTO_DENTRO_MUNICIPIO_BRUTO_QUANTIDADE`, `IMPOSTO_DENTRO_MUNICIPIO_BRUTO_POR_CAMINHAO`, `IMPOSTO_FORA_MUNICIPIO_BRUTO`, `IMPOSTO_FORA_MUNICIPIO_BRUTO_QUANTIDADE`, `IMPOSTO_FORA_MUNICIPIO_BRUTO_POR_CAMINHAO`, `LUCRO_OPERACIONAL_VARIAVEL_LIQUIDO`, `LUCRO_OPERACIONAL_VARIAVEL_LIQUIDO_QUANTIDADE`, `LUCRO_OPERACIONAL_VARIAVEL_LIQUIDO_POR_CAMINHAO`, `REMUNERACAO_FIXA_EQUIPE_DE_ENTREGA_LIQUIDO`, `REMUNERACAO_FIXA_EQUIPE_DE_ENTREGA_LIQUIDO_QUANTIDADE`, `REMUNERACAO_FIXA_EQUIPE_DE_ENTREGA_LIQUIDO_POR_CAMINHAO`, `REMUNERACAO_FIXA_FROTA_ATIVA_LIQUIDO`, `REMUNERACAO_FIXA_FROTA_ATIVA_LIQUIDO_POR_CAMINHAO`, `REMUNERACAO_FIXA_FROTA_ATIVA_LIQUIDO_QUANTIDADE`, `REMUNERACAO_FIXA_FROTA_PARADA_LIQUIDO`, `REMUNERACAO_FIXA_FROTA_PARADA_LIQUIDO_QUANTIDADE`, `REMUNERACAO_FIXA_FROTA_PARADA_LIQUIDO_POR_CAMINHAO`, `REMUNERACAO_FIXA_QLP_ADM_LIQUIDO`, `REMUNERACAO_FIXA_QLP_ADM_QUANTIDADE`, `REMUNERACAO_FIXA_QLP_ADM_LIQUIDO_POR_CAMINHAO`, `REMUNERACAO_OUTRAS_DESPESAS_LIQUIDO`, `REMUNERACAO_OUTRAS_DESPESAS_LIQUIDO_QUANTIDADE`, `REMUNERACAO_OUTRAS_DESPESAS_LIQUIDO_POR_CAMINHAO`, `REMUNERACAO_VARIAVEL_LIQUIDO`, `REMUNERACAO_VARIAVEL_LIQUIDO_QUANTIDADE`, `REMUNERACAO_VARIAVEL_LIQUIDO_POR_CAMINHAO`, `TOTAL`, `TOTAL_CAMINHAO_ATIVO`, `TOTAL_CAMINHAO_PARADO`, `TOTAL_CUSTO_VARIAVEL_LIQUIDO`, `TOTAL_CUSTO_VARIAVEL_LIQUIDO_QUANTIDADE`, `TOTAL_CUSTO_VARIAVEL_LIQUIDO_POR_CAMINHAO`, `TOTAL_LIQUIDO`, `TOTAL_LIQUIDO_QUANTIDADE`, `TOTAL_LIQUIDO_POR_CAMINHAO`, `TOTAL_QUANTIDADE`, `TOTAL_POR_CAMINHAO`, `_ID`\"\n",
    "    elif tabela == \"QLP_ADM_ROTA\":\n",
    "        colunas = \"`VIGENCIA`, `UNIDADE_CNPJ`, `UNIDADE_NOME`, `UNIDADE_SAP`, `UNIDADE_TMS`, `UNIDADE_PROMAX_UNB`, `UNIDADE_REGIONAL`, `OPERADOR_CNPJ`, `OPERADOR_NOME`, `OPERADOR_SAP`, `OPERADOR_TMS`, `OPERADOR_PROMAX`, `ORGANIZACAO_DE_COMPRAS`, `PRAZO_PAGAMENTO`, `CARGO`, `DESPESA_BENEFICIO`, `DESPESA_ENCARGOS`, `DESPESA_FROTA_LEVA`, `DESPESA_ORDENADOS`, `DESPESA_TELEFONIA`, `DESPESA_UNIFORMES`, `QLP_BENCHMARK_QUANTIDADE`, `QLP_BENCHMARK_SALARIO`, `QUANTIDADE_BENEFICIO`, `QUANTIDADE_ENCARGOS`, `QUANTIDADE_FROTA_LEVE`, `QUANTIDADE_ORDENADOS`, `QUANTIDADE_TELEFONIA`, `QUANTIDADE_UNIFORMES`, `SALARIO_ENCARGOS`, `SALARIO_ORDENADOS`, `VALE_TRANSPORTE`, `VALOR_BENEFICIO`, `VALOR_FROTA_LEVE`, `VALOR_TELEFONIA`, `VALOR_UNIFORMES`, `_ID`\"\n",
    "    elif tabela == \"RECARGA_ROTA\":\n",
    "        colunas = \"`VIGENCIA`, `UNIDADE_CNPJ`, `UNIDADE_NOME`, `UNIDADE_SAP`, `UNIDADE_TMS`, `UNIDADE_PROMAX_UNB`, `UNIDADE_REGIONAL`, `OPERADOR_CNPJ`, `OPERADOR_NOME`, `OPERADOR_SAP`, `OPERADOR_TMS`, `OPERADOR_PROMAX`, `ORGANIZACAO_DE_COMPRAS`, `PRAZO_PAGAMENTO`, `COMBUSTIVEL_POR_KM`, `CUSTO_VARIAVEL_CAMINHAO`, `CUSTO_VARIAVEL_EQUPE_ENTREGA`, `CUSTO_VARIAVEL_RECARGA`, `CUSTO_VARIAVEL_POR_KM`, `EQUIPE_ENTRGA_AJUDANTE`, `EQUIPE_ENTRGA_MOTORISTA`, `KM_POR_VIAGEM`, `LAVAGEM_POR_KM`, `LUCRO`, `MANUTENCAO_CAMINHAO_POR_KM`, `MANUTENCAO_CARROCERIA_POR_KM`, `PERCENTUAL_PROVISOES_ENCARGOS_AJUDANTE`, `PERCENTUAL_PROVISOES_ENCARGOS_MOTORISTA`, `PNEU_POR_KM`, `PREMIO_DSR_AJUDANTE`, `PREMIO_DSR_MOTORISTA`, `TOTAL_PREMIACAO_ENC_PROV_AJUDANTE`, `TOTAL_PREMIACAO_ENC_PROV_MOTORISTA`, `_ID`\"\n",
    "    elif tabela == \"DESPESAS_OPERACIONAIS_ROTA\":\n",
    "        colunas = \"`VIGENCIA`, `UNIDADE_CNPJ`, `UNIDADE_NOME`, `UNIDADE_SAP`, `UNIDADE_TMS`, `UNIDADE_PROMAX_UNB`, `UNIDADE_REGIONAL`, `OPERADOR_CNPJ`, `OPERADOR_NOME`, `OPERADOR_SAP`, `OPERADOR_TMS`, `OPERADOR_PROMAX`, `ORGANIZACAO_DE_COMPRAS`, `PRAZO_PAGAMENTO`, `DESCRICAO`, `QUANTIDADE`, `VALOR_TOTAL`, `VALOR_UNITARIO`, `VALOR_POR_EQUIPAMENTO`, `_ID`\"\n",
    "    elif tabela == \"MANUNTENCAO_CARROCERIA_ROTA\":\n",
    "        colunas = \"`VIGENCIA`, `UNIDADE_CNPJ`, `UNIDADE_NOME`, `UNIDADE_SAP`, `UNIDADE_TMS`, `UNIDADE_PROMAX_UNB`, `UNIDADE_REGIONAL`, `OPERADOR_CNPJ`, `OPERADOR_NOME`, `OPERADOR_SAP`, `OPERADOR_TMS`, `OPERADOR_PROMAX`, `ORGANIZACAO_DE_COMPRAS`, `PRAZO_PAGAMENTO`, `MATERIAL`, `PERFIL`, `TIPO`, `VALOR_POR_ANO`, `VALOR_POR_MES`, `_ID`\"\n",
    "    elif tabela == \"COMBUSTIVEL_ROTA\":\n",
    "        colunas = \"`VIGENCIA`, `UNIDADE_CNPJ`, `UNIDADE_NOME`, `UNIDADE_SAP`, `UNIDADE_TMS`, `UNIDADE_PROMAX_UNB`, `UNIDADE_REGIONAL`, `OPERADOR_CNPJ`, `OPERADOR_NOME`, `OPERADOR_SAP`, `OPERADOR_TMS`, `OPERADOR_PROMAX`, `ORGANIZACAO_DE_COMPRAS`, `PRAZO_PAGAMENTO`, `CREDITO_SOBRE_ATIVOS`, `INICIATIVA`, `PRECO_ANP`, `PRECO_CREDITO_IMPOSTOS`, `PRECO_OPERADORA`, `TIPO_COMBUSTIVEL_SHARED`, `_ID`\"\n",
    "    elif tabela == \"PARAMETROS_OPERACAO_ROTA\":\n",
    "        colunas = \"`VIGENCIA`, `UNIDADE_CNPJ`, `UNIDADE_NOME`, `UNIDADE_SAP`, `UNIDADE_TMS`, `UNIDADE_PROMAX_UNB`, `UNIDADE_REGIONAL`, `OPERADOR_CNPJ`, `OPERADOR_NOME`, `OPERADOR_SAP`, `OPERADOR_TMS`, `OPERADOR_PROMAX`, `ORGANIZACAO_DE_COMPRAS`, `PRAZO_PAGAMENTO`, `ALMOCO_FABRICA`, `ANO_ICMS`, `ANO_PIS_COFINS`, `CDD_INTERNO`, `COFINS_PRESUMIDO`, `COFINS_REAL`, `CONE_DE_SEGURANCA`, `CONSUMO_FROTA_LEVE`, `CONTRIBUICAO__PREVIDENCIA`, `CREDITO_ICMS`, `CREDITO_ICMS_PRESUMIDO`, `CREDITO_SOBRE_ATIVOS`, `CUSTO_DE_LAVAGEM`, `DATA_LIMITE_DE_NEGOCIACAO`, `FAIXA_BENCHMARK`, `FAIXA_REFLEXIVA`, `FROTA_FIXA_DENTRO_DO_MUNICIPIO`, `FROTA_FIXA_FORA_DO_MUNICIPIO`, `FROTA_LEVE_CARRO`, `FROTA_LEVE_PICKUP`, `ICMS`, `ICMS_CREDITO_SEM_INSUMO`, `ISS`, `INICIO_DATA_VIGENCIA`, `INICIO_OPERACAO`, `KM_MENSAL_NOTURNA`, `KM_MENSAL_PRIMEIRA_VIAGEM`, `KM_RECARGA_POR_VIAGEM`, `LUCRO_PRESUMIDO`, `PIS_PRESUMIDO`, `PIS_REAL`, `PERCENTUAL_ICMS_CREDITO_PNEU`, `QUANTIDADE_MES`, `QUANTIDADE_LAVAGENS`, `QUANTIDADE_ROTAS_NOTURNAS`, `RASTREADOR`, `REGIAO`, `RISCO`, `SEGURO`, `TAMANHO_OPERACAO`, `TELEFONIA_MOVEL`, `TOTAL_QUANTIDADE_DESPESAS`, `TOTAL_VALOR_DESPESAS`, `ALIQUOTA_FIXA_ICMS_DIESEL`, `CODIGO_PROMAX_OPERADOR`, `CODIGO_PROMAX_UNIDADE`, `CUSTO_LAVAGEM_10P`, `CUSTO_LAVAGEM_12P`, `CUSTO_LAVAGEM_14P`, `CUSTO_LAVAGEM_28P`, `CUSTO_LAVAGEM_4P`, `CUSTO_LAVAGEM_6P`, `CUSTO_LAVAGEM_8P`, `CUSTO_DE_LAVAGEM_VAN`, `DATA_QUINZANA_VIGENCIA`, `KM_MENSAL_ELETRICO`, `KM_MENSAL_REMUNERADO_VAN`, `_ID`\"\n",
    "    elif tabela == \"CONSUMO_ROTA\":\n",
    "        colunas = \"`VIGENCIA`, `UNIDADE_CNPJ`, `UNIDADE_NOME`, `UNIDADE_SAP`, `UNIDADE_TMS`, `UNIDADE_PROMAX_UNB`, `UNIDADE_REGIONAL`, `OPERADOR_CNPJ`, `OPERADOR_NOME`, `OPERADOR_SAP`, `OPERADOR_TMS`, `OPERADOR_PROMAX`, `ORGANIZACAO_DE_COMPRAS`, `PRAZO_PAGAMENTO`, `ANO_0`, `ANO_1`, `ANO_2`, `ANO_3`, `ANO_4`, `ANO_5`, `KM_1000`, `KM_2000`, `KM_3000`, `KM_4000`, `KM_999`, `_ID`\"\n",
    "    elif tabela == \"MANUTENCAO_CAMINHAO_ROTA\":\n",
    "        colunas = \"`VIGENCIA`, `UNIDADE_CNPJ`, `UNIDADE_NOME`, `UNIDADE_SAP`, `UNIDADE_TMS`, `UNIDADE_PROMAX_UNB`, `UNIDADE_REGIONAL`, `OPERADOR_CNPJ`, `OPERADOR_NOME`, `OPERADOR_SAP`, `OPERADOR_TMS`, `OPERADOR_PROMAX`, `ORGANIZACAO_DE_COMPRAS`, `PRAZO_PAGAMENTO`, `ANO`, `CAPACIDADE_CAMINHAO`, `KM_1000`, `KM_1250`, `KM_1500`, `KM_1750`, `KM_2000`, `KM_2250`, `KM_2500`, `KM_2750`, `KM_3000`, `KM_3250`, `KM_3500`, `_ID`\"\n",
    "    elif tabela == \"PNEUS_ROTA\":\n",
    "        colunas = \"`VIGENCIA`, `UNIDADE_CNPJ`, `UNIDADE_NOME`, `UNIDADE_SAP`, `UNIDADE_TMS`, `UNIDADE_PROMAX_UNB`, `UNIDADE_REGIONAL`, `OPERADOR_CNPJ`, `OPERADOR_NOME`, `OPERADOR_SAP`, `OPERADOR_TMS`, `OPERADOR_PROMAX`, `ORGANIZACAO_DE_COMPRAS`, `PRAZO_PAGAMENTO`, `CAMARA`, `MEDIDA`, `PRECO_CAMARA`, `PRECO_LISO`, `PRECO_MONTAGEM`, `PRECO_PROTETOR`, `PRECO_RECAPAGEM`, `PRECO_TRACAO`, `REGIAO`, `_ID`\"\n",
    "    elif tabela == \"UNIFORMES_EPI_ROTA\":\n",
    "        colunas = \"`VIGENCIA`, `UNIDADE_CNPJ`, `UNIDADE_NOME`, `UNIDADE_SAP`, `UNIDADE_TMS`, `UNIDADE_PROMAX_UNB`, `UNIDADE_REGIONAL`, `OPERADOR_CNPJ`, `OPERADOR_NOME`, `OPERADOR_SAP`, `OPERADOR_TMS`, `OPERADOR_PROMAX`, `ORGANIZACAO_DE_COMPRAS`, `PRAZO_PAGAMENTO`, `CUSTO`, `CUSTO_MES`, `ICMS_REGIAO`, `ITEM_EPI`, `QUANTIDADE_ANO`, `TIPO_EQUIPE`, `_ID`\"\n",
    "    elif tabela == \"BENEFICIO_EQUIPE_ENTREGA_ROTA\":\n",
    "        colunas = \"`VIGENCIA`, `UNIDADE_CNPJ`, `UNIDADE_NOME`, `UNIDADE_SAP`, `UNIDADE_TMS`, `UNIDADE_PROMAX_UNB`, `UNIDADE_REGIONAL`, `OPERADOR_CNPJ`, `OPERADOR_NOME`, `OPERADOR_SAP`, `OPERADOR_TMS`, `OPERADOR_PROMAX`, `ORGANIZACAO_DE_COMPRAS`, `PRAZO_PAGAMENTO`, `BENEFICIO`, `CARGO`, `TOTAL_BENEFICIO`, `TURNO`, `PERMITIR_CALCULO_PROPORCIONAL`, `_ID`\"\n",
    "    elif tabela == \"BENEFICIOS_ADM_ROTA\":\n",
    "        colunas = \"`VIGENCIA`, `UNIDADE_CNPJ`, `UNIDADE_NOME`, `UNIDADE_SAP`, `UNIDADE_TMS`, `UNIDADE_PROMAX_UNB`, `UNIDADE_REGIONAL`, `OPERADOR_CNPJ`, `OPERADOR_NOME`, `OPERADOR_SAP`, `OPERADOR_TMS`, `OPERADOR_PROMAX`, `ORGANIZACAO_DE_COMPRAS`, `PRAZO_PAGAMENTO`, `CARGO_BENEFICIO`, `ITEM_BENEFICIO`, `PARTICIPACAO_DA_EMPRESA`, `QUANTIDADE`, `QUANTIDADE_DE_DIAS_UTEIS`, `RESSARCIMENTO_FUNCIONARIO`, `TOTAL`, `VALOR`, `_ID`\"\n",
    "    elif tabela == \"BENEFICIOS_NOTURNA_ROTA\":\n",
    "        colunas = \"`VIGENCIA`, `UNIDADE_CNPJ`, `UNIDADE_NOME`, `UNIDADE_SAP`, `UNIDADE_TMS`, `UNIDADE_PROMAX_UNB`, `UNIDADE_REGIONAL`, `OPERADOR_CNPJ`, `OPERADOR_NOME`, `OPERADOR_SAP`, `OPERADOR_TMS`, `OPERADOR_PROMAX`, `ORGANIZACAO_DE_COMPRAS`, `PRAZO_PAGAMENTO`, `BENEFICIO`, `CARGO`, `TOTAL_BENEFICIO`, `TURNO`, `_ID`\"\n",
    "    elif tabela == \"RESUMO_ROTA\":\n",
    "        colunas = \"`VIGENCIA`, `UNIDADE_CNPJ`, `UNIDADE_NOME`, `UNIDADE_SAP`, `UNIDADE_TMS`, `UNIDADE_PROMAX_UNB`, `UNIDADE_REGIONAL`, `OPERADOR_CNPJ`, `OPERADOR_NOME`, `OPERADOR_SAP`, `OPERADOR_TMS`, `OPERADOR_PROMAX`, `ORGANIZACAO_DE_COMPRAS`, `PRAZO_PAGAMENTO`, `ASSESSORIA_JURIDICA`, `BENEFICIOS`, `BENEFICIOS_AJUDANTE_POR_CAMINHAO`, `BENEFICIOS_MOTORISTA_POR_CAMINHAO`, `COMBUSTIVEL_R_KM`, `COMUNICACAO_FIXA`, `CONE`, `DEPRECIACAO_CAMINHAO`, `DEPRECIACAO_CAMINHAO_PARADO`, `DEPRECIACAO_CARROCERIA`, `DEPRECIACAO_CARROCERIA_PARADO`, `ENCARGOS_E_PROVISOES`, `FAD`, `FINAME_MODELO_NOVO`, `FINAME_MODELO_NOVO_PARADO`, `FAIXA_REFLEXIVA`, `FAIXA_REFLEXIVA_PARADO`, `FROTA_LEVE`, `IPVA_LICEN_MENSAL`, `IPVA_LICENC_MENSAL_PARADO`, `INCENTIVO`, `KM_REMUNERADO`, `LAVAGEM`, `LINK`, `LUCRO_FINAME_MODELO_ANTIGO`, `LUCRO_FINAME_PARADO`, `LUCRO_FIXO_MODELO_NOVO`, `LUCRO_FIXO_MODELO_NOVO_PARADO`, `LUCRO_VARIAVEL_MODELO_NOVO`, `MANUTENCAO_CAMINHAO_R_KM`, `MANUTENCAO_CARRINHOS_TROCA`, `MANUTENCAO_CARROCERIA_R_KM`, `MANUTENCAO_SISTEMAS`, `MATERIAL_ESCRITORIO`, `OUTROS`, `PPRA`, `PNEU_R_KM`, `QUANTIDADE_AJUDANTE_POR_CAMINHAO`, `QUANTIDADE_MOTORISTA_POR_CAMINHAO`, `RASTREADOR`, `RASTREADOR_PARADO`, `REMUNERACAO_K`, `REMUNERACAO_K_IMPOSTOS`, `REMUNERACAO_K_IMPOSTOS_PARADO`, `REMUNERACAO_K_PARADO`, `REMUNERACAO_UNIDADE`, `SALARIO`, `SALARIO_FIXO_AJUDANTE_POR_CAMINHAO`, `SALARIO_FIXO_MOTORISTA_POR_CAMINHAO`, `SEGURO`, `SEGURO_PARADO`, `TELEFONIA_MOVEL`, `TOTAL_CAMINHAO_ATIVO`, `TOTAL_CAMINHAO_PARADO`, `TOTAL_CUSTO`, `TOTAL_EQUIPE_ENTREGA`, `TOTAL_ESTIMADA`, `TOTAL_FROTA`, `TOTAL_FROTA_ATIVA`, `TOTAL_FROTA_PARADA`, `TOTAL_OPERACIONAL_PREVISTO`, `TOTAL_OUTRAS_DESPESAS`, `TOTAL_QLP_ADM`, `TOTAL_R_KM`, `TOTAL_VIAGENS`, `TOTAL_POR_CAMINHAO_EQUIPE_DE_ENTREGA`, `TOTAL_POR_CAMINHAO_ESTIMADA`, `TOTAL_POR_CAMINHAO_FROTA_ATIVA`, `TOTAL_POR_CAMINHAO_FROTA_PARADA`, `TOTAL_POR_CAMINHAO_OPERACIONAL_PREVISTO`, `TOTAL_POR_CAMINHAO_OUTRAS_DESPESAS`, `TOTAL_POR_CAMINHAO_QLP_ADM`, `TOTAL_POR_CAMINHAO_VIAGENS`, `UNIFORME_AJUDANTE_POR_CAMINHAO`, `UNIFORME_MOTORISTA_POR_CAMINHAO`, `UNIFORMES`, `HES_RV_DSR_PROV_AJUDANTE`, `HES_RV_DSR_PROV_MOTORISTA`, `TOTAL_CAMINHAO_ALUGUEL`, `TOTAL_CUSTO_FIXO_ALUGADO_POR_CAMINHAO`, `TOTAL_CUSTO_VARIAVEL_ALUGADO`, `TOTAL_LUCRO_ALUGUEL`, `_ID`\"\n",
    "    elif tabela == \"VAN_ROTA\":\n",
    "        colunas = \"`VIGENCIA`, `UNIDADE_CNPJ`, `UNIDADE_NOME`, `UNIDADE_SAP`, `UNIDADE_TMS`, `UNIDADE_PROMAX_UNB`, `UNIDADE_REGIONAL`, `OPERADOR_CNPJ`, `OPERADOR_NOME`, `OPERADOR_SAP`, `OPERADOR_TMS`, `OPERADOR_PROMAX`, `ORGANIZACAO_DE_COMPRAS`, `PRAZO_PAGAMENTO`, `CUSTO_ALUGUEL`, `AMORTIZACAO`, `ANO`, `ANO_BID`, `ANO_CARROCERIA`, `ANO_CAVALO`, `ANO_ICMS`, `ANO_PIS_COFINS`, `ANO_VEICULO`, `ATIVO`, `BM_CONSUMO`, `CAPACIDADE_CAIXA`, `CAPACIDADE_PALLETS`, `CAPACIDADE_PALLETS_SHARED`, `CARENCIA`, `CHASSI`, `CICLO`, `CICLO_CARROCERIA`, `CICLO_CAVALO`, `CONSUMO_KM_POR_LITRO`, `CONSUMO_REAIS_POR_KM`, `DATA_ALTERACAO_ODOMETRO`, `DATA_ENTRADA`, `DATA_FIM_CONTRATO`, `DATA_LIMITE_NEGOCIACAO`, `DEPRECIACAO_CARROCERIA`, `DEPRECIACAO_CAVALO`, `EIXO_DIANTEIRO`, `EIXO_TRASEIRO`, `FAIXA_REFLEXIVA`, `FATOR_CORRECAO_REGIAO`, `FINAME_MODELO_NOVO`, `FREE_MAINTENANCE`, `GANHO_KM_RODADO`, `ICMS_ANUAL`, `ICMS_CARROCERIA`, `ICMS_CAVALO`, `IMPLEMENTO`, `IMPLEMENTO_SHARED`, `IPVA_LICENCIAMENTO`, `IPVA_LICENCIAMENTO_CAVALO`, `JUROS`, `KM_MES_ELD`, `KM_MES_ROAD_SHOW`, `KM_ODOMETRO`, `KM_TOTAL`, `LAVAGEM`, `LAVAGEM_POR_KM`, `LOGO_PADRAO`, `LOGO_PADRAO_SHARED`, `LUCRO_FINAME`, `LUCRO_FINAME_VARIAVEL`, `LUCRO_FIXO`, `LUCRO_TOTAL_CUSTO_VARIAVEL`, `LUCRO_VARIAVEL`, `MANUTENCAO_ANO`, `MANUTENCAO_BID`, `MANUTENCAO_CARROCERIA_REAIS_POR_KM`, `MANUTENCAO_COMPRA_FORA_DO_BID_AUTORIZADA`, `MANUTENCAO_CONTRATO`, `MANUTENCAO_FREE_MAINTENANCE`, `MANUTENCAO_REAIS_KM`, `MANUTENCAO_REAIS_POR_KM`, `MANUTENCAO_VIDA_MESES`, `MATERIAL`, `MATERIAL_SHARED`, `MEDIDA`, `MEDIDA_PNEU_SHARED`, `MES_ENTRADA`, `MES_ENTRADA_CARROCERIA`, `MES_ENTRADA_CAVALO`, `MES_ENTRADA_NOVO_MODELO`, `MES_PARCELA`, `MODELO`, `MODELO_CAVALO`, `MODELO_SHARED`, `MONTADORA`, `MOTOR`, `MOTOR_SHARED`, `ODOMETRO_PREVISTO`, `PERCENTUAL_ENTRADA`, `PERCENTUAL_RESIDUAL_5_ANOS_CARROCERIA`, `PERCENTUAL_RESIDUAL_5_ANOS_CAVALO`, `PERCENTUAL_RESIDUAL_8_ANOS_CARROCERIA`, `PERCENTUAL_RESIDUAL_8_ANOS_CAVALO`, `PERDA_ANO_VEICULO`, `PERFIL`, `PERFIL_SHARED`, `PERIODO_CARROCERIA`, `PERIODO_CAVALO`, `PERIODO_FINAME`, `PIS_CONFINS_ANUAL`, `PLACA`, `PNEU_POR_KM`, `PRECO_CAMARA`, `PRECO_LISO`, `PRECO_MONTAGEM`, `PRECO_PROTETOR`, `PRECO_RECAPAGEM`, `PRECO_TRACAO`, `QUANTIDADE_PNEUS`, `QUANTIDADE_RECAPAGEM`, `RASTREADOR`, `REAIS_KM`, `REMUNERACAO_K`, `REMUNERACAO_K_IMPOSTOS`, `REMUNERACAO_MODELO`, `REMUNERACAO_MODELO_SHARED`, `SEGURO`, `SPREAD_BANCO`, `SPREAD_BNDES`, `STATUS_FINANCIAMENTO`, `STATUS_FINANCIAMENTO_CARROCERIA`, `STATUS_FINANCIAMENTO_CARROCERIA_SHARED`, `STATUS_FINANCIAMENTO_CAVALO`, `STATUS_FINANCIAMENTO_CAVALO_SHARED`, `STATUS_FINANCIAMENTO_SHARED`, `TAXA_CUSTO_FIXO_CARROCERIA`, `TAXA_CUSTO_FIXO_CAVALO`, `TAXA_FINAME`, `TELEMETRIA_OBRIGATORIA`, `TIPO`, `TIPO_COMBUSTIVEL`, `TIPO_COMBUSTIVEL_SHARED`, `TIPO_SHARED`, `TJLP`, `TOTAL_CUSTO_FIXO`, `TOTAL_CUSTO_VARIAVEL`, `VALOR_COMPRA_CARROCERIA`, `VALOR_COMPRA_CAVALO`, `VALOR_ICMS_CARROCERIA`, `VALOR_ICMS_CAVALO`, `VALOR_LIQUIDO_DEPRECIACAO_CARROCERIA`, `VALOR_LIQUIDO_DEPRECIACAO_CAVALO`, `VALOR_LIQUIDO_REM_K_CARROCERIA`, `VALOR_LIQUIDO_REM_K_CAVALO`, `VALOR_PIS_CONFINS_CARROCERIA`, `VALOR_PIS_CONFINS_CAVALO`, `VALOR_PNEUS`, `VIDA_PNEUS_KM`, `_ID`\"\n",
    "    elif tabela == \"RESUMO_VAN_ROTA\":\n",
    "        colunas = \"`VIGENCIA`, `UNIDADE_CNPJ`, `UNIDADE_NOME`, `UNIDADE_SAP`, `UNIDADE_TMS`, `UNIDADE_PROMAX_UNB`, `UNIDADE_REGIONAL`, `OPERADOR_CNPJ`, `OPERADOR_NOME`, `OPERADOR_SAP`, `OPERADOR_TMS`, `OPERADOR_PROMAX`, `ORGANIZACAO_DE_COMPRAS`, `PRAZO_PAGAMENTO`, `ASSESSORIA_JURIDICA`, `BENEFICIOS`, `BENEFICIOS_AJUDANTE_POR_CAMINHAO`, `BENEFICIOS_MOTORISTA_POR_CAMINHAO`, `COMBUSTIVEL_R_KM`, `COMUNICACAO_FIXA`, `CONE`, `DEPRECIACAO_CAMINHAO`, `DEPRECIACAO_CAMINHAO_PARADO`, `DEPRECIACAO_CARROCERIA`, `DEPRECIACAO_CARROCERIA_PARADO`, `ENCARGOS_E_PROVISOES`, `FAD`, `FAIXA_REFLETIVA_PARADO`, `FAIXA_REFLEXIVA`, `FINAME_MODELO_NOVO`, `FINAME_MODELO_NOVO_PARADO`, `FROTA_LEVE`, `HES_RV_DSR_PROV_AJUDANTE`, `HES_RV_DSR_PROV_MOTORISTA`, `INCENTIVO`, `IPVA_LICEN_MENSAL`, `IPVA_LICENC_MENSAL_PARADO`, `KM_REMUNERADO`, `LAVAGEM`, `LINK`, `LUCRO_FINAME_MODELO_ANTIGO`, `LUCRO_FINAME_PARADO`, `LUCRO_FIXO_MODELO_NOVO`, `LUCRO_FIXO_MODELO_NOVO_PARADO`, `LUCRO_VARIAVEL_MODELO_NOVO`, `MANUTENCAO_CAMINHAO_R_KM`, `MANUTENCAO_CARRINHOS_TROCA`, `MANUTENCAO_CARROCERIA_R_KM`, `MANUTENCAO_SISTEMAS`, `MATERIAL_ESCRITORIO`, `OUTROS`, `PNEU_R_KM`, `PPRA`, `QUANTIDADE_AJUDANTE_POR_CAMINHAO`, `QUANTIDADE_MOTORISTA_POR_CAMINHAO`, `RASTREADOR`, `RASTREADOR_PARADO`, `REMUNERACAO_K`, `REMUNERACAO_K_IMPOSTOS`, `REMUNERACAO_K_IMPOSTOS_PARADO`, `REMUNERACAO_K_PARADO`, `REMUNERACAO_UNIDADE`, `SALARIO`, `SALARIO_FIXO_AJUDANTE_POR_CAMINHAO`, `SALARIO_FIXO_MOTORISTA_POR_CAMINHAO`, `SEGURO`, `SEGURO_PARADO`, `TELEFONIA_MOVEL`, `TOTAL_CAMINHAO_ATIVO`, `TOTAL_CAMINHAO_PARADO`, `TOTAL_CUSTO`, `TOTAL_EQUIPE_ENTREGA`, `TOTAL_ESTIMADA`, `TOTAL_FROTA`, `TOTAL_FROTA_ATIVA`, `TOTAL_FROTA_PARADA`, `TOTAL_OPERACIONAL_PREVISTO`, `TOTAL_OUTRAS_DESPESAS`, `TOTAL_POR_CAMINHAO_EQUIPE_DE_ENTREGA`, `TOTAL_POR_CAMINHAO_ESTIMADA`, `TOTAL_POR_CAMINHAO_FROTA_ATIVA`, `TOTAL_POR_CAMINHAO_FROTA_PARADA`, `TOTAL_POR_CAMINHAO_OPERACIONAL_PREVISTO`, `TOTAL_POR_CAMINHAO_OUTRAS_DESPESAS`, `TOTAL_POR_CAMINHAO_QLP_ADM`, `TOTAL_POR_CAMINHAO_VIAGENS`, `TOTAL_QLP_ADM`, `TOTAL_R_KM`, `TOTAL_VIAGENS`, `UNIFORME_AJUDANTE_POR_CAMINHAO`, `UNIFORME_MOTORISTA_POR_CAMINHAO`, `UNIFORMES`, `_ID`\"\n",
    "    elif tabela == \"ENCARGOS_COM_FERIAS_ROTA\":\n",
    "        colunas = \"`VIGENCIA`, `UNIDADE_CNPJ`, `UNIDADE_NOME`, `UNIDADE_SAP`, `UNIDADE_TMS`, `UNIDADE_PROMAX_UNB`, `UNIDADE_REGIONAL`, `OPERADOR_CNPJ`, `OPERADOR_NOME`, `OPERADOR_SAP`, `OPERADOR_TMS`, `OPERADOR_PROMAX`, `ORGANIZACAO_DE_COMPRAS`, `PRAZO_PAGAMENTO`, `AUSENCIA_LEGAL`, `AUSENCIA_LEGAL_RPS_A`, `AUSENCIA_LEGAL_RPS_B`, `AUSENCIA_LEGAL_RPS_C`, `AVISO_PREVIO`, `AVISO_PREVIO_RPS_A`, `AVISO_PREVIO_RPS_B`, `AVISO_PREVIO_RPS_C`, `DIFERENCA_PROVISAO_FERIAS`, `DIFERENCA_PROVISAO_FERIAS_RPS_A`, `DIFERENCA_PROVISAO_FERIAS_RPS_B`, `DIFERENCA_PROVISAO_FERIAS_RPS_C`, `DECIMO_TERCEIRO_SALARIO`, `DECIMO_TERCEIRO_SALARIO_RPS_A`, `DECIMO_TERCEIRO_SALARIO_RPS_B`, `DECIMO_TERCEIRO_SALARIO_RPS_C`, `FGTS`, `FERIAS_1_3`, `FERIAS_1_3_RPS_A`, `FERIAS_1_3_RPS_B`, `FERIAS_1_3_RPS_C`, `FERIAS_NORMAIS`, `FERIAS_NORMAIS_RPS_A`, `FERIAS_NORMAIS_RPS_B`, `FERIAS_NORMAIS_RPS_C`, `FERIAS_PROPORCIONAIS_INDENIZADAS`, `FERIAS_PROPORCIONAIS_INDENIZADAS_RPS_A`, `FERIAS_PROPORCIONAIS_INDENIZADAS_RPS_B`, `FERIAS_PROPORCIONAIS_INDENIZADAS_RPS_C`, `INCRA`, `INSS`, `INCIDENCIA_CUMULATIVA`, `MULTA_FGTS`, `SEBRAE`, `SENAT`, `SEST`, `SALARIO_EDUCACAO`, `SEGURO_ACIDENTE_DE_TRABALHO`, `TOTAL`, `TOTAL_ENCARGOS`, `TOTAL_PROVISOES`, `TOTAL_RPS_A`, `TOTAL_RPS_B`, `TOTAL_RPS_C`, `AVISO_PREVIO_FORMULA`, `DIAS_DE_AVISO`, `FERIAS_PROPORCIONAIS_INDENIZADAS_FORMULA`, `INCIDENCIA_UM_TERCO_FERIAS_SOBRE_AVISO`, `INCIDENCIA_UM_TERCO_FERIAS_SOBRE_AVISO_RPS_A`, `INCIDENCIA_UM_TERCO_FERIAS_SOBRE_AVISO_RPS_B`, `INCIDENCIA_UM_TERCO_FERIAS_SOBRE_AVISO_RPS_C`, `INVOLUNTARIO`, `MES_DISSIDIO`, `TEMPO_MEDIO_CASA`, `TURN_OVER`, `VOLUNTARIO`, `_ID`\"\n",
    "    elif tabela == \"ENCARGOS_SEM_FERIAS_ROTA\":\n",
    "        colunas = \"`VIGENCIA`, `UNIDADE_CNJP`, `UNIDADE_NOME`, `UNIDADE_SAP`, `UNIDADE_TMS`, `UNIDADE_PROMAX_UNB`, `UNIDADE_REGIONAL`, `OPERADOR_CNJP`, `OPERADOR_NOME`, `OPERADOR_SAP`, `OPERADOR_TMS`, `OPERADOR_PROMAX`, `ORGANIZACAO_DE_COMPRAS`, `PRAZO_PAGAMENTO`, `AUSENCIA_LEGAL`, `AUSENCIA_LEGAL_RPS_A`, `AUSENCIA_LEGAL_RPS_B`, `AUSENCIA_LEGAL_RPS_C`, `AVISO_PREVIOUS`, `AVISO_PREVIOUS_RPS_A`, `AVISO_PREVIOUS_RPS_B`, `AVISO_PREVIOUS_RPS_C`, `DIFERENCA_PROVISAO_FERIAS`, `DIFERENCA_PROVISAO_FERIAS_RPS_A`, `DIFERENCA_PROVISAO_FERIAS_RPS_B`, `DIFERENCA_PROVISAO_FERIAS_RPS_C`, `DECIMO_TERCEIRO_SALARIO`, `DECIMO_TERCEIRO_SALARIO_RPS_A`, `DECIMO_TERCEIRO_SALARIO_RPS_B`, `DECIMO_TERCEIRO_SALARIO_RPS_C`, `FGTS`, `FERIAS_1_3`, `FERIAS_1_3_RPS_A`, `FERIAS_1_3_RPS_B`, `FERIAS_1_3_RPS_C`, `FERIAS_NORMAIS`, `FERIAS_NORMAIS_RPS_A`, `FERIAS_NORMAIS_RPS_B`, `FERIAS_NORMAIS_RPS_C`, `FERIAS_PROPORCIONAIS_INDENIZADAS`, `FERIAS_PROPORCIONAIS_INDENIZADAS_RPS_A`, `FERIAS_PROPORCIONAIS_INDENIZADAS_RPS_B`, `FERIAS_PROPORCIONAIS_INDENIZADAS_RPS_C`, `INCRA`, `INSS`, `INCIDENCIA_CUMULATIVA`, `MULTA_FGTS`, `SEBRAE`, `SENAT`, `SEST`, `SALARIO_EDUCACAO`, `SEGURO_ACIDENTE_DE_TRABALHO`, `TOTAL`, `TOTAL_ENCARGOS`, `TOTAL_PROVISOES`, `TOTAL_RPS_A`, `TOTAL_RPS_B`, `TOTAL_RPS_C`, `AVISOPREVIOFORMULA`, `DIASDEAVISO`, `FERIASPROPORCIONAISINDENIZADASFORMULA`, `INCIDENCIAUMTERCOFERIASOBREAVISO`, `INCIDENCIAUMTERCOFERIASOBREAVISORPSA`, `INCIDENCIAUMTERCOFERIASOBREAVISORPSB`, `INCIDENCIAUMTERCOFERIASOBREAVISORPSC`, `INVOLUNTARIO`, `MESDISSIDIO`, `TEMPO_MEDIO_CASA`, `TURNOVER`, `VOLUNTARIO`, `_ID`\"\n",
    "    elif tabela ==\"RESUMO_SRTRANS_ROTA\":\n",
    "        colunas = \"`VIGENCIA`, `UNIDADE_CNPJ`, `UNIDADE_NOME`, `UNIDADE_SAP`, `UNIDADE_TMS`, `UNIDADE_PROMAX_UNB`, `UNIDADE_REGIONAL`, `OPERADOR_CNPJ`, `OPERADOR_NOME`, `OPERADOR_SAP`, `OPERADOR_TMS`, `OPERADOR_PROMAX`, `ORGANIZACAO_DE_COMPRAS`, `PRAZO_PAGAMENTO`, `ADERENCIA_AO_TRACKING`, `AJUDANTE_FATOR_1_BATE_JORNADA`, `AJUDANTE_FATOR_1_NAO_BATE_JORNADA`, `AJUDANTE_FATOR_1_RECARGA`, `AJUDANTE_FATOR_1_RECARGA_VIAGEM`, `AJUDANTE_FATOR_2_BATE_JORNADA`, `AJUDANTE_FATOR_2_NAO_BATE_JORNADA`, `AJUDANTE_FATOR_2_RECARGA`, `AJUDANTE_FATOR_2_RECARGA_VIAGEM`, `CUSTO_AJUDANTE`, `CUSTO_AJUDANTE_RESERVA`, `CUSTO_EQUIPE_ENTREGA_ESPECIAL`, `CUSTO_EQUIPE_ENTREGA_FIXO`, `CUSTO_EQUIPE_ENTREGA_MARKETING`, `CUSTO_EQUIPE_ENTREGA_NOTURNA`, `CUSTO_EQUIPE_ENTREGA_PADRAO`, `CUSTO_EQUIPE_ENTREGA_REFRIGERACAO`, `CUSTO_FIXO`, `CUSTO_FIXO_ESPECIAL`, `CUSTO_FIXO_FINAME`, `CUSTO_FIXO_MARKETING`, `CUSTO_FIXO_NOTURNA`, `CUSTO_FIXO_PADRAO`, `CUSTO_FIXO_QUITADO`, `CUSTO_FIXO_REFRIGERACAO`, `CUSTO_VARIAVEL_ESPECIAL`, `CUSTO_VARIAVEL_FIXO`, `CUSTO_VARIAVEL_MARKETING`, `CUSTO_VARIAVEL_NOTURNA`, `CUSTO_VARIAVEL_PADRAO`, `CUSTO_VARIAVEL_RECARGA`, `CUSTO_VARIAVEL_REFRIGERACAO`, `CUSTOS_INDIRETOS_ESPECIAL`, `CUSTOS_INDIRETOS_FIXO`, `CUSTOS_INDIRETOS_MARKETING`, `CUSTOS_INDIRETOS_NOTURNA`, `CUSTOS_INDIRETOS_PADRAO`, `CUSTOS_INDIRETOS_REFRIGERACAO`, `ENCARGOS`, `ENTREGUE_TRACKING`, `FINAME`, `FATOR_AJUDANTE`, `FATOR_PRIMEIRA_VIAGEM_AJUDANTE`, `ITEM_1_DESCRICAO`, `ITEM_1_REM`, `ITEM_1_REM_AJUDANTE`, `ITEM_1_REM_MOTORISTA`, `ITEM_1_REM_VALOR`, `ITEM_1_REMUNERACAO`, `ITEM_1_VALOR`, `ITEM_2_DESCRICAO`, `ITEM_2_REM`, `ITEM_2_REM_AJUDANTE`, `ITEM_2_REM_MOTORISTA`, `ITEM_2_REM_VALOR`, `ITEM_2_REMUNERACAO`, `ITEM_2_VALOR`, `ITEM_3_DESCRICAO`, `ITEM_3_REM`, `ITEM_3_REM_AJUDANTE`, `ITEM_3_REM_MOTORISTA`, `ITEM_3_REM_VALOR`, `ITEM_3_REMUNERACAO`, `ITEM_3_VALOR`, `LUCRO_ESPECIAL`, `LUCRO_FIXO`, `LUCRO_MARKETING`, `LUCRO_NOTURNA`, `LUCRO_PADRAO`, `LUCRO_REFRIGERACAO`, `META`, `META_DISPONIB_FF`, `META_JORNADA_LIQUIDA`, `META_JORNADA_LIQUIDA_12X36_HH`, `META_JORNADA_LIQUIDA_12X36_MM`, `META_JORNADA_LIQUIDA_HORA`, `META_JORNADA_LIQUIDA_MM`, `META_JORNADA_LIQUIDA_MINUTO`, `MOTORISTA_FATOR_1_BATE_JORNADA`, `MOTORISTA_FATOR_1_NAO_BATE_JORNADA`, `MOTORISTA_FATOR_1_RECARGA`, `MOTORISTA_FATOR_1_RECARGA_VIAGEM`, `MOTORISTA_FATOR_2_BATE_JORNADA`, `MOTORISTA_FATOR_2_NAO_BATE_JORNADA`, `MOTORISTA_FATOR_2_RECARGA`, `MOTORISTA_FATOR_2_RECARGA_VIAGEM`, `NIVEL_DE_SERVICO`, `NUMERO_MINIMO_DE_VIAGENS`, `PAGAR_LUCRO`, `PAGAR_REMUNERACAO`, `REALIZAR_DESCONTO`, `TOTAL_VEICULO_ESPECIAL`, `TOTAL_VEICULO_FIXO`, `TOTAL_VEICULO_MARKETING`, `TOTAL_VEICULO_NOTURNA`, `TOTAL_VEICULO_PADRAO`, `TOTAL_VEICULO_REFRIGERACAO`, `TOTAL_VEICULOS_INATIVOS_AMBEV`, `TOTAL_VEICULOS_INATIVOS_FINAME`, `TOTAL_VEICULOS_INATIVOS_QUITADO`, `TOTAL_VEICULOS_INATIVOS_TOTAL`, `VALOR_BONUS_AJUDANTE`, `VALOR_BONUS_MOTORISTA`, `VALOR_LUCRO`, `VALOR_PONTO_AJUDANTE`, `VALOR_PONTO_AJUDANTE_PARA_CADA`, `VALOR_PONTO_MOTORISTA`, `VALOR_PONTO_MOTORISTA_PARA_CADA`, `CUSTOFIXOEXIFRS16`, `CUSTOFIXOIFRS16`, `_ID`\"\n",
    "    elif tabela ==\"RESUMO_SRTRANS_VAN_ROTA\":\n",
    "        colunas = \"`VIGENCIA`, `UNIDADE_CNPJ`, `UNIDADE_NOME`, `UNIDADE_SAP`, `UNIDADE_TMS`, `UNIDADE_PROMAX_UNB`, `UNIDADE_REGIONAL`, `OPERADOR_CNPJ`, `OPERADOR_NOME`, `OPERADOR_SAP`, `OPERADOR_TMS`, `OPERADOR_PROMAX`, `ORGANIZACAO_DE_COMPRAS`, `PRAZO_PAGAMENTO`, `ADERENCIA_AO_TRACKING`, `AJUDANTE_FATOR_1_BATE_JORNADA`, `AJUDANTE_FATOR_1_NAO_BATE_JORNADA`, `AJUDANTE_FATOR_1_RECARGA`, `AJUDANTE_FATOR_1_RECARGA_VIAGEM`, `AJUDANTE_FATOR_2_BATE_JORNADA`, `AJUDANTE_FATOR_2_NAO_BATE_JORNADA`, `AJUDANTE_FATOR_2_RECARGA`, `AJUDANTE_FATOR_2_RECARGA_VIAGEM`, `CUSTO_AJUDANTE`, `CUSTO_AJUDANTE_RESERVA`, `CUSTO_EQUIPE_ENTREGA_ESPECIAL`, `CUSTO_EQUIPE_ENTREGA_FIXO`, `CUSTO_EQUIPE_ENTREGA_MARKETING`, `CUSTO_EQUIPE_ENTREGA_NOTURNA`, `CUSTO_EQUIPE_ENTREGA_PADRAO`, `CUSTO_EQUIPE_ENTREGA_REFRIGERACAO`, `CUSTO_FIXO_ESPECIAL`, `CUSTO_FIXO_FINAME`, `CUSTO_FIXO_FIXO`, `CUSTO_FIXO_MARKETING`, `CUSTO_FIXO_NOTURNA`, `CUSTO_FIXO_PADRAO`, `CUSTO_FIXO_QUITADO`, `CUSTO_FIXO_REFRIGERACAO`, `CUSTO_VARIAVEL_ESPECIAL`, `CUSTO_VARIAVEL_FIXO`, `CUSTO_VARIAVEL_MARKETING`, `CUSTO_VARIAVEL_NOTURNA`, `CUSTO_VARIAVEL_PADRAO`, `CUSTO_VARIAVEL_RECARGA`, `CUSTO_VARIAVEL_REFRIGERACAO`, `CUSTOS_INDIRETOS_ESPECIAL`, `CUSTOS_INDIRETOS_FIXO`, `CUSTOS_INDIRETOS_MARKETING`, `CUSTOS_INDIRETOS_NOTURNA`, `CUSTOS_INDIRETOS_PADRAO`, `CUSTOS_INDIRETOS_REFRIGERACAO`, `ENCARGOS`, `ENTREGUE_TRACKING`, `FATOR_AJUDANTE`, `FATOR_PRIMEIRA_VIAGEM_AJUDANTE`, `FINAME`, `ITEM_1_DESCRICAO`, `ITEM_1_REM`, `ITEM_1_REM_AJUDANTE`, `ITEM_1_REM_MOTORISTA`, `ITEM_1_REM_VALOR`, `ITEM_1_REMUNERACAO`, `ITEM_1_VALOR`, `ITEM_2_DESCRICAO`, `ITEM_2_REM`, `ITEM_2_REM_AJUDANTE`, `ITEM_2_REM_MOTORISTA`, `ITEM_2_REM_VALOR`, `ITEM_2_REMUNERACAO`, `ITEM_2_VALOR`, `ITEM_3_DESCRICAO`, `ITEM_3_REM`, `ITEM_3_REM_AJUDANTE`, `ITEM_3_REM_MOTORISTA`, `ITEM_3_REM_VALOR`, `ITEM_3_REMUNERACAO`, `ITEM_3_VALOR`, `LUCRO_ESPECIAL`, `LUCRO_FIXO`, `LUCRO_MARKETING`, `LUCRO_NOTURNA`, `LUCRO_PADRAO`, `LUCRO_REFRIGERACAO`, `META`, `META_DISPONIVEL_FF`, `META_JORNADA_LIQUIDA`, `META_JORNADA_LIQUIDA_12X36_HH`, `META_JORNADA_LIQUIDA_12X36_MM`, `META_JORNADA_LIQUIDA_HORA`, `META_JORNADA_LIQUIDA_MM`, `META_JORNADA_LIQUIDA_MINUTO`, `MOTORISTA_FATOR_1_BATE_JORNADA`, `MOTORISTA_FATOR_1_NAO_BATE_JORNADA`, `MOTORISTA_FATOR_1_RECARGA`, `MOTORISTA_FATOR_1_RECARGA_VIAGEM`, `MOTORISTA_FATOR_2_BATE_JORNADA`, `MOTORISTA_FATOR_2_NAO_BATE_JORNADA`, `MOTORISTA_FATOR_2_RECARGA`, `MOTORISTA_FATOR_2_RECARGA_VIAGEM`, `NIVEL_DE_SERVICO`, `NUMERO_MINIMO_DE_VIAGENS`, `PAGAR_LUCRO`, `PAGAR_REMUNERACAO`, `REALIZAR_DESCONTO`, `TOTAL_VEICULO_PADRAO`, `TOTAL_VEICULO_ESPECIAL`, `TOTAL_VEICULO_FIXO`, `TOTAL_VEICULOS_INATIVOS_AMBEV`, `TOTAL_VEICULOS_INATIVOS_FINAME`, `TOTAL_VEICULOS_INATIVOS_QUITADO`, `TOTAL_VEICULOS_INATIVOS_TOTAL`, `TOTAL_VEICULO_MARKETING`, `TOTAL_VEICULO_NOTURNA`, `TOTAL_VEICULO_REFRIGERACAO`, `VALOR_BONUS_AJUDANTE`, `VALOR_BONUS_MOTORISTA`, `VALOR_LUCRO`, `VALOR_PONTO_AJUDANTE`, `VALOR_PONTO_AJUDANTE_PARA_CADA`, `VALOR_PONTO_MOTORISTA`, `VALOR_PONTO_MOTORISTA_PARA_CADA`, `_ID`\"\n",
    "\n",
    "    return colunas\n",
    "    \n",
    "    \n",
    "def conectar_banco(host_name, user_name, user_password, database):\n",
    "    try:\n",
    "        connection = mysql.connector.connect(\n",
    "            host=host_name,\n",
    "            user=user_name,\n",
    "            password=user_password,\n",
    "            database=database\n",
    "        )\n",
    "        # print(\"Con+exão ao banco de dados MySQL realizada com sucesso\")\n",
    "    except mysql.connector.Error as err:\n",
    "        print(f\"Erro ao conectar ao banco de dados: '{err}'\")\n",
    "    return connection\n",
    "\n",
    "def encontrar_arquivo_mais_recente(diretorio, prefixo):\n",
    "    arquivos = [f for f in os.listdir(diretorio) if f.startswith(prefixo) and f.endswith('.xlsx')]\n",
    "    if not arquivos:\n",
    "        return None\n",
    "    return max(arquivos, key=lambda f: os.path.getmtime(os.path.join(diretorio, f)))\n",
    "\n",
    "diretorio =  r'C:\\\\Freightech\\\\load\\\\ROTA'\n",
    "prefixo = 'ROTA'\n",
    "\n",
    "\n",
    "nome_arquivo_mais_recente = encontrar_arquivo_mais_recente(diretorio, prefixo)\n",
    "\n",
    "if nome_arquivo_mais_recente:\n",
    "    nome_arquivo = os.path.join(diretorio, nome_arquivo_mais_recente)\n",
    "    print(f\"Arquivo mais recente encontrado: {nome_arquivo}\")\n",
    "    \n",
    "    arquivo_excel = pd.ExcelFile(nome_arquivo)\n",
    "    nomes_abas = arquivo_excel.sheet_names\n",
    "\n",
    "    for nome_aba in nomes_abas:\n",
    "        item = []\n",
    "        arquivo = pd.read_excel(nome_arquivo, sheet_name=nome_aba)\n",
    "        tabelaInsert, colunasInsert = nome_tabela(nome_arquivo, nome_aba)\n",
    "        print('aba:' + nome_aba + ' tabela:' + tabelaInsert )\n",
    "        colunas = arquivo.columns.tolist()\n",
    "        todosValores = \"\"\n",
    "        for index, linha in arquivo.iterrows():\n",
    "            valores = linha.tolist()\n",
    "            valores_string = ','.join(['\"'+str(valor).rstrip('\\'\"')+'\"' for valor in valores])\n",
    "            valores_string = \"(\" + valores_string + \"),\"\n",
    "            todosValores += valores_string\n",
    "\n",
    "        todosValores = todosValores.rstrip(',')\n",
    "        sql = f\"INSERT IGNORE INTO {tabelaInsert}({colunasInsert}) VALUES {todosValores}\"\n",
    "\n",
    "        conexao = conectar_banco(host_name, user_name, user_password, database)\n",
    "        cursor = conexao.cursor()\n",
    "        try:\n",
    "            cursor.execute(sql)\n",
    "            conexao.commit()\n",
    "            print(f\"Query executada com sucesso na tabela {tabelaInsert}.\")\n",
    "            tabelaInsert = \"\"\n",
    "            colunasInsert = \"\"\n",
    "        except Exception as e:\n",
    "            conexao.rollback()\n",
    "            print(f\"Erro ao executar a query: {e}\")\n",
    "            print(sql)\n",
    "            tabelaInsert = \"\"\n",
    "            colunasInsert = \"\"\n",
    "        finally:\n",
    "            cursor.close()\n",
    "            conexao.close()\n",
    "else:\n",
    "    print(\"Nenhum arquivo encontrado com o prefixo especificado.\")\n"
   ]
  },
  {
   "cell_type": "markdown",
   "metadata": {},
   "source": [
    "PARAMETROS_OPERACAO_ROTA-89\n",
    "PNEUS_ROTA-6480 \n",
    "QLP_ADM_ROTA - 3251 \n",
    "RECARGA_ROTA-89 \n",
    "RESUMO_ROTA-89\n",
    "RESUMO_SRTRANS_ROTA-30\n",
    "RESUMO_SRTRANS_VAN_ROTA-30\n",
    "RESUMO_VAN_ROTA- 30 \n",
    "UNIFORMES_EPI_ROTA-1680 \n",
    "VAN_ROTA-308 \n",
    "1. EQP_ENTREGA_ROTA-467\n",
    "2. EQP_FAD_ROTA-263 \n",
    "EQP_NOTURNA_ROTA-539 \n",
    "4. EQP_VAN_ROTA-185 \n",
    "5. CAMINHAO_ROTA-3557\n",
    "6. FATURAMENTO_ROTA-89 \n",
    "7. BENEFICIO_EQUIPE_ENTREGA_ROTA- 4397 \n",
    "BENEFICIOS_ADM_ROTA- 2159 \n",
    "BENEFICIOS_NOTURNA_ROTA- 3563 \n",
    "10. DESPESAS_OPERACIONAIS_ROTA- 1669 \n",
    "11. MANUTENCAO_CARROCERIA_ROTA-899 \n",
    "COMBUSTIVEL_ROTA- 359 \n",
    "CONSUMO_ROTA- 89 \n",
    "MANUTENCAO_CAMINHAO_ROTA- 1050 \n"
   ]
  },
  {
   "cell_type": "code",
   "execution_count": 4,
   "metadata": {},
   "outputs": [
    {
     "name": "stdout",
     "output_type": "stream",
     "text": [
      "C:\\Users\\ADMIN.JOAO\\AppData\\Local\\Microsoft\\WindowsApps\\PythonSoftwareFoundation.Python.3.12_qbz5n2kfra8p0\\python.exe\n"
     ]
    }
   ],
   "source": [
    "import sys\n",
    "print(sys.executable)"
   ]
  }
 ],
 "metadata": {
  "kernelspec": {
   "display_name": "Python 3",
   "language": "python",
   "name": "python3"
  },
  "language_info": {
   "codemirror_mode": {
    "name": "ipython",
    "version": 3
   },
   "file_extension": ".py",
   "mimetype": "text/x-python",
   "name": "python",
   "nbconvert_exporter": "python",
   "pygments_lexer": "ipython3",
   "version": "3.12.9"
  }
 },
 "nbformat": 4,
 "nbformat_minor": 2
}
