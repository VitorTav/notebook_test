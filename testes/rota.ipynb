{
 "cells": [
  {
   "cell_type": "code",
   "execution_count": 1,
   "metadata": {},
   "outputs": [
    {
     "name": "stdout",
     "output_type": "stream",
     "text": [
      "Arquivo mais recente encontrado: C:\\\\Freightech\\\\load\\\\ROTA\\ROTA (1)_2025-01-08_10-12-41.xlsx\n"
     ]
    },
    {
     "name": "stderr",
     "output_type": "stream",
     "text": [
      "C:\\Users\\ADMIN.JOAO\\AppData\\Local\\Packages\\PythonSoftwareFoundation.Python.3.12_qbz5n2kfra8p0\\LocalCache\\local-packages\\Python312\\site-packages\\openpyxl\\styles\\stylesheet.py:237: UserWarning: Workbook contains no default style, apply openpyxl's default\n",
      "  warn(\"Workbook contains no default style, apply openpyxl's default\")\n"
     ]
    },
    {
     "name": "stdout",
     "output_type": "stream",
     "text": [
      "aba:EQP_ENTREGA tabela:EQP_ENTREGA_ROTA\n",
      "Query executada com sucesso na tabela EQP_ENTREGA_ROTA.\n"
     ]
    },
    {
     "name": "stderr",
     "output_type": "stream",
     "text": [
      "C:\\Users\\ADMIN.JOAO\\AppData\\Local\\Packages\\PythonSoftwareFoundation.Python.3.12_qbz5n2kfra8p0\\LocalCache\\local-packages\\Python312\\site-packages\\openpyxl\\styles\\stylesheet.py:237: UserWarning: Workbook contains no default style, apply openpyxl's default\n",
      "  warn(\"Workbook contains no default style, apply openpyxl's default\")\n"
     ]
    },
    {
     "name": "stdout",
     "output_type": "stream",
     "text": [
      "aba:EQP_FAD tabela:EQP_FAD_ROTA\n",
      "Query executada com sucesso na tabela EQP_FAD_ROTA.\n"
     ]
    },
    {
     "name": "stderr",
     "output_type": "stream",
     "text": [
      "C:\\Users\\ADMIN.JOAO\\AppData\\Local\\Packages\\PythonSoftwareFoundation.Python.3.12_qbz5n2kfra8p0\\LocalCache\\local-packages\\Python312\\site-packages\\openpyxl\\styles\\stylesheet.py:237: UserWarning: Workbook contains no default style, apply openpyxl's default\n",
      "  warn(\"Workbook contains no default style, apply openpyxl's default\")\n"
     ]
    },
    {
     "name": "stdout",
     "output_type": "stream",
     "text": [
      "aba:EQP_NOTURNA tabela:EQP_NOTURNA_ROTA\n",
      "Query executada com sucesso na tabela EQP_NOTURNA_ROTA.\n"
     ]
    },
    {
     "name": "stderr",
     "output_type": "stream",
     "text": [
      "C:\\Users\\ADMIN.JOAO\\AppData\\Local\\Packages\\PythonSoftwareFoundation.Python.3.12_qbz5n2kfra8p0\\LocalCache\\local-packages\\Python312\\site-packages\\openpyxl\\styles\\stylesheet.py:237: UserWarning: Workbook contains no default style, apply openpyxl's default\n",
      "  warn(\"Workbook contains no default style, apply openpyxl's default\")\n"
     ]
    },
    {
     "name": "stdout",
     "output_type": "stream",
     "text": [
      "aba:EQP_VAN tabela:EQP_VAN_ROTA\n",
      "Query executada com sucesso na tabela EQP_VAN_ROTA.\n"
     ]
    },
    {
     "name": "stderr",
     "output_type": "stream",
     "text": [
      "C:\\Users\\ADMIN.JOAO\\AppData\\Local\\Packages\\PythonSoftwareFoundation.Python.3.12_qbz5n2kfra8p0\\LocalCache\\local-packages\\Python312\\site-packages\\openpyxl\\styles\\stylesheet.py:237: UserWarning: Workbook contains no default style, apply openpyxl's default\n",
      "  warn(\"Workbook contains no default style, apply openpyxl's default\")\n"
     ]
    },
    {
     "name": "stdout",
     "output_type": "stream",
     "text": [
      "aba:CAMINHÃO tabela:CAMINHAO_ROTA\n",
      "Query executada com sucesso na tabela CAMINHAO_ROTA.\n"
     ]
    },
    {
     "name": "stderr",
     "output_type": "stream",
     "text": [
      "C:\\Users\\ADMIN.JOAO\\AppData\\Local\\Packages\\PythonSoftwareFoundation.Python.3.12_qbz5n2kfra8p0\\LocalCache\\local-packages\\Python312\\site-packages\\openpyxl\\styles\\stylesheet.py:237: UserWarning: Workbook contains no default style, apply openpyxl's default\n",
      "  warn(\"Workbook contains no default style, apply openpyxl's default\")\n"
     ]
    },
    {
     "name": "stdout",
     "output_type": "stream",
     "text": [
      "aba:FATURAMENTO tabela:FATURAMENTO_ROTA\n",
      "Query executada com sucesso na tabela FATURAMENTO_ROTA.\n"
     ]
    },
    {
     "name": "stderr",
     "output_type": "stream",
     "text": [
      "C:\\Users\\ADMIN.JOAO\\AppData\\Local\\Packages\\PythonSoftwareFoundation.Python.3.12_qbz5n2kfra8p0\\LocalCache\\local-packages\\Python312\\site-packages\\openpyxl\\styles\\stylesheet.py:237: UserWarning: Workbook contains no default style, apply openpyxl's default\n",
      "  warn(\"Workbook contains no default style, apply openpyxl's default\")\n"
     ]
    },
    {
     "name": "stdout",
     "output_type": "stream",
     "text": [
      "aba:QLP ADM tabela:QLP_ADM_ROTA\n",
      "Query executada com sucesso na tabela QLP_ADM_ROTA.\n"
     ]
    },
    {
     "name": "stderr",
     "output_type": "stream",
     "text": [
      "C:\\Users\\ADMIN.JOAO\\AppData\\Local\\Packages\\PythonSoftwareFoundation.Python.3.12_qbz5n2kfra8p0\\LocalCache\\local-packages\\Python312\\site-packages\\openpyxl\\styles\\stylesheet.py:237: UserWarning: Workbook contains no default style, apply openpyxl's default\n",
      "  warn(\"Workbook contains no default style, apply openpyxl's default\")\n"
     ]
    },
    {
     "name": "stdout",
     "output_type": "stream",
     "text": [
      "aba:RECARGA tabela:RECARGA_ROTA\n",
      "Query executada com sucesso na tabela RECARGA_ROTA.\n"
     ]
    },
    {
     "name": "stderr",
     "output_type": "stream",
     "text": [
      "C:\\Users\\ADMIN.JOAO\\AppData\\Local\\Packages\\PythonSoftwareFoundation.Python.3.12_qbz5n2kfra8p0\\LocalCache\\local-packages\\Python312\\site-packages\\openpyxl\\styles\\stylesheet.py:237: UserWarning: Workbook contains no default style, apply openpyxl's default\n",
      "  warn(\"Workbook contains no default style, apply openpyxl's default\")\n"
     ]
    },
    {
     "name": "stdout",
     "output_type": "stream",
     "text": [
      "aba:DESPESAS OPERACIONAIS tabela:DESPESAS_OPERACIONAIS_ROTA\n",
      "Query executada com sucesso na tabela DESPESAS_OPERACIONAIS_ROTA.\n"
     ]
    },
    {
     "name": "stderr",
     "output_type": "stream",
     "text": [
      "C:\\Users\\ADMIN.JOAO\\AppData\\Local\\Packages\\PythonSoftwareFoundation.Python.3.12_qbz5n2kfra8p0\\LocalCache\\local-packages\\Python312\\site-packages\\openpyxl\\styles\\stylesheet.py:237: UserWarning: Workbook contains no default style, apply openpyxl's default\n",
      "  warn(\"Workbook contains no default style, apply openpyxl's default\")\n"
     ]
    },
    {
     "name": "stdout",
     "output_type": "stream",
     "text": [
      "aba:MANUTENÇÃO CARROCERIA tabela:MANUNTENCAO_CARROCERIA_ROTA\n",
      "Query executada com sucesso na tabela MANUNTENCAO_CARROCERIA_ROTA.\n"
     ]
    },
    {
     "name": "stderr",
     "output_type": "stream",
     "text": [
      "C:\\Users\\ADMIN.JOAO\\AppData\\Local\\Packages\\PythonSoftwareFoundation.Python.3.12_qbz5n2kfra8p0\\LocalCache\\local-packages\\Python312\\site-packages\\openpyxl\\styles\\stylesheet.py:237: UserWarning: Workbook contains no default style, apply openpyxl's default\n",
      "  warn(\"Workbook contains no default style, apply openpyxl's default\")\n"
     ]
    },
    {
     "name": "stdout",
     "output_type": "stream",
     "text": [
      "aba:COMBUSTÍVEL tabela:COMBUSTIVEL_ROTA\n",
      "Query executada com sucesso na tabela COMBUSTIVEL_ROTA.\n"
     ]
    },
    {
     "name": "stderr",
     "output_type": "stream",
     "text": [
      "C:\\Users\\ADMIN.JOAO\\AppData\\Local\\Packages\\PythonSoftwareFoundation.Python.3.12_qbz5n2kfra8p0\\LocalCache\\local-packages\\Python312\\site-packages\\openpyxl\\styles\\stylesheet.py:237: UserWarning: Workbook contains no default style, apply openpyxl's default\n",
      "  warn(\"Workbook contains no default style, apply openpyxl's default\")\n"
     ]
    },
    {
     "name": "stdout",
     "output_type": "stream",
     "text": [
      "aba:PARÂMETROS OPERAÇÃO tabela:PARAMETROS_OPERACAO_ROTA\n",
      "Query executada com sucesso na tabela PARAMETROS_OPERACAO_ROTA.\n"
     ]
    },
    {
     "name": "stderr",
     "output_type": "stream",
     "text": [
      "C:\\Users\\ADMIN.JOAO\\AppData\\Local\\Packages\\PythonSoftwareFoundation.Python.3.12_qbz5n2kfra8p0\\LocalCache\\local-packages\\Python312\\site-packages\\openpyxl\\styles\\stylesheet.py:237: UserWarning: Workbook contains no default style, apply openpyxl's default\n",
      "  warn(\"Workbook contains no default style, apply openpyxl's default\")\n"
     ]
    },
    {
     "name": "stdout",
     "output_type": "stream",
     "text": [
      "aba:CONSUMO tabela:CONSUMO_ROTA\n",
      "Query executada com sucesso na tabela CONSUMO_ROTA.\n"
     ]
    },
    {
     "name": "stderr",
     "output_type": "stream",
     "text": [
      "C:\\Users\\ADMIN.JOAO\\AppData\\Local\\Packages\\PythonSoftwareFoundation.Python.3.12_qbz5n2kfra8p0\\LocalCache\\local-packages\\Python312\\site-packages\\openpyxl\\styles\\stylesheet.py:237: UserWarning: Workbook contains no default style, apply openpyxl's default\n",
      "  warn(\"Workbook contains no default style, apply openpyxl's default\")\n"
     ]
    },
    {
     "name": "stdout",
     "output_type": "stream",
     "text": [
      "aba:MANUTENÇÃO CAMINHÃO tabela:MANUTENCAO_CAMINHAO_ROTA\n",
      "Query executada com sucesso na tabela MANUTENCAO_CAMINHAO_ROTA.\n"
     ]
    },
    {
     "name": "stderr",
     "output_type": "stream",
     "text": [
      "C:\\Users\\ADMIN.JOAO\\AppData\\Local\\Packages\\PythonSoftwareFoundation.Python.3.12_qbz5n2kfra8p0\\LocalCache\\local-packages\\Python312\\site-packages\\openpyxl\\styles\\stylesheet.py:237: UserWarning: Workbook contains no default style, apply openpyxl's default\n",
      "  warn(\"Workbook contains no default style, apply openpyxl's default\")\n"
     ]
    },
    {
     "name": "stdout",
     "output_type": "stream",
     "text": [
      "aba:PNEUS tabela:PNEUS_ROTA\n",
      "Query executada com sucesso na tabela PNEUS_ROTA.\n"
     ]
    },
    {
     "name": "stderr",
     "output_type": "stream",
     "text": [
      "C:\\Users\\ADMIN.JOAO\\AppData\\Local\\Packages\\PythonSoftwareFoundation.Python.3.12_qbz5n2kfra8p0\\LocalCache\\local-packages\\Python312\\site-packages\\openpyxl\\styles\\stylesheet.py:237: UserWarning: Workbook contains no default style, apply openpyxl's default\n",
      "  warn(\"Workbook contains no default style, apply openpyxl's default\")\n"
     ]
    },
    {
     "name": "stdout",
     "output_type": "stream",
     "text": [
      "aba:UNIFORMES E EPIS tabela:UNIFORMES_EPI_ROTA\n",
      "Query executada com sucesso na tabela UNIFORMES_EPI_ROTA.\n"
     ]
    },
    {
     "name": "stderr",
     "output_type": "stream",
     "text": [
      "C:\\Users\\ADMIN.JOAO\\AppData\\Local\\Packages\\PythonSoftwareFoundation.Python.3.12_qbz5n2kfra8p0\\LocalCache\\local-packages\\Python312\\site-packages\\openpyxl\\styles\\stylesheet.py:237: UserWarning: Workbook contains no default style, apply openpyxl's default\n",
      "  warn(\"Workbook contains no default style, apply openpyxl's default\")\n"
     ]
    },
    {
     "name": "stdout",
     "output_type": "stream",
     "text": [
      "aba:BENEFÍCIOS EQUIPE ENTREGA tabela:BENEFICIO_EQUIPE_ENTREGA_ROTA\n",
      "Query executada com sucesso na tabela BENEFICIO_EQUIPE_ENTREGA_ROTA.\n"
     ]
    },
    {
     "name": "stderr",
     "output_type": "stream",
     "text": [
      "C:\\Users\\ADMIN.JOAO\\AppData\\Local\\Packages\\PythonSoftwareFoundation.Python.3.12_qbz5n2kfra8p0\\LocalCache\\local-packages\\Python312\\site-packages\\openpyxl\\styles\\stylesheet.py:237: UserWarning: Workbook contains no default style, apply openpyxl's default\n",
      "  warn(\"Workbook contains no default style, apply openpyxl's default\")\n"
     ]
    },
    {
     "name": "stdout",
     "output_type": "stream",
     "text": [
      "aba:BENEFÍCIOS ADM tabela:BENEFICIOS_ADM_ROTA\n",
      "Query executada com sucesso na tabela BENEFICIOS_ADM_ROTA.\n"
     ]
    },
    {
     "name": "stderr",
     "output_type": "stream",
     "text": [
      "C:\\Users\\ADMIN.JOAO\\AppData\\Local\\Packages\\PythonSoftwareFoundation.Python.3.12_qbz5n2kfra8p0\\LocalCache\\local-packages\\Python312\\site-packages\\openpyxl\\styles\\stylesheet.py:237: UserWarning: Workbook contains no default style, apply openpyxl's default\n",
      "  warn(\"Workbook contains no default style, apply openpyxl's default\")\n"
     ]
    },
    {
     "name": "stdout",
     "output_type": "stream",
     "text": [
      "aba:BENEFÍCIOS NOTURNA tabela:BENEFICIOS_NOTURNA_ROTA\n",
      "Query executada com sucesso na tabela BENEFICIOS_NOTURNA_ROTA.\n"
     ]
    },
    {
     "name": "stderr",
     "output_type": "stream",
     "text": [
      "C:\\Users\\ADMIN.JOAO\\AppData\\Local\\Packages\\PythonSoftwareFoundation.Python.3.12_qbz5n2kfra8p0\\LocalCache\\local-packages\\Python312\\site-packages\\openpyxl\\styles\\stylesheet.py:237: UserWarning: Workbook contains no default style, apply openpyxl's default\n",
      "  warn(\"Workbook contains no default style, apply openpyxl's default\")\n"
     ]
    },
    {
     "name": "stdout",
     "output_type": "stream",
     "text": [
      "aba:RESUMO tabela:RESUMO_ROTA\n",
      "Query executada com sucesso na tabela RESUMO_ROTA.\n"
     ]
    },
    {
     "name": "stderr",
     "output_type": "stream",
     "text": [
      "C:\\Users\\ADMIN.JOAO\\AppData\\Local\\Packages\\PythonSoftwareFoundation.Python.3.12_qbz5n2kfra8p0\\LocalCache\\local-packages\\Python312\\site-packages\\openpyxl\\styles\\stylesheet.py:237: UserWarning: Workbook contains no default style, apply openpyxl's default\n",
      "  warn(\"Workbook contains no default style, apply openpyxl's default\")\n"
     ]
    },
    {
     "name": "stdout",
     "output_type": "stream",
     "text": [
      "aba:VAN tabela:VAN_ROTA\n",
      "Query executada com sucesso na tabela VAN_ROTA.\n"
     ]
    },
    {
     "name": "stderr",
     "output_type": "stream",
     "text": [
      "C:\\Users\\ADMIN.JOAO\\AppData\\Local\\Packages\\PythonSoftwareFoundation.Python.3.12_qbz5n2kfra8p0\\LocalCache\\local-packages\\Python312\\site-packages\\openpyxl\\styles\\stylesheet.py:237: UserWarning: Workbook contains no default style, apply openpyxl's default\n",
      "  warn(\"Workbook contains no default style, apply openpyxl's default\")\n"
     ]
    },
    {
     "name": "stdout",
     "output_type": "stream",
     "text": [
      "aba:RESUMO VAN tabela:RESUMO_ROTA\n",
      "Erro ao executar a query: 1136 (21S01): Column count doesn't match value count at row 1\n",
      "INSERT IGNORE INTO RESUMO_ROTA(`VIGENCIA`, `UNIDADE_CNPJ`, `UNIDADE_NOME`, `UNIDADE_SAP`, `UNIDADE_TMS`, `UNIDADE_PROMAX_UNB`, `UNIDADE_REGIONAL`, `OPERADOR_CNPJ`, `OPERADOR_NOME`, `OPERADOR_SAP`, `OPERADOR_TMS`, `OPERADOR_PROMAX`, `ORGANIZACAO_DE_COMPRAS`, `PRAZO_PAGAMENTO`, `ASSESSORIA_JURIDICA`, `BENEFICIOS`, `BENEFICIOS_AJUDANTE_POR_CAMINHAO`, `BENEFICIOS_MOTORISTA_POR_CAMINHAO`, `COMBUSTIVEL_R_KM`, `COMUNICACAO_FIXA`, `CONE`, `DEPRECIACAO_CAMINHAO`, `DEPRECIACAO_CAMINHAO_PARADO`, `DEPRECIACAO_CARROCERIA`, `DEPRECIACAO_CARROCERIA_PARADO`, `ENCARGOS_E_PROVISOES`, `FAD`, `FINAME_MODELO_NOVO`, `FINAME_MODELO_NOVO_PARADO`, `FAIXA_REFLEXIVA`, `FAIXA_REFLEXIVA_PARADO`, `FROTA_LEVE`, `IPVA_LICEN_MENSAL`, `IPVA_LICENC_MENSAL_PARADO`, `INCENTIVO`, `KM_REMUNERADO`, `LAVAGEM`, `LINK`, `LUCRO_FINAME_MODELO_ANTIGO`, `LUCRO_FINAME_PARADO`, `LUCRO_FIXO_MODELO_NOVO`, `LUCRO_FIXO_MODELO_NOVO_PARADO`, `LUCRO_VARIAVEL_MODELO_NOVO`, `MANUTENCAO_CAMINHAO_R_KM`, `MANUTENCAO_CARRINHOS_TROCA`, `MANUTENCAO_CARROCERIA_R_KM`, `MANUTENCAO_SISTEMAS`, `MATERIAL_ESCRITORIO`, `OUTROS`, `PPRA`, `PNEU_R_KM`, `QUANTIDADE_AJUDANTE_POR_CAMINHAO`, `QUANTIDADE_MOTORISTA_POR_CAMINHAO`, `RASTREADOR`, `RASTREADOR_PARADO`, `REMUNERACAO_K`, `REMUNERACAO_K_IMPOSTOS`, `REMUNERACAO_K_IMPOSTOS_PARADO`, `REMUNERACAO_K_PARADO`, `REMUNERACAO_UNIDADE`, `SALARIO`, `SALARIO_FIXO_AJUDANTE_POR_CAMINHAO`, `SALARIO_FIXO_MOTORISTA_POR_CAMINHAO`, `SEGURO`, `SEGURO_PARADO`, `TELEFONIA_MOVEL`, `TOTAL_CAMINHAO_ATIVO`, `TOTAL_CAMINHAO_PARADO`, `TOTAL_CUSTO`, `TOTAL_EQUIPE_ENTREGA`, `TOTAL_ESTIMADA`, `TOTAL_FROTA`, `TOTAL_FROTA_ATIVA`, `TOTAL_FROTA_PARADA`, `TOTAL_OPERACIONAL_PREVISTO`, `TOTAL_OUTRAS_DESPESAS`, `TOTAL_QLP_ADM`, `TOTAL_R_KM`, `TOTAL_VIAGENS`, `TOTAL_POR_CAMINHAO_EQUIPE_DE_ENTREGA`, `TOTAL_POR_CAMINHAO_ESTIMADA`, `TOTAL_POR_CAMINHAO_FROTA_ATIVA`, `TOTAL_POR_CAMINHAO_FROTA_PARADA`, `TOTAL_POR_CAMINHAO_OPERACIONAL_PREVISTO`, `TOTAL_POR_CAMINHAO_OUTRAS_DESPESAS`, `TOTAL_POR_CAMINHAO_QLP_ADM`, `TOTAL_POR_CAMINHAO_VIAGENS`, `UNIFORME_AJUDANTE_POR_CAMINHAO`, `UNIFORME_MOTORISTA_POR_CAMINHAO`, `UNIFORMES`, `HES_RV_DSR_PROV_AJUDANTE`, `HES_RV_DSR_PROV_MOTORISTA`, `TOTAL_CAMINHAO_ALUGUEL`, `TOTAL_CUSTO_FIXO_ALUGADO_POR_CAMINHAO`, `TOTAL_CUSTO_VARIAVEL_ALUGADO`, `TOTAL_LUCRO_ALUGUEL`, `_ID`) VALUES (\"ROTA_1_1_2025\",\"56228356011095\",\"CDD BELEM\",\"BR1Z\",\"229.0\",\"229.0\",\"NO\",\"7451885000194\",\"HORIZONTE\",\"316377\",\"nan\",\"36.0\",\"NO\",\"nan\",\"0\",\"0\",\"0\",\"1407.04\",\"0.74\",\"0\",\"0\",\"0\",\"0\",\"0\",\"0\",\"0\",\"0\",\"15.2\",\"15.2\",\"3480.0\",\"4604.0\",\"0\",\"0\",\"0\",\"0\",\"0\",\"0\",\"1164.37\",\"158.18\",\"0\",\"0\",\"0\",\"0\",\"0\",\"0\",\"0.47\",\"0\",\"0\",\"0\",\"0\",\"0\",\"0.19\",\"0\",\"0\",\"1.06\",\"0\",\"0\",\"0\",\"0\",\"0\",\"0\",\"0\",\"0\",\"0\",\"2282.51\",\"73.91\",\"73.91\",\"0\",\"6\",\"2\",\"0\",\"22754.61\",\"0\",\"0\",\"21414.65\",\"9386.22\",\"0\",\"949.08\",\"3792.44\",\"0\",\"3569.11\",\"4693.11\",\"0\",\"158.18\",\"0\",\"1634.14\",\"0\",\"1.4\",\"9804.82\",\"0\",\"102.89\",\"0\",\"0cf0ce4b-4174-4bf2-928d-f103fa981ccb\"),(\"ROTA_1_1_2025\",\"07526557003206\",\"CDD BRASILIA\",\"BR2R\",\"nan\",\"710.0\",\"nan\",\"7451885000518\",\"HORIZONTE\",\"316377\",\"nan\",\"4.0\",\"nan\",\"nan\",\"0\",\"0\",\"0\",\"2361.02\",\"0.59\",\"0\",\"0\",\"0\",\"0\",\"0\",\"0\",\"0\",\"0\",\"15.2\",\"15.2\",\"2992.0\",\"3639.0\",\"0\",\"0\",\"0\",\"0\",\"0\",\"0\",\"1714.61\",\"177.95\",\"0\",\"0\",\"0\",\"0\",\"0\",\"0\",\"0.0\",\"0\",\"0\",\"0\",\"0\",\"0\",\"0.23\",\"0\",\"0\",\"1.06\",\"0\",\"0\",\"0\",\"0\",\"0\",\"0\",\"0\",\"0\",\"0\",\"3290.28\",\"73.91\",\"73.91\",\"0\",\"1\",\"4\",\"0\",\"5760.47\",\"0\",\"0\",\"3081.11\",\"14912.43\",\"0\",\"177.95\",\"5760.47\",\"0\",\"3081.11\",\"3728.11\",\"0\",\"177.95\",\"0\",\"1402.28\",\"0\",\"0.82\",\"1402.28\",\"0\",\"109.17\",\"0\",\"0cf0ce4b-4174-4bf2-928d-f103fa981ccb\"),(\"ROTA_1_1_2025\",\"07526557002234\",\"CDD CARUARU\",\"BR2I\",\"nan\",\"598.0\",\"nan\",\"3965584001795\",\"HORIZONTE\",\"316872\",\"nan\",\"5.0\",\"nan\",\"nan\",\"0\",\"0\",\"0\",\"1226.03\",\"0.7\",\"0\",\"0\",\"0\",\"0\",\"0\",\"0\",\"0\",\"0\",\"15.2\",\"15.2\",\"4154.25\",\"2992.0\",\"0\",\"0\",\"0\",\"0\",\"0\",\"0\",\"1355.95\",\"186.65\",\"0\",\"0\",\"0\",\"0\",\"0\",\"0\",\"0.31\",\"0\",\"0\",\"0\",\"0\",\"0\",\"0.23\",\"0\",\"0\",\"1.06\",\"0\",\"0\",\"0\",\"0\",\"0\",\"0\",\"0\",\"0\",\"0\",\"2879.67\",\"73.91\",\"73.91\",\"0\",\"4\",\"1\",\"0\",\"16834.37\",\"0\",\"0\",\"16973.43\",\"3081.11\",\"0\",\"746.6\",\"4208.59\",\"0\",\"4243.36\",\"3081.11\",\"0\",\"186.65\",\"0\",\"1687.39\",\"0\",\"1.24\",\"6749.54\",\"0\",\"102.89\",\"0\",\"0cf0ce4b-4174-4bf2-928d-f103fa981ccb\"),(\"ROTA_1_1_2025\",\"07526557005683_CARRETAS\",\"CDD EQUATORIAL - CARRETAS\",\"nan\",\"nan\",\"nan\",\"nan\",\"7451885000780\",\"HORIZONTE\",\"316377\",\"nan\",\"7.0\",\"nan\",\"nan\",\"0\",\"0\",\"0\",\"0.0\",\"0.0\",\"0\",\"0\",\"0\",\"0\",\"0\",\"0\",\"0\",\"0\",\"0.0\",\"0.0\",\"0.0\",\"0.0\",\"0\",\"0\",\"0\",\"0\",\"0\",\"0\",\"0.0\",\"0.0\",\"0\",\"0\",\"0\",\"0\",\"0\",\"0\",\"0.0\",\"0\",\"0\",\"0\",\"0\",\"0\",\"0.0\",\"0\",\"0\",\"0.0\",\"0\",\"0\",\"0\",\"0\",\"0\",\"0\",\"0\",\"0\",\"0\",\"0.0\",\"0.0\",\"0.0\",\"0\",\"0\",\"0\",\"0\",\"0.0\",\"0\",\"0\",\"0.0\",\"0.0\",\"0\",\"0.0\",\"0.0\",\"0\",\"0.0\",\"0.0\",\"0\",\"0.0\",\"0\",\"0.0\",\"0\",\"0.0\",\"0.0\",\"0\",\"0.0\",\"0\",\"0cf0ce4b-4174-4bf2-928d-f103fa981ccb\"),(\"ROTA_1_1_2025\",\"07526557005683\",\"CDD EQUATORIAL\",\"BR4W\",\"991.0\",\"992.0\",\"NO\",\"7451885000780\",\"HORIZONTE\",\"316377\",\"nan\",\"7.0\",\"nan\",\"nan\",\"0\",\"0\",\"0\",\"0.0\",\"0.0\",\"0\",\"0\",\"0\",\"0\",\"0\",\"0\",\"0\",\"0\",\"0.0\",\"0.0\",\"0.0\",\"0.0\",\"0\",\"0\",\"0\",\"0\",\"0\",\"0\",\"0.0\",\"0.0\",\"0\",\"0\",\"0\",\"0\",\"0\",\"0\",\"0.0\",\"0\",\"0\",\"0\",\"0\",\"0\",\"0.0\",\"0\",\"0\",\"0.0\",\"0\",\"0\",\"0\",\"0\",\"0\",\"0\",\"0\",\"0\",\"0\",\"0.0\",\"0.0\",\"0.0\",\"0\",\"0\",\"0\",\"0\",\"0.0\",\"0\",\"0\",\"0.0\",\"0.0\",\"0\",\"0.0\",\"0.0\",\"0\",\"0.0\",\"0.0\",\"0\",\"0.0\",\"0\",\"0.0\",\"0\",\"0.0\",\"0.0\",\"0\",\"0.0\",\"0\",\"0cf0ce4b-4174-4bf2-928d-f103fa981ccb\"),(\"ROTA_1_1_2025\",\"07526557003125\",\"CDD GAMA\",\"BR4B\",\"39.0\",\"39.0\",\"nan\",\"7451885000518\",\"HORIZONTE\",\"316377\",\"nan\",\"4.0\",\"nan\",\"nan\",\"0\",\"0\",\"0\",\"2360.11\",\"0.57\",\"0\",\"0\",\"0\",\"0\",\"0\",\"0\",\"0\",\"0\",\"0.0\",\"15.2\",\"4604.0\",\"0.0\",\"0\",\"0\",\"0\",\"0\",\"0\",\"0\",\"2630.48\",\"173.01\",\"0\",\"0\",\"0\",\"0\",\"0\",\"0\",\"0.22\",\"0\",\"0\",\"0\",\"0\",\"0\",\"0.23\",\"0\",\"0\",\"1.06\",\"0\",\"0\",\"0\",\"0\",\"0\",\"0\",\"0\",\"0\",\"0\",\"3238.79\",\"73.91\",\"0.0\",\"0\",\"2\",\"0\",\"0\",\"11416.15\",\"0\",\"0\",\"9386.22\",\"0.0\",\"0\",\"346.02\",\"5708.08\",\"0\",\"4693.11\",\"0.0\",\"0\",\"173.01\",\"0\",\"2668.15\",\"0\",\"1.01\",\"5336.31\",\"0\",\"109.17\",\"0\",\"0cf0ce4b-4174-4bf2-928d-f103fa981ccb\"),(\"ROTA_1_1_2025\",\"56228356014868\",\"CDD IMPERATRIZ\",\"BR5E\",\"603.0\",\"603.0\",\"NO\",\"20618821000284\",\"OPERALOG\",\"378289\",\"nan\",\"2.0\",\"nan\",\"nan\",\"0\",\"0\",\"0\",\"1377.79\",\"0.82\",\"0\",\"0\",\"0\",\"0\",\"0\",\"0\",\"0\",\"0\",\"14.4\",\"14.4\",\"3636.8\",\"2805.0\",\"0\",\"0\",\"0\",\"0\",\"0\",\"0\",\"1523.68\",\"121.94\",\"0\",\"0\",\"0\",\"0\",\"0\",\"0\",\"0.15\",\"0\",\"0\",\"0\",\"0\",\"0\",\"0.23\",\"0\",\"0\",\"1.06\",\"0\",\"0\",\"0\",\"0\",\"0\",\"0\",\"0\",\"0\",\"0\",\"2585.24\",\"73.91\",\"73.91\",\"0\",\"5\",\"1\",\"0\",\"20329.62\",\"0\",\"0\",\"18625.51\",\"2893.3\",\"0\",\"609.7\",\"4065.92\",\"0\",\"3725.1\",\"2893.3\",\"0\",\"121.94\",\"0\",\"1823.7\",\"0\",\"1.2\",\"9118.5\",\"0\",\"102.89\",\"0\",\"0cf0ce4b-4174-4bf2-928d-f103fa981ccb\"),(\"ROTA_1_1_2025\",\"56228356011338\",\"CDD MACEIO\",\"BR1L\",\"141.0\",\"141.0\",\"NE\",\"3965584001604\",\"HORIZONTE\",\"320008\",\"nan\",\"10.0\",\"nan\",\"nan\",\"0\",\"0\",\"0\",\"903.51\",\"0.82\",\"0\",\"0\",\"0\",\"0\",\"0\",\"0\",\"0\",\"0\",\"15.2\",\"15.2\",\"4604.0\",\"4604.0\",\"0\",\"0\",\"0\",\"0\",\"0\",\"0\",\"1582.75\",\"197.73\",\"0\",\"0\",\"0\",\"0\",\"0\",\"0\",\"0.36\",\"0\",\"0\",\"0\",\"0\",\"0\",\"0.23\",\"0\",\"0\",\"1.06\",\"0\",\"0\",\"0\",\"0\",\"0\",\"0\",\"0\",\"0\",\"0\",\"2401.14\",\"73.91\",\"73.91\",\"0\",\"4\",\"1\",\"0\",\"13630.18\",\"0\",\"0\",\"18772.43\",\"4693.11\",\"0\",\"790.92\",\"3407.54\",\"0\",\"4693.11\",\"4693.11\",\"0\",\"197.73\",\"0\",\"2225.56\",\"0\",\"1.41\",\"8902.23\",\"0\",\"102.89\",\"0\",\"0cf0ce4b-4174-4bf2-928d-f103fa981ccb\"),(\"ROTA_1_1_2025\",\"56228356010013\",\"CDD MANAUS\",\"BR1O\",\"849.0\",\"849.0\",\"nan\",\"7462961000167\",\"HORIZONTE\",\"313103\",\"nan\",\"4.0\",\"nan\",\"nan\",\"0\",\"0\",\"0\",\"1490.84\",\"1.15\",\"0\",\"0\",\"0\",\"0\",\"0\",\"0\",\"0\",\"0\",\"15.2\",\"15.2\",\"4604.0\",\"2356.0\",\"0\",\"0\",\"0\",\"0\",\"0\",\"0\",\"1856.51\",\"197.73\",\"0\",\"0\",\"0\",\"0\",\"0\",\"0\",\"0.31\",\"0\",\"0\",\"0\",\"0\",\"0\",\"0.23\",\"0\",\"0\",\"1.06\",\"0\",\"0\",\"0\",\"0\",\"0\",\"0\",\"0\",\"0\",\"0\",\"2289.17\",\"73.91\",\"73.91\",\"0\",\"6\",\"1\",\"0\",\"23297.41\",\"0\",\"0\",\"28158.65\",\"2445.11\",\"0\",\"1186.38\",\"3882.9\",\"0\",\"4693.11\",\"2445.11\",\"0\",\"197.73\",\"0\",\"3123.16\",\"0\",\"1.68\",\"18738.97\",\"0\",\"102.89\",\"0\",\"0cf0ce4b-4174-4bf2-928d-f103fa981ccb\"),(\"ROTA_1_1_2025\",\"07526557002315\",\"CDD OLINDA\",\"BR2E\",\"nan\",\"546.0\",\"nan\",\"3965584001523\",\"HORIZONTE\",\"421808\",\"nan\",\"12.0\",\"nan\",\"nan\",\"0\",\"0\",\"0\",\"1013.1\",\"0.93\",\"0\",\"0\",\"0\",\"0\",\"0\",\"0\",\"0\",\"0\",\"15.2\",\"15.2\",\"3576.0\",\"3704.5\",\"0\",\"0\",\"0\",\"0\",\"0\",\"0\",\"1225.25\",\"177.95\",\"0\",\"0\",\"0\",\"0\",\"0\",\"0\",\"0.2\",\"0\",\"0\",\"0\",\"0\",\"0\",\"0.23\",\"0\",\"0\",\"1.06\",\"0\",\"0\",\"0\",\"0\",\"0\",\"0\",\"0\",\"0\",\"0\",\"3537.23\",\"73.88\",\"73.91\",\"0\",\"7\",\"2\",\"0\",\"32572.55\",\"0\",\"0\",\"25655.6\",\"7587.22\",\"0\",\"1245.65\",\"4653.22\",\"0\",\"3665.09\",\"3793.61\",\"0\",\"177.95\",\"0\",\"1663.61\",\"0\",\"1.36\",\"11645.28\",\"0\",\"102.89\",\"0\",\"0cf0ce4b-4174-4bf2-928d-f103fa981ccb\"),(\"ROTA_1_1_2025\",\"07526557002072\",\"CDL CABO\",\"BR4U\",\"nan\",\"729.0\",\"nan\",\"3965584001957\",\"HORIZONTE\",\"376499\",\"nan\",\"1.0\",\"nan\",\"nan\",\"0\",\"0\",\"0\",\"1065.98\",\"0.69\",\"0\",\"0\",\"0\",\"0\",\"0\",\"0\",\"0\",\"0\",\"15.2\",\"15.2\",\"3319.0\",\"3105.33\",\"0\",\"0\",\"0\",\"0\",\"0\",\"0\",\"1746.58\",\"131.82\",\"0\",\"0\",\"0\",\"0\",\"0\",\"0\",\"0.09\",\"0\",\"0\",\"0\",\"0\",\"0\",\"0.23\",\"0\",\"0\",\"1.06\",\"0\",\"0\",\"0\",\"0\",\"0\",\"0\",\"0\",\"0\",\"0\",\"3304.59\",\"73.91\",\"73.91\",\"0\",\"7\",\"3\",\"0\",\"31314.19\",\"0\",\"0\",\"23856.76\",\"9583.32\",\"0\",\"922.74\",\"4473.46\",\"0\",\"3408.11\",\"3194.44\",\"0\",\"131.82\",\"0\",\"1776.17\",\"0\",\"1.02\",\"12433.22\",\"0\",\"102.89\",\"0\",\"0cf0ce4b-4174-4bf2-928d-f103fa981ccb\"),(\"ROTA_1_1_2025\",\"07526557002153_INTER\",\"PERNAMBUCO - INTERNALIZAÇÃO\",\"BR31\",\"358.0\",\"nan\",\"nan\",\"3965584001523\",\"HORIZONTE\",\"421808\",\"nan\",\"12.0\",\"nan\",\"nan\",\"0\",\"0\",\"0\",\"0.0\",\"0.0\",\"0\",\"0\",\"0\",\"0\",\"0\",\"0\",\"0\",\"0\",\"0.0\",\"0.0\",\"0.0\",\"0.0\",\"0\",\"0\",\"0\",\"0\",\"0\",\"0\",\"0.0\",\"0.0\",\"0\",\"0\",\"0\",\"0\",\"0\",\"0\",\"0.0\",\"0\",\"0\",\"0\",\"0\",\"0\",\"0.0\",\"0\",\"0\",\"0.0\",\"0\",\"0\",\"0\",\"0\",\"0\",\"0\",\"0\",\"0\",\"0\",\"0.0\",\"0.0\",\"0.0\",\"0\",\"0\",\"0\",\"0\",\"0.0\",\"0\",\"0\",\"0.0\",\"0.0\",\"0\",\"0.0\",\"0.0\",\"0\",\"0.0\",\"0.0\",\"0\",\"0.0\",\"0\",\"0.0\",\"0\",\"0.0\",\"0.0\",\"0\",\"0.0\",\"0\",\"0cf0ce4b-4174-4bf2-928d-f103fa981ccb\"),(\"ROTA_1_1_2025\",\"56228356011095_UDC\",\"UDC BELEM\",\"nan\",\"nan\",\"nan\",\"nan\",\"7451885001670\",\"HORIZONTE\",\"316377\",\"nan\",\"nan\",\"nan\",\"nan\",\"0\",\"0\",\"0\",\"1396.6\",\"0.81\",\"0\",\"0\",\"0\",\"0\",\"0\",\"0\",\"0\",\"0\",\"15.2\",\"15.2\",\"4104.44\",\"2356.0\",\"0\",\"0\",\"0\",\"0\",\"0\",\"0\",\"965.87\",\"158.18\",\"0\",\"0\",\"0\",\"0\",\"0\",\"0\",\"0.56\",\"0\",\"0\",\"0\",\"0\",\"0\",\"0.19\",\"0\",\"0\",\"1.06\",\"0\",\"0\",\"0\",\"0\",\"0\",\"0\",\"0\",\"0\",\"0\",\"2277.63\",\"73.91\",\"73.91\",\"0\",\"9\",\"1\",\"0\",\"33994.17\",\"0\",\"0\",\"37741.97\",\"2445.11\",\"0\",\"1423.62\",\"3777.13\",\"0\",\"4193.55\",\"2445.11\",\"0\",\"158.18\",\"0\",\"1510.96\",\"0\",\"1.56\",\"13598.63\",\"0\",\"102.89\",\"0\",\"0cf0ce4b-4174-4bf2-928d-f103fa981ccb\"),(\"ROTA_1_1_2025\",\"07526557005683_UDC\",\"UDC EQUATORIAL\",\"nan\",\"nan\",\"nan\",\"nan\",\"7451885000780\",\"HORIZONTE\",\"316377\",\"nan\",\"7.0\",\"nan\",\"nan\",\"0\",\"0\",\"0\",\"1033.73\",\"0.87\",\"0\",\"0\",\"0\",\"0\",\"0\",\"0\",\"0\",\"0\",\"15.2\",\"15.2\",\"3245.38\",\"3704.5\",\"0\",\"0\",\"0\",\"0\",\"0\",\"0\",\"1142.33\",\"263.63\",\"0\",\"0\",\"0\",\"0\",\"0\",\"0\",\"0.18\",\"0\",\"0\",\"0\",\"0\",\"0\",\"0.23\",\"0\",\"0\",\"1.08\",\"0\",\"0\",\"0\",\"0\",\"0\",\"0\",\"0\",\"0\",\"0\",\"2471.14\",\"73.91\",\"73.91\",\"0\",\"8\",\"2\",\"0\",\"28884.97\",\"0\",\"0\",\"26675.86\",\"7587.22\",\"0\",\"2109.04\",\"3610.62\",\"0\",\"3334.48\",\"3793.61\",\"0\",\"263.63\",\"0\",\"1463.58\",\"0\",\"1.28\",\"11708.64\",\"0\",\"105.76\",\"0\",\"0cf0ce4b-4174-4bf2-928d-f103fa981ccb\"),(\"ROTA_2_12_2024\",\"07526557001009\",\"ANAPOLIS\",\"BR7E\",\"240.0\",\"354.0\",\"nan\",\"7451885000518\",\"HORIZONTE\",\"316377\",\"nan\",\"4.0\",\"nan\",\"nan\",\"0\",\"0\",\"0\",\"0.0\",\"0.0\",\"0\",\"0\",\"0\",\"0\",\"0\",\"0\",\"0\",\"0\",\"0.0\",\"0.0\",\"0.0\",\"0.0\",\"0\",\"0\",\"0\",\"0\",\"0\",\"0\",\"0.0\",\"0.0\",\"0\",\"0\",\"0\",\"0\",\"0\",\"0\",\"0.0\",\"0\",\"0\",\"0\",\"0\",\"0\",\"0.0\",\"0\",\"0\",\"0.0\",\"0\",\"0\",\"0\",\"0\",\"0\",\"0\",\"0\",\"0\",\"0\",\"0.0\",\"0.0\",\"0.0\",\"0\",\"0\",\"0\",\"0\",\"0.0\",\"0\",\"0\",\"0.0\",\"0.0\",\"0\",\"0.0\",\"0.0\",\"0\",\"0.0\",\"0.0\",\"0\",\"0.0\",\"0\",\"0.0\",\"0\",\"0.0\",\"0.0\",\"0\",\"0.0\",\"0\",\"0cf0ce4b-4174-4bf2-928d-f103fa981ccb\"),(\"ROTA_2_12_2024\",\"56228356011095\",\"CDD BELEM\",\"BR1Z\",\"229.0\",\"229.0\",\"NO\",\"7451885000194\",\"HORIZONTE\",\"316377\",\"nan\",\"36.0\",\"NO\",\"nan\",\"0\",\"0\",\"0\",\"1409.47\",\"0.71\",\"0\",\"0\",\"0\",\"0\",\"0\",\"0\",\"0\",\"0\",\"15.2\",\"15.2\",\"3480.0\",\"4604.0\",\"0\",\"0\",\"0\",\"0\",\"0\",\"0\",\"1164.37\",\"158.18\",\"0\",\"0\",\"0\",\"0\",\"0\",\"0\",\"0.47\",\"0\",\"0\",\"0\",\"0\",\"0\",\"0.19\",\"0\",\"0\",\"1.06\",\"0\",\"0\",\"0\",\"0\",\"0\",\"0\",\"0\",\"0\",\"0\",\"2120.43\",\"73.91\",\"73.91\",\"0\",\"6\",\"2\",\"0\",\"21796.79\",\"0\",\"0\",\"21414.65\",\"9386.22\",\"0\",\"949.08\",\"3632.8\",\"0\",\"3569.11\",\"4693.11\",\"0\",\"158.18\",\"0\",\"1608.29\",\"0\",\"1.38\",\"9649.76\",\"0\",\"102.89\",\"0\",\"0cf0ce4b-4174-4bf2-928d-f103fa981ccb\"),(\"ROTA_2_12_2024\",\"07526557003206\",\"CDD BRASILIA\",\"BR2R\",\"nan\",\"710.0\",\"nan\",\"7451885000518\",\"HORIZONTE\",\"316377\",\"nan\",\"4.0\",\"nan\",\"nan\",\"0\",\"0\",\"0\",\"2361.02\",\"0.54\",\"0\",\"0\",\"0\",\"0\",\"0\",\"0\",\"0\",\"0\",\"15.2\",\"15.2\",\"2674.0\",\"4066.67\",\"0\",\"0\",\"0\",\"0\",\"0\",\"0\",\"1714.61\",\"177.95\",\"0\",\"0\",\"0\",\"0\",\"0\",\"0\",\"0.23\",\"0\",\"0\",\"0\",\"0\",\"0\",\"0.23\",\"0\",\"0\",\"1.06\",\"0\",\"0\",\"0\",\"0\",\"0\",\"0\",\"0\",\"0\",\"0\",\"3157.24\",\"73.91\",\"73.91\",\"0\",\"2\",\"3\",\"0\",\"11254.85\",\"0\",\"0\",\"5526.22\",\"12467.32\",\"0\",\"355.9\",\"5627.42\",\"0\",\"2763.11\",\"4155.77\",\"0\",\"177.95\",\"0\",\"1722.26\",\"0\",\"1.0\",\"3444.52\",\"0\",\"109.17\",\"0\",\"0cf0ce4b-4174-4bf2-928d-f103fa981ccb\"),(\"ROTA_2_12_2024\",\"07526557002234\",\"CDD CARUARU\",\"BR2I\",\"nan\",\"598.0\",\"nan\",\"3965584001795\",\"HORIZONTE\",\"316872\",\"nan\",\"5.0\",\"nan\",\"nan\",\"0\",\"0\",\"0\",\"1226.03\",\"0.75\",\"0\",\"0\",\"0\",\"0\",\"0\",\"0\",\"0\",\"0\",\"15.2\",\"15.2\",\"4154.25\",\"2992.0\",\"0\",\"0\",\"0\",\"0\",\"0\",\"0\",\"1355.95\",\"186.65\",\"0\",\"0\",\"0\",\"0\",\"0\",\"0\",\"0.31\",\"0\",\"0\",\"0\",\"0\",\"0\",\"0.23\",\"0\",\"0\",\"1.06\",\"0\",\"0\",\"0\",\"0\",\"0\",\"0\",\"0\",\"0\",\"0\",\"2761.17\",\"73.91\",\"73.91\",\"0\",\"4\",\"1\",\"0\",\"16360.38\",\"0\",\"0\",\"16973.43\",\"3081.11\",\"0\",\"746.6\",\"4090.09\",\"0\",\"4243.36\",\"3081.11\",\"0\",\"186.65\",\"0\",\"1763.46\",\"0\",\"1.3\",\"7053.83\",\"0\",\"102.89\",\"0\",\"0cf0ce4b-4174-4bf2-928d-f103fa981ccb\"),(\"ROTA_2_12_2024\",\"07526557005683_CARRETAS\",\"CDD EQUATORIAL - CARRETAS\",\"nan\",\"nan\",\"nan\",\"nan\",\"7451885000780\",\"HORIZONTE\",\"316377\",\"nan\",\"7.0\",\"nan\",\"nan\",\"0\",\"0\",\"0\",\"0.0\",\"0.0\",\"0\",\"0\",\"0\",\"0\",\"0\",\"0\",\"0\",\"0\",\"0.0\",\"0.0\",\"0.0\",\"0.0\",\"0\",\"0\",\"0\",\"0\",\"0\",\"0\",\"0.0\",\"0.0\",\"0\",\"0\",\"0\",\"0\",\"0\",\"0\",\"0.0\",\"0\",\"0\",\"0\",\"0\",\"0\",\"0.0\",\"0\",\"0\",\"0.0\",\"0\",\"0\",\"0\",\"0\",\"0\",\"0\",\"0\",\"0\",\"0\",\"0.0\",\"0.0\",\"0.0\",\"0\",\"0\",\"0\",\"0\",\"0.0\",\"0\",\"0\",\"0.0\",\"0.0\",\"0\",\"0.0\",\"0.0\",\"0\",\"0.0\",\"0.0\",\"0\",\"0.0\",\"0\",\"0.0\",\"0\",\"0.0\",\"0.0\",\"0\",\"0.0\",\"0\",\"0cf0ce4b-4174-4bf2-928d-f103fa981ccb\"),(\"ROTA_2_12_2024\",\"07526557005683\",\"CDD EQUATORIAL\",\"BR4W\",\"991.0\",\"992.0\",\"NO\",\"7451885000780\",\"HORIZONTE\",\"316377\",\"nan\",\"7.0\",\"nan\",\"nan\",\"0\",\"0\",\"0\",\"0.0\",\"0.0\",\"0\",\"0\",\"0\",\"0\",\"0\",\"0\",\"0\",\"0\",\"0.0\",\"0.0\",\"0.0\",\"0.0\",\"0\",\"0\",\"0\",\"0\",\"0\",\"0\",\"0.0\",\"0.0\",\"0\",\"0\",\"0\",\"0\",\"0\",\"0\",\"0.0\",\"0\",\"0\",\"0\",\"0\",\"0\",\"0.0\",\"0\",\"0\",\"0.0\",\"0\",\"0\",\"0\",\"0\",\"0\",\"0\",\"0\",\"0\",\"0\",\"0.0\",\"0.0\",\"0.0\",\"0\",\"0\",\"0\",\"0\",\"0.0\",\"0\",\"0\",\"0.0\",\"0.0\",\"0\",\"0.0\",\"0.0\",\"0\",\"0.0\",\"0.0\",\"0\",\"0.0\",\"0\",\"0.0\",\"0\",\"0.0\",\"0.0\",\"0\",\"0.0\",\"0\",\"0cf0ce4b-4174-4bf2-928d-f103fa981ccb\"),(\"ROTA_2_12_2024\",\"07526557003125\",\"CDD GAMA\",\"BR4B\",\"39.0\",\"39.0\",\"nan\",\"7451885000518\",\"HORIZONTE\",\"316377\",\"nan\",\"4.0\",\"nan\",\"nan\",\"0\",\"0\",\"0\",\"2360.11\",\"0.59\",\"0\",\"0\",\"0\",\"0\",\"0\",\"0\",\"0\",\"0\",\"0.0\",\"15.2\",\"4604.0\",\"0.0\",\"0\",\"0\",\"0\",\"0\",\"0\",\"0\",\"2630.48\",\"173.01\",\"0\",\"0\",\"0\",\"0\",\"0\",\"0\",\"0.22\",\"0\",\"0\",\"0\",\"0\",\"0\",\"0.23\",\"0\",\"0\",\"1.06\",\"0\",\"0\",\"0\",\"0\",\"0\",\"0\",\"0\",\"0\",\"0\",\"3103.23\",\"73.91\",\"0.0\",\"0\",\"2\",\"0\",\"0\",\"11145.03\",\"0\",\"0\",\"9386.22\",\"0.0\",\"0\",\"346.02\",\"5572.51\",\"0\",\"4693.11\",\"0.0\",\"0\",\"173.01\",\"0\",\"2733.29\",\"0\",\"1.04\",\"5466.59\",\"0\",\"109.17\",\"0\",\"0cf0ce4b-4174-4bf2-928d-f103fa981ccb\"),(\"ROTA_2_12_2024\",\"56228356014868\",\"CDD IMPERATRIZ\",\"BR5E\",\"603.0\",\"603.0\",\"NO\",\"20618821000284\",\"OPERALOG\",\"378289\",\"nan\",\"2.0\",\"nan\",\"nan\",\"0\",\"0\",\"0\",\"1377.79\",\"0.8\",\"0\",\"0\",\"0\",\"0\",\"0\",\"0\",\"0\",\"0\",\"14.4\",\"14.4\",\"3636.8\",\"2805.0\",\"0\",\"0\",\"0\",\"0\",\"0\",\"0\",\"1523.68\",\"121.94\",\"0\",\"0\",\"0\",\"0\",\"0\",\"0\",\"0.15\",\"0\",\"0\",\"0\",\"0\",\"0\",\"0.23\",\"0\",\"0\",\"1.06\",\"0\",\"0\",\"0\",\"0\",\"0\",\"0\",\"0\",\"0\",\"0\",\"2480.81\",\"73.91\",\"73.91\",\"0\",\"5\",\"1\",\"0\",\"19807.48\",\"0\",\"0\",\"18625.51\",\"2893.3\",\"0\",\"609.7\",\"3961.5\",\"0\",\"3725.1\",\"2893.3\",\"0\",\"121.94\",\"0\",\"1801.33\",\"0\",\"1.18\",\"9006.63\",\"0\",\"102.89\",\"0\",\"0cf0ce4b-4174-4bf2-928d-f103fa981ccb\"),(\"ROTA_2_12_2024\",\"56228356011338\",\"CDD MACEIO\",\"BR1L\",\"141.0\",\"141.0\",\"NE\",\"3965584001604\",\"HORIZONTE\",\"320008\",\"nan\",\"10.0\",\"nan\",\"nan\",\"0\",\"0\",\"0\",\"903.51\",\"0.8\",\"0\",\"0\",\"0\",\"0\",\"0\",\"0\",\"0\",\"0\",\"15.2\",\"15.2\",\"4604.0\",\"4604.0\",\"0\",\"0\",\"0\",\"0\",\"0\",\"0\",\"1582.75\",\"197.73\",\"0\",\"0\",\"0\",\"0\",\"0\",\"0\",\"0.36\",\"0\",\"0\",\"0\",\"0\",\"0\",\"0.23\",\"0\",\"0\",\"1.06\",\"0\",\"0\",\"0\",\"0\",\"0\",\"0\",\"0\",\"0\",\"0\",\"2301.51\",\"73.91\",\"73.91\",\"0\",\"4\",\"1\",\"0\",\"13231.67\",\"0\",\"0\",\"18772.43\",\"4693.11\",\"0\",\"790.92\",\"3307.92\",\"0\",\"4693.11\",\"4693.11\",\"0\",\"197.73\",\"0\",\"2197.8\",\"0\",\"1.39\",\"8791.19\",\"0\",\"102.89\",\"0\",\"0cf0ce4b-4174-4bf2-928d-f103fa981ccb\"),(\"ROTA_2_12_2024\",\"56228356010013\",\"CDD MANAUS\",\"BR1O\",\"849.0\",\"849.0\",\"nan\",\"7462961000167\",\"HORIZONTE\",\"313103\",\"nan\",\"4.0\",\"nan\",\"nan\",\"0\",\"0\",\"0\",\"1490.84\",\"0.94\",\"0\",\"0\",\"0\",\"0\",\"0\",\"0\",\"0\",\"0\",\"0.0\",\"15.2\",\"4282.86\",\"0.0\",\"0\",\"0\",\"0\",\"0\",\"0\",\"0\",\"1856.51\",\"197.73\",\"0\",\"0\",\"0\",\"0\",\"0\",\"0\",\"0.33\",\"0\",\"0\",\"0\",\"0\",\"0\",\"0.23\",\"0\",\"0\",\"1.06\",\"0\",\"0\",\"0\",\"0\",\"0\",\"0\",\"0\",\"0\",\"0\",\"2195.95\",\"73.91\",\"0.0\",\"0\",\"7\",\"0\",\"0\",\"26527.74\",\"0\",\"0\",\"30603.76\",\"0.0\",\"0\",\"1384.11\",\"3789.68\",\"0\",\"4371.97\",\"0.0\",\"0\",\"197.73\",\"0\",\"2787.19\",\"0\",\"1.5\",\"19510.33\",\"0\",\"102.89\",\"0\",\"0cf0ce4b-4174-4bf2-928d-f103fa981ccb\"),(\"ROTA_2_12_2024\",\"07526557002315\",\"CDD OLINDA\",\"BR2E\",\"nan\",\"546.0\",\"nan\",\"3965584001523\",\"HORIZONTE\",\"421808\",\"nan\",\"12.0\",\"nan\",\"nan\",\"0\",\"0\",\"0\",\"1013.1\",\"0.96\",\"0\",\"0\",\"0\",\"0\",\"0\",\"0\",\"0\",\"0\",\"15.2\",\"15.2\",\"3576.0\",\"3704.5\",\"0\",\"0\",\"0\",\"0\",\"0\",\"0\",\"1225.25\",\"177.95\",\"0\",\"0\",\"0\",\"0\",\"0\",\"0\",\"0.2\",\"0\",\"0\",\"0\",\"0\",\"0\",\"0.23\",\"0\",\"0\",\"1.06\",\"0\",\"0\",\"0\",\"0\",\"0\",\"0\",\"0\",\"0\",\"0\",\"3399.09\",\"73.88\",\"73.91\",\"0\",\"7\",\"2\",\"0\",\"31605.54\",\"0\",\"0\",\"25655.6\",\"7587.22\",\"0\",\"1245.65\",\"4515.08\",\"0\",\"3665.09\",\"3793.61\",\"0\",\"177.95\",\"0\",\"1701.75\",\"0\",\"1.39\",\"11912.26\",\"0\",\"102.89\",\"0\",\"0cf0ce4b-4174-4bf2-928d-f103fa981ccb\"),(\"ROTA_2_12_2024\",\"07526557002072\",\"CDL CABO\",\"BR4U\",\"nan\",\"729.0\",\"nan\",\"3965584001957\",\"HORIZONTE\",\"376499\",\"nan\",\"1.0\",\"nan\",\"nan\",\"0\",\"0\",\"0\",\"1065.98\",\"0.74\",\"0\",\"0\",\"0\",\"0\",\"0\",\"0\",\"0\",\"0\",\"15.2\",\"15.2\",\"3319.0\",\"3105.33\",\"0\",\"0\",\"0\",\"0\",\"0\",\"0\",\"1746.58\",\"131.82\",\"0\",\"0\",\"0\",\"0\",\"0\",\"0\",\"0.09\",\"0\",\"0\",\"0\",\"0\",\"0\",\"0.23\",\"0\",\"0\",\"1.06\",\"0\",\"0\",\"0\",\"0\",\"0\",\"0\",\"0\",\"0\",\"0\",\"3167.79\",\"73.91\",\"73.91\",\"0\",\"7\",\"3\",\"0\",\"30356.65\",\"0\",\"0\",\"23856.76\",\"9583.32\",\"0\",\"922.74\",\"4336.66\",\"0\",\"3408.11\",\"3194.44\",\"0\",\"131.82\",\"0\",\"1858.55\",\"0\",\"1.06\",\"13009.85\",\"0\",\"102.89\",\"0\",\"0cf0ce4b-4174-4bf2-928d-f103fa981ccb\"),(\"ROTA_2_12_2024\",\"07526557002153_INTER\",\"PERNAMBUCO - INTERNALIZAÇÃO\",\"BR31\",\"358.0\",\"nan\",\"nan\",\"3965584001523\",\"HORIZONTE\",\"421808\",\"nan\",\"12.0\",\"nan\",\"nan\",\"0\",\"0\",\"0\",\"0.0\",\"0.0\",\"0\",\"0\",\"0\",\"0\",\"0\",\"0\",\"0\",\"0\",\"0.0\",\"0.0\",\"0.0\",\"0.0\",\"0\",\"0\",\"0\",\"0\",\"0\",\"0\",\"0.0\",\"0.0\",\"0\",\"0\",\"0\",\"0\",\"0\",\"0\",\"0.0\",\"0\",\"0\",\"0\",\"0\",\"0\",\"0.0\",\"0\",\"0\",\"0.0\",\"0\",\"0\",\"0\",\"0\",\"0\",\"0\",\"0\",\"0\",\"0\",\"0.0\",\"0.0\",\"0.0\",\"0\",\"0\",\"0\",\"0\",\"0.0\",\"0\",\"0\",\"0.0\",\"0.0\",\"0\",\"0.0\",\"0.0\",\"0\",\"0.0\",\"0.0\",\"0\",\"0.0\",\"0\",\"0.0\",\"0\",\"0.0\",\"0.0\",\"0\",\"0.0\",\"0\",\"0cf0ce4b-4174-4bf2-928d-f103fa981ccb\"),(\"ROTA_2_12_2024\",\"56228356011095_UDC\",\"UDC BELEM\",\"nan\",\"nan\",\"nan\",\"nan\",\"7451885001670\",\"HORIZONTE\",\"316377\",\"nan\",\"nan\",\"nan\",\"nan\",\"0\",\"0\",\"0\",\"1399.04\",\"0.77\",\"0\",\"0\",\"0\",\"0\",\"0\",\"0\",\"0\",\"0\",\"15.2\",\"15.2\",\"4104.44\",\"2356.0\",\"0\",\"0\",\"0\",\"0\",\"0\",\"0\",\"965.87\",\"158.18\",\"0\",\"0\",\"0\",\"0\",\"0\",\"0\",\"0.56\",\"0\",\"0\",\"0\",\"0\",\"0\",\"0.19\",\"0\",\"0\",\"1.06\",\"0\",\"0\",\"0\",\"0\",\"0\",\"0\",\"0\",\"0\",\"0\",\"2121.47\",\"73.91\",\"73.91\",\"0\",\"9\",\"1\",\"0\",\"32610.6\",\"0\",\"0\",\"37741.97\",\"2445.11\",\"0\",\"1423.62\",\"3623.4\",\"0\",\"4193.55\",\"2445.11\",\"0\",\"158.18\",\"0\",\"1468.87\",\"0\",\"1.52\",\"13219.81\",\"0\",\"102.89\",\"0\",\"0cf0ce4b-4174-4bf2-928d-f103fa981ccb\"),(\"ROTA_2_12_2024\",\"07526557005683_UDC\",\"UDC EQUATORIAL\",\"nan\",\"nan\",\"nan\",\"nan\",\"7451885000780\",\"HORIZONTE\",\"316377\",\"nan\",\"7.0\",\"nan\",\"nan\",\"0\",\"0\",\"0\",\"1033.73\",\"0.88\",\"0\",\"0\",\"0\",\"0\",\"0\",\"0\",\"0\",\"0\",\"15.2\",\"15.2\",\"3396.33\",\"2805.0\",\"0\",\"0\",\"0\",\"0\",\"0\",\"0\",\"1142.33\",\"263.63\",\"0\",\"0\",\"0\",\"0\",\"0\",\"0\",\"0.22\",\"0\",\"0\",\"0\",\"0\",\"0\",\"0.23\",\"0\",\"0\",\"1.08\",\"0\",\"0\",\"0\",\"0\",\"0\",\"0\",\"0\",\"0\",\"0\",\"2387.13\",\"73.91\",\"73.91\",\"0\",\"9\",\"1\",\"0\",\"31739.57\",\"0\",\"0\",\"31368.97\",\"2894.11\",\"0\",\"2372.67\",\"3526.62\",\"0\",\"3485.44\",\"2894.11\",\"0\",\"263.63\",\"0\",\"1518.15\",\"0\",\"1.33\",\"13663.35\",\"0\",\"105.76\",\"0\",\"0cf0ce4b-4174-4bf2-928d-f103fa981ccb\")\n"
     ]
    },
    {
     "name": "stderr",
     "output_type": "stream",
     "text": [
      "C:\\Users\\ADMIN.JOAO\\AppData\\Local\\Packages\\PythonSoftwareFoundation.Python.3.12_qbz5n2kfra8p0\\LocalCache\\local-packages\\Python312\\site-packages\\openpyxl\\styles\\stylesheet.py:237: UserWarning: Workbook contains no default style, apply openpyxl's default\n",
      "  warn(\"Workbook contains no default style, apply openpyxl's default\")\n"
     ]
    },
    {
     "name": "stdout",
     "output_type": "stream",
     "text": [
      "aba:ENCARGOS_COM_FERIAS tabela:ENCARGOS_COM_FERIAS_ROTA\n",
      "Query executada com sucesso na tabela ENCARGOS_COM_FERIAS_ROTA.\n"
     ]
    },
    {
     "name": "stderr",
     "output_type": "stream",
     "text": [
      "C:\\Users\\ADMIN.JOAO\\AppData\\Local\\Packages\\PythonSoftwareFoundation.Python.3.12_qbz5n2kfra8p0\\LocalCache\\local-packages\\Python312\\site-packages\\openpyxl\\styles\\stylesheet.py:237: UserWarning: Workbook contains no default style, apply openpyxl's default\n",
      "  warn(\"Workbook contains no default style, apply openpyxl's default\")\n"
     ]
    },
    {
     "name": "stdout",
     "output_type": "stream",
     "text": [
      "aba:ENCARGOS_SEM_FERIAS tabela:ENCARGOS_SEM_FERIAS_ROTA\n",
      "Query executada com sucesso na tabela ENCARGOS_SEM_FERIAS_ROTA.\n"
     ]
    }
   ],
   "source": [
    "import pandas as pd\n",
    "import mysql.connector\n",
    "import mysql\n",
    "import os\n",
    "from datetime import datetime\n",
    "\n",
    "host_name = \"172.16.0.28\" \n",
    "user_name = \"joaotavares\" \n",
    "user_password = \"@joaotavares\"\n",
    "database='dbfreightech'\n",
    "\n",
    "def nome_tabela(nome_arquivo, aba):\n",
    "    tabela = None  # Initialize tabela to avoid UnboundLocalError\n",
    "    colunas = None\n",
    "    retorno = []\n",
    "    #print(aba)\n",
    "    if \"ROTA\" in nome_arquivo:\n",
    "        if \"EQP_ENTREGA\" == aba:\n",
    "            tabela = 'EQP_ENTREGA_ROTA'\n",
    "            colunas = \"`VIGENCIA`, `UNIDADE_CNPJ`, `UNIDADE_NOME`, `UNIDADE_SAP`, `UNIDADE_TMS`, `UNIDADE_PROMAX_UNB`, `UNIDADE_REGIONAL`, `OPERADOR_CNPJ`, `OPERADOR_NOME`, `OPERADOR_SAP`, `OPERADOR_TMS`, `OPERADOR_PROMAX`, `ORGANIZACAO_DE_COMPRAS`, `PRAZO_PAGAMENTO`, `CARGO`, `DSR`, `HORA_EXTRA_FIXA`, `OUTROS`, `PERCENTUAL_ABSENTEÍSMO`, `PERCENTUAL_ENCARGO_E_PROVISÃO`, `PERCENTUAL_HORA_EXTRA`, `PERCENTUAL_TURN_OVER_ANO`, `PISO_SALARIAL`, `PREMIAÇÃO_PLUS`, `QUANTIDADE_HORA_EXTRA_FIXA`, `QUANTIDADE_TOTAL_X_CAMINHÃO_ATIVO`, `QUANTIDADE_POR_CAMINHÃO`, `REMUNERAÇÃO_FIXA_CONTRA_CHEQUE`, `TOTAL_ORDENADO`, `TOTAL_REMUNERAÇÃO`, `TOTAL_REMUNERAÇÃO_BENEFÍCIO`, `TURNO`, `DURACAOABONO`, `EQUIPEPARTTIME`, `QUANTIDADEHORASMESPARTTIME`, `VALORABONO`, `VALORABONOAPLICADO`, `_ID`\"\n",
    "        elif \"EQP_FAD\" == aba:    \n",
    "            tabela = \"EQP_FAD_ROTA\"\n",
    "            colunas = \"`VIGENCIA`, `UNIDADE_CNPJ`, `UNIDADE_NOME`, `UNIDADE_SAP`, `UNIDADE_TMS`, `UNIDADE_PROMAX_UNB`, `UNIDADE_REGIONAL`, `OPERADOR_CNPJ`, `OPERADOR_NOME`, `OPERADOR_SAP`, `OPERADOR_TMS`, `OPERADOR_PROMAX`, `ORGANIZACAO_DE_COMPRAS`, `PRAZO_PAGAMENTO`, `BENEFICIOS`, `CARGO`, `PERCENTUAL_ENCARGO_E_PROVISÃO`, `QUANTIDADE`, `VALOR_TOTAL`, `VALOR_UNITARIO`, `_ID`\"\n",
    "        elif \"EQP_NOTURNA\" == aba: \n",
    "            tabela = \"EQP_NOTURNA_ROTA\"\n",
    "            colunas = \"`VIGENCIA`, `UNIDADE_CNPJ`, `UNIDADE_NOME`, `UNIDADE_SAP`, `UNIDADE_TMS`, `UNIDADE_PROMAX_UNB`, `UNIDADE_REGIONAL`, `OPERADOR_CNPJ`, `OPERADOR_NOME`, `OPERADOR_SAP`, `OPERADOR_TMS`, `OPERADOR_PROMAX`, `ORGANIZACAO_DE_COMPRAS`, `PRAZO_PAGAMENTO`, `ADCIONAL_NOTURNO`, `CARGO`, `CUSTO_OPERACIONAL`, `DSR`, `EQUIPE_DE_ENTREGA`, `PERCENTUAL_ADCIONAL_NOTURNO`, `PERCENTUAL_PROVISAO_ENCARGOS_COM_FERIAS`, `PERCENTUAL_PROVISAO_ENCARGOS_SEM_FERIAS`, `PISO_SALARIAL`, `QUANTIDADE_HORA_NOTURNA`, `TOTAL_CUSTO_FIXO`, `TOTAL_CUSTO_VARIAVEL`, `TOTAL_UNIFORME_EPI`, `TURNO`, `_ID`\"\n",
    "        elif \"EQP_VAN\" == aba:\n",
    "            tabela = \"EQP_VAN_ROTA\"\n",
    "            colunas = \"`VIGENCIA`, `UNIDADE_CNPJ`, `UNIDADE_NOME`, `UNIDADE_SAP`, `UNIDADE_TMS`, `UNIDADE_PROMAX_UNB`, `UNIDADE_REGIONAL`, `OPERADOR_CNPJ`, `OPERADOR_NOME`, `OPERADOR_SAP`, `OPERADOR_TMS`, `OPERADOR_PROMAX`, `ORGANIZACAO_DE_COMPRAS`, `PRAZO_PAGAMENTO`, `CARGO`, `DSR`, `HORA_EXTRA_FIXA`, `OUTROS`, `PERCENTUAL_ABSENTEÍSMO`, `PERCENTUAL_ENCARGO_E_PROVISÃO`, `PERCENTUAL_HORA_EXTRA`, `PERCENTUAL_TURN_OVER_ANO`, `PISO_SALARIAL`, `PREMIAÇÃO_PLUS`, `QUANTIDADE_HORA_EXTRA_FIXA`, `QUANTIDADE_TOTAL_X_CAMINHÃO_ATIVO`, `QUANTIDADE_POR_CAMINHÃO`, `REMUNERAÇÃO_FIXA_CONTRA_CHEQUE`, `TOTAL_ORDENADO`, `TOTAL_REMUNERAÇÃO`, `TOTAL_REMUNERAÇÃO_BENEFÍCIO`, `TURNO`, `DURACA_ABONO`, `EQUIPE_PART_TIME`, `QUANTIDA_DE_HORAS_MES_PARTTIME`, `VALOR_ABONO`, `VALOR_ABONO_APLICADO`, `_ID`\"\n",
    "        elif \"CAMINHÃO\" == aba:\n",
    "            tabela = \"CAMINHAO_ROTA\" \n",
    "            colunas = \"`VIGENCIA`, `UNIDADE_CNPJ`, `UNIDADE_NOME`, `UNIDADE_SAP`, `UNIDADE_TMS`, `UNIDADE_PROMAX_UNB`, `UNIDADE_REGIONAL`, `OPERADOR_CNPJ`, `OPERADOR_NOME`, `OPERADOR_SAP`, `OPERADOR_TMS`, `OPERADOR_PROMAX`, `ORGANIZACAO_DE_COMPRAS`, `PRAZO_PAGAMENTO`, `AMORTIZACAO`, `ANO`, `ANO_CARROCERIA`, `ANO_CAVALO`, `ANO_VEICULO`, `ATIVO`, `BENCHMARK_CONSUMO`, `CAPACIDADE_DE_PALLETS`, `CAPACIDADE_EM_CAIXAS`, `CARENCIA`, `CICLO_CARROCERIA`, `CICLO_CAVALO`, `CONSUMO_KM_L`, `CONSUMO_RS_KM`, `CUSTO_ALUGUEL`, `DATA_ALTERACAO_ODOMETRO`, `DATA_ENTRADA`, `DEPRECIACAO_CARROCERIA`, `DEPRECIACAO_CAVALO`, `EIXO_DIANTEIRO`, `EIXO_TRASEIRO`, `ENTRADA`, `FINAME_MODELO_NOVO`, `FAIXA_REFLEXIVA`, `FATOR_CORRECAO_REGIAO`, `GANHO_POR_KM_RODADO`, `ICMS_ANUAL`, `ICMS_CARROCERIA`, `ICMS_CAVALO`, `IPVA_LICENCIAMENTO`, `IPVA_LICENCIAMENTO_CAVALO`, `IMPLEMENTO`, `JUROS`, `KM_MES_ELD`, `KM_MES_ROADSHOW`, `KM_ODOMETRO`, `KM_TOTAL`, `LAVAGEM`, `LOGO_PADRAO`, `LUCRO_FINAME`, `LUCRO_FINAME_VARIAVEL`, `LUCRO_FIXO`, `LUCRO_TOTAL_CUSTO_VARIAVEL`, `LUCRO_VARIAVEL`, `MANUTENCAO_CARROCERIA_RS_KM`, `MANUTENCAO_RS_KM`, `MATERIAL`, `MEDIDA_PNEU`, `MODELO`, `MODELO_CAVALO`, `MONTADORA`, `MOTOR`, `MES_PARCELA`, `MES_ENTRADA_CARROCERIA`, `MES_ENTRADA_CAVALO`, `MES_ENTRADA_NOVO_MODELO`, `ODOMETRO_PREVISTO`, `PIS_COFINS_ANUAL`, `PERCENT_RESIDUAL_CINCO_ANOS_CAVALO`, `PERCENT_RESIDUAL_CINCO_ANOS_CARROCERIA`, `PERCENT_RESIDUAL_OITO_ANOS_CARROCERIA`, `PERCENT_RESIDUAL_OITO_ANOS_CAVALO`, `PERDA_ANO_VEICULO`, `PERFIL`, `PERIODO_CAVALO`, `PERIODO_FINAME`, `PLACA`, `PNEU_POR_KM`, `PRECO_LISO`, `PRECO_MONTAGEM`, `PRECO_PROTETOR`, `PRECO_RECAPAGEM`, `PRECO_TRACAO`, `PRECO_CAMERA`, `QUANTIDADE_PNEUS`, `QUANTIDADE_RECAPAGEM`, `RS_KM`, `RASTREADOR`, `REMUNERACAO_K`, `REMUNERACAO_K_IMPOSTOS`, `REMUNERACAO_MODELO`, `SEGURO`, `SPREAD_BNDES`, `SPREAD_BANCO`, `TJLP`, `TAXA_CUSTO_FIXO_CARROCERIA`, `TAXA_CUSTO_FIXO_CAVALO`, `TAXA_FINAME`, `TIPO`, `TOTAL_CUSTO_FIXO`, `TOTAL_CUSTO_VARIAVEL`, `VALOR_ICMS_CARROCERIA`, `VALOR_ICMS_CAVALO`, `VALOR_LIQUIDO_DEPRECIACAO_CAVALO`, `VALOR_LIQUIDO_DEPRECIACAO_CARROCERIA`, `VALOR_LIQUIDO_REMUNERACAO_K_CARROCERIA`, `VALOR_LIQUIDO_REMUNERACAO_K_CAVALO`, `VALOR_PIS_COFINS_CARROCERIA`, `VALOR_PIS_COFINS_CAVALO`, `VALOR_PNEU`, `VALOR_COMPRA_CARROCERIA`, `VALOR_COMPRA_CAVALO`, `VIDA_PNEUS_KM`, `ANO_BID`, `CHASSI`, `CUSTO_VARIAVEL_SIMULADO`, `FREE_MAINTENANCE`, `LOGO_PADRAO_SHARED`, `MANUTENCAO_ANO`, `MANUTENCAO_BID`, `MANUTENCAO_COMPRA_FORA_DO_BID_AUTORIZADA`, `MANUTENCAO_CONTRATO`, `MANUTENCAO_FREE_MAINTENANCE`, `MANUTENCAO_REAIS_KM`, `MANUTENCAO_VIDA_MESES`, `MATERIAL_SHARED`, `MODELO_SHARED`, `MOTOR_SHARED`, `PERCENTUAL_REAJUSTE_APLICADO`, `PERFIL_SHARED`, `STATUS_FINANCIAMENTO_CARROCERIA_SHARED`, `STATUS_FINANCIAMENTO_CAVALO_SHARED`, `STATUS_FINANCIAMENTO_SHARED`, `TELEMETRIA_OBRIGATORIA`, `TIPO_COMBUSTIVEL_SHARED`, `VALOR_REAJUSTADO`, `_ID`\"\n",
    "        elif \"FATURAMENTO\" == aba:\n",
    "            tabela = \"FATURAMENTO_ROTA\"\n",
    "            colunas = \"`VIGENCIA`, `UNIDADE_CNPJ`, `UNIDADE_NOME`, `UNIDADE_SAP`, `UNIDADE_TMS`, `UNIDADE_PROMAX_UNB`, `UNIDADE_REGIONAL`, `OPERADOR_CNPJ`, `OPERADOR_NOME`, `OPERADOR_SAP`, `OPERADOR_TMS`, `OPERADOR_PROMAX`, `ORGANIZACAO_DE_COMPRAS`, `PRAZO_PAGAMENTO`, `CUSTO_FIXO_FROTA_ATIVO_BRUTO`, `CUSTO_FIXO_FROTA_ATIVO_QUANTIDADE`, `CUSTO_FIXO_FROTA_ATIVA_BRUTO_POR_CAMINHAO`, `CUSTO_FIXO_FROTA_INATIVA_BRUTO`, `CUSTO_FIXO_FROTA_INATIVA_BRUTO_QUANTIDADE`, `CUSTO_FIXO_FROTA_INATIVA_BRUTO_POR_CAMINHAO`, `CUSTO_FIXO_LIQUIDO`, `CUSTO_FIXO_LIQUIDO_QUANTIDADE`, `CUSTO_FIXO_LIQUIDO_POR_CAMINHAO`, `CUSTO_VARIAVEL_FROTA_ATIVA_BRUTO`, `CUSTO_VARIAVEL_FROTA_ATIVA_BRUTO_QUANTIDADE`, `CUSTO_VARIAVEL_FROTA_ATIVA_BRUTO_POR_CAMINHAO`, `CUSTO_VARIAVEL_LIQUIDO`, `CUSTO_VARIAVEL_LIQUIDO_QUANTIDADE`, `CUSTO_VARIAVEL_LIQUIDO_POR_CAMINHAO`, `DENTRO_DO_MUNICIPIO_BRUTO`, `DENTRO_DO_MUNICIPIO_BRUTO_QUANTIDADE`, `DENTRO_DO_MUNICIPIO_BRUTO_POR_CAMINHAO`, `FORA_DO_MUNICIPIO_BRUTO`, `FORA_DO_MUNICIPIO_BRUTO_QUANTIDADE`, `FORA_DO_MUNICIPIO_BRUTO_POR_CAMINHAO`, `IMPOSTO_DENTRO_MUNICIPIO_BRUTO`, `IMPOSTO_DENTRO_MUNICIPIO_BRUTO_QUANTIDADE`, `IMPOSTO_DENTRO_MUNICIPIO_BRUTO_POR_CAMINHAO`, `IMPOSTO_FORA_MUNICIPIO_BRUTO`, `IMPOSTO_FORA_MUNICIPIO_BRUTO_QUANTIDADE`, `IMPOSTO_FORA_MUNICIPIO_BRUTO_POR_CAMINHAO`, `LUCRO_OPERACIONAL_VARIAVEL_LIQUIDO`, `LUCRO_OPERACIONAL_VARIAVEL_LIQUIDO_QUANTIDADE`, `LUCRO_OPERACIONAL_VARIAVEL_LIQUIDO_POR_CAMINHAO`, `REMUNERACAO_FIXA_EQUIPE_DE_ENTREGA_LIQUIDO`, `REMUNERACAO_FIXA_EQUIPE_DE_ENTREGA_LIQUIDO_QUANTIDADE`, `REMUNERACAO_FIXA_EQUIPE_DE_ENTREGA_LIQUIDO_POR_CAMINHAO`, `REMUNERACAO_FIXA_FROTA_ATIVA_LIQUIDO`, `REMUNERACAO_FIXA_FROTA_ATIVA_LIQUIDO_POR_CAMINHAO`, `REMUNERACAO_FIXA_FROTA_ATIVA_LIQUIDO_QUANTIDADE`, `REMUNERACAO_FIXA_FROTA_PARADA_LIQUIDO`, `REMUNERACAO_FIXA_FROTA_PARADA_LIQUIDO_QUANTIDADE`, `REMUNERACAO_FIXA_FROTA_PARADA_LIQUIDO_POR_CAMINHAO`, `REMUNERACAO_FIXA_QLP_ADM_LIQUIDO`, `REMUNERACAO_FIXA_QLP_ADM_QUANTIDADE`, `REMUNERACAO_FIXA_QLP_ADM_LIQUIDO_POR_CAMINHAO`, `REMUNERACAO_OUTRAS_DESPESAS_LIQUIDO`, `REMUNERACAO_OUTRAS_DESPESAS_LIQUIDO_QUANTIDADE`, `REMUNERACAO_OUTRAS_DESPESAS_LIQUIDO_POR_CAMINHAO`, `REMUNERACAO_VARIAVEL_LIQUIDO`, `REMUNERACAO_VARIAVEL_LIQUIDO_QUANTIDADE`, `REMUNERACAO_VARIAVEL_LIQUIDO_POR_CAMINHAO`, `TOTAL`, `TOTAL_CAMINHAO_ATIVO`, `TOTAL_CAMINHAO_PARADO`, `TOTAL_CUSTO_VARIAVEL_LIQUIDO`, `TOTAL_CUSTO_VARIAVEL_LIQUIDO_QUANTIDADE`, `TOTAL_CUSTO_VARIAVEL_LIQUIDO_POR_CAMINHAO`, `TOTAL_LIQUIDO`, `TOTAL_LIQUIDO_QUANTIDADE`, `TOTAL_LIQUIDO_POR_CAMINHAO`, `TOTAL_QUANTIDADE`, `TOTAL_POR_CAMINHAO`, `_ID`\"\n",
    "        elif \"QLP ADM\" == aba:\n",
    "            tabela = \"QLP_ADM_ROTA\"\n",
    "            colunas = \"`VIGENCIA`, `UNIDADE_CNPJ`, `UNIDADE_NOME`, `UNIDADE_SAP`, `UNIDADE_TMS`, `UNIDADE_PROMAX_UNB`, `UNIDADE_REGIONAL`, `OPERADOR_CNPJ`, `OPERADOR_NOME`, `OPERADOR_SAP`, `OPERADOR_TMS`, `OPERADOR_PROMAX`, `ORGANIZACAO_DE_COMPRAS`, `PRAZO_PAGAMENTO`, `CARGO`, `DESPESA_BENEFICIO`, `DESPESA_ENCARGOS`, `DESPESA_FROTA_LEVA`, `DESPESA_ORDENADOS`, `DESPESA_TELEFONIA`, `DESPESA_UNIFORMES`, `QLP_BENCHMARK_QUANTIDADE`, `QLP_BENCHMARK_SALARIO`, `QUANTIDADE_BENEFICIO`, `QUANTIDADE_ENCARGOS`, `QUANTIDADE_FROTA_LEVE`, `QUANTIDADE_ORDENADOS`, `QUANTIDADE_TELEFONIA`, `QUANTIDADE_UNIFORMES`, `SALARIO_ENCARGOS`, `SALARIO_ORDENADOS`, `VALE_TRANSPORTE`, `VALOR_BENEFICIO`, `VALOR_FROTA_LEVE`, `VALOR_TELEFONIA`, `VALOR_UNIFORMES`, `_ID`\"\n",
    "        elif \"RECARGA\" == aba:\n",
    "            tabela = \"RECARGA_ROTA\"\n",
    "            colunas = \"`VIGENCIA`, `UNIDADE_CNPJ`, `UNIDADE_NOME`, `UNIDADE_SAP`, `UNIDADE_TMS`, `UNIDADE_PROMAX_UNB`, `UNIDADE_REGIONAL`, `OPERADOR_CNPJ`, `OPERADOR_NOME`, `OPERADOR_SAP`, `OPERADOR_TMS`, `OPERADOR_PROMAX`, `ORGANIZACAO_DE_COMPRAS`, `PRAZO_PAGAMENTO`, `COMBUSTIVEL_POR_KM`, `CUSTO_VARIAVEL_CAMINHAO`, `CUSTO_VARIAVEL_EQUPE_ENTREGA`, `CUSTO_VARIAVEL_RECARGA`, `CUSTO_VARIAVEL_POR_KM`, `EQUIPE_ENTRGA_AJUDANTE`, `EQUIPE_ENTRGA_MOTORISTA`, `KM_POR_VIAGEM`, `LAVAGEM_POR_KM`, `LUCRO`, `MANUTENCAO_CAMINHAO_POR_KM`, `MANUTENCAO_CARROCERIA_POR_KM`, `PERCENTUAL_PROVISOES_ENCARGOS_AJUDANTE`, `PERCENTUAL_PROVISOES_ENCARGOS_MOTORISTA`, `PNEU_POR_KM`, `PREMIO_DSR_AJUDANTE`, `PREMIO_DSR_MOTORISTA`, `TOTAL_PREMIACAO_ENC_PROV_AJUDANTE`, `TOTAL_PREMIACAO_ENC_PROV_MOTORISTA`, `_ID`\"\n",
    "        elif \"DESPESAS OPERACIONAIS\" in aba:\n",
    "            tabela = \"DESPESAS_OPERACIONAIS_ROTA\"\n",
    "            colunas = \"`VIGENCIA`, `UNIDADE_CNPJ`, `UNIDADE_NOME`, `UNIDADE_SAP`, `UNIDADE_TMS`, `UNIDADE_PROMAX_UNB`, `UNIDADE_REGIONAL`, `OPERADOR_CNPJ`, `OPERADOR_NOME`, `OPERADOR_SAP`, `OPERADOR_TMS`, `OPERADOR_PROMAX`, `ORGANIZACAO_DE_COMPRAS`, `PRAZO_PAGAMENTO`, `DESCRICAO`, `QUANTIDADE`, `VALOR_TOTAL`, `VALOR_UNITARIO`, `VALOR_POR_EQUIPAMENTO`, `_ID`\"\n",
    "        elif \"MANUTENÇÃO CARROCERIA\" in aba:\n",
    "            tabela = \"MANUNTENCAO_CARROCERIA_ROTA\"  \n",
    "            colunas = \"`VIGENCIA`, `UNIDADE_CNPJ`, `UNIDADE_NOME`, `UNIDADE_SAP`, `UNIDADE_TMS`, `UNIDADE_PROMAX_UNB`, `UNIDADE_REGIONAL`, `OPERADOR_CNPJ`, `OPERADOR_NOME`, `OPERADOR_SAP`, `OPERADOR_TMS`, `OPERADOR_PROMAX`, `ORGANIZACAO_DE_COMPRAS`, `PRAZO_PAGAMENTO`, `MATERIAL`, `PERFIL`, `TIPO`, `VALOR_POR_ANO`, `VALOR_POR_MES`, `_ID`\"\n",
    "        elif \"COMBUSTÍVEL\" in aba:\n",
    "            tabela = \"COMBUSTIVEL_ROTA\"  \n",
    "            colunas = \"`VIGENCIA`, `UNIDADE_CNPJ`, `UNIDADE_NOME`, `UNIDADE_SAP`, `UNIDADE_TMS`, `UNIDADE_PROMAX_UNB`, `UNIDADE_REGIONAL`, `OPERADOR_CNPJ`, `OPERADOR_NOME`, `OPERADOR_SAP`, `OPERADOR_TMS`, `OPERADOR_PROMAX`, `ORGANIZACAO_DE_COMPRAS`, `PRAZO_PAGAMENTO`, `CREDITO_SOBRE_ATIVOS`, `INICIATIVA`, `PRECO_ANP`, `PRECO_CREDITO_IMPOSTOS`, `PRECO_OPERADORA`, `TIPO_COMBUSTIVEL_SHARED`, `_ID`\"\n",
    "        elif \"PARÂMETROS OPERAÇÃO\" in aba:\n",
    "            tabela = \"PARAMETROS_OPERACAO_ROTA\"\n",
    "            colunas = \"`VIGENCIA`, `UNIDADE_CNPJ`, `UNIDADE_NOME`, `UNIDADE_SAP`, `UNIDADE_TMS`, `UNIDADE_PROMAX_UNB`, `UNIDADE_REGIONAL`, `OPERADOR_CNPJ`, `OPERADOR_NOME`, `OPERADOR_SAP`, `OPERADOR_TMS`, `OPERADOR_PROMAX`, `ORGANIZACAO_DE_COMPRAS`, `PRAZO_PAGAMENTO`, `ALMOCO_FABRICA`, `ANO_ICMS`, `ANO_PIS_COFINS`, `CDD_INTERNO`, `COFINS_PRESUMIDO`, `COFINS_REAL`, `CONE_DE_SEGURANCA`, `CONSUMO_FROTA_LEVE`, `CONTRIBUICAO__PREVIDENCIA`, `CREDITO_ICMS`, `CREDITO_ICMS_PRESUMIDO`, `CREDITO_SOBRE_ATIVOS`, `CUSTO_DE_LAVAGEM`, `DATA_LIMITE_DE_NEGOCIACAO`, `FAIXA_BENCHMARK`, `FAIXA_REFLEXIVA`, `FROTA_FIXA_DENTRO_DO_MUNICIPIO`, `FROTA_FIXA_FORA_DO_MUNICIPIO`, `FROTA_LEVE_CARRO`, `FROTA_LEVE_PICKUP`, `ICMS`, `ICMS_CREDITO_SEM_INSUMO`, `ISS`, `INICIO_DATA_VIGENCIA`, `INICIO_OPERACAO`, `KM_MENSAL_NOTURNA`, `KM_MENSAL_PRIMEIRA_VIAGEM`, `KM_RECARGA_POR_VIAGEM`, `LUCRO_PRESUMIDO`, `PIS_PRESUMIDO`, `PIS_REAL`, `PERCENTUAL_ICMS_CREDITO_PNEU`, `QUANTIDADE_MES`, `QUANTIDADE_LAVAGENS`, `QUANTIDADE_ROTAS_NOTURNAS`, `RASTREADOR`, `REGIAO`, `RISCO`, `SEGURO`, `TAMANHO_OPERACAO`, `TELEFONIA_MOVEL`, `TOTAL_QUANTIDADE_DESPESAS`, `TOTAL_VALOR_DESPESAS`, `ALIQUOTA_FIXA_ICMS_DIESEL`, `CODIGO_PROMAX_OPERADOR`, `CODIGO_PROMAX_UNIDADE`, `CUSTO_LAVAGEM_10P`, `CUSTO_LAVAGEM_12P`, `CUSTO_LAVAGEM_14P`, `CUSTO_LAVAGEM_28P`, `CUSTO_LAVAGEM_4P`, `CUSTO_LAVAGEM_6P`, `CUSTO_LAVAGEM_8P`, `CUSTO_DE_LAVAGEM_VAN`, `DATA_QUINZANA_VIGENCIA`, `KM_MENSAL_ELETRICO`, `KM_MENSAL_REMUNERADO_VAN`, `_ID`\"\n",
    "        elif \"CONSUMO\" in aba:\n",
    "            tabela = \"CONSUMO_ROTA\"\n",
    "            colunas = \"`VIGENCIA`, `UNIDADE_CNPJ`, `UNIDADE_NOME`, `UNIDADE_SAP`, `UNIDADE_TMS`, `UNIDADE_PROMAX_UNB`, `UNIDADE_REGIONAL`, `OPERADOR_CNPJ`, `OPERADOR_NOME`, `OPERADOR_SAP`, `OPERADOR_TMS`, `OPERADOR_PROMAX`, `ORGANIZACAO_DE_COMPRAS`, `PRAZO_PAGAMENTO`, `ANO_0`, `ANO_1`, `ANO_2`, `ANO_3`, `ANO_4`, `ANO_5`, `KM_1000`, `KM_2000`, `KM_3000`, `KM_4000`, `KM_999`, `_ID`\"\n",
    "        elif \"MANUTENÇÃO CAMINHÃO\" in aba:\n",
    "            tabela = \"MANUTENCAO_CAMINHAO_ROTA\"\n",
    "            colunas = \"`VIGENCIA`, `UNIDADE_CNPJ`, `UNIDADE_NOME`, `UNIDADE_SAP`, `UNIDADE_TMS`, `UNIDADE_PROMAX_UNB`, `UNIDADE_REGIONAL`, `OPERADOR_CNPJ`, `OPERADOR_NOME`, `OPERADOR_SAP`, `OPERADOR_TMS`, `OPERADOR_PROMAX`, `ORGANIZACAO_DE_COMPRAS`, `PRAZO_PAGAMENTO`, `ANO`, `CAPACIDADE_CAMINHAO`, `KM_1000`, `KM_1250`, `KM_1500`, `KM_1750`, `KM_2000`, `KM_2250`, `KM_2500`, `KM_2750`, `KM_3000`, `KM_3250`, `KM_3500`, `_ID`\"\n",
    "        elif \"PNEUS\" in aba:\n",
    "            tabela = \"PNEUS_ROTA\"    \n",
    "            colunas = \"`VIGENCIA`, `UNIDADE_CNPJ`, `UNIDADE_NOME`, `UNIDADE_SAP`, `UNIDADE_TMS`, `UNIDADE_PROMAX_UNB`, `UNIDADE_REGIONAL`, `OPERADOR_CNPJ`, `OPERADOR_NOME`, `OPERADOR_SAP`, `OPERADOR_TMS`, `OPERADOR_PROMAX`, `ORGANIZACAO_DE_COMPRAS`, `PRAZO_PAGAMENTO`, `CAMARA`, `MEDIDA`, `PRECO_CAMARA`, `PRECO_LISO`, `PRECO_MONTAGEM`, `PRECO_PROTETOR`, `PRECO_RECAPAGEM`, `PRECO_TRACAO`, `REGIAO`, `_ID`\"\n",
    "        elif \"UNIFORMES E EPIS\" in aba:\n",
    "            tabela = \"UNIFORMES_EPI_ROTA\"   \n",
    "            colunas = \"`VIGENCIA`, `UNIDADE_CNPJ`, `UNIDADE_NOME`, `UNIDADE_SAP`, `UNIDADE_TMS`, `UNIDADE_PROMAX_UNB`, `UNIDADE_REGIONAL`, `OPERADOR_CNPJ`, `OPERADOR_NOME`, `OPERADOR_SAP`, `OPERADOR_TMS`, `OPERADOR_PROMAX`, `ORGANIZACAO_DE_COMPRAS`, `PRAZO_PAGAMENTO`, `CUSTO`, `CUSTO_MES`, `ICMS_REGIAO`, `ITEM_EPI`, `QUANTIDADE_ANO`, `TIPO_EQUIPE`, `_ID`\"\n",
    "        elif \"BENEFÍCIOS EQUIPE ENTREGA\" in aba:\n",
    "            tabela = \"BENEFICIO_EQUIPE_ENTREGA_ROTA\"\n",
    "            colunas = \"`VIGENCIA`, `UNIDADE_CNPJ`, `UNIDADE_NOME`, `UNIDADE_SAP`, `UNIDADE_TMS`, `UNIDADE_PROMAX_UNB`, `UNIDADE_REGIONAL`, `OPERADOR_CNPJ`, `OPERADOR_NOME`, `OPERADOR_SAP`, `OPERADOR_TMS`, `OPERADOR_PROMAX`, `ORGANIZACAO_DE_COMPRAS`, `PRAZO_PAGAMENTO`, `BENEFICIO`, `CARGO`, `TOTAL_BENEFICIO`, `TURNO`, `PERMITIR_CALCULO_PROPORCIONAL`, `_ID`\"\n",
    "        elif \"BENEFÍCIOS ADM\" in aba:\n",
    "            tabela = \"BENEFICIOS_ADM_ROTA\"     \n",
    "            colunas = \"`VIGENCIA`, `UNIDADE_CNPJ`, `UNIDADE_NOME`, `UNIDADE_SAP`, `UNIDADE_TMS`, `UNIDADE_PROMAX_UNB`, `UNIDADE_REGIONAL`, `OPERADOR_CNPJ`, `OPERADOR_NOME`, `OPERADOR_SAP`, `OPERADOR_TMS`, `OPERADOR_PROMAX`, `ORGANIZACAO_DE_COMPRAS`, `PRAZO_PAGAMENTO`, `CARGO_BENEFICIO`, `ITEM_BENEFICIO`, `PARTICIPACAO_DA_EMPRESA`, `QUANTIDADE`, `QUANTIDADE_DE_DIAS_UTEIS`, `RESSARCIMENTO_FUNCIONARIO`, `TOTAL`, `VALOR`, `_ID`\"\n",
    "        elif \"BENEFÍCIOS NOTURNA\" in aba:\n",
    "            tabela = \"BENEFICIOS_NOTURNA_ROTA\"   \n",
    "            colunas = \"`VIGENCIA`, `UNIDADE_CNPJ`, `UNIDADE_NOME`, `UNIDADE_SAP`, `UNIDADE_TMS`, `UNIDADE_PROMAX_UNB`, `UNIDADE_REGIONAL`, `OPERADOR_CNPJ`, `OPERADOR_NOME`, `OPERADOR_SAP`, `OPERADOR_TMS`, `OPERADOR_PROMAX`, `ORGANIZACAO_DE_COMPRAS`, `PRAZO_PAGAMENTO`, `BENEFICIO`, `CARGO`, `TOTAL_BENEFICIO`, `TURNO`, `_ID`\"\n",
    "        elif \"RESUMO\" in aba:\n",
    "            tabela = \"RESUMO_ROTA\" \n",
    "            colunas = \"`VIGENCIA`, `UNIDADE_CNPJ`, `UNIDADE_NOME`, `UNIDADE_SAP`, `UNIDADE_TMS`, `UNIDADE_PROMAX_UNB`, `UNIDADE_REGIONAL`, `OPERADOR_CNPJ`, `OPERADOR_NOME`, `OPERADOR_SAP`, `OPERADOR_TMS`, `OPERADOR_PROMAX`, `ORGANIZACAO_DE_COMPRAS`, `PRAZO_PAGAMENTO`, `ASSESSORIA_JURIDICA`, `BENEFICIOS`, `BENEFICIOS_AJUDANTE_POR_CAMINHAO`, `BENEFICIOS_MOTORISTA_POR_CAMINHAO`, `COMBUSTIVEL_R_KM`, `COMUNICACAO_FIXA`, `CONE`, `DEPRECIACAO_CAMINHAO`, `DEPRECIACAO_CAMINHAO_PARADO`, `DEPRECIACAO_CARROCERIA`, `DEPRECIACAO_CARROCERIA_PARADO`, `ENCARGOS_E_PROVISOES`, `FAD`, `FINAME_MODELO_NOVO`, `FINAME_MODELO_NOVO_PARADO`, `FAIXA_REFLEXIVA`, `FAIXA_REFLEXIVA_PARADO`, `FROTA_LEVE`, `IPVA_LICEN_MENSAL`, `IPVA_LICENC_MENSAL_PARADO`, `INCENTIVO`, `KM_REMUNERADO`, `LAVAGEM`, `LINK`, `LUCRO_FINAME_MODELO_ANTIGO`, `LUCRO_FINAME_PARADO`, `LUCRO_FIXO_MODELO_NOVO`, `LUCRO_FIXO_MODELO_NOVO_PARADO`, `LUCRO_VARIAVEL_MODELO_NOVO`, `MANUTENCAO_CAMINHAO_R_KM`, `MANUTENCAO_CARRINHOS_TROCA`, `MANUTENCAO_CARROCERIA_R_KM`, `MANUTENCAO_SISTEMAS`, `MATERIAL_ESCRITORIO`, `OUTROS`, `PPRA`, `PNEU_R_KM`, `QUANTIDADE_AJUDANTE_POR_CAMINHAO`, `QUANTIDADE_MOTORISTA_POR_CAMINHAO`, `RASTREADOR`, `RASTREADOR_PARADO`, `REMUNERACAO_K`, `REMUNERACAO_K_IMPOSTOS`, `REMUNERACAO_K_IMPOSTOS_PARADO`, `REMUNERACAO_K_PARADO`, `REMUNERACAO_UNIDADE`, `SALARIO`, `SALARIO_FIXO_AJUDANTE_POR_CAMINHAO`, `SALARIO_FIXO_MOTORISTA_POR_CAMINHAO`, `SEGURO`, `SEGURO_PARADO`, `TELEFONIA_MOVEL`, `TOTAL_CAMINHAO_ATIVO`, `TOTAL_CAMINHAO_PARADO`, `TOTAL_CUSTO`, `TOTAL_EQUIPE_ENTREGA`, `TOTAL_ESTIMADA`, `TOTAL_FROTA`, `TOTAL_FROTA_ATIVA`, `TOTAL_FROTA_PARADA`, `TOTAL_OPERACIONAL_PREVISTO`, `TOTAL_OUTRAS_DESPESAS`, `TOTAL_QLP_ADM`, `TOTAL_R_KM`, `TOTAL_VIAGENS`, `TOTAL_POR_CAMINHAO_EQUIPE_DE_ENTREGA`, `TOTAL_POR_CAMINHAO_ESTIMADA`, `TOTAL_POR_CAMINHAO_FROTA_ATIVA`, `TOTAL_POR_CAMINHAO_FROTA_PARADA`, `TOTAL_POR_CAMINHAO_OPERACIONAL_PREVISTO`, `TOTAL_POR_CAMINHAO_OUTRAS_DESPESAS`, `TOTAL_POR_CAMINHAO_QLP_ADM`, `TOTAL_POR_CAMINHAO_VIAGENS`, `UNIFORME_AJUDANTE_POR_CAMINHAO`, `UNIFORME_MOTORISTA_POR_CAMINHAO`, `UNIFORMES`, `HES_RV_DSR_PROV_AJUDANTE`, `HES_RV_DSR_PROV_MOTORISTA`, `TOTAL_CAMINHAO_ALUGUEL`, `TOTAL_CUSTO_FIXO_ALUGADO_POR_CAMINHAO`, `TOTAL_CUSTO_VARIAVEL_ALUGADO`, `TOTAL_LUCRO_ALUGUEL`, `_ID`\"\n",
    "        elif \"VAN\" in aba:\n",
    "            tabela = \"VAN_ROTA\"\n",
    "            colunas = \"`VIGENCIA`, `UNIDADE_CNPJ`, `UNIDADE_NOME`, `UNIDADE_SAP`, `UNIDADE_TMS`, `UNIDADE_PROMAX_UNB`, `UNIDADE_REGIONAL`, `OPERADOR_CNPJ`, `OPERADOR_NOME`, `OPERADOR_SAP`, `OPERADOR_TMS`, `OPERADOR_PROMAX`, `ORGANIZACAO_DE_COMPRAS`, `PRAZO_PAGAMENTO`, `CUSTO_ALUGUEL`, `AMORTIZACAO`, `ANO`, `ANO_BID`, `ANO_CARROCERIA`, `ANO_CAVALO`, `ANO_ICMS`, `ANO_PIS_COFINS`, `ANO_VEICULO`, `ATIVO`, `BM_CONSUMO`, `CAPACIDADE_CAIXA`, `CAPACIDADE_PALLETS`, `CAPACIDADE_PALLETS_SHARED`, `CARENCIA`, `CHASSI`, `CICLO`, `CICLO_CARROCERIA`, `CICLO_CAVALO`, `CONSUMO_KM_POR_LITRO`, `CONSUMO_REAIS_POR_KM`, `DATA_ALTERACAO_ODOMETRO`, `DATA_ENTRADA`, `DATA_FIM_CONTRATO`, `DATA_LIMITE_NEGOCIACAO`, `DEPRECIACAO_CARROCERIA`, `DEPRECIACAO_CAVALO`, `EIXO_DIANTEIRO`, `EIXO_TRASEIRO`, `FAIXA_REFLEXIVA`, `FATOR_CORRECAO_REGIAO`, `FINAME_MODELO_NOVO`, `FREE_MAINTENANCE`, `GANHO_KM_RODADO`, `ICMS_ANUAL`, `ICMS_CARROCERIA`, `ICMS_CAVALO`, `IMPLEMENTO`, `IMPLEMENTO_SHARED`, `IPVA_LICENCIAMENTO`, `IPVA_LICENCIAMENTO_CAVALO`, `JUROS`, `KM_MES_ELD`, `KM_MES_ROAD_SHOW`, `KM_ODOMETRO`, `KM_TOTAL`, `LAVAGEM`, `LAVAGEM_POR_KM`, `LOGO_PADRAO`, `LOGO_PADRAO_SHARED`, `LUCRO_FINAME`, `LUCRO_FINAME_VARIAVEL`, `LUCRO_FIXO`, `LUCRO_TOTAL_CUSTO_VARIAVEL`, `LUCRO_VARIAVEL`, `MANUTENCAO_ANO`, `MANUTENCAO_BID`, `MANUTENCAO_CARROCERIA_REAIS_POR_KM`, `MANUTENCAO_COMPRA_FORA_DO_BID_AUTORIZADA`, `MANUTENCAO_CONTRATO`, `MANUTENCAO_FREE_MAINTENANCE`, `MANUTENCAO_REAIS_KM`, `MANUTENCAO_REAIS_POR_KM`, `MANUTENCAO_VIDA_MESES`, `MATERIAL`, `MATERIAL_SHARED`, `MEDIDA`, `MEDIDA_PNEU_SHARED`, `MES_ENTRADA`, `MES_ENTRADA_CARROCERIA`, `MES_ENTRADA_CAVALO`, `MES_ENTRADA_NOVO_MODELO`, `MES_PARCELA`, `MODELO`, `MODELO_CAVALO`, `MODELO_SHARED`, `MONTADORA`, `MOTOR`, `MOTOR_SHARED`, `ODOMETRO_PREVISTO`, `PERCENTUAL_ENTRADA`, `PERCENTUAL_RESIDUAL_5_ANOS_CARROCERIA`, `PERCENTUAL_RESIDUAL_5_ANOS_CAVALO`, `PERCENTUAL_RESIDUAL_8_ANOS_CARROCERIA`, `PERCENTUAL_RESIDUAL_8_ANOS_CAVALO`, `PERDA_ANO_VEICULO`, `PERFIL`, `PERFIL_SHARED`, `PERIODO_CARROCERIA`, `PERIODO_CAVALO`, `PERIODO_FINAME`, `PIS_CONFINS_ANUAL`, `PLACA`, `PNEU_POR_KM`, `PRECO_CAMARA`, `PRECO_LISO`, `PRECO_MONTAGEM`, `PRECO_PROTETOR`, `PRECO_RECAPAGEM`, `PRECO_TRACAO`, `QUANTIDADE_PNEUS`, `QUANTIDADE_RECAPAGEM`, `RASTREADOR`, `REAIS_KM`, `REMUNERACAO_K`, `REMUNERACAO_K_IMPOSTOS`, `REMUNERACAO_MODELO`, `REMUNERACAO_MODELO_SHARED`, `SEGURO`, `SPREAD_BANCO`, `SPREAD_BNDES`, `STATUS_FINANCIAMENTO`, `STATUS_FINANCIAMENTO_CARROCERIA`, `STATUS_FINANCIAMENTO_CARROCERIA_SHARED`, `STATUS_FINANCIAMENTO_CAVALO`, `STATUS_FINANCIAMENTO_CAVALO_SHARED`, `STATUS_FINANCIAMENTO_SHARED`, `TAXA_CUSTO_FIXO_CARROCERIA`, `TAXA_CUSTO_FIXO_CAVALO`, `TAXA_FINAME`, `TELEMETRIA_OBRIGATORIA`, `TIPO`, `TIPO_COMBUSTIVEL`, `TIPO_COMBUSTIVEL_SHARED`, `TIPO_SHARED`, `TJLP`, `TOTAL_CUSTO_FIXO`, `TOTAL_CUSTO_VARIAVEL`, `VALOR_COMPRA_CARROCERIA`, `VALOR_COMPRA_CAVALO`, `VALOR_ICMS_CARROCERIA`, `VALOR_ICMS_CAVALO`, `VALOR_LIQUIDO_DEPRECIACAO_CARROCERIA`, `VALOR_LIQUIDO_DEPRECIACAO_CAVALO`, `VALOR_LIQUIDO_REM_K_CARROCERIA`, `VALOR_LIQUIDO_REM_K_CAVALO`, `VALOR_PIS_CONFINS_CARROCERIA`, `VALOR_PIS_CONFINS_CAVALO`, `VALOR_PNEUS`, `VIDA_PNEUS_KM`, `_ID`\"\n",
    "        elif \"RESUMO VAN\" in aba:\n",
    "            tabela = \"RESUMO_VAN_ROTA\"   \n",
    "            colunas = \"`VIGENCIA`, `UNIDADE_CNPJ`, `UNIDADE_NOME`, `UNIDADE_SAP`, `UNIDADE_TMS`, `UNIDADE_PROMAX_UNB`, `UNIDADE_REGIONAL`, `OPERADOR_CNPJ`, `OPERADOR_NOME`, `OPERADOR_SAP`, `OPERADOR_TMS`, `OPERADOR_PROMAX`, `ORGANIZACAO_DE_COMPRAS`, `PRAZO_PAGAMENTO`, `ASSESSORIA_JURIDICA`, `BENEFICIOS`, `BENEFICIOS_AJUDANTE_POR_CAMINHAO`, `BENEFICIOS_MOTORISTA_POR_CAMINHAO`, `COMBUSTIVEL_R_KM`, `COMUNICACAO_FIXA`, `CONE`, `DEPRECIACAO_CAMINHAO`, `DEPRECIACAO_CAMINHAO_PARADO`, `DEPRECIACAO_CARROCERIA`, `DEPRECIACAO_CARROCERIA_PARADO`, `ENCARGOS_E_PROVISOES`, `FAD`, `FAIXA_REFLETIVA_PARADO`, `FAIXA_REFLEXIVA`, `FINAME_MODELO_NOVO`, `FINAME_MODELO_NOVO_PARADO`, `FROTA_LEVE`, `HES_RV_DSR_PROV_AJUDANTE`, `HES_RV_DSR_PROV_MOTORISTA`, `INCENTIVO`, `IPVA_LICEN_MENSAL`, `IPVA_LICENC_MENSAL_PARADO`, `KM_REMUNERADO`, `LAVAGEM`, `LINK`, `LUCRO_FINAME_MODELO_ANTIGO`, `LUCRO_FINAME_PARADO`, `LUCRO_FIXO_MODELO_NOVO`, `LUCRO_FIXO_MODELO_NOVO_PARADO`, `LUCRO_VARIAVEL_MODELO_NOVO`, `MANUTENCAO_CAMINHAO_R_KM`, `MANUTENCAO_CARRINHOS_TROCA`, `MANUTENCAO_CARROCERIA_R_KM`, `MANUTENCAO_SISTEMAS`, `MATERIAL_ESCRITORIO`, `OUTROS`, `PNEU_R_KM`, `PPRA`, `QUANTIDADE_AJUDANTE_POR_CAMINHAO`, `QUANTIDADE_MOTORISTA_POR_CAMINHAO`, `RASTREADOR`, `RASTREADOR_PARADO`, `REMUNERACAO_K`, `REMUNERACAO_K_IMPOSTOS`, `REMUNERACAO_K_IMPOSTOS_PARADO`, `REMUNERACAO_K_PARADO`, `REMUNERACAO_UNIDADE`, `SALARIO`, `SALARIO_FIXO_AJUDANTE_POR_CAMINHAO`, `SALARIO_FIXO_MOTORISTA_POR_CAMINHAO`, `SEGURO`, `SEGURO_PARADO`, `TELEFONIA_MOVEL`, `TOTAL_CAMINHAO_ATIVO`, `TOTAL_CAMINHAO_PARADO`, `TOTAL_CUSTO`, `TOTAL_EQUIPE_ENTREGA`, `TOTAL_ESTIMADA`, `TOTAL_FROTA`, `TOTAL_FROTA_ATIVA`, `TOTAL_FROTA_PARADA`, `TOTAL_OPERACIONAL_PREVISTO`, `TOTAL_OUTRAS_DESPESAS`, `TOTAL_POR_CAMINHAO_EQUIPE_DE_ENTREGA`, `TOTAL_POR_CAMINHAO_ESTIMADA`, `TOTAL_POR_CAMINHAO_FROTA_ATIVA`, `TOTAL_POR_CAMINHAO_FROTA_PARADA`, `TOTAL_POR_CAMINHAO_OPERACIONAL_PREVISTO`, `TOTAL_POR_CAMINHAO_OUTRAS_DESPESAS`, `TOTAL_POR_CAMINHAO_QLP_ADM`, `TOTAL_POR_CAMINHAO_VIAGENS`, `TOTAL_QLP_ADM`, `TOTAL_R_KM`, `TOTAL_VIAGENS`, `UNIFORME_AJUDANTE_POR_CAMINHAO`, `UNIFORME_MOTORISTA_POR_CAMINHAO`, `UNIFORMES`, `_ID`\"\n",
    "        elif \"ENCARGOS_COM_FERIAS\" in aba:\n",
    "            tabela = \"ENCARGOS_COM_FERIAS_ROTA\"\n",
    "            colunas = \"`VIGENCIA`, `UNIDADE_CNPJ`, `UNIDADE_NOME`, `UNIDADE_SAP`, `UNIDADE_TMS`, `UNIDADE_PROMAX_UNB`, `UNIDADE_REGIONAL`, `OPERADOR_CNPJ`, `OPERADOR_NOME`, `OPERADOR_SAP`, `OPERADOR_TMS`, `OPERADOR_PROMAX`, `ORGANIZACAO_DE_COMPRAS`, `PRAZO_PAGAMENTO`, `AUSENCIA_LEGAL`, `AUSENCIA_LEGAL_RPS_A`, `AUSENCIA_LEGAL_RPS_B`, `AUSENCIA_LEGAL_RPS_C`, `AVISO_PREVIO`, `AVISO_PREVIO_RPS_A`, `AVISO_PREVIO_RPS_B`, `AVISO_PREVIO_RPS_C`, `DIFERENCA_PROVISAO_FERIAS`, `DIFERENCA_PROVISAO_FERIAS_RPS_A`, `DIFERENCA_PROVISAO_FERIAS_RPS_B`, `DIFERENCA_PROVISAO_FERIAS_RPS_C`, `DECIMO_TERCEIRO_SALARIO`, `DECIMO_TERCEIRO_SALARIO_RPS_A`, `DECIMO_TERCEIRO_SALARIO_RPS_B`, `DECIMO_TERCEIRO_SALARIO_RPS_C`, `FGTS`, `FERIAS_1_3`, `FERIAS_1_3_RPS_A`, `FERIAS_1_3_RPS_B`, `FERIAS_1_3_RPS_C`, `FERIAS_NORMAIS`, `FERIAS_NORMAIS_RPS_A`, `FERIAS_NORMAIS_RPS_B`, `FERIAS_NORMAIS_RPS_C`, `FERIAS_PROPORCIONAIS_INDENIZADAS`, `FERIAS_PROPORCIONAIS_INDENIZADAS_RPS_A`, `FERIAS_PROPORCIONAIS_INDENIZADAS_RPS_B`, `FERIAS_PROPORCIONAIS_INDENIZADAS_RPS_C`, `INCRA`, `INSS`, `INCIDENCIA_CUMULATIVA`, `MULTA_FGTS`, `SEBRAE`, `SENAT`, `SEST`, `SALARIO_EDUCACAO`, `SEGURO_ACIDENTE_DE_TRABALHO`, `TOTAL`, `TOTAL_ENCARGOS`, `TOTAL_PROVISOES`, `TOTAL_RPS_A`, `TOTAL_RPS_B`, `TOTAL_RPS_C`, `AVISO_PREVIO_FORMULA`, `DIAS_DE_AVISO`, `FERIAS_PROPORCIONAIS_INDENIZADAS_FORMULA`, `INCIDENCIA_UM_TERCO_FERIAS_SOBRE_AVISO`, `INCIDENCIA_UM_TERCO_FERIAS_SOBRE_AVISO_RPS_A`, `INCIDENCIA_UM_TERCO_FERIAS_SOBRE_AVISO_RPS_B`, `INCIDENCIA_UM_TERCO_FERIAS_SOBRE_AVISO_RPS_C`, `INVOLUNTARIO`, `MES_DISSIDIO`, `TEMPO_MEDIO_CASA`, `TURN_OVER`, `VOLUNTARIO`, `_ID`\"\n",
    "        elif \"ENCARGOS_SEM_FERIAS\" in aba:\n",
    "            tabela = \"ENCARGOS_SEM_FERIAS_ROTA\"  \n",
    "            colunas = \"`VIGENCIA`, `UNIDADE_CNJP`, `UNIDADE_NOME`, `UNIDADE_SAP`, `UNIDADE_TMS`, `UNIDADE_PROMAX_UNB`, `UNIDADE_REGIONAL`, `OPERADOR_CNJP`, `OPERADOR_NOME`, `OPERADOR_SAP`, `OPERADOR_TMS`, `OPERADOR_PROMAX`, `ORGANIZACAO_DE_COMPRAS`, `PRAZO_PAGAMENTO`, `AUSENCIA_LEGAL`, `AUSENCIA_LEGAL_RPS_A`, `AUSENCIA_LEGAL_RPS_B`, `AUSENCIA_LEGAL_RPS_C`, `AVISO_PREVIOUS`, `AVISO_PREVIOUS_RPS_A`, `AVISO_PREVIOUS_RPS_B`, `AVISO_PREVIOUS_RPS_C`, `DIFERENCA_PROVISAO_FERIAS`, `DIFERENCA_PROVISAO_FERIAS_RPS_A`, `DIFERENCA_PROVISAO_FERIAS_RPS_B`, `DIFERENCA_PROVISAO_FERIAS_RPS_C`, `DECIMO_TERCEIRO_SALARIO`, `DECIMO_TERCEIRO_SALARIO_RPS_A`, `DECIMO_TERCEIRO_SALARIO_RPS_B`, `DECIMO_TERCEIRO_SALARIO_RPS_C`, `FGTS`, `FERIAS_1_3`, `FERIAS_1_3_RPS_A`, `FERIAS_1_3_RPS_B`, `FERIAS_1_3_RPS_C`, `FERIAS_NORMAIS`, `FERIAS_NORMAIS_RPS_A`, `FERIAS_NORMAIS_RPS_B`, `FERIAS_NORMAIS_RPS_C`, `FERIAS_PROPORCIONAIS_INDENIZADAS`, `FERIAS_PROPORCIONAIS_INDENIZADAS_RPS_A`, `FERIAS_PROPORCIONAIS_INDENIZADAS_RPS_B`, `FERIAS_PROPORCIONAIS_INDENIZADAS_RPS_C`, `INCRA`, `INSS`, `INCIDENCIA_CUMULATIVA`, `MULTA_FGTS`, `SEBRAE`, `SENAT`, `SEST`, `SALARIO_EDUCACAO`, `SEGURO_ACIDENTE_DE_TRABALHO`, `TOTAL`, `TOTAL_ENCARGOS`, `TOTAL_PROVISOES`, `TOTAL_RPS_A`, `TOTAL_RPS_B`, `TOTAL_RPS_C`, `AVISOPREVIOFORMULA`, `DIASDEAVISO`, `FERIASPROPORCIONAISINDENIZADASFORMULA`, `INCIDENCIAUMTERCOFERIASOBREAVISO`, `INCIDENCIAUMTERCOFERIASOBREAVISORPSA`, `INCIDENCIAUMTERCOFERIASOBREAVISORPSB`, `INCIDENCIAUMTERCOFERIASOBREAVISORPSC`, `INVOLUNTARIO`, `MESDISSIDIO`, `TEMPO_MEDIO_CASA`, `TURNOVER`, `VOLUNTARIO`, `_ID`\"\n",
    "        else :\n",
    "            tabela = aba\n",
    "            colunas = \"\"\n",
    "\n",
    "    return tabela, colunas\n",
    "\n",
    "def colunas_tabela(tabela):\n",
    "    colunas = \"\"  # Initialize colunas to avoid UnboundLocalError\n",
    "    if tabela == \"EQP_ENTREGA_ROTA\":\n",
    "        colunas = \"`VIGENCIA`, `UNIDADE_CNPJ`, `UNIDADE_NOME`, `UNIDADE_SAP`, `UNIDADE_TMS`, `UNIDADE_PROMAX_UNB`, `UNIDADE_REGIONAL`, `OPERADOR_CNPJ`, `OPERADOR_NOME`, `OPERADOR_SAP`, `OPERADOR_TMS`, `OPERADOR_PROMAX`, `ORGANIZACAO_DE_COMPRAS`, `PRAZO_PAGAMENTO`, `CARGO`, `DSR`, `HORA_EXTRA_FIXA`, `OUTROS`, `PERCENTUAL_ABSENTEÍSMO`, `PERCENTUAL_ENCARGO_E_PROVISÃO`, `PERCENTUAL_HORA_EXTRA`, `PERCENTUAL_TURN_OVER_ANO`, `PISO_SALARIAL`, `PREMIAÇÃO_PLUS`, `QUANTIDADE_HORA_EXTRA_FIXA`, `QUANTIDADE_TOTAL_X_CAMINHÃO_ATIVO`, `QUANTIDADE_POR_CAMINHÃO`, `REMUNERAÇÃO_FIXA_CONTRA_CHEQUE`, `TOTAL_ORDENADO`, `TOTAL_REMUNERAÇÃO`, `TOTAL_REMUNERAÇÃO_BENEFÍCIO`, `TURNO`, `DURACAOABONO`, `EQUIPEPARTTIME`, `QUANTIDADEHORASMESPARTTIME`, `VALORABONO`, `VALORABONOAPLICADO`, `_ID`\"\n",
    "    elif tabela == \"EQP_FAD_ROTA\":\n",
    "        colunas = \"`VIGENCIA`, `UNIDADE_CNPJ`, `UNIDADE_NOME`, `UNIDADE_SAP`, `UNIDADE_TMS`, `UNIDADE_PROMAX_UNB`, `UNIDADE_REGIONAL`, `OPERADOR_CNPJ`, `OPERADOR_NOME`, `OPERADOR_SAP`, `OPERADOR_TMS`, `OPERADOR_PROMAX`, `ORGANIZACAO_DE_COMPRAS`, `PRAZO_PAGAMENTO`, `BENEFICIOS`, `CARGO`, `PERCENTUAL_ENCARGO_E_PROVISÃO`, `QUANTIDADE`, `VALOR_TOTAL`, `VALOR_UNITARIO`, `_ID`\"\n",
    "    elif tabela == \"EQP_NOTURNA_ROTA\":\n",
    "        colunas = \"`VIGENCIA`, `UNIDADE_CNPJ`, `UNIDADE_NOME`, `UNIDADE_SAP`, `UNIDADE_TMS`, `UNIDADE_PROMAX_UNB`, `UNIDADE_REGIONAL`, `OPERADOR_CNPJ`, `OPERADOR_NOME`, `OPERADOR_SAP`, `OPERADOR_TMS`, `OPERADOR_PROMAX`, `ORGANIZACAO_DE_COMPRAS`, `PRAZO_PAGAMENTO`, `ADCIONAL_NOTURNO`, `CARGO`, `CUSTO_OPERACIONAL`, `DSR`, `EQUIPE_DE_ENTREGA`, `PERCENTUAL_ADCIONAL_NOTURNO`, `PERCENTUAL_PROVISAO_ENCARGOS_COM_FERIAS`, `PERCENTUAL_PROVISAO_ENCARGOS_SEM_FERIAS`, `PISO_SALARIAL`, `QUANTIDADE_HORA_NOTURNA`, `TOTAL_CUSTO_FIXO`, `TOTAL_CUSTO_VARIAVEL`, `TOTAL_UNIFORME_EPI`, `TURNO`, `_ID`\"\n",
    "    elif tabela == \"EQP_VAN_ROTA\":\n",
    "        colunas = \"`VIGENCIA`, `UNIDADE_CNPJ`, `UNIDADE_NOME`, `UNIDADE_SAP`, `UNIDADE_TMS`, `UNIDADE_PROMAX_UNB`, `UNIDADE_REGIONAL`, `OPERADOR_CNPJ`, `OPERADOR_NOME`, `OPERADOR_SAP`, `OPERADOR_TMS`, `OPERADOR_PROMAX`, `ORGANIZACAO_DE_COMPRAS`, `PRAZO_PAGAMENTO`, `CARGO`, `DSR`, `HORA_EXTRA_FIXA`, `OUTROS`, `PERCENTUAL_ABSENTEÍSMO`, `PERCENTUAL_ENCARGO_E_PROVISÃO`, `PERCENTUAL_HORA_EXTRA`, `PERCENTUAL_TURN_OVER_ANO`, `PISO_SALARIAL`, `PREMIAÇÃO_PLUS`, `QUANTIDADE_HORA_EXTRA_FIXA`, `QUANTIDADE_TOTAL_X_CAMINHÃO_ATIVO`, `QUANTIDADE_POR_CAMINHÃO`, `REMUNERAÇÃO_FIXA_CONTRA_CHEQUE`, `TOTAL_ORDENADO`, `TOTAL_REMUNERAÇÃO`, `TOTAL_REMUNERAÇÃO_BENEFÍCIO`, `TURNO`, `DURACA_ABONO`, `EQUIPE_PART_TIME`, `QUANTIDA_DE_HORAS_MES_PARTTIME`, `VALOR_ABONO`, `VALOR_ABONO_APLICADO`, `_ID`\"\n",
    "    elif tabela == \"CAMINHAO_ROTA\":\n",
    "        colunas = \"`VIGENCIA`, `UNIDADE_CNPJ`, `UNIDADE_NOME`, `UNIDADE_SAP`, `UNIDADE_TMS`, `UNIDADE_PROMAX_UNB`, `UNIDADE_REGIONAL`, `OPERADOR_CNPJ`, `OPERADOR_NOME`, `OPERADOR_SAP`, `OPERADOR_TMS`, `OPERADOR_PROMAX`, `ORGANIZACAO_DE_COMPRAS`, `PRAZO_PAGAMENTO`, `AMORTIZACAO`, `ANO`, `ANO_CARROCERIA`, `ANO_CAVALO`, `ANO_VEICULO`, `ATIVO`, `BENCHMARK_CONSUMO`, `CAPACIDADE_DE_PALLETS`, `CAPACIDADE_EM_CAIXAS`, `CARENCIA`, `CICLO_CARROCERIA`, `CICLO_CAVALO`, `CONSUMO_KM_L`, `CONSUMO_RS_KM`, `CUSTO_ALUGUEL`, `DATA_ALTERACAO_ODOMETRO`, `DATA_ENTRADA`, `DEPRECIACAO_CARROCERIA`, `DEPRECIACAO_CAVALO`, `EIXO_DIANTEIRO`, `EIXO_TRASEIRO`, `ENTRADA`, `FINAME_MODELO_NOVO`, `FAIXA_REFLEXIVA`, `FATOR_CORRECAO_REGIAO`, `GANHO_POR_KM_RODADO`, `ICMS_ANUAL`, `ICMS_CARROCERIA`, `ICMS_CAVALO`, `IPVA_LICENCIAMENTO`, `IPVA_LICENCIAMENTO_CAVALO`, `IMPLEMENTO`, `JUROS`, `KM_MES_ELD`, `KM_MES_ROADSHOW`, `KM_ODOMETRO`, `KM_TOTAL`, `LAVAGEM`, `LOGO_PADRAO`, `LUCRO_FINAME`, `LUCRO_FINAME_VARIAVEL`, `LUCRO_FIXO`, `LUCRO_TOTAL_CUSTO_VARIAVEL`, `LUCRO_VARIAVEL`, `MANUTENCAO_CARROCERIA_RS_KM`, `MANUTENCAO_RS_KM`, `MATERIAL`, `MEDIDA_PNEU`, `MODELO`, `MODELO_CAVALO`, `MONTADORA`, `MOTOR`, `MES_PARCELA`, `MES_ENTRADA_CARROCERIA`, `MES_ENTRADA_CAVALO`, `MES_ENTRADA_NOVO_MODELO`, `ODOMETRO_PREVISTO`, `PIS_COFINS_ANUAL`, `PERCENT_RESIDUAL_CINCO_ANOS_CAVALO`, `PERCENT_RESIDUAL_CINCO_ANOS_CARROCERIA`, `PERCENT_RESIDUAL_OITO_ANOS_CARROCERIA`, `PERCENT_RESIDUAL_OITO_ANOS_CAVALO`, `PERDA_ANO_VEICULO`, `PERFIL`, `PERIODO_CAVALO`, `PERIODO_FINAME`, `PLACA`, `PNEU_POR_KM`, `PRECO_LISO`, `PRECO_MONTAGEM`, `PRECO_PROTETOR`, `PRECO_RECAPAGEM`, `PRECO_TRACAO`, `PRECO_CAMERA`, `QUANTIDADE_PNEUS`, `QUANTIDADE_RECAPAGEM`, `RS_KM`, `RASTREADOR`, `REMUNERACAO_K`, `REMUNERACAO_K_IMPOSTOS`, `REMUNERACAO_MODELO`, `SEGURO`, `SPREAD_BNDES`, `SPREAD_BANCO`, `TJLP`, `TAXA_CUSTO_FIXO_CARROCERIA`, `TAXA_CUSTO_FIXO_CAVALO`, `TAXA_FINAME`, `TIPO`, `TOTAL_CUSTO_FIXO`, `TOTAL_CUSTO_VARIAVEL`, `VALOR_ICMS_CARROCERIA`, `VALOR_ICMS_CAVALO`, `VALOR_LIQUIDO_DEPRECIACAO_CAVALO`, `VALOR_LIQUIDO_DEPRECIACAO_CARROCERIA`, `VALOR_LIQUIDO_REMUNERACAO_K_CARROCERIA`, `VALOR_LIQUIDO_REMUNERACAO_K_CAVALO`, `VALOR_PIS_COFINS_CARROCERIA`, `VALOR_PIS_COFINS_CAVALO`, `VALOR_PNEU`, `VALOR_COMPRA_CARROCERIA`, `VALOR_COMPRA_CAVALO`, `VIDA_PNEUS_KM`, `ANO_BID`, `CHASSI`, `CUSTO_VARIAVEL_SIMULADO`, `FREE_MAINTENANCE`, `LOGO_PADRAO_SHARED`, `MANUTENCAO_ANO`, `MANUTENCAO_BID`, `MANUTENCAO_COMPRA_FORA_DO_BID_AUTORIZADA`, `MANUTENCAO_CONTRATO`, `MANUTENCAO_FREE_MAINTENANCE`, `MANUTENCAO_REAIS_KM`, `MANUTENCAO_VIDA_MESES`, `MATERIAL_SHARED`, `MODELO_SHARED`, `MOTOR_SHARED`, `PERCENTUAL_REAJUSTE_APLICADO`, `PERFIL_SHARED`, `STATUS_FINANCIAMENTO_CARROCERIA_SHARED`, `STATUS_FINANCIAMENTO_CAVALO_SHARED`, `STATUS_FINANCIAMENTO_SHARED`, `TELEMETRIA_OBRIGATORIA`, `TIPO_COMBUSTIVEL_SHARED`, `VALOR_REAJUSTADO`, `_ID`\"\n",
    "    elif tabela == \"FATURAMENTO_ROTA\":\n",
    "        colunas = \"`VIGENCIA`, `UNIDADE_CNPJ`, `UNIDADE_NOME`, `UNIDADE_SAP`, `UNIDADE_TMS`, `UNIDADE_PROMAX_UNB`, `UNIDADE_REGIONAL`, `OPERADOR_CNPJ`, `OPERADOR_NOME`, `OPERADOR_SAP`, `OPERADOR_TMS`, `OPERADOR_PROMAX`, `ORGANIZACAO_DE_COMPRAS`, `PRAZO_PAGAMENTO`, `CUSTO_FIXO_FROTA_ATIVO_BRUTO`, `CUSTO_FIXO_FROTA_ATIVO_QUANTIDADE`, `CUSTO_FIXO_FROTA_ATIVA_BRUTO_POR_CAMINHAO`, `CUSTO_FIXO_FROTA_INATIVA_BRUTO`, `CUSTO_FIXO_FROTA_INATIVA_BRUTO_QUANTIDADE`, `CUSTO_FIXO_FROTA_INATIVA_BRUTO_POR_CAMINHAO`, `CUSTO_FIXO_LIQUIDO`, `CUSTO_FIXO_LIQUIDO_QUANTIDADE`, `CUSTO_FIXO_LIQUIDO_POR_CAMINHAO`, `CUSTO_VARIAVEL_FROTA_ATIVA_BRUTO`, `CUSTO_VARIAVEL_FROTA_ATIVA_BRUTO_QUANTIDADE`, `CUSTO_VARIAVEL_FROTA_ATIVA_BRUTO_POR_CAMINHAO`, `CUSTO_VARIAVEL_LIQUIDO`, `CUSTO_VARIAVEL_LIQUIDO_QUANTIDADE`, `CUSTO_VARIAVEL_LIQUIDO_POR_CAMINHAO`, `DENTRO_DO_MUNICIPIO_BRUTO`, `DENTRO_DO_MUNICIPIO_BRUTO_QUANTIDADE`, `DENTRO_DO_MUNICIPIO_BRUTO_POR_CAMINHAO`, `FORA_DO_MUNICIPIO_BRUTO`, `FORA_DO_MUNICIPIO_BRUTO_QUANTIDADE`, `FORA_DO_MUNICIPIO_BRUTO_POR_CAMINHAO`, `IMPOSTO_DENTRO_MUNICIPIO_BRUTO`, `IMPOSTO_DENTRO_MUNICIPIO_BRUTO_QUANTIDADE`, `IMPOSTO_DENTRO_MUNICIPIO_BRUTO_POR_CAMINHAO`, `IMPOSTO_FORA_MUNICIPIO_BRUTO`, `IMPOSTO_FORA_MUNICIPIO_BRUTO_QUANTIDADE`, `IMPOSTO_FORA_MUNICIPIO_BRUTO_POR_CAMINHAO`, `LUCRO_OPERACIONAL_VARIAVEL_LIQUIDO`, `LUCRO_OPERACIONAL_VARIAVEL_LIQUIDO_QUANTIDADE`, `LUCRO_OPERACIONAL_VARIAVEL_LIQUIDO_POR_CAMINHAO`, `REMUNERACAO_FIXA_EQUIPE_DE_ENTREGA_LIQUIDO`, `REMUNERACAO_FIXA_EQUIPE_DE_ENTREGA_LIQUIDO_QUANTIDADE`, `REMUNERACAO_FIXA_EQUIPE_DE_ENTREGA_LIQUIDO_POR_CAMINHAO`, `REMUNERACAO_FIXA_FROTA_ATIVA_LIQUIDO`, `REMUNERACAO_FIXA_FROTA_ATIVA_LIQUIDO_POR_CAMINHAO`, `REMUNERACAO_FIXA_FROTA_ATIVA_LIQUIDO_QUANTIDADE`, `REMUNERACAO_FIXA_FROTA_PARADA_LIQUIDO`, `REMUNERACAO_FIXA_FROTA_PARADA_LIQUIDO_QUANTIDADE`, `REMUNERACAO_FIXA_FROTA_PARADA_LIQUIDO_POR_CAMINHAO`, `REMUNERACAO_FIXA_QLP_ADM_LIQUIDO`, `REMUNERACAO_FIXA_QLP_ADM_QUANTIDADE`, `REMUNERACAO_FIXA_QLP_ADM_LIQUIDO_POR_CAMINHAO`, `REMUNERACAO_OUTRAS_DESPESAS_LIQUIDO`, `REMUNERACAO_OUTRAS_DESPESAS_LIQUIDO_QUANTIDADE`, `REMUNERACAO_OUTRAS_DESPESAS_LIQUIDO_POR_CAMINHAO`, `REMUNERACAO_VARIAVEL_LIQUIDO`, `REMUNERACAO_VARIAVEL_LIQUIDO_QUANTIDADE`, `REMUNERACAO_VARIAVEL_LIQUIDO_POR_CAMINHAO`, `TOTAL`, `TOTAL_CAMINHAO_ATIVO`, `TOTAL_CAMINHAO_PARADO`, `TOTAL_CUSTO_VARIAVEL_LIQUIDO`, `TOTAL_CUSTO_VARIAVEL_LIQUIDO_QUANTIDADE`, `TOTAL_CUSTO_VARIAVEL_LIQUIDO_POR_CAMINHAO`, `TOTAL_LIQUIDO`, `TOTAL_LIQUIDO_QUANTIDADE`, `TOTAL_LIQUIDO_POR_CAMINHAO`, `TOTAL_QUANTIDADE`, `TOTAL_POR_CAMINHAO`, `_ID`\"\n",
    "    elif tabela == \"QLP_ADM_ROTA\":\n",
    "        colunas = \"`VIGENCIA`, `UNIDADE_CNPJ`, `UNIDADE_NOME`, `UNIDADE_SAP`, `UNIDADE_TMS`, `UNIDADE_PROMAX_UNB`, `UNIDADE_REGIONAL`, `OPERADOR_CNPJ`, `OPERADOR_NOME`, `OPERADOR_SAP`, `OPERADOR_TMS`, `OPERADOR_PROMAX`, `ORGANIZACAO_DE_COMPRAS`, `PRAZO_PAGAMENTO`, `CARGO`, `DESPESA_BENEFICIO`, `DESPESA_ENCARGOS`, `DESPESA_FROTA_LEVA`, `DESPESA_ORDENADOS`, `DESPESA_TELEFONIA`, `DESPESA_UNIFORMES`, `QLP_BENCHMARK_QUANTIDADE`, `QLP_BENCHMARK_SALARIO`, `QUANTIDADE_BENEFICIO`, `QUANTIDADE_ENCARGOS`, `QUANTIDADE_FROTA_LEVE`, `QUANTIDADE_ORDENADOS`, `QUANTIDADE_TELEFONIA`, `QUANTIDADE_UNIFORMES`, `SALARIO_ENCARGOS`, `SALARIO_ORDENADOS`, `VALE_TRANSPORTE`, `VALOR_BENEFICIO`, `VALOR_FROTA_LEVE`, `VALOR_TELEFONIA`, `VALOR_UNIFORMES`, `_ID`\"\n",
    "    elif tabela == \"RECARGA_ROTA\":\n",
    "        colunas = \"`VIGENCIA`, `UNIDADE_CNPJ`, `UNIDADE_NOME`, `UNIDADE_SAP`, `UNIDADE_TMS`, `UNIDADE_PROMAX_UNB`, `UNIDADE_REGIONAL`, `OPERADOR_CNPJ`, `OPERADOR_NOME`, `OPERADOR_SAP`, `OPERADOR_TMS`, `OPERADOR_PROMAX`, `ORGANIZACAO_DE_COMPRAS`, `PRAZO_PAGAMENTO`, `COMBUSTIVEL_POR_KM`, `CUSTO_VARIAVEL_CAMINHAO`, `CUSTO_VARIAVEL_EQUPE_ENTREGA`, `CUSTO_VARIAVEL_RECARGA`, `CUSTO_VARIAVEL_POR_KM`, `EQUIPE_ENTRGA_AJUDANTE`, `EQUIPE_ENTRGA_MOTORISTA`, `KM_POR_VIAGEM`, `LAVAGEM_POR_KM`, `LUCRO`, `MANUTENCAO_CAMINHAO_POR_KM`, `MANUTENCAO_CARROCERIA_POR_KM`, `PERCENTUAL_PROVISOES_ENCARGOS_AJUDANTE`, `PERCENTUAL_PROVISOES_ENCARGOS_MOTORISTA`, `PNEU_POR_KM`, `PREMIO_DSR_AJUDANTE`, `PREMIO_DSR_MOTORISTA`, `TOTAL_PREMIACAO_ENC_PROV_AJUDANTE`, `TOTAL_PREMIACAO_ENC_PROV_MOTORISTA`, `_ID`\"\n",
    "    elif tabela == \"DESPESAS_OPERACIONAIS_ROTA\":\n",
    "        colunas = \"`VIGENCIA`, `UNIDADE_CNPJ`, `UNIDADE_NOME`, `UNIDADE_SAP`, `UNIDADE_TMS`, `UNIDADE_PROMAX_UNB`, `UNIDADE_REGIONAL`, `OPERADOR_CNPJ`, `OPERADOR_NOME`, `OPERADOR_SAP`, `OPERADOR_TMS`, `OPERADOR_PROMAX`, `ORGANIZACAO_DE_COMPRAS`, `PRAZO_PAGAMENTO`, `DESCRICAO`, `QUANTIDADE`, `VALOR_TOTAL`, `VALOR_UNITARIO`, `VALOR_POR_EQUIPAMENTO`, `_ID`\"\n",
    "    elif tabela == \"MANUNTENCAO_CARROCERIA_ROTA\":\n",
    "        colunas = \"`VIGENCIA`, `UNIDADE_CNPJ`, `UNIDADE_NOME`, `UNIDADE_SAP`, `UNIDADE_TMS`, `UNIDADE_PROMAX_UNB`, `UNIDADE_REGIONAL`, `OPERADOR_CNPJ`, `OPERADOR_NOME`, `OPERADOR_SAP`, `OPERADOR_TMS`, `OPERADOR_PROMAX`, `ORGANIZACAO_DE_COMPRAS`, `PRAZO_PAGAMENTO`, `MATERIAL`, `PERFIL`, `TIPO`, `VALOR_POR_ANO`, `VALOR_POR_MES`, `_ID`\"\n",
    "    elif tabela == \"COMBUSTIVEL_ROTA\":\n",
    "        colunas = \"`VIGENCIA`, `UNIDADE_CNPJ`, `UNIDADE_NOME`, `UNIDADE_SAP`, `UNIDADE_TMS`, `UNIDADE_PROMAX_UNB`, `UNIDADE_REGIONAL`, `OPERADOR_CNPJ`, `OPERADOR_NOME`, `OPERADOR_SAP`, `OPERADOR_TMS`, `OPERADOR_PROMAX`, `ORGANIZACAO_DE_COMPRAS`, `PRAZO_PAGAMENTO`, `CREDITO_SOBRE_ATIVOS`, `INICIATIVA`, `PRECO_ANP`, `PRECO_CREDITO_IMPOSTOS`, `PRECO_OPERADORA`, `TIPO_COMBUSTIVEL_SHARED`, `_ID`\"\n",
    "    elif tabela == \"PARAMETROS_OPERACAO_ROTA\":\n",
    "        colunas = \"`VIGENCIA`, `UNIDADE_CNPJ`, `UNIDADE_NOME`, `UNIDADE_SAP`, `UNIDADE_TMS`, `UNIDADE_PROMAX_UNB`, `UNIDADE_REGIONAL`, `OPERADOR_CNPJ`, `OPERADOR_NOME`, `OPERADOR_SAP`, `OPERADOR_TMS`, `OPERADOR_PROMAX`, `ORGANIZACAO_DE_COMPRAS`, `PRAZO_PAGAMENTO`, `ALMOCO_FABRICA`, `ANO_ICMS`, `ANO_PIS_COFINS`, `CDD_INTERNO`, `COFINS_PRESUMIDO`, `COFINS_REAL`, `CONE_DE_SEGURANCA`, `CONSUMO_FROTA_LEVE`, `CONTRIBUICAO__PREVIDENCIA`, `CREDITO_ICMS`, `CREDITO_ICMS_PRESUMIDO`, `CREDITO_SOBRE_ATIVOS`, `CUSTO_DE_LAVAGEM`, `DATA_LIMITE_DE_NEGOCIACAO`, `FAIXA_BENCHMARK`, `FAIXA_REFLEXIVA`, `FROTA_FIXA_DENTRO_DO_MUNICIPIO`, `FROTA_FIXA_FORA_DO_MUNICIPIO`, `FROTA_LEVE_CARRO`, `FROTA_LEVE_PICKUP`, `ICMS`, `ICMS_CREDITO_SEM_INSUMO`, `ISS`, `INICIO_DATA_VIGENCIA`, `INICIO_OPERACAO`, `KM_MENSAL_NOTURNA`, `KM_MENSAL_PRIMEIRA_VIAGEM`, `KM_RECARGA_POR_VIAGEM`, `LUCRO_PRESUMIDO`, `PIS_PRESUMIDO`, `PIS_REAL`, `PERCENTUAL_ICMS_CREDITO_PNEU`, `QUANTIDADE_MES`, `QUANTIDADE_LAVAGENS`, `QUANTIDADE_ROTAS_NOTURNAS`, `RASTREADOR`, `REGIAO`, `RISCO`, `SEGURO`, `TAMANHO_OPERACAO`, `TELEFONIA_MOVEL`, `TOTAL_QUANTIDADE_DESPESAS`, `TOTAL_VALOR_DESPESAS`, `ALIQUOTA_FIXA_ICMS_DIESEL`, `CODIGO_PROMAX_OPERADOR`, `CODIGO_PROMAX_UNIDADE`, `CUSTO_LAVAGEM_10P`, `CUSTO_LAVAGEM_12P`, `CUSTO_LAVAGEM_14P`, `CUSTO_LAVAGEM_28P`, `CUSTO_LAVAGEM_4P`, `CUSTO_LAVAGEM_6P`, `CUSTO_LAVAGEM_8P`, `CUSTO_DE_LAVAGEM_VAN`, `DATA_QUINZANA_VIGENCIA`, `KM_MENSAL_ELETRICO`, `KM_MENSAL_REMUNERADO_VAN`, `_ID`\"\n",
    "    elif tabela == \"CONSUMO_ROTA\":\n",
    "        colunas = \"`VIGENCIA`, `UNIDADE_CNPJ`, `UNIDADE_NOME`, `UNIDADE_SAP`, `UNIDADE_TMS`, `UNIDADE_PROMAX_UNB`, `UNIDADE_REGIONAL`, `OPERADOR_CNPJ`, `OPERADOR_NOME`, `OPERADOR_SAP`, `OPERADOR_TMS`, `OPERADOR_PROMAX`, `ORGANIZACAO_DE_COMPRAS`, `PRAZO_PAGAMENTO`, `ANO_0`, `ANO_1`, `ANO_2`, `ANO_3`, `ANO_4`, `ANO_5`, `KM_1000`, `KM_2000`, `KM_3000`, `KM_4000`, `KM_999`, `_ID`\"\n",
    "    elif tabela == \"MANUTENCAO_CAMINHAO_ROTA\":\n",
    "        colunas = \"`VIGENCIA`, `UNIDADE_CNPJ`, `UNIDADE_NOME`, `UNIDADE_SAP`, `UNIDADE_TMS`, `UNIDADE_PROMAX_UNB`, `UNIDADE_REGIONAL`, `OPERADOR_CNPJ`, `OPERADOR_NOME`, `OPERADOR_SAP`, `OPERADOR_TMS`, `OPERADOR_PROMAX`, `ORGANIZACAO_DE_COMPRAS`, `PRAZO_PAGAMENTO`, `ANO`, `CAPACIDADE_CAMINHAO`, `KM_1000`, `KM_1250`, `KM_1500`, `KM_1750`, `KM_2000`, `KM_2250`, `KM_2500`, `KM_2750`, `KM_3000`, `KM_3250`, `KM_3500`, `_ID`\"\n",
    "    elif tabela == \"PNEUS_ROTA\":\n",
    "        colunas = \"`VIGENCIA`, `UNIDADE_CNPJ`, `UNIDADE_NOME`, `UNIDADE_SAP`, `UNIDADE_TMS`, `UNIDADE_PROMAX_UNB`, `UNIDADE_REGIONAL`, `OPERADOR_CNPJ`, `OPERADOR_NOME`, `OPERADOR_SAP`, `OPERADOR_TMS`, `OPERADOR_PROMAX`, `ORGANIZACAO_DE_COMPRAS`, `PRAZO_PAGAMENTO`, `CAMARA`, `MEDIDA`, `PRECO_CAMARA`, `PRECO_LISO`, `PRECO_MONTAGEM`, `PRECO_PROTETOR`, `PRECO_RECAPAGEM`, `PRECO_TRACAO`, `REGIAO`, `_ID`\"\n",
    "    elif tabela == \"UNIFORMES_EPI_ROTA\":\n",
    "        colunas = \"`VIGENCIA`, `UNIDADE_CNPJ`, `UNIDADE_NOME`, `UNIDADE_SAP`, `UNIDADE_TMS`, `UNIDADE_PROMAX_UNB`, `UNIDADE_REGIONAL`, `OPERADOR_CNPJ`, `OPERADOR_NOME`, `OPERADOR_SAP`, `OPERADOR_TMS`, `OPERADOR_PROMAX`, `ORGANIZACAO_DE_COMPRAS`, `PRAZO_PAGAMENTO`, `CUSTO`, `CUSTO_MES`, `ICMS_REGIAO`, `ITEM_EPI`, `QUANTIDADE_ANO`, `TIPO_EQUIPE`, `_ID`\"\n",
    "    elif tabela == \"BENEFICIO_EQUIPE_ENTREGA_ROTA\":\n",
    "        colunas = \"`VIGENCIA`, `UNIDADE_CNPJ`, `UNIDADE_NOME`, `UNIDADE_SAP`, `UNIDADE_TMS`, `UNIDADE_PROMAX_UNB`, `UNIDADE_REGIONAL`, `OPERADOR_CNPJ`, `OPERADOR_NOME`, `OPERADOR_SAP`, `OPERADOR_TMS`, `OPERADOR_PROMAX`, `ORGANIZACAO_DE_COMPRAS`, `PRAZO_PAGAMENTO`, `BENEFICIO`, `CARGO`, `TOTAL_BENEFICIO`, `TURNO`, `PERMITIR_CALCULO_PROPORCIONAL`, `_ID`\"\n",
    "    elif tabela == \"BENEFICIOS_ADM_ROTA\":\n",
    "        colunas = \"`VIGENCIA`, `UNIDADE_CNPJ`, `UNIDADE_NOME`, `UNIDADE_SAP`, `UNIDADE_TMS`, `UNIDADE_PROMAX_UNB`, `UNIDADE_REGIONAL`, `OPERADOR_CNPJ`, `OPERADOR_NOME`, `OPERADOR_SAP`, `OPERADOR_TMS`, `OPERADOR_PROMAX`, `ORGANIZACAO_DE_COMPRAS`, `PRAZO_PAGAMENTO`, `CARGO_BENEFICIO`, `ITEM_BENEFICIO`, `PARTICIPACAO_DA_EMPRESA`, `QUANTIDADE`, `QUANTIDADE_DE_DIAS_UTEIS`, `RESSARCIMENTO_FUNCIONARIO`, `TOTAL`, `VALOR`, `_ID`\"\n",
    "    elif tabela == \"BENEFICIOS_NOTURNA_ROTA\":\n",
    "        colunas = \"`VIGENCIA`, `UNIDADE_CNPJ`, `UNIDADE_NOME`, `UNIDADE_SAP`, `UNIDADE_TMS`, `UNIDADE_PROMAX_UNB`, `UNIDADE_REGIONAL`, `OPERADOR_CNPJ`, `OPERADOR_NOME`, `OPERADOR_SAP`, `OPERADOR_TMS`, `OPERADOR_PROMAX`, `ORGANIZACAO_DE_COMPRAS`, `PRAZO_PAGAMENTO`, `BENEFICIO`, `CARGO`, `TOTAL_BENEFICIO`, `TURNO`, `_ID`\"\n",
    "    elif tabela == \"RESUMO_ROTA\":\n",
    "        colunas = \"`VIGENCIA`, `UNIDADE_CNPJ`, `UNIDADE_NOME`, `UNIDADE_SAP`, `UNIDADE_TMS`, `UNIDADE_PROMAX_UNB`, `UNIDADE_REGIONAL`, `OPERADOR_CNPJ`, `OPERADOR_NOME`, `OPERADOR_SAP`, `OPERADOR_TMS`, `OPERADOR_PROMAX`, `ORGANIZACAO_DE_COMPRAS`, `PRAZO_PAGAMENTO`, `ASSESSORIA_JURIDICA`, `BENEFICIOS`, `BENEFICIOS_AJUDANTE_POR_CAMINHAO`, `BENEFICIOS_MOTORISTA_POR_CAMINHAO`, `COMBUSTIVEL_R_KM`, `COMUNICACAO_FIXA`, `CONE`, `DEPRECIACAO_CAMINHAO`, `DEPRECIACAO_CAMINHAO_PARADO`, `DEPRECIACAO_CARROCERIA`, `DEPRECIACAO_CARROCERIA_PARADO`, `ENCARGOS_E_PROVISOES`, `FAD`, `FINAME_MODELO_NOVO`, `FINAME_MODELO_NOVO_PARADO`, `FAIXA_REFLEXIVA`, `FAIXA_REFLEXIVA_PARADO`, `FROTA_LEVE`, `IPVA_LICEN_MENSAL`, `IPVA_LICENC_MENSAL_PARADO`, `INCENTIVO`, `KM_REMUNERADO`, `LAVAGEM`, `LINK`, `LUCRO_FINAME_MODELO_ANTIGO`, `LUCRO_FINAME_PARADO`, `LUCRO_FIXO_MODELO_NOVO`, `LUCRO_FIXO_MODELO_NOVO_PARADO`, `LUCRO_VARIAVEL_MODELO_NOVO`, `MANUTENCAO_CAMINHAO_R_KM`, `MANUTENCAO_CARRINHOS_TROCA`, `MANUTENCAO_CARROCERIA_R_KM`, `MANUTENCAO_SISTEMAS`, `MATERIAL_ESCRITORIO`, `OUTROS`, `PPRA`, `PNEU_R_KM`, `QUANTIDADE_AJUDANTE_POR_CAMINHAO`, `QUANTIDADE_MOTORISTA_POR_CAMINHAO`, `RASTREADOR`, `RASTREADOR_PARADO`, `REMUNERACAO_K`, `REMUNERACAO_K_IMPOSTOS`, `REMUNERACAO_K_IMPOSTOS_PARADO`, `REMUNERACAO_K_PARADO`, `REMUNERACAO_UNIDADE`, `SALARIO`, `SALARIO_FIXO_AJUDANTE_POR_CAMINHAO`, `SALARIO_FIXO_MOTORISTA_POR_CAMINHAO`, `SEGURO`, `SEGURO_PARADO`, `TELEFONIA_MOVEL`, `TOTAL_CAMINHAO_ATIVO`, `TOTAL_CAMINHAO_PARADO`, `TOTAL_CUSTO`, `TOTAL_EQUIPE_ENTREGA`, `TOTAL_ESTIMADA`, `TOTAL_FROTA`, `TOTAL_FROTA_ATIVA`, `TOTAL_FROTA_PARADA`, `TOTAL_OPERACIONAL_PREVISTO`, `TOTAL_OUTRAS_DESPESAS`, `TOTAL_QLP_ADM`, `TOTAL_R_KM`, `TOTAL_VIAGENS`, `TOTAL_POR_CAMINHAO_EQUIPE_DE_ENTREGA`, `TOTAL_POR_CAMINHAO_ESTIMADA`, `TOTAL_POR_CAMINHAO_FROTA_ATIVA`, `TOTAL_POR_CAMINHAO_FROTA_PARADA`, `TOTAL_POR_CAMINHAO_OPERACIONAL_PREVISTO`, `TOTAL_POR_CAMINHAO_OUTRAS_DESPESAS`, `TOTAL_POR_CAMINHAO_QLP_ADM`, `TOTAL_POR_CAMINHAO_VIAGENS`, `UNIFORME_AJUDANTE_POR_CAMINHAO`, `UNIFORME_MOTORISTA_POR_CAMINHAO`, `UNIFORMES`, `HES_RV_DSR_PROV_AJUDANTE`, `HES_RV_DSR_PROV_MOTORISTA`, `TOTAL_CAMINHAO_ALUGUEL`, `TOTAL_CUSTO_FIXO_ALUGADO_POR_CAMINHAO`, `TOTAL_CUSTO_VARIAVEL_ALUGADO`, `TOTAL_LUCRO_ALUGUEL`, `_ID`\"\n",
    "    elif tabela == \"VAN_ROTA\":\n",
    "        colunas = \"`VIGENCIA`, `UNIDADE_CNPJ`, `UNIDADE_NOME`, `UNIDADE_SAP`, `UNIDADE_TMS`, `UNIDADE_PROMAX_UNB`, `UNIDADE_REGIONAL`, `OPERADOR_CNPJ`, `OPERADOR_NOME`, `OPERADOR_SAP`, `OPERADOR_TMS`, `OPERADOR_PROMAX`, `ORGANIZACAO_DE_COMPRAS`, `PRAZO_PAGAMENTO`, `CUSTO_ALUGUEL`, `AMORTIZACAO`, `ANO`, `ANO_BID`, `ANO_CARROCERIA`, `ANO_CAVALO`, `ANO_ICMS`, `ANO_PIS_COFINS`, `ANO_VEICULO`, `ATIVO`, `BM_CONSUMO`, `CAPACIDADE_CAIXA`, `CAPACIDADE_PALLETS`, `CAPACIDADE_PALLETS_SHARED`, `CARENCIA`, `CHASSI`, `CICLO`, `CICLO_CARROCERIA`, `CICLO_CAVALO`, `CONSUMO_KM_POR_LITRO`, `CONSUMO_REAIS_POR_KM`, `DATA_ALTERACAO_ODOMETRO`, `DATA_ENTRADA`, `DATA_FIM_CONTRATO`, `DATA_LIMITE_NEGOCIACAO`, `DEPRECIACAO_CARROCERIA`, `DEPRECIACAO_CAVALO`, `EIXO_DIANTEIRO`, `EIXO_TRASEIRO`, `FAIXA_REFLEXIVA`, `FATOR_CORRECAO_REGIAO`, `FINAME_MODELO_NOVO`, `FREE_MAINTENANCE`, `GANHO_KM_RODADO`, `ICMS_ANUAL`, `ICMS_CARROCERIA`, `ICMS_CAVALO`, `IMPLEMENTO`, `IMPLEMENTO_SHARED`, `IPVA_LICENCIAMENTO`, `IPVA_LICENCIAMENTO_CAVALO`, `JUROS`, `KM_MES_ELD`, `KM_MES_ROAD_SHOW`, `KM_ODOMETRO`, `KM_TOTAL`, `LAVAGEM`, `LAVAGEM_POR_KM`, `LOGO_PADRAO`, `LOGO_PADRAO_SHARED`, `LUCRO_FINAME`, `LUCRO_FINAME_VARIAVEL`, `LUCRO_FIXO`, `LUCRO_TOTAL_CUSTO_VARIAVEL`, `LUCRO_VARIAVEL`, `MANUTENCAO_ANO`, `MANUTENCAO_BID`, `MANUTENCAO_CARROCERIA_REAIS_POR_KM`, `MANUTENCAO_COMPRA_FORA_DO_BID_AUTORIZADA`, `MANUTENCAO_CONTRATO`, `MANUTENCAO_FREE_MAINTENANCE`, `MANUTENCAO_REAIS_KM`, `MANUTENCAO_REAIS_POR_KM`, `MANUTENCAO_VIDA_MESES`, `MATERIAL`, `MATERIAL_SHARED`, `MEDIDA`, `MEDIDA_PNEU_SHARED`, `MES_ENTRADA`, `MES_ENTRADA_CARROCERIA`, `MES_ENTRADA_CAVALO`, `MES_ENTRADA_NOVO_MODELO`, `MES_PARCELA`, `MODELO`, `MODELO_CAVALO`, `MODELO_SHARED`, `MONTADORA`, `MOTOR`, `MOTOR_SHARED`, `ODOMETRO_PREVISTO`, `PERCENTUAL_ENTRADA`, `PERCENTUAL_RESIDUAL_5_ANOS_CARROCERIA`, `PERCENTUAL_RESIDUAL_5_ANOS_CAVALO`, `PERCENTUAL_RESIDUAL_8_ANOS_CARROCERIA`, `PERCENTUAL_RESIDUAL_8_ANOS_CAVALO`, `PERDA_ANO_VEICULO`, `PERFIL`, `PERFIL_SHARED`, `PERIODO_CARROCERIA`, `PERIODO_CAVALO`, `PERIODO_FINAME`, `PIS_CONFINS_ANUAL`, `PLACA`, `PNEU_POR_KM`, `PRECO_CAMARA`, `PRECO_LISO`, `PRECO_MONTAGEM`, `PRECO_PROTETOR`, `PRECO_RECAPAGEM`, `PRECO_TRACAO`, `QUANTIDADE_PNEUS`, `QUANTIDADE_RECAPAGEM`, `RASTREADOR`, `REAIS_KM`, `REMUNERACAO_K`, `REMUNERACAO_K_IMPOSTOS`, `REMUNERACAO_MODELO`, `REMUNERACAO_MODELO_SHARED`, `SEGURO`, `SPREAD_BANCO`, `SPREAD_BNDES`, `STATUS_FINANCIAMENTO`, `STATUS_FINANCIAMENTO_CARROCERIA`, `STATUS_FINANCIAMENTO_CARROCERIA_SHARED`, `STATUS_FINANCIAMENTO_CAVALO`, `STATUS_FINANCIAMENTO_CAVALO_SHARED`, `STATUS_FINANCIAMENTO_SHARED`, `TAXA_CUSTO_FIXO_CARROCERIA`, `TAXA_CUSTO_FIXO_CAVALO`, `TAXA_FINAME`, `TELEMETRIA_OBRIGATORIA`, `TIPO`, `TIPO_COMBUSTIVEL`, `TIPO_COMBUSTIVEL_SHARED`, `TIPO_SHARED`, `TJLP`, `TOTAL_CUSTO_FIXO`, `TOTAL_CUSTO_VARIAVEL`, `VALOR_COMPRA_CARROCERIA`, `VALOR_COMPRA_CAVALO`, `VALOR_ICMS_CARROCERIA`, `VALOR_ICMS_CAVALO`, `VALOR_LIQUIDO_DEPRECIACAO_CARROCERIA`, `VALOR_LIQUIDO_DEPRECIACAO_CAVALO`, `VALOR_LIQUIDO_REM_K_CARROCERIA`, `VALOR_LIQUIDO_REM_K_CAVALO`, `VALOR_PIS_CONFINS_CARROCERIA`, `VALOR_PIS_CONFINS_CAVALO`, `VALOR_PNEUS`, `VIDA_PNEUS_KM`, `_ID`\"\n",
    "    elif tabela == \"RESUMO_VAN_ROTA\":\n",
    "        colunas = \"`VIGENCIA`, `UNIDADE_CNPJ`, `UNIDADE_NOME`, `UNIDADE_SAP`, `UNIDADE_TMS`, `UNIDADE_PROMAX_UNB`, `UNIDADE_REGIONAL`, `OPERADOR_CNPJ`, `OPERADOR_NOME`, `OPERADOR_SAP`, `OPERADOR_TMS`, `OPERADOR_PROMAX`, `ORGANIZACAO_DE_COMPRAS`, `PRAZO_PAGAMENTO`, `ASSESSORIA_JURIDICA`, `BENEFICIOS`, `BENEFICIOS_AJUDANTE_POR_CAMINHAO`, `BENEFICIOS_MOTORISTA_POR_CAMINHAO`, `COMBUSTIVEL_R_KM`, `COMUNICACAO_FIXA`, `CONE`, `DEPRECIACAO_CAMINHAO`, `DEPRECIACAO_CAMINHAO_PARADO`, `DEPRECIACAO_CARROCERIA`, `DEPRECIACAO_CARROCERIA_PARADO`, `ENCARGOS_E_PROVISOES`, `FAD`, `FAIXA_REFLETIVA_PARADO`, `FAIXA_REFLEXIVA`, `FINAME_MODELO_NOVO`, `FINAME_MODELO_NOVO_PARADO`, `FROTA_LEVE`, `HES_RV_DSR_PROV_AJUDANTE`, `HES_RV_DSR_PROV_MOTORISTA`, `INCENTIVO`, `IPVA_LICEN_MENSAL`, `IPVA_LICENC_MENSAL_PARADO`, `KM_REMUNERADO`, `LAVAGEM`, `LINK`, `LUCRO_FINAME_MODELO_ANTIGO`, `LUCRO_FINAME_PARADO`, `LUCRO_FIXO_MODELO_NOVO`, `LUCRO_FIXO_MODELO_NOVO_PARADO`, `LUCRO_VARIAVEL_MODELO_NOVO`, `MANUTENCAO_CAMINHAO_R_KM`, `MANUTENCAO_CARRINHOS_TROCA`, `MANUTENCAO_CARROCERIA_R_KM`, `MANUTENCAO_SISTEMAS`, `MATERIAL_ESCRITORIO`, `OUTROS`, `PNEU_R_KM`, `PPRA`, `QUANTIDADE_AJUDANTE_POR_CAMINHAO`, `QUANTIDADE_MOTORISTA_POR_CAMINHAO`, `RASTREADOR`, `RASTREADOR_PARADO`, `REMUNERACAO_K`, `REMUNERACAO_K_IMPOSTOS`, `REMUNERACAO_K_IMPOSTOS_PARADO`, `REMUNERACAO_K_PARADO`, `REMUNERACAO_UNIDADE`, `SALARIO`, `SALARIO_FIXO_AJUDANTE_POR_CAMINHAO`, `SALARIO_FIXO_MOTORISTA_POR_CAMINHAO`, `SEGURO`, `SEGURO_PARADO`, `TELEFONIA_MOVEL`, `TOTAL_CAMINHAO_ATIVO`, `TOTAL_CAMINHAO_PARADO`, `TOTAL_CUSTO`, `TOTAL_EQUIPE_ENTREGA`, `TOTAL_ESTIMADA`, `TOTAL_FROTA`, `TOTAL_FROTA_ATIVA`, `TOTAL_FROTA_PARADA`, `TOTAL_OPERACIONAL_PREVISTO`, `TOTAL_OUTRAS_DESPESAS`, `TOTAL_POR_CAMINHAO_EQUIPE_DE_ENTREGA`, `TOTAL_POR_CAMINHAO_ESTIMADA`, `TOTAL_POR_CAMINHAO_FROTA_ATIVA`, `TOTAL_POR_CAMINHAO_FROTA_PARADA`, `TOTAL_POR_CAMINHAO_OPERACIONAL_PREVISTO`, `TOTAL_POR_CAMINHAO_OUTRAS_DESPESAS`, `TOTAL_POR_CAMINHAO_QLP_ADM`, `TOTAL_POR_CAMINHAO_VIAGENS`, `TOTAL_QLP_ADM`, `TOTAL_R_KM`, `TOTAL_VIAGENS`, `UNIFORME_AJUDANTE_POR_CAMINHAO`, `UNIFORME_MOTORISTA_POR_CAMINHAO`, `UNIFORMES`, `_ID`\"\n",
    "    elif tabela == \"ENCARGOS_COM_FERIAS_ROTA\":\n",
    "        colunas = \"`VIGENCIA`, `UNIDADE_CNPJ`, `UNIDADE_NOME`, `UNIDADE_SAP`, `UNIDADE_TMS`, `UNIDADE_PROMAX_UNB`, `UNIDADE_REGIONAL`, `OPERADOR_CNPJ`, `OPERADOR_NOME`, `OPERADOR_SAP`, `OPERADOR_TMS`, `OPERADOR_PROMAX`, `ORGANIZACAO_DE_COMPRAS`, `PRAZO_PAGAMENTO`, `AUSENCIA_LEGAL`, `AUSENCIA_LEGAL_RPS_A`, `AUSENCIA_LEGAL_RPS_B`, `AUSENCIA_LEGAL_RPS_C`, `AVISO_PREVIO`, `AVISO_PREVIO_RPS_A`, `AVISO_PREVIO_RPS_B`, `AVISO_PREVIO_RPS_C`, `DIFERENCA_PROVISAO_FERIAS`, `DIFERENCA_PROVISAO_FERIAS_RPS_A`, `DIFERENCA_PROVISAO_FERIAS_RPS_B`, `DIFERENCA_PROVISAO_FERIAS_RPS_C`, `DECIMO_TERCEIRO_SALARIO`, `DECIMO_TERCEIRO_SALARIO_RPS_A`, `DECIMO_TERCEIRO_SALARIO_RPS_B`, `DECIMO_TERCEIRO_SALARIO_RPS_C`, `FGTS`, `FERIAS_1_3`, `FERIAS_1_3_RPS_A`, `FERIAS_1_3_RPS_B`, `FERIAS_1_3_RPS_C`, `FERIAS_NORMAIS`, `FERIAS_NORMAIS_RPS_A`, `FERIAS_NORMAIS_RPS_B`, `FERIAS_NORMAIS_RPS_C`, `FERIAS_PROPORCIONAIS_INDENIZADAS`, `FERIAS_PROPORCIONAIS_INDENIZADAS_RPS_A`, `FERIAS_PROPORCIONAIS_INDENIZADAS_RPS_B`, `FERIAS_PROPORCIONAIS_INDENIZADAS_RPS_C`, `INCRA`, `INSS`, `INCIDENCIA_CUMULATIVA`, `MULTA_FGTS`, `SEBRAE`, `SENAT`, `SEST`, `SALARIO_EDUCACAO`, `SEGURO_ACIDENTE_DE_TRABALHO`, `TOTAL`, `TOTAL_ENCARGOS`, `TOTAL_PROVISOES`, `TOTAL_RPS_A`, `TOTAL_RPS_B`, `TOTAL_RPS_C`, `AVISO_PREVIO_FORMULA`, `DIAS_DE_AVISO`, `FERIAS_PROPORCIONAIS_INDENIZADAS_FORMULA`, `INCIDENCIA_UM_TERCO_FERIAS_SOBRE_AVISO`, `INCIDENCIA_UM_TERCO_FERIAS_SOBRE_AVISO_RPS_A`, `INCIDENCIA_UM_TERCO_FERIAS_SOBRE_AVISO_RPS_B`, `INCIDENCIA_UM_TERCO_FERIAS_SOBRE_AVISO_RPS_C`, `INVOLUNTARIO`, `MES_DISSIDIO`, `TEMPO_MEDIO_CASA`, `TURN_OVER`, `VOLUNTARIO`, `_ID`\"\n",
    "    elif tabela == \"ENCARGOS_SEM_FERIAS_ROTA\":\n",
    "        colunas = \"`VIGENCIA`, `UNIDADE_CNJP`, `UNIDADE_NOME`, `UNIDADE_SAP`, `UNIDADE_TMS`, `UNIDADE_PROMAX_UNB`, `UNIDADE_REGIONAL`, `OPERADOR_CNJP`, `OPERADOR_NOME`, `OPERADOR_SAP`, `OPERADOR_TMS`, `OPERADOR_PROMAX`, `ORGANIZACAO_DE_COMPRAS`, `PRAZO_PAGAMENTO`, `AUSENCIA_LEGAL`, `AUSENCIA_LEGAL_RPS_A`, `AUSENCIA_LEGAL_RPS_B`, `AUSENCIA_LEGAL_RPS_C`, `AVISO_PREVIOUS`, `AVISO_PREVIOUS_RPS_A`, `AVISO_PREVIOUS_RPS_B`, `AVISO_PREVIOUS_RPS_C`, `DIFERENCA_PROVISAO_FERIAS`, `DIFERENCA_PROVISAO_FERIAS_RPS_A`, `DIFERENCA_PROVISAO_FERIAS_RPS_B`, `DIFERENCA_PROVISAO_FERIAS_RPS_C`, `DECIMO_TERCEIRO_SALARIO`, `DECIMO_TERCEIRO_SALARIO_RPS_A`, `DECIMO_TERCEIRO_SALARIO_RPS_B`, `DECIMO_TERCEIRO_SALARIO_RPS_C`, `FGTS`, `FERIAS_1_3`, `FERIAS_1_3_RPS_A`, `FERIAS_1_3_RPS_B`, `FERIAS_1_3_RPS_C`, `FERIAS_NORMAIS`, `FERIAS_NORMAIS_RPS_A`, `FERIAS_NORMAIS_RPS_B`, `FERIAS_NORMAIS_RPS_C`, `FERIAS_PROPORCIONAIS_INDENIZADAS`, `FERIAS_PROPORCIONAIS_INDENIZADAS_RPS_A`, `FERIAS_PROPORCIONAIS_INDENIZADAS_RPS_B`, `FERIAS_PROPORCIONAIS_INDENIZADAS_RPS_C`, `INCRA`, `INSS`, `INCIDENCIA_CUMULATIVA`, `MULTA_FGTS`, `SEBRAE`, `SENAT`, `SEST`, `SALARIO_EDUCACAO`, `SEGURO_ACIDENTE_DE_TRABALHO`, `TOTAL`, `TOTAL_ENCARGOS`, `TOTAL_PROVISOES`, `TOTAL_RPS_A`, `TOTAL_RPS_B`, `TOTAL_RPS_C`, `AVISOPREVIOFORMULA`, `DIASDEAVISO`, `FERIASPROPORCIONAISINDENIZADASFORMULA`, `INCIDENCIAUMTERCOFERIASOBREAVISO`, `INCIDENCIAUMTERCOFERIASOBREAVISORPSA`, `INCIDENCIAUMTERCOFERIASOBREAVISORPSB`, `INCIDENCIAUMTERCOFERIASOBREAVISORPSC`, `INVOLUNTARIO`, `MESDISSIDIO`, `TEMPO_MEDIO_CASA`, `TURNOVER`, `VOLUNTARIO`, `_ID`\"\n",
    "\n",
    "\n",
    "\n",
    "    return colunas\n",
    "    \n",
    "def conectar_banco(host_name, user_name, user_password, database):\n",
    "    try:\n",
    "        connection = mysql.connector.connect(\n",
    "            host=host_name,\n",
    "            user=user_name,\n",
    "            password=user_password,\n",
    "            database=database\n",
    "        )\n",
    "        # print(\"Con+exão ao banco de dados MySQL realizada com sucesso\")\n",
    "    except mysql.connector.Error as err:\n",
    "        print(f\"Erro ao conectar ao banco de dados: '{err}'\")\n",
    "    return connection\n",
    "\n",
    "def encontrar_arquivo_mais_recente(diretorio, prefixo):\n",
    "    arquivos = [f for f in os.listdir(diretorio) if f.startswith(prefixo) and f.endswith('.xlsx')]\n",
    "    if not arquivos:\n",
    "        return None\n",
    "    return max(arquivos, key=lambda f: os.path.getmtime(os.path.join(diretorio, f)))\n",
    "\n",
    "diretorio =  r'C:\\\\Freightech\\\\load\\\\ROTA'\n",
    "prefixo = 'ROTA'\n",
    "\n",
    "\n",
    "nome_arquivo_mais_recente = encontrar_arquivo_mais_recente(diretorio, prefixo)\n",
    "\n",
    "if nome_arquivo_mais_recente:\n",
    "    nome_arquivo = os.path.join(diretorio, nome_arquivo_mais_recente)\n",
    "    print(f\"Arquivo mais recente encontrado: {nome_arquivo}\")\n",
    "    \n",
    "    arquivo_excel = pd.ExcelFile(nome_arquivo)\n",
    "    nomes_abas = arquivo_excel.sheet_names\n",
    "\n",
    "    for nome_aba in nomes_abas:\n",
    "        item = []\n",
    "        arquivo = pd.read_excel(nome_arquivo, sheet_name=nome_aba)\n",
    "        tabelaInsert, colunasInsert = nome_tabela(nome_arquivo, nome_aba)\n",
    "        print('aba:' + nome_aba + ' tabela:' + tabelaInsert )\n",
    "        colunas = arquivo.columns.tolist()\n",
    "        todosValores = \"\"\n",
    "        for index, linha in arquivo.iterrows():\n",
    "            if index == 0:  # se for a primeira linha\n",
    "                tabela = 'Rota'\n",
    "                indices = [coluna.strip() for coluna in colunas if coluna.strip()]\n",
    "                indices = ','.join(['\"'+indice+'\"' for indice in indices])\n",
    "            else:\n",
    "                valores = linha.tolist()\n",
    "                valores_string = ','.join(['\"'+str(valor).rstrip('\\'\"')+'\"' for valor in valores])\n",
    "                valores_string = \"(\" + valores_string + \"),\"\n",
    "                todosValores += valores_string\n",
    "\n",
    "        todosValores = todosValores.rstrip(',')\n",
    "        sql = f\"INSERT IGNORE INTO {tabelaInsert}({colunasInsert}) VALUES {todosValores}\"\n",
    "\n",
    "        conexao = conectar_banco(host_name, user_name, user_password, database)\n",
    "        cursor = conexao.cursor()\n",
    "        try:\n",
    "            cursor.execute(sql)\n",
    "            conexao.commit()\n",
    "            print(f\"Query executada com sucesso na tabela {tabelaInsert}.\")\n",
    "            tabelaInsert = \"\"\n",
    "            colunasInsert = \"\"\n",
    "        except Exception as e:\n",
    "            conexao.rollback()\n",
    "            print(f\"Erro ao executar a query: {e}\")\n",
    "            print(sql)\n",
    "            tabelaInsert = \"\"\n",
    "            colunasInsert = \"\"\n",
    "        finally:\n",
    "            cursor.close()\n",
    "            conexao.close()\n",
    "else:\n",
    "    print(\"Nenhum arquivo encontrado com o prefixo especificado.\")\n"
   ]
  },
  {
   "cell_type": "code",
   "execution_count": 1,
   "metadata": {},
   "outputs": [
    {
     "name": "stdout",
     "output_type": "stream",
     "text": [
      "C:\\Users\\ADMIN.JOAO\\AppData\\Local\\Microsoft\\WindowsApps\\PythonSoftwareFoundation.Python.3.12_qbz5n2kfra8p0\\python.exe\n"
     ]
    }
   ],
   "source": [
    "import sys\n",
    "print(sys.executable)"
   ]
  }
 ],
 "metadata": {
  "kernelspec": {
   "display_name": "Python 3",
   "language": "python",
   "name": "python3"
  },
  "language_info": {
   "codemirror_mode": {
    "name": "ipython",
    "version": 3
   },
   "file_extension": ".py",
   "mimetype": "text/x-python",
   "name": "python",
   "nbconvert_exporter": "python",
   "pygments_lexer": "ipython3",
   "version": "3.12.8"
  }
 },
 "nbformat": 4,
 "nbformat_minor": 2
}
