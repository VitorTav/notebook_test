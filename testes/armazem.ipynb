{
 "cells": [
  {
   "cell_type": "code",
   "execution_count": 1,
   "metadata": {},
   "outputs": [
    {
     "name": "stdout",
     "output_type": "stream",
     "text": [
      "Arquivo mais recente encontrado: C:\\\\Freightech\\\\load\\\\ARMAZEM\\ARMAZÉM_2025-02-04_14-31-48.xlsx\n"
     ]
    },
    {
     "name": "stderr",
     "output_type": "stream",
     "text": [
      "C:\\Users\\ADMIN.JOAO\\AppData\\Local\\Packages\\PythonSoftwareFoundation.Python.3.12_qbz5n2kfra8p0\\LocalCache\\local-packages\\Python312\\site-packages\\openpyxl\\styles\\stylesheet.py:237: UserWarning: Workbook contains no default style, apply openpyxl's default\n",
      "  warn(\"Workbook contains no default style, apply openpyxl's default\")\n"
     ]
    },
    {
     "name": "stdout",
     "output_type": "stream",
     "text": [
      "Conexão ao banco de dados MySQL realizada com sucesso\n",
      "Query executada com sucesso na tabela EMPILHADEIRA.\n"
     ]
    },
    {
     "name": "stderr",
     "output_type": "stream",
     "text": [
      "C:\\Users\\ADMIN.JOAO\\AppData\\Local\\Packages\\PythonSoftwareFoundation.Python.3.12_qbz5n2kfra8p0\\LocalCache\\local-packages\\Python312\\site-packages\\openpyxl\\styles\\stylesheet.py:237: UserWarning: Workbook contains no default style, apply openpyxl's default\n",
      "  warn(\"Workbook contains no default style, apply openpyxl's default\")\n"
     ]
    },
    {
     "name": "stdout",
     "output_type": "stream",
     "text": [
      "Conexão ao banco de dados MySQL realizada com sucesso\n",
      "Query executada com sucesso na tabela EQUIPE MOD.\n"
     ]
    },
    {
     "name": "stderr",
     "output_type": "stream",
     "text": [
      "C:\\Users\\ADMIN.JOAO\\AppData\\Local\\Packages\\PythonSoftwareFoundation.Python.3.12_qbz5n2kfra8p0\\LocalCache\\local-packages\\Python312\\site-packages\\openpyxl\\styles\\stylesheet.py:237: UserWarning: Workbook contains no default style, apply openpyxl's default\n",
      "  warn(\"Workbook contains no default style, apply openpyxl's default\")\n"
     ]
    },
    {
     "name": "stdout",
     "output_type": "stream",
     "text": [
      "Conexão ao banco de dados MySQL realizada com sucesso\n",
      "Query executada com sucesso na tabela EQUIPE EMP.\n"
     ]
    },
    {
     "name": "stderr",
     "output_type": "stream",
     "text": [
      "C:\\Users\\ADMIN.JOAO\\AppData\\Local\\Packages\\PythonSoftwareFoundation.Python.3.12_qbz5n2kfra8p0\\LocalCache\\local-packages\\Python312\\site-packages\\openpyxl\\styles\\stylesheet.py:237: UserWarning: Workbook contains no default style, apply openpyxl's default\n",
      "  warn(\"Workbook contains no default style, apply openpyxl's default\")\n"
     ]
    },
    {
     "name": "stdout",
     "output_type": "stream",
     "text": [
      "Conexão ao banco de dados MySQL realizada com sucesso\n",
      "Query executada com sucesso na tabela BENEFÍCIOS EQUIPE.\n"
     ]
    },
    {
     "name": "stderr",
     "output_type": "stream",
     "text": [
      "C:\\Users\\ADMIN.JOAO\\AppData\\Local\\Packages\\PythonSoftwareFoundation.Python.3.12_qbz5n2kfra8p0\\LocalCache\\local-packages\\Python312\\site-packages\\openpyxl\\styles\\stylesheet.py:237: UserWarning: Workbook contains no default style, apply openpyxl's default\n",
      "  warn(\"Workbook contains no default style, apply openpyxl's default\")\n"
     ]
    },
    {
     "name": "stdout",
     "output_type": "stream",
     "text": [
      "Conexão ao banco de dados MySQL realizada com sucesso\n",
      "Query executada com sucesso na tabela QLP ADM.\n"
     ]
    },
    {
     "name": "stderr",
     "output_type": "stream",
     "text": [
      "C:\\Users\\ADMIN.JOAO\\AppData\\Local\\Packages\\PythonSoftwareFoundation.Python.3.12_qbz5n2kfra8p0\\LocalCache\\local-packages\\Python312\\site-packages\\openpyxl\\styles\\stylesheet.py:237: UserWarning: Workbook contains no default style, apply openpyxl's default\n",
      "  warn(\"Workbook contains no default style, apply openpyxl's default\")\n",
      "C:\\Users\\ADMIN.JOAO\\AppData\\Local\\Packages\\PythonSoftwareFoundation.Python.3.12_qbz5n2kfra8p0\\LocalCache\\local-packages\\Python312\\site-packages\\openpyxl\\styles\\stylesheet.py:237: UserWarning: Workbook contains no default style, apply openpyxl's default\n",
      "  warn(\"Workbook contains no default style, apply openpyxl's default\")\n"
     ]
    },
    {
     "name": "stdout",
     "output_type": "stream",
     "text": [
      "Conexão ao banco de dados MySQL realizada com sucesso\n",
      "Query executada com sucesso na tabela FATURAMENTO.\n",
      "Conexão ao banco de dados MySQL realizada com sucesso\n",
      "Query executada com sucesso na tabela DESPESAS FIXAS.\n"
     ]
    },
    {
     "name": "stderr",
     "output_type": "stream",
     "text": [
      "C:\\Users\\ADMIN.JOAO\\AppData\\Local\\Packages\\PythonSoftwareFoundation.Python.3.12_qbz5n2kfra8p0\\LocalCache\\local-packages\\Python312\\site-packages\\openpyxl\\styles\\stylesheet.py:237: UserWarning: Workbook contains no default style, apply openpyxl's default\n",
      "  warn(\"Workbook contains no default style, apply openpyxl's default\")\n"
     ]
    },
    {
     "name": "stdout",
     "output_type": "stream",
     "text": [
      "Conexão ao banco de dados MySQL realizada com sucesso\n",
      "Query executada com sucesso na tabela DESPESAS OPERACIONAIS.\n",
      "Conexão ao banco de dados MySQL realizada com sucesso\n",
      "Query executada com sucesso na tabela MÁQUINA.\n"
     ]
    },
    {
     "name": "stderr",
     "output_type": "stream",
     "text": [
      "C:\\Users\\ADMIN.JOAO\\AppData\\Local\\Packages\\PythonSoftwareFoundation.Python.3.12_qbz5n2kfra8p0\\LocalCache\\local-packages\\Python312\\site-packages\\openpyxl\\styles\\stylesheet.py:237: UserWarning: Workbook contains no default style, apply openpyxl's default\n",
      "  warn(\"Workbook contains no default style, apply openpyxl's default\")\n",
      "C:\\Users\\ADMIN.JOAO\\AppData\\Local\\Packages\\PythonSoftwareFoundation.Python.3.12_qbz5n2kfra8p0\\LocalCache\\local-packages\\Python312\\site-packages\\openpyxl\\styles\\stylesheet.py:237: UserWarning: Workbook contains no default style, apply openpyxl's default\n",
      "  warn(\"Workbook contains no default style, apply openpyxl's default\")\n"
     ]
    },
    {
     "name": "stdout",
     "output_type": "stream",
     "text": [
      "Conexão ao banco de dados MySQL realizada com sucesso\n",
      "Query executada com sucesso na tabela PALETEIRAS.\n"
     ]
    },
    {
     "name": "stderr",
     "output_type": "stream",
     "text": [
      "C:\\Users\\ADMIN.JOAO\\AppData\\Local\\Packages\\PythonSoftwareFoundation.Python.3.12_qbz5n2kfra8p0\\LocalCache\\local-packages\\Python312\\site-packages\\openpyxl\\styles\\stylesheet.py:237: UserWarning: Workbook contains no default style, apply openpyxl's default\n",
      "  warn(\"Workbook contains no default style, apply openpyxl's default\")\n"
     ]
    },
    {
     "name": "stdout",
     "output_type": "stream",
     "text": [
      "Conexão ao banco de dados MySQL realizada com sucesso\n",
      "Query executada com sucesso na tabela UNIFORMS E EPI.\n"
     ]
    }
   ],
   "source": [
    "import pandas as pd\n",
    "import mysql.connector\n",
    "import mysql\n",
    "import os\n",
    "from datetime import datetime\n",
    "\n",
    "host_name = \"172.16.0.28\" \n",
    "user_name = \"joaotavares\" \n",
    "user_password = \"@joaotavares\"\n",
    "database='dbfreightech'\n",
    "\n",
    "def nome_tabela(nome_arquivo, aba):\n",
    "    tabela = None  # Initialize tabela to avoid UnboundLocalError \n",
    "    if \"ARMAZEM\" in nome_arquivo:\n",
    "        if \"EMPILHADEIRA\" in aba:\n",
    "            tabela = 'EMPILHADEIRA_ARMAZEM'\n",
    "        elif \"EQUIPE MOD\" in aba:    \n",
    "            tabela = \"EQUIPE_MOD_ARMAZEM\"\n",
    "        elif \"EQUIPE EMP\" in aba: \n",
    "            tabela = \"EQUIPE_EMP_ARMAZEM\"\n",
    "        elif \"BENEFÍCIOS EQUIPE\" in aba:\n",
    "            tabela = \"BENEFICIO_EQUIPE_ARMAZEM\"\n",
    "        elif \"QLP ADM\" in aba:\n",
    "            tabela = \"QLP_ADM_ARMAZEM\"    \n",
    "        elif \"FATURAMENTO\" in aba:\n",
    "            tabela = \"FATURAMENTO_ARMAZEM\"\n",
    "        elif \"DESPESAS FIXAS\" in aba:\n",
    "            tabela = \"DESPESAS_FIXAS_ARMAZEM\"\n",
    "        elif \"DESPESAS OPERACIONAIS\" in aba:\n",
    "            tabela = \"DESPESAS_OPERACIONAIS_ARMAZEM\"\n",
    "        elif \"MÁQUINA\" in aba:\n",
    "            tabela = \"MAQUINA_ARMAZEM\"\n",
    "        elif \"PALETEIRAS\" in aba:\n",
    "            tabela = \"PALETEIRAS_ARMAZEM\"    \n",
    "        elif \"UNIFORMS E EPI\" in aba:\n",
    "            tabela = \"UNIFORMES_EPI_ARMAZEM\"    \n",
    "        else :\n",
    "            tabela = aba\n",
    "    \n",
    "    return tabela\n",
    "\n",
    "\n",
    "def colunas_tabela(tabela):\n",
    "    colunas = \"\"  # Initialize colunas to avoid UnboundLocalError \n",
    "    if tabela == \"EMPILHADEIRA_ARMAZEM\":\n",
    "        colunas = \"`VIGENCIA`, `UNIDADE_CNJP`, `UNIDADE_NOME`, `UNIDADE_SAP`, `UNIDADE_TMS`, `UNIDADE_PROMAX_UNB`, `UNIDADE_REGIONAL`, `OPERADOR_CNPJ`, `OPERADOR_NOME`, `OPERADOR_SAP`, `OPERADOR_TMS`, `OPERADOR_PROMAX`, `ORGANIZACAO_DE_COMPRAS`, `PRAZO_PAGAMENTO`, `ANOEMPILHADEIRA`, `ATIVOPARADO`, `CARENCIAFINAME`, `CHASSI`, `CICLO`, `CUSTOALUGUELLEASING`, `CUSTOFIXOCUSTOFIXO`, `CUSTOFIXOEMPILHADEIRACDC`, `CUSTOFIXOEMPILHADEIRAFINAME`, `CUSTOFIXOEMPILHADEIRAFINANCIAMENTO`, `CUSTOFIXOEMPILHADEIRALUCROFIXO`, `CUSTOFIXOFINANCIAMENTO`, `CUSTOFIXOICMSEM48X`, `CUSTOFIXOIMPLEMENTOCDC`, `CUSTOFIXOIMPLEMENTOFINAME`, `CUSTOFIXOIMPLEMENTOFINANCIAMENTO`, `CUSTOFIXOIMPLEMENTOLUCROFIXO`, `CUSTOFIXOIMPLEMENTOPERCENTUALTAXA`, `CUSTOFIXOIMPLEMENTOPERIODO`, `CUSTOFIXOIMPLEMENTOVALORICMS`, `CUSTOFIXOIMPLEMENTOVALORPISCOFINS`, `CUSTOFIXOLUCROFIXO`, `CUSTOFIXOLUCROVARIÁVELEMPILHADEIRA`, `CUSTOFIXOLUCROVARIÁVELIMPLEMENTO`, `CUSTOFIXOLUCROVARIÁVELPREVISTO`, `CUSTOFIXOPERCENTUALTAXA`, `CUSTOFIXOPERIODO`, `CUSTOFIXOPISCOFINSEM12X`, `CUSTOFIXOVALORICMS`, `CUSTOFIXOVALORPISCOFINS`, `CUSTOLEASINGINFRAESTRUTURA`, `CUSTOVARIÁVELMANUTENÇÃOEMPILHADEIRA`, `CUSTOVARIÁVELMANUTENÇÃOIMPLEMENTO`, `CUSTOVARIÁVELPNEUS`, `CUSTOVARIÁVELTOTAL`, `DATAFIMCONTRATO`, `DESCRICAO`, `DESCRICAOEMPILHADEIRA`, `DESCRICAORESUMOAPOIO`, `EQUIPAMENTO`, `GARFOINTELIGENTE`, `HORIMETROMEDIO`, `IMPLEMENTO`, `IMPLEMENTOANOIMPLEMENTO`, `IMPLEMENTOCARENCIA`, `IMPLEMENTOCICLO`, `IMPLEMENTOMESANOENTRADA`, `IMPLEMENTOPERCENTUALENTRADA`, `IMPLEMENTOPERCENTUALICMS`, `IMPLEMENTOPERIODOFINANCIAMENTO`, `IMPLEMENTOSPREADBASICOANO`, `IMPLEMENTOSPREADDERISCOANO`, `IMPLEMENTOTAXACDCMES`, `IMPLEMENTOTAXAFINAMEANO`, `IMPLEMENTOTIPOFINANCIAMENTO`, `IMPLEMENTOTIPOFINANCIAMENTOSHARED`, `IMPLEMENTOTJLPANO`, `IMPLEMENTOVALORIMPLEMENTO`, `MESANOENTRADA`, `MODELOAPOIO`, `PERCENTUALENTRADA`, `PERCENTUALICMS`, `PERIODOFINANCIAMENTO`, `SPREADBASICOANO`, `SPREADDERISCOANO`, `TAXACDCMES`, `TAXAFINAMEANO`, `TELEMETRIAOBRIGATORIA`, `TIPOFINANCIAMENTO`, `TIPOFINANCIAMENTOSHARED`, `TJLPANO`, `TRIPLEX`, `VALORCOMPRANF`, `_ID`\"\n",
    "    elif tabela == \"EQUIPE_MOD_ARMAZEM\":\n",
    "        colunas = \"`VIGENCIA`, `UNIDADE_CNJP`, `UNIDADE_NOME`, `UNIDADE_SAP`, `UNIDADE_TMS`, `UNIDADE_PROMAX_UNB`, `UNIDADE_REGIONAL`, `OPERADOR_CNPJ`, `OPERADOR_NOME`, `OPERADOR_SAP`, `OPERADOR_TMS`, `OPERADOR_PROMAX`, `ORGANIZACAO_DE_COMPRAS`, `PRAZO_PAGAMENTO`, `EQUIPE_PART_TIME`, `QUANTIDADE_HORAS_DE_TRABALHO_POR_MES_PART_TIME`, `ADICIONALNOTURNO`, `BENEFICIOFIXOS`, `BENEFICIOVARIAVEIS`, `DSR`, `DURACAOABONO`, `EQUIPECARGOAPOIO`, `EQUIPETURNOAPOIO`, `ORDENADOTOTAL`, `PERCENTABSENTEISMO`, `PERCENTTURNOVER`, `PERCENTUALENTRADA`, `PERICULOSIDADE`, `PISOSALARIAL`, `PREMIACAOHORASEXTRAS`, `PREMIACAOPPLUS`, `PREMIACAOPPLUS_ENCARGOPROVISAO`, `QUANTIDADEATIVO`, `QUANTIDEHORASADICIONALNOTURNO`, `QUANTIDEHORASEXTRASFIXAS`, `REMUNERACAO`, `REMUNERACAOCONTRACHEQUE`, `RESSARVALETRANSPORTE`, `TOTALBENEFICIO`, `TOTALREMUNERACAO`, `TOTALREMUNERACAOBENEFICIO`, `VALORABONO`, `VALORABONOAPLICADO`, `VALORLIQUIDOBENEFICIO`, `VALORVALESTRANSPORTE`, `_ID`\"\n",
    "    elif tabela == \"EQUIPE_EMP_ARMAZEM\":\n",
    "        colunas = \"`VIGENCIA`, `UNIDADE_CNJP`, `UNIDADE_NOME`, `UNIDADE_SAP`, `UNIDADE_TMS`, `UNIDADE_PROMAX_UNB`, `UNIDADE_REGIONAL`, `OPERADOR_CNPJ`, `OPERADOR_NOME`, `OPERADOR_SAP`, `OPERADOR_TMS`, `OPERADOR_PROMAX`, `ORGANIZACAO_DE_COMPRAS`, `PRAZO_PAGAMENTO`, `EQUIPE_PART_TIME`, `QUANTIDADE_HORAS_DE_TRABALHO_POR_MES_PART_TIME`, `ADICIONALNOTURNO`, `BENEFICIOFIXOS`, `BENEFICIOVARIAVEIS`, `DSR`, `DURACAOABONO`, `EQUIPECARGOAPOIO`, `EQUIPEESPECIALIDADE`, `EQUIPETURNOAPOIO`, `ORDENADOTOTAL`, `PERCENTABSENTEISMO`, `PERCENTTURNOVER`, `PERCENTUALENTRADA`, `PERICULOSIDADE`, `PISOSALARIAL`, `PREMIACAOHORASEXTRAS`, `PREMIACAOPPLUS`, `PREMIACAOPPLUS_ENCARGOPROVISAO`, `QUANTIDADEATIVO`, `QUANTIDADE_ATIVO_EMP`, `QUANTIDADETOTAL`, `QUANTIDEHORASADICIONALNOTURNO`, `QUANTIDEHORASEXTRASFIXAS`, `REMUNERACAO`, `REMUNERACAOCONTRACHEQUE`, `RESSARVALETRANSPORTE`, `TOTALBENEFICIO`, `TOTALREMUNERACAO`, `TOTALREMUNERACAOBENEFICIO`, `VALORABONO`, `VALORABONOAPLICADO`, `VALORLIQUIDOBENEFICIO`, `VALORVALESTRANSPORTE`, `_ID`\"\n",
    "    elif tabela == \"BENEFICIO_EQUIPE_ARMAZEM\":\n",
    "        colunas = \"`VIGENCIA`, `UNIDADE_CNJP`, `UNIDADE_NOME`, `UNIDADE_SAP`, `UNIDADE_TMS`, `UNIDADE_PROMAX_UNB`, `UNIDADE_REGIONAL`, `OPERADOR_CNPJ`, `OPERADOR_NOME`, `OPERADOR_SAP`, `OPERADOR_TMS`, `OPERADOR_PROMAX`, `ORGANIZACAO_DE_COMPRAS`, `PRAZO_PAGAMENTO`,`CARGOBENEFICIOAPOIO`, `ITEMBENEFICIO`, `PARTICIPACAOEMPRESA`, `PERMITIRCALCULOPROPORCIONAL`, `QUANTIDADE`, `QUANTIDADEDIASUTEIS`, `RESSARCIMENTOFUNCIONARIO`, `TOTAL`, `VALOR`, `_ID`\"\n",
    "    elif tabela == \"QLP_ADM_ARMAZEM\":\n",
    "        colunas = \"`VIGENCIA`, `UNIDADE_CNJP`, `UNIDADE_NOME`, `UNIDADE_SAP`, `UNIDADE_TMS`, `UNIDADE_PROMAX_UNB`, `UNIDADE_REGIONAL`, `OPERADOR_CNPJ`, `OPERADOR_NOME`, `OPERADOR_SAP`, `OPERADOR_TMS`, `OPERADOR_PROMAX`, `ORGANIZACAO_DE_COMPRAS`, `PRAZO_PAGAMENTO`, `CARGO`, `DESPESA_BENEFICIO`, `DESPESA_ENCARGOS`, `DESPESA_FROTA_LEVE`, `DESPESA_ORDENADOS`, `DESPESA_TELEFONIA`, `DESPESA_UNIFORMES`, `QUANTIDADE_BENEFICIO`, `QUANTIDADE_ENCARGOS`, `QUANTIDADE_FROTA_LEVE`, `QUANTIDADE_ORDENADOS`, `QUANTIDADE_TELEFONIA`, `QUANTIDADE_UNIFORMES`, `SALARIO_ENCARGOS`, `SALARIO_ORDENADOS`, `VALE_TRANSPORTE`, `VALOR_BENEFICIO`, `VALOR_FROTA_LEVE`, `VALOR_TELEFONIA`, `VALOR_UNIFORMES`, `VALETRANSPORTERESSARCIMENTO`, `VALETRANSPORTEVALORES`, `_ID`\"\n",
    "    elif tabela == \"FATURAMENTO_ARMAZEM\":\n",
    "        colunas = \"`VIGENCIA`, `UNIDADE_CNJP`, `UNIDADE_NOME`, `UNIDADE_SAP`, `UNIDADE_TMS`, `UNIDADE_PROMAX_UNB`, `UNIDADE_REGIONAL`, `OPERADOR_CNPJ`, `OPERADOR_NOME`, `OPERADOR_SAP`, `OPERADOR_TMS`, `OPERADOR_PROMAX`, `ORGANIZACAO_DE_COMPRAS`, `PRAZO_PAGAMENTO`, `CONTA_AJUDANTE`, `CONTA_AMARRADOR`, `CONTA_CUSTO_VARIAVEL`, `CONTA_EMPILHADEIRA`, `CONTA_GAS`, `CONTA_GESTAO`, `CONTA_OPERADOR`, `CONTA_VARIAVEL`, `PARAMETROS_AJUDANTE_QTDE`, `PARAMETROS_AJUDANTE_VALOR`, `PARAMETROS_AMARRADOR_QTDE`, `PARAMETROS_AMARRADOR_VALOR`, `PARAMETROS_EMPILHADEIRA_QTDE`, `PARAMETROS_EMPILHADEIRA_VALOR`, `PARAMETROS_GESTAO_QTDE`, `PARAMETROS_GESTAO_VALOR`, `PARAMETROS_HORIMETRO_QTDE`, `PARAMETROS_HORIMETRO_VALOR`, `PARAMETROS_OPERADOR_PROPRIOS_QTDE`, `PARAMETROS_OPERADOR_QTDE`, `PARAMETROS_OPERADOR_VALOR`, `VALOR_FATURADO_AJUDANTE`, `VALOR_FATURADO_AMARRADOR`, `VALOR_FATURADO_CUSTO_VARIAVEL`, `VALOR_FATURADO_EMPILHADEIRA`, `VALOR_FATURADO_GAS`, `VALOR_FATURADO_GESTAO`, `VALOR_FATURADO_OPERADOR`, `VALOR_FATURADO_VARIAVEL`, `VALOR_LIQUIDO_AJUDANTE`, `VALOR_LIQUIDO_AMARRADOR`, `VALOR_LIQUIDO_CUSTO_VARIAVEL`, `VALOR_LIQUIDO_EMPILHADEIRA`, `VALOR_LIQUIDO_GAS`, `VALOR_LIQUIDO_GESTAO`, `VALOR_LIQUIDO_OPERADOR`, `VALOR_LIQUIDO_VARIAVEL`, `VALOR_SAP_AJUDANTE`, `VALOR_SAP_AMARRADOR`, `VALOR_SAP_CUSTO_VARIAVEL`, `VALOR_SAP_EMPILHADEIRA`, `VALOR_SAP_GAS`, `VALOR_SAP_GESTAO`, `VALOR_SAP_OPERADOR`, `VALOR_SAP_VARIAVEL`, `VALOR_TOTAL`, `X_CUSTO_FIXO_EXIFRS16`, `X_CUSTO_FIXO_IFRS16`, `_ID`\"\n",
    "    elif tabela == \"DESPESAS_FIXAS_ARMAZEM\":\n",
    "        colunas = \"`VIGENCIA`, `UNIDADE_CNJP`, `UNIDADE_NOME`, `UNIDADE_SAP`, `UNIDADE_TMS`, `UNIDADE_PROMAX_UNB`, `UNIDADE_REGIONAL`, `OPERADOR_CNPJ`, `OPERADOR_NOME`, `OPERADOR_SAP`, `OPERADOR_TMS`, `OPERADOR_PROMAX`, `ORGANIZACAO_DE_COMPRAS`, `PRAZO_PAGAMENTO`, `DESCRICAO_DESPESA`, `QUANTIDADE`, `VALOR_TOTAL`, `VALOR_UNITARIO`, `_ID`\"\n",
    "    elif tabela == \"DESPESAS_OPERACIONAIS_ARMAZEM\":\n",
    "        colunas = \"`VIGENCIA`, `UNIDADE_CNJP`, `UNIDADE_NOME`, `UNIDADE_SAP`, `UNIDADE_TMS`, `UNIDADE_PROMAX_UNB`, `UNIDADE_REGIONAL`, `OPERADOR_CNPJ`, `OPERADOR_NOME`, `OPERADOR_SAP`, `OPERADOR_TMS`, `OPERADOR_PROMAX`, `ORGANIZACAO_DE_COMPRAS`, `PRAZO_PAGAMENTO`, `DESCRICAO`, `QUANTIDADE`, `VALOR_POR_EMPILHADEIRA`, `VALOR_TOTAL`, `VALOR_UNITARIO`, `_ID`\"\n",
    "    elif tabela == \"MAQUINA_ARMAZEM\":\n",
    "        colunas = \"`VIGENCIA`, `UNIDADE_CNJP`, `UNIDADE_NOME`, `UNIDADE_SAP`, `UNIDADE_TMS`, `UNIDADE_PROMAX_UNB`, `UNIDADE_REGIONAL`, `OPERADOR_CNPJ`, `OPERADOR_NOME`, `OPERADOR_SAP`, `OPERADOR_TMS`, `OPERADOR_PROMAX`, `ORGANIZACAO_DE_COMPRAS`, `PRAZO_PAGAMENTO`, `ANO_MAQUINA_LIMPEZA`, `ATIVO_PARADO`, `CARENCIA_FINAME`, `CHASSI`, `CUSTO_ALUGUEL`, `CUSTO_FIXO_CUSTO_FIXO`, `CUSTO_FIXO_FINANCIAMENTO`, `CUSTO_FIXO_ICMS_EM48X`, `CUSTO_FIXO_MAQUINA_LIMPEZA_CDC`, `CUSTO_FIXO_MAQUINA_LIMPEZA_FINAME`, `CUSTO_FIXO_MAQUINA_LIMPEZA_FINANCIAMENTO`, `CUSTO_FIXO_PERCENTUAL_TAXA`, `CUSTO_FIXO_PERIODO`, `CUSTO_FIXO_PISCOFINS_EM12X`, `CUSTO_FIXO_VALOR_ICMS`, `CUSTO_FIXO_VALOR_PISCOFINS`, `CUSTO_LEASING_INFRAESTRUTURA`, `DATA_FIM_ALUGUEL`, `DATA_FIM_CONTRATO`, `EQUIPAMENTO`, `MESANO_ENTRADA`, `MODELO_MAQUINA_LIMPEZA_APOIO`, `PERCENTUAL_ENTRADA`, `PERCENTUAL_ICMS`, `PERIODO_FINANCIAMENTO`, `SPREAD_BASICO_ANO`, `SPREAD_DE_RISCO_ANO`, `TAXA_CDC_MES`, `TAXA_FINAME_ANO`, `TIPO_FINANCIAMENTO_SHARED`, `TJLP_ANO`, `VALOR_COMPRA_NF`, `_ID`\"\n",
    "    elif tabela == \"PALETEIRAS_ARMAZEM\":\n",
    "        colunas = \"`VIGENCIA`, `UNIDADE_CNJP`, `UNIDADE_NOME`, `UNIDADE_SAP`, `UNIDADE_TMS`, `UNIDADE_PROMAX_UNB`, `UNIDADE_REGIONAL`, `OPERADOR_CNPJ`, `OPERADOR_NOME`, `OPERADOR_SAP`, `OPERADOR_TMS`, `OPERADOR_PROMAX`, `ORGANIZACAO_DE_COMPRAS`, `PRAZO_PAGAMENTO`, `ANO_PALETEIRA`, `ATIVO_PARADO`, `CARENCIA_FINAME`, `CHASSI`, `CUSTO_ALUGUEL`, `CUSTO_FIXO_CUSTO_FIXO`, `CUSTO_FIXO_FINANCIAMENTO`, `CUSTO_FIXO_ICMS_EM48X`, `CUSTO_FIXO_PALETEIRA_CDC`, `CUSTO_FIXO_PALETEIRA_FINAME`, `CUSTO_FIXO_PALETEIRA_FINANCIAMENTO`, `CUSTO_FIXO_PERCENTUAL_TAXA`, `CUSTO_FIXO_PERIODO`, `CUSTO_FIXO_PISCOFINS_EM12X`, `CUSTO_FIXO_VALOR_ICMS`, `CUSTO_FIXO_VALOR_PISCOFINS`, `CUSTO_LEASING_INFRAESTRUTURA`, `DATA_FIM_ALUGUEL`, `DATA_FIM_CONTRATO`, `EQUIPAMENTO`, `MESANO_ENTRADA`, `MODELO_PALETEIRA_APOIO`, `PERCENTUAL_ENTRADA`, `PERCENTUAL_ICMS`, `PERIODO_FINANCIAMENTO`, `SPREAD_BASICO_ANO`, `SPREAD_DE_RISCO_ANO`, `TAXA_CDC_MES`, `TAXA_FINAME_ANO`, `TIPO_FINANCIAMENTO_SHARED`, `TJLP_ANO`, `VALOR_COMPRA_NF`, `_ID`\"\n",
    "    elif tabela == \"UNIFORMES_EPI_ARMAZEM\":\n",
    "        colunas = \"`VIGENCIA`, `UNIDADE_CNJP`, `UNIDADE_NOME`, `UNIDADE_SAP`, `UNIDADE_TMS`, `UNIDADE_PROMAX_UNB`, `UNIDADE_REGIONAL`, `OPERADOR_CNPJ`, `OPERADOR_NOME`, `OPERADOR_SAP`, `OPERADOR_TMS`, `OPERADOR_PROMAX`, `ORGANIZACAO_DE_COMPRAS`, `PRAZO_PAGAMENTO`, `CUSTO`, `CUSTO_MES`, `ICMS_REGIAO`, `ITEM_EPI`, `QUANTIDADE_ANO`, `TIPO_EQUIPE`, `_ID`\"\n",
    "    \n",
    "    return colunas\n",
    "    \n",
    "def conectar_banco(host_name, user_name, user_password, database):\n",
    "    try:\n",
    "        connection = mysql.connector.connect(\n",
    "            host=host_name,\n",
    "            user=user_name,\n",
    "            password=user_password,\n",
    "            database=database\n",
    "        )\n",
    "        print(\"Conexão ao banco de dados MySQL realizada com sucesso\")\n",
    "    except mysql.connector.Error as err:\n",
    "        print(f\"Erro ao conectar ao banco de dados: '{err}'\")\n",
    "    return connection\n",
    "\n",
    "def encontrar_arquivo_mais_recente(diretorio, prefixo):\n",
    "    arquivos = [f for f in os.listdir(diretorio) if f.startswith(prefixo) and f.endswith('.xlsx')]\n",
    "    if not arquivos:\n",
    "        return None\n",
    "    return max(arquivos, key=lambda f: os.path.getmtime(os.path.join(diretorio, f)))\n",
    "\n",
    "diretorio =  r'C:\\\\Freightech\\\\load\\\\ARMAZEM'\n",
    "prefixo = 'ARMAZÉM'\n",
    "\n",
    "nome_arquivo_mais_recente = encontrar_arquivo_mais_recente(diretorio, prefixo)\n",
    "\n",
    "if nome_arquivo_mais_recente:\n",
    "    nome_arquivo = os.path.join(diretorio, nome_arquivo_mais_recente)\n",
    "    print(f\"Arquivo mais recente encontrado: {nome_arquivo}\")\n",
    "    \n",
    "    arquivo_excel = pd.ExcelFile(nome_arquivo)\n",
    "    nomes_abas = arquivo_excel.sheet_names\n",
    "\n",
    "    for nome_aba in nomes_abas:\n",
    "        arquivo = pd.read_excel(nome_arquivo, sheet_name=nome_aba)\n",
    "        tabelaInsert = nome_tabela(nome_arquivo, nome_aba)\n",
    "        colunasInsert = colunas_tabela(tabelaInsert)\n",
    "        colunas = arquivo.columns.tolist()\n",
    "        todosValores = \"\"\n",
    "        for index, linha in arquivo.iterrows():\n",
    "            valores = linha.tolist()\n",
    "            valores_string = ','.join(['\"'+str(valor).rstrip('\\'\"')+'\"' for valor in valores])\n",
    "            valores_string = \"(\" + valores_string + \"),\"\n",
    "            todosValores += valores_string\n",
    "        todosValores = todosValores.rstrip(',')\n",
    "            \n",
    "        sql = f\"INSERT IGNORE INTO {tabelaInsert}({colunasInsert}) VALUES {todosValores}\"\n",
    "\n",
    "        conexao = conectar_banco(host_name, user_name, user_password, database)\n",
    "        cursor = conexao.cursor()\n",
    "        try:\n",
    "            cursor.execute(sql)\n",
    "            conexao.commit()\n",
    "            print(f\"Query executada com sucesso na tabela {nome_aba}.\")\n",
    "        except Exception as e:\n",
    "            conexao.rollback()\n",
    "            print(f\"Erro ao executar a query: {e}\")\n",
    "            print(sql)\n",
    "        finally:\n",
    "            cursor.close()\n",
    "            conexao.close()\n",
    "else:\n",
    "    print(\"Nenhum arquivo encontrado com o prefixo especificado.\") "
   ]
  },
  {
   "cell_type": "markdown",
   "metadata": {},
   "source": [
    "1.EMPILHADEIRA_ARMAZEM-0-115 -174-\n",
    "2. EQUIPE_MOD_ARMAZEM-681-681 -880- \n",
    "3.EQUIPE_EMP_ARMAZEM-743-743- 960-960 \n",
    "4. BENEFICIO_EQUIPE_ARMAZEM-863-863 -1116-1116 \n",
    "5.QLP_ADM_ARMAZEM-940-940 -1214-1116 \n",
    "6.FATURAMENTO_ARMAZEM-30-30-40 -40 \n",
    "7.DESPESAS_FIXAS_ARMAZEM-21-21-28-28 \n",
    "8.DESPESAS_OPERACIONAIS_ARMAZEM-299-299-398-398 \n",
    "9. MAQUINA_ARMAZEM-21-21-32-32  \n",
    "10.PALETEIRAS_ARMAZEM-737-737-986-986 \n",
    "11.UNIFORMES_EPI_ARMAZEM-897-897- 1162-1162 "
   ]
  },
  {
   "cell_type": "code",
   "execution_count": 1,
   "metadata": {},
   "outputs": [
    {
     "name": "stdout",
     "output_type": "stream",
     "text": [
      "C:\\Users\\ADMIN.JOAO\\AppData\\Local\\Microsoft\\WindowsApps\\PythonSoftwareFoundation.Python.3.12_qbz5n2kfra8p0\\python.exe\n"
     ]
    }
   ],
   "source": [
    "import sys\n",
    "print(sys.executable)"
   ]
  }
 ],
 "metadata": {
  "kernelspec": {
   "display_name": "Python 3",
   "language": "python",
   "name": "python3"
  },
  "language_info": {
   "codemirror_mode": {
    "name": "ipython",
    "version": 3
   },
   "file_extension": ".py",
   "mimetype": "text/x-python",
   "name": "python",
   "nbconvert_exporter": "python",
   "pygments_lexer": "ipython3",
   "version": "3.12.9"
  }
 },
 "nbformat": 4,
 "nbformat_minor": 2
}
