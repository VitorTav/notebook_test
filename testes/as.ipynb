{
 "cells": [
  {
   "cell_type": "code",
   "execution_count": 1,
   "metadata": {},
   "outputs": [
    {
     "name": "stdout",
     "output_type": "stream",
     "text": [
      "Arquivo mais recente encontrado: C:\\\\Freightech\\\\load\\\\AS\\AS_2025-02-04_14-16-15.xlsx\n"
     ]
    },
    {
     "name": "stderr",
     "output_type": "stream",
     "text": [
      "C:\\Users\\ADMIN.JOAO\\AppData\\Local\\Packages\\PythonSoftwareFoundation.Python.3.12_qbz5n2kfra8p0\\LocalCache\\local-packages\\Python312\\site-packages\\openpyxl\\styles\\stylesheet.py:237: UserWarning: Workbook contains no default style, apply openpyxl's default\n",
      "  warn(\"Workbook contains no default style, apply openpyxl's default\")\n"
     ]
    },
    {
     "name": "stdout",
     "output_type": "stream",
     "text": [
      "Query executada com sucesso na tabela EQP_FAD_AS.\n"
     ]
    },
    {
     "name": "stderr",
     "output_type": "stream",
     "text": [
      "C:\\Users\\ADMIN.JOAO\\AppData\\Local\\Packages\\PythonSoftwareFoundation.Python.3.12_qbz5n2kfra8p0\\LocalCache\\local-packages\\Python312\\site-packages\\openpyxl\\styles\\stylesheet.py:237: UserWarning: Workbook contains no default style, apply openpyxl's default\n",
      "  warn(\"Workbook contains no default style, apply openpyxl's default\")\n",
      "C:\\Users\\ADMIN.JOAO\\AppData\\Local\\Packages\\PythonSoftwareFoundation.Python.3.12_qbz5n2kfra8p0\\LocalCache\\local-packages\\Python312\\site-packages\\openpyxl\\styles\\stylesheet.py:237: UserWarning: Workbook contains no default style, apply openpyxl's default\n",
      "  warn(\"Workbook contains no default style, apply openpyxl's default\")\n"
     ]
    },
    {
     "name": "stdout",
     "output_type": "stream",
     "text": [
      "Query executada com sucesso na tabela FATURAMENTO.\n",
      "Query executada com sucesso na tabela RESUMO.\n"
     ]
    },
    {
     "name": "stderr",
     "output_type": "stream",
     "text": [
      "C:\\Users\\ADMIN.JOAO\\AppData\\Local\\Packages\\PythonSoftwareFoundation.Python.3.12_qbz5n2kfra8p0\\LocalCache\\local-packages\\Python312\\site-packages\\openpyxl\\styles\\stylesheet.py:237: UserWarning: Workbook contains no default style, apply openpyxl's default\n",
      "  warn(\"Workbook contains no default style, apply openpyxl's default\")\n"
     ]
    },
    {
     "name": "stdout",
     "output_type": "stream",
     "text": [
      "Query executada com sucesso na tabela DADOS FF.\n"
     ]
    },
    {
     "name": "stderr",
     "output_type": "stream",
     "text": [
      "C:\\Users\\ADMIN.JOAO\\AppData\\Local\\Packages\\PythonSoftwareFoundation.Python.3.12_qbz5n2kfra8p0\\LocalCache\\local-packages\\Python312\\site-packages\\openpyxl\\styles\\stylesheet.py:237: UserWarning: Workbook contains no default style, apply openpyxl's default\n",
      "  warn(\"Workbook contains no default style, apply openpyxl's default\")\n"
     ]
    },
    {
     "name": "stdout",
     "output_type": "stream",
     "text": [
      "Query executada com sucesso na tabela DESPESAS OPERACIONAIS.\n"
     ]
    },
    {
     "name": "stderr",
     "output_type": "stream",
     "text": [
      "C:\\Users\\ADMIN.JOAO\\AppData\\Local\\Packages\\PythonSoftwareFoundation.Python.3.12_qbz5n2kfra8p0\\LocalCache\\local-packages\\Python312\\site-packages\\openpyxl\\styles\\stylesheet.py:237: UserWarning: Workbook contains no default style, apply openpyxl's default\n",
      "  warn(\"Workbook contains no default style, apply openpyxl's default\")\n"
     ]
    },
    {
     "name": "stdout",
     "output_type": "stream",
     "text": [
      "Query executada com sucesso na tabela EQUIPE DE ENTREGA.\n"
     ]
    },
    {
     "name": "stderr",
     "output_type": "stream",
     "text": [
      "C:\\Users\\ADMIN.JOAO\\AppData\\Local\\Packages\\PythonSoftwareFoundation.Python.3.12_qbz5n2kfra8p0\\LocalCache\\local-packages\\Python312\\site-packages\\openpyxl\\styles\\stylesheet.py:237: UserWarning: Workbook contains no default style, apply openpyxl's default\n",
      "  warn(\"Workbook contains no default style, apply openpyxl's default\")\n"
     ]
    },
    {
     "name": "stdout",
     "output_type": "stream",
     "text": [
      "Query executada com sucesso na tabela QLP ADM.\n"
     ]
    },
    {
     "name": "stderr",
     "output_type": "stream",
     "text": [
      "C:\\Users\\ADMIN.JOAO\\AppData\\Local\\Packages\\PythonSoftwareFoundation.Python.3.12_qbz5n2kfra8p0\\LocalCache\\local-packages\\Python312\\site-packages\\openpyxl\\styles\\stylesheet.py:237: UserWarning: Workbook contains no default style, apply openpyxl's default\n",
      "  warn(\"Workbook contains no default style, apply openpyxl's default\")\n"
     ]
    },
    {
     "name": "stdout",
     "output_type": "stream",
     "text": [
      "Query executada com sucesso na tabela UNIFORMES E EPIS.\n"
     ]
    },
    {
     "name": "stderr",
     "output_type": "stream",
     "text": [
      "C:\\Users\\ADMIN.JOAO\\AppData\\Local\\Packages\\PythonSoftwareFoundation.Python.3.12_qbz5n2kfra8p0\\LocalCache\\local-packages\\Python312\\site-packages\\openpyxl\\styles\\stylesheet.py:237: UserWarning: Workbook contains no default style, apply openpyxl's default\n",
      "  warn(\"Workbook contains no default style, apply openpyxl's default\")\n"
     ]
    },
    {
     "name": "stdout",
     "output_type": "stream",
     "text": [
      "Query executada com sucesso na tabela BENEFÍCIOS EQP.\n"
     ]
    },
    {
     "name": "stderr",
     "output_type": "stream",
     "text": [
      "C:\\Users\\ADMIN.JOAO\\AppData\\Local\\Packages\\PythonSoftwareFoundation.Python.3.12_qbz5n2kfra8p0\\LocalCache\\local-packages\\Python312\\site-packages\\openpyxl\\styles\\stylesheet.py:237: UserWarning: Workbook contains no default style, apply openpyxl's default\n",
      "  warn(\"Workbook contains no default style, apply openpyxl's default\")\n"
     ]
    },
    {
     "name": "stdout",
     "output_type": "stream",
     "text": [
      "Query executada com sucesso na tabela BENEFÍCIOS NOTURNA.\n"
     ]
    },
    {
     "name": "stderr",
     "output_type": "stream",
     "text": [
      "C:\\Users\\ADMIN.JOAO\\AppData\\Local\\Packages\\PythonSoftwareFoundation.Python.3.12_qbz5n2kfra8p0\\LocalCache\\local-packages\\Python312\\site-packages\\openpyxl\\styles\\stylesheet.py:237: UserWarning: Workbook contains no default style, apply openpyxl's default\n",
      "  warn(\"Workbook contains no default style, apply openpyxl's default\")\n"
     ]
    },
    {
     "name": "stdout",
     "output_type": "stream",
     "text": [
      "Query executada com sucesso na tabela COMBUSTÍVEL.\n"
     ]
    },
    {
     "name": "stderr",
     "output_type": "stream",
     "text": [
      "C:\\Users\\ADMIN.JOAO\\AppData\\Local\\Packages\\PythonSoftwareFoundation.Python.3.12_qbz5n2kfra8p0\\LocalCache\\local-packages\\Python312\\site-packages\\openpyxl\\styles\\stylesheet.py:237: UserWarning: Workbook contains no default style, apply openpyxl's default\n",
      "  warn(\"Workbook contains no default style, apply openpyxl's default\")\n",
      "C:\\Users\\ADMIN.JOAO\\AppData\\Local\\Packages\\PythonSoftwareFoundation.Python.3.12_qbz5n2kfra8p0\\LocalCache\\local-packages\\Python312\\site-packages\\openpyxl\\styles\\stylesheet.py:237: UserWarning: Workbook contains no default style, apply openpyxl's default\n",
      "  warn(\"Workbook contains no default style, apply openpyxl's default\")\n"
     ]
    },
    {
     "name": "stdout",
     "output_type": "stream",
     "text": [
      "Query executada com sucesso na tabela EQP_NOTURNA.\n",
      "Query executada com sucesso na tabela PARAMETRO_DE_OPERAÇÃO.\n"
     ]
    },
    {
     "name": "stderr",
     "output_type": "stream",
     "text": [
      "C:\\Users\\ADMIN.JOAO\\AppData\\Local\\Packages\\PythonSoftwareFoundation.Python.3.12_qbz5n2kfra8p0\\LocalCache\\local-packages\\Python312\\site-packages\\openpyxl\\styles\\stylesheet.py:237: UserWarning: Workbook contains no default style, apply openpyxl's default\n",
      "  warn(\"Workbook contains no default style, apply openpyxl's default\")\n"
     ]
    },
    {
     "name": "stdout",
     "output_type": "stream",
     "text": [
      "Query executada com sucesso na tabela ENCARGOS_COM_FERIAS.\n"
     ]
    },
    {
     "name": "stderr",
     "output_type": "stream",
     "text": [
      "C:\\Users\\ADMIN.JOAO\\AppData\\Local\\Packages\\PythonSoftwareFoundation.Python.3.12_qbz5n2kfra8p0\\LocalCache\\local-packages\\Python312\\site-packages\\openpyxl\\styles\\stylesheet.py:237: UserWarning: Workbook contains no default style, apply openpyxl's default\n",
      "  warn(\"Workbook contains no default style, apply openpyxl's default\")\n"
     ]
    },
    {
     "name": "stdout",
     "output_type": "stream",
     "text": [
      "Query executada com sucesso na tabela ENCARGOS_SEM_FERIAS.\n"
     ]
    },
    {
     "name": "stderr",
     "output_type": "stream",
     "text": [
      "C:\\Users\\ADMIN.JOAO\\AppData\\Local\\Packages\\PythonSoftwareFoundation.Python.3.12_qbz5n2kfra8p0\\LocalCache\\local-packages\\Python312\\site-packages\\openpyxl\\styles\\stylesheet.py:237: UserWarning: Workbook contains no default style, apply openpyxl's default\n",
      "  warn(\"Workbook contains no default style, apply openpyxl's default\")\n"
     ]
    },
    {
     "name": "stdout",
     "output_type": "stream",
     "text": [
      "Query executada com sucesso na tabela RESUMO_SRTRANS.\n"
     ]
    },
    {
     "name": "stderr",
     "output_type": "stream",
     "text": [
      "C:\\Users\\ADMIN.JOAO\\AppData\\Local\\Packages\\PythonSoftwareFoundation.Python.3.12_qbz5n2kfra8p0\\LocalCache\\local-packages\\Python312\\site-packages\\openpyxl\\styles\\stylesheet.py:237: UserWarning: Workbook contains no default style, apply openpyxl's default\n",
      "  warn(\"Workbook contains no default style, apply openpyxl's default\")\n"
     ]
    },
    {
     "name": "stdout",
     "output_type": "stream",
     "text": [
      "Query executada com sucesso na tabela BENEFICIOS.\n"
     ]
    }
   ],
   "source": [
    "import pandas as pd\n",
    "import mysql.connector\n",
    "import mysql\n",
    "import os\n",
    "from datetime import datetime\n",
    "\n",
    "host_name = \"172.16.0.28\" \n",
    "user_name = \"joaotavares\" \n",
    "user_password = \"@joaotavares\"\n",
    "database='dbfreightech'\n",
    "\n",
    "def nome_tabela(nome_arquivo, aba):\n",
    "    tabela = None  # Initialize tabela to avoid UnboundLocalError\n",
    "    try:\n",
    "        if \"AS\" in nome_arquivo:\n",
    "            if \"EQP_FAD_AS\" == aba:\n",
    "                tabela = \"EQP_FAD_AS\"\n",
    "            elif \"FATURAMENTO\" == aba:    \n",
    "                tabela = \"FATURAMENTO_AS\"\n",
    "            elif \"RESUMO\" == aba: \n",
    "                tabela = \"RESUMO_AS\"\n",
    "            elif \"DADOS FF\" == aba:\n",
    "                tabela = \"DADOS_FF_AS\"\n",
    "            elif \"DESPESAS OPERACIONAIS\" == aba:\n",
    "                tabela = \"DESPESAS_OPERACIONAIS_AS\"    \n",
    "            elif \"EQUIPE DE ENTREGA\" == aba:\n",
    "                tabela = \"EQUIPE_ENTREGA_AS\"\n",
    "            elif \"QLP ADM\" == aba:\n",
    "                tabela = \"QLP_ADM_AS\"\n",
    "            elif \"UNIFORMES E EPIS\" == aba:\n",
    "                tabela = \"UNIFORMES_EPIS_AS\"\n",
    "            elif \"BENEFÍCIOS EQP\" == aba:\n",
    "                tabela = \"BENEFICIOS_EQP_AS\"\n",
    "            elif \"BENEFÍCIOS NOTURNA\" == aba:\n",
    "                tabela = \"BENEFICIO_NOTURNA_AS\"    \n",
    "            elif \"COMBUSTÍVEL\" == aba:\n",
    "                tabela = \"COMBUSTIVEL_AS\"       \n",
    "            elif \"EQP_NOTURNA\" == aba:\n",
    "                tabela = \"EQP_NOTURNA_AS\"\n",
    "            elif \"PARAMETRO_DE_OPERAÇÃO\" == aba:\n",
    "                tabela = \"PARAMETRO_OPERACAO_AS\"       \n",
    "            elif \"ENCARGOS_COM_FERIAS\" == aba:\n",
    "                tabela = \"ENCARGOS_COM_FERIAS_AS\"   \n",
    "            elif \"ENCARGOS_SEM_FERIAS\" == aba:\n",
    "                tabela = \"ENCARGO_SEM_FERIAS_AS\"\n",
    "            elif \"RESUMO_SRTRANS\" == aba:\n",
    "                tabela = \"RESUMO_SRTRANS_AS\"             \n",
    "            elif \"BENEFICIOS\" == aba:\n",
    "                tabela = \"BENEFICIO_AS\"                                    \n",
    "            else:\n",
    "                tabela = aba\n",
    "    except Exception as e:\n",
    "        print(f\"Erro ao determinar a tabela: {e}\")\n",
    "        tabela = aba\n",
    "    \n",
    "    return tabela\n",
    "\n",
    "def colunas_tabela(tabela):\n",
    "    colunas = \"\"  # Initialize colunas to avoid UnboundLocalError \n",
    "    if tabela == \"EQP_FAD_AS\":\n",
    "        colunas = \"`Vigencia`, `Unidade_CNPJ`, `Unidade_Nome`, `Unidade_SAP`, `Unidade_TMS`, `Unidade_Promax_UNB`, `Unidade_Regional`, `Operador_CNPJ`, `Operador_Nome`, `Operador_SAP`, `Operador_TMS`, `Operador_Promax`, `Organizacao_de_Compras`, `Prazo_Pagamento`, `Beneficios`, `Cargo`, `Percentual_Encargos_e_Provisoes`, `Quantidade`, `Valor_Total`, `Valor_Unitario`, `_ID`\"\n",
    "    elif tabela == \"FATURAMENTO_AS\":\n",
    "        colunas = \"`VIGENCIA`, `UNIDADE_CNPJ`, `UNIDADE_NOME`, `UNIDADE_SAP`, `UNIDADE_TMS`, `UNIDADE_PROMAX_UNB`, `UNIDADE_REGIONAL`, `OPERADOR_CNPJ`, `OPERADOR_NOME`, `OPERADOR_SAP`, `OPERADOR_TMS`, `OPERADOR_PROMAX`, `ORGANIZACAO_DE_COMPRAS`, `PRAZO_PAGAMENTO`, `CUSTO_FIXO_FROTA_ATIVA_BRUTO`, `CUSTO_FIXO_FROTA_ATIVA_BRUTO_POR_CAMINHAO`, `CUSTO_FIXO_FROTA_ATIVA_BRUTO_QUANTIDADE`, `CUSTO_FIXO_FROTA_INATIVA_BRUTO`, `CUSTO_FIXO_FROTA_INATIVA_BRUTO_POR_CAMINHAO`, `CUSTO_FIXO_FROTA_INATIVA_BRUTO_QUANTIDADE`, `CUSTO_FIXO_LIQUIDO`, `CUSTO_FIXO_LIQUIDO_POR_CAMINHAO`, `CUSTO_FIXO_LIQUIDO_QUANTIDADE`, `CUSTO_VARIAVEL_FROTA_ATIVA_BRUTO`, `CUSTO_VARIAVEL_FROTA_ATIVA_BRUTO_POR_CAMINHAO`, `CUSTO_VARIAVEL_FROTA_ATIVA_BRUTO_QUANTIDADE`, `CUSTO_VARIAVEL_LIQUIDO`, `CUSTO_VARIAVEL_LIQUIDO_POR_CAMINHAO`, `CUSTO_VARIAVEL_LIQUIDO_QUANTIDADE`, `DENTRO_MUNICIPIO_BRUTO`, `DENTRO_MUNICIPIO_BRUTO_POR_CAMINHAO`, `DENTRO_MUNICIPIO_BRUTO_QUANTIDADE`, `FORA_MUNICIPIO_BRUTO`, `FORA_MUNICIPIO_BRUTO_POR_CAMINHAO`, `FORA_MUNICIPIO_BRUTO_QUANTIDADE`, `IMPOSTO_DENTRO_MUNICIPIO_BRUTO`, `IMPOSTO_DENTRO_MUNICIPIO_BRUTO_POR_CAMINHAO`, `IMPOSTO_DENTRO_MUNICIPIO_BRUTO_QUANTIDADE`, `IMPOSTO_FORA_MUNICIPIO_BRUTO`, `IMPOSTO_FORA_MUNICIPIO_BRUTO_POR_CAMINHAO`, `IMPOSTO_FORA_MUNICIPIO_BRUTO_QUANTIDADE`, `LUCRO_OPERACIONAL_VARIAVEL_LIQUIDO`, `LUCRO_OPERACIONAL_VARIAVEL_LIQUIDO_POR_CAMINHAO`, `LUCRO_OPERACIONAL_VARIAVEL_LIQUIDO_QUANTIDADE`, `REMUNERACAO_FIXA_EQUIPE_ENTREGA_LIQUIDO`, `REMUNERACAO_FIXA_EQUIPE_ENTREGA_LIQUIDO_POR_CAMINHAO`, `REMUNERACAO_FIXA_EQUIPE_ENTREGA_LIQUIDO_QUANTIDADE`, `REMUNERACAO_FIXA_FROTA_ATIVA_LIQUIDO`, `REMUNERACAO_FIXA_FROTA_ATIVA_LIQUIDO_POR_CAMINHAO`, `REMUNERACAO_FIXA_FROTA_ATIVA_LIQUIDO_QUANTIDADE`, `REMUNERACAO_FIXA_FROTA_PARADA_LIQUIDO`, `REMUNERACAO_FIXA_FROTA_PARADA_LIQUIDO_POR_CAMINHAO`, `REMUNERACAO_FIXA_FROTA_PARADA_LIQUIDO_QUANTIDADE`, `REMUNERACAO_FIXA_QLP_ADM_LIQUIDO`, `REMUNERACAO_FIXA_QLP_ADM_LIQUIDO_POR_CAMINHAO`, `REMUNERACAO_FIXA_QLP_ADM_LIQUIDO_QUANTIDADE`, `REMUNERACAO_OUTRAS_DESPESAS_LIQUIDO`, `REMUNERACAO_OUTRAS_DESPESAS_LIQUIDO_POR_CAMINHAO`, `REMUNERACAO_OUTRAS_DESPESAS_LIQUIDO_QUANTIDADE`, `REMUNERACAO_VARIAVEL_LIQUIDO`, `REMUNERACAO_VARIAVEL_LIQUIDO_POR_CAMINHAO`, `REMUNERACAO_VARIAVEL_LIQUIDO_QUANTIDADE`, `TOTAL`, `TOTAL_CAMINHAO_ATIVO`, `TOTAL_CAMINHAO_PARADO`, `TOTAL_CUSTO_VARIAVEL_LIQUIDO`, `TOTAL_CUSTO_VARIAVEL_LIQUIDO_POR_CAMINHAO`, `TOTAL_CUSTO_VARIAVEL_LIQUIDO_QUANTIDADE`, `TOTAL_LIQUIDO`, `TOTAL_LIQUIDO_POR_CAMINHAO`, `TOTAL_LIQUIDO_QUANTIDADE`, `TOTAL_POR_CAMINHAO`, `TOTAL_QUANTIDADE`, `_ID`\"\n",
    "    elif tabela == \"RESUMO_AS\":\n",
    "        colunas = \"`VIGENCIA`, `UNIDADE_CNPJ`, `UNIDADE_NOME`, `UNIDADE_SAP`, `UNIDADE_TMS`, `UNIDADE_PROMAX_UNB`, `UNIDADE_REGIONAL`, `OPERADOR_CNPJ`, `OPERADOR_NOME`, `OPERADOR_SAP`, `OPERADOR_TMS`, `OPERADOR_PROMAX`, `ORGANIZACAO_DE_COMPRAS`, `PRAZO_PAGAMENTO`, `ASSESSORIA_JURIDICA`, `BENEFICIOS`, `BENEFICIOS_AJUDAANTE_POR_CAMINHAO`, `BENEFICIOS_MOTORISTA_POR_CAMINHAO`, `COMBUSTIVEL_REAIS_KM`, `COMUNICACAO_FIXA`, `CONE`, `DEPRECIACAO_CAMINHAO`, `DEPRECIACAO_CAMINHAO_PARADO`, `DEPRECIACAO_CARROCERIA`, `DEPRECIACAO_CARROCERIA_PARADO`, `ENCARGOS_PROVISAOES`, `FAD`, `FAIXA_REFLETIVA_PARADO`, `FAIXA_REFLEXIVA`, `FINAME_MODELO_NOVO`, `FINAME_MODELO_NOVO_PARADO`, `FROTA_LEVE`, `HES_RV_DSR_PROV_AJUDAANTE`, `HES_RV_DSR_PROV_MOTORISTA`, `INCENTIVO`, `IPVA_LICENC_MENSAL`, `IPVA_LICENC_MENSAL_PARADO`, `KM_REMUNERADO`, `LAVAGEM`, `LAVAGEM_REAIS_KM`, `LINK`, `LUCRO_FINAME_MODELO_ANTIGO`, `LUCRO_FINAME_PARADO`, `LUCRO_FIXO_MODELO_NOVO`, `LUCRO_FIXO_MODELO_NOVO_PARADO`, `LUCRO_VARIAVEL_MODELO_NOVO`, `MANUTENCAO_CAMINHAO_REAIS_KM`, `MANUTENCAO_CARRINHOS_TROCA`, `MANUTENCAO_CARROCERIA_REAIS_KM`, `MANUTENCAO_SISTEMAS`, `MATERIAL_ESCRITORIO`, `OUTROS`, `PNEU_REAIS_KM`, `PPR_A`, `QUANTIDADE_AJUDAANTE_POR_CAMINHAO`, `QUANTIDADE_MOTORISTA_POR_CAMINHAO`, `RASTREADOR`, `RASTREADOR_PARADO`, `REMUNERACAO_K`, `REMUNERACAO_K_IMPOSTOS`, `REMUNERACAO_K_IMPOSTOS_PARADO`, `REMUNERACAO_K_PARADO`, `REMUNERACAO_UNIDADE`, `SALARIO`, `SALARIO_FIXO_AJUDAANTE_POR_CAMINHAO`, `SALARIO_FIXO_MOTORISTA_POR_CAMINHAO`, `SEGURO`, `SEGURO_PARADO`, `TELEFONIA_MOVEL`, `TOTAL_CAMINHAO_ALUGUEL`, `TOTAL_CAMINHAO_ATIVO`, `TOTAL_CAMINHAO_PARADO`, `TOTAL_CUSTO`, `TOTAL_CUSTO_VARIAVEL_ALUGADO`, `TOTAL_EQUIPE_ENTREGA`, `TOTAL_ESTIMADA`, `TOTAL_FROTA`, `TOTAL_FROTA_ATIVA`, `TOTAL_FROTA_PARADA`, `TOTAL_LUCRO_ALUGUEL`, `TOTAL_OPERACIONAL_PREVISTO`, `TOTAL_OUTRAS_DESPESAS`, `TOTAL_POR_CAMINHAO_EQUIPE_ENTREGA`, `TOTAL_POR_CAMINHAO_ESTIMADA`, `TOTAL_POR_CAMINHAO_FROTA_ATIVA`, `TOTAL_POR_CAMINHAO_FROTA_PARADA`, `TOTAL_POR_CAMINHAO_OPERACIONAL_PREVISTO`, `TOTAL_POR_CAMINHAO_OUTRAS_DESPESAS`, `TOTAL_POR_CAMINHAO_QLP_ADM`, `TOTAL_POR_CAMINHAO_VIAGENS`, `TOTAL_QLP_ADM`, `TOTAL_REAIS_KM`, `TOTAL_VIAGENS`, `UNIFORME_AJUDAANTE_POR_CAMINHAO`, `UNIFORME_MOTORISTA_POR_CAMINHAO`, `UNIFORMES`, `_ID`\"\n",
    "    elif tabela == \"DADOS_FF_AS\":\n",
    "        colunas = \"`VIGENCIA`, `UNIDADE_CNPJ`, `UNIDADE_NOME`, `UNIDADE_SAP`, `UNIDADE_TMS`, `UNIDADE_PROMAX_UNB`, `UNIDADE_REGIONAL`, `OPERADOR_CNPJ`, `OPERADOR_NOME`, `OPERADOR_SAP`, `OPERADOR_TMS`, `OPERADOR_PROMAX`, `ORGANIZACAO_DE_COMPRAS`, `PRAZO_PAGAMENTO`, `AMORTIZACAO`, `ANO`, `ANO_CARROCERIA`, `ANO_CAVALO`, `ANO_VEICULO`, `ATIVO`, `BENCHMARK_CONSUMO`, `CAPACIDADE_DE_PALLETS`, `CAPACIDADE_EM_CAIXAS`, `CARENCIA`, `CICLO_CARROCERIA`, `CICLO_CAVALO`, `CONSUMO_KM_L`, `CONSUMO_R_KM`, `CUSTO_ALUGUEL`, `DATA_DE_ALTERACAO_ODOMETRO`, `DATA_DE_ENTRADA`, `DEPRECIACAO_CARROCERIA`, `DEPRECIACAO_CAVALO`, `EIXO_DIANTEIRO`, `EIXO_TRASEIRO`, `ENTRADA`, `FINAME_MODELO_NOVO`, `FAIXA_REFLEXIVA`, `FATOR_CORRECAO_REGIAO`, `GANHO_POR_KM_RODADO`, `ICMS_ANUAL`, `ICMS_CARROCERIA`, `ICMS_CAVALO`, `IPVA_LICENCIAMENTO`, `IPVA_LICENCIAMENTO_CAVALO`, `IMPLEMENTO_01`, `IMPLEMENTO_02`, `JUROS`, `KM_MES_ELD`, `KM_MES_ROADSHOW`, `KM_ODOMETRO`, `KM_TOTAL`, `LAVAGEM_POR_KM`, `LOGO_PADRAO`, `LUCRO_FINAME`, `LUCRO_FINAME_VARIAVEL`, `LUCRO_FIXO`, `LUCRO_TOTAL_CUSTO_VARIAVEL`, `LUCRO_VARIAVEL`, `MANUTENCAO_CARROCERIA_R_KM`, `MANUTENCAO_R_KM`, `MATERIAL`, `MEDIDA_PNEU`, `MODELO`, `MODELO_DO_CAVALO`, `MONTADORA`, `MOTOR`, `MES_DA_PARCELA`, `MES_DE_ENTRADA_CARROCERIA`, `MES_DE_ENTRADA_CAVALO`, `MES_DE_ENTRADA_NOVO_MODELO`, `ODOMETRO_PREVISTO`, `PIS_COFINS_ANUAL`, `PERSCENTUAL_RESIDUAL_5_ANOS_CAVALO`, `PERSCENTUAL_RESIDUAL_5_ANOS_CARROCERIA`, `PERSCENTUAL_RESIDUAL_8_ANOS_CARROCERIA`, `PERSCENTUAL_RESIDUAL_8_ANOS_CAVALO`, `PERDA_ANO_VEICULO`, `PERFIL`, `PERIODO_CAVALO`, `PERIODO_FINAME`, `PLACA`, `PNEU_POR_KM`, `PRECO_LISO`, `PRECO_MONTAGEM`, `PRECO_PROTECTOR`, `PRECO_RECAPAGEM`, `PRECO_TRAÇÃO`, `PRECO_DA_CAMARA`, `QUANTIDADE_DE_PNEUS`, `QUANTIDADE_DE_RECAPAGEM`, `R_KM`, `RASTREADOR`, `REMUNERACAO_K`, `REMUNERACAO_K_IMPOSTOS`, `REMUNERACAO_MODELO`, `SEGURO`, `SPREAD_BNDES`, `SPREAD_BANCO`, `TJLP`, `TAXA_CUSTO_FIXO_CARROCERIA`, `TAXA_CUSTO_FIXO_CAVALO`, `TAXA_FINAME`, `TIPO`, `TOTAL_CUSTO_FIXO`, `TOTAL_CUSTO_VARIAVEL`, `VALOR_ICMS_CARROCERIA`, `VALOR_ICMS_CAVALO`, `VALOR_LIQUIDO_DEPRECIACAO_CARROCERIA`, `VALOR_LIQUIDO_DEPRECIACAO_CAVALO`, `VALOR_LIQUIDO_REMUNERACAO_K_CARROCERIA`, `VALOR_LIQUIDO_REMUNERACAO_K_CAVALO`, `VALOR_PIS_COFINS_CARROCERIA`, `VALOR_PIS_COFINS_CAVALO`, `VALOR_PNEUS`, `VALOR_DE_COMPRA_CARROCERIA`, `VALOR_DE_COMPRA_CAVALO`, `VIDA_PNEUS_KM`, `ANO_BID`, `CHASSI`, `CUSTO_VARIAVEL_SIMULADO`, `FREE_MAINTENANCE`, `LOGO_PADRAO_SHARED`, `MANUTENCAO_ANO`, `MANUTENCAO_BID`, `MANUTENCAO_CARROCERIA_REAIS_POR_KM_INTEIRO`, `MANUTENCAO_COMPRA_FORA_DO_BID_AUTORIZADA`, `MANUTENCAO_CONTRATO`, `MANUTENCAO_FREE_MAINTENANCE`, `MANUTENCAO_REAIS_KM`, `MANUTENCAO_REAIS_POR_KM_INTEIRO`, `MANUTENCAO_VIDA_MESES`, `MATERIAL_SHARED`, `MODELO_SHARED`, `MOTOR_SHARED`, `PERCENTUAL_REAJUSTE_APLICADO`, `PERFIL_SHARED`, `REMUNERACAO_MODELO_SHARED`, `STATUS_FINANCIAMENTO_CARROCERIA_SHARED`, `STATUS_FINANCIAMENTO_CAVALO_SHARED`, `STATUS_FINANCIAMENTO_SHARED`, `TELEMETRIA_OBRIGATORIA`, `TIPO_COMBUSTIVEL_SHARED`, `TIPO_SHARED`, `VALOR_REAJUSTADO`, `_ID`\"\n",
    "    elif tabela == \"DESPESAS_OPERACIONAIS_AS\":\n",
    "        colunas = \"`VIGENCIA`, `UNIDADE_CNPJ`, `UNIDADE_NOME`, `UNIDADE_SAP`, `UNIDADE_TMS`, `UNIDADE_PROMAX_UNB`, `UNIDADE_REGIONAL`, `OPERADOR_CNPJ`, `OPERADOR_NOME`, `OPERADOR_SAP`, `OPERADOR_TMS`, `OPERADOR_PROMAX`, `ORGANIZACAO_DE_COMPRAS`, `PRAZO_PAGAMENTO`, `DESCRICAO`, `QUANTIDADE`, `VALOR_TOTAL`, `VALOR_UNITARIO`, `VALOR_POR_EQUIPAMENTO`, `_ID`\"\n",
    "    elif tabela == \"EQUIPE_ENTREGA_AS\":\n",
    "        colunas = \"`VIGENCIA`, `UNIDADE_CNPJ`, `UNIDADE_NOME`, `UNIDADE_SAP`, `UNIDADE_TMS`, `UNIDADE_PROMAX_UNB`, `UNIDADE_REGIONAL`, `OPERADOR_CNPJ`, `OPERADOR_NOME`, `OPERADOR_SAP`, `OPERADOR_TMS`, `OPERADOR_PROMAX`, `ORGANIZACAO_DE_COMPRAS`, `PRAZO_PAGAMENTO`, `CARGO`, `DSR`, `HORA_EXTRA_FIXA`, `OUTROS`, `PERCENTUAL_ABSENTEISMO`, `PERCENTUAL_ENCARGO_PROVISAO`, `PERCENTUAL_HORA_EXTRA`, `PERCENTUAL_TURNO_OVER_ANO`, `PISO_SALARIAL`, `PREMIACAO_PLUS`, `QUANTIDADE_HORA_EXTRA_FIXA`, `QUANTIDADE_TOTAL_X_CAMINHAO_ATIVO`, `QUANTIDADE_POR_CAMINHAO`, `REMUNERACAO_FIXA_CONTRA_CHEQUE`, `TOTAL_ORDENADO`, `TOTAL_REMUNERACAO`, `TOTAL_REMUNERACAO_BENEFICIO`, `TURNO`, `DURACAO_ABONO`, `VALOR_ABONO`, `VALOR_ABONO_APLICADO`, `_ID`\"\n",
    "    elif tabela == \"QLP_ADM_AS\":\n",
    "        colunas = \"`VIGENCIA`, `UNIDADE_CNPJ`, `UNIDADE_NOME`, `UNIDADE_SAP`, `UNIDADE_TMS`, `UNIDADE_PROMAX_UNB`, `UNIDADE_REGIONAL`, `OPERADOR_CNPJ`, `OPERADOR_NOME`, `OPERADOR_SAP`, `OPERADOR_TMS`, `OPERADOR_PROMAX`, `ORGANIZACAO_DE_COMPRAS`, `PRAZO_PAGAMENTO`, `CARGO`, `DESPESA_BENEFICIO`, `DESPESA_ENCARGOS`, `DESPESA_FROTA_LEVE`, `DESPESA_ORDENADOS`, `DESPESA_TELEFONIA`, `DESPESA_UNIFORMES`, `QLP_BENCHMARK_QUANTIDADE`, `QLP_BENCHMARK_SALARIO`, `QUANTIDADE_BENEFICIO`, `QUANTIDADE_ENCARGOS`, `QUANTIDADE_FROTA_LEVE`, `QUANTIDADE_ORDENADOS`, `QUANTIDADE_TELEFONIA`, `QUANTIDADE_UNIFORMES`, `SALARIO_ENCARGOS`, `SALARIO_ORDENADOS`, `VALE_TRANSPORTE`, `VALOR_BENEFICIO`, `VALOR_FROTA_LEVE`, `VALOR_TELEFONIA`, `VALOR_UNIFORMES`, `_ID`\"\n",
    "    elif tabela == \"UNIFORMES_EPIS_AS\":\n",
    "        colunas = \"`VIGENCIA`, `UNIDADE_CNPJ`, `UNIDADE_NOME`, `UNIDADE_SAP`, `UNIDADE_TMS`, `UNIDADE_PROMAX_UNB`, `UNIDADE_REGIONAL`, `OPERADOR_CNPJ`, `OPERADOR_NOME`, `OPERADOR_SAP`, `OPERADOR_TMS`, `OPERADOR_PROMAX`, `ORGANIZACAO_DE_COMPRAS`, `PRAZO_PAGAMENTO`, `CUSTO`, `CUSTO_MES`, `ICMS_REGIAO`, `ITEM_EPI`, `QUANTIDADE_ANO`, `TIPO_EQUIPE`, `_ID`\"\n",
    "    elif tabela == \"BENEFICIOS_EQP_AS\":\n",
    "        colunas = \"`VIGENCIA`, `UNIDADE_CNPJ`, `UNIDADE_NOME`, `UNIDADE_SAP`, `UNIDADE_TMS`, `UNIDADE_PROMAX_UNB`, `UNIDADE_REGIONAL`, `OPERADOR_CNPJ`, `OPERADOR_NOME`, `OPERADOR_SAP`, `OPERADOR_TMS`, `OPERADOR_PROMAX`, `ORGANIZACAO_DE_COMPRAS`, `PRAZO_PAGAMENTO`, `BENEFICIO`, `CARGO`, `TOTAL_BENEFICIO`, `TURNO`, `_ID`\"\n",
    "    elif tabela == \"BENEFICIO_NOTURNA_AS\":\n",
    "        colunas = \"`VIGENCIA`, `UNIDADE_CNPJ`, `UNIDADE_NOME`, `UNIDADE_SAP`, `UNIDADE_TMS`, `UNIDADE_PROMAX_UNB`, `UNIDADE_REGIONAL`, `OPERADOR_CNPJ`, `OPERADOR_NOME`, `OPERADOR_SAP`, `OPERADOR_TMS`, `OPERADOR_PROMAX`, `ORGANIZACAO_DE_COMPRAS`, `PRAZO_PAGAMENTO`, `CARGO_BENEFICIO`, `ITEM_BENEFICIO`, `PARTICIPACAO_DA_EMPRESA`, `QUANTIDADE`, `QUANTIDADE_DE_DIAS_UTEIS`, `RESSARCIMENTO_FUNCIONARIO`, `TOTAL`, `VALOR`, `_ID`\"\n",
    "    elif tabela == \"COMBUSTIVEL_AS\":\n",
    "        colunas = \"`VIGENCIA`, `UNIDADE_CNPJ`, `UNIDADE_NOME`, `UNIDADE_SAP`, `UNIDADE_TMS`, `UNIDADE_PROMAX_UNB`, `UNIDADE_REGIONAL`, `OPERADOR_CNPJ`, `OPERADOR_NOME`, `OPERADOR_SAP`, `OPERADOR_TMS`, `OPERADOR_PROMAX`, `ORGANIZACAO_DE_COMPRAS`, `PRAZO_PAGAMENTO`, `CREDITO_SOBRE_ATIVOS`, `INICIATIVA`, `PRECO_ANP`, `PRECO_CREDITO_IMPOSTOS`, `PRECO_OPERADORA`, `TIPO_COMBUSTIVEL_SHARED`, `_ID`\"\n",
    "    elif tabela == \"EQP_NOTURNA_AS\":\n",
    "        colunas = \"`VIGENCIA`, `UNIDADE_CNPJ`, `UNIDADE_NOME`, `UNIDADE_SAP`, `UNIDADE_TMS`, `UNIDADE_PROMAX_UNB`, `UNIDADE_REGIONAL`, `OPERADOR_CNPJ`, `OPERADOR_NOME`, `OPERADOR_SAP`, `OPERADOR_TMS`, `OPERADOR_PROMAX`, `ORGANIZACAO_DE_COMPRAS`, `PRAZO_PAGAMENTO`, `ADICIONAL_NOTURNO`, `CARGO`, `CUSTO_OPERACIONAL`, `DSR`, `EQUIPE_ENTREGA`, `PERCENTUAL_ADICIONAL_NOTURNO`, `PERCENTUAL_PROVISAO_ENCARGOCOM_FERIAS`, `PERCENTUAL_PROVISAO_ENCARGOSEM_FERIAS`, `PISO_SALARIAL`, `QUANTIDADE_HORA_NOTURNA`, `TOTAL_CUSTO_FIXO`, `TOTAL_CUSTO_VARIAVEL`, `TOTAL_UNIFORME_EPI`, `TURNO`, `_ID`\"\n",
    "    elif tabela == \"PARAMETRO_OPERACAO_AS\":\n",
    "        colunas = \"`VIGENCIA`, `UNIDADE_CNPJ`, `UNIDADE_NOME`, `UNIDADE_SAP`, `UNIDADE_TMS`, `UNIDADE_PROMAX_UNB`, `UNIDADE_REGIONAL`, `OPERADOR_CNPJ`, `OPERADOR_NOME`, `OPERADOR_SAP`, `OPERADOR_TMS`, `OPERADOR_PROMAX`, `ORGANIZACAO_DE_COMPRAS`, `PRAZO_PAGAMENTO`, `ALIQUOTA_FIXA_ICMS_DIESEL`, `ALMOCO_FABRICA`, `ANO_ICMS`, `ANO_PIS_COFINS`, `CDD_INTERNO`, `CODIGO_PROMAX_OPERADOR`, `CODIGO_PROMAX_UNIDADE`, `COFINS_PRESUMIDO`, `COFINS_REAL`, `CONE_SEGURANCA`, `CONSUMO_FROTA_LEVE`, `CONTRIBUICAO_PREVIDENCIA`, `CREDITO_ICMS`, `CREDITO_ICMS_PRESUMIDO`, `CREDITO_SOBRE_ATIVOS`, `CUSTO_LAVAGEM`, `CUSTO_LAVAGEM10P`, `CUSTO_LAVAGEM12P`, `CUSTO_LAVAGEM14P`, `CUSTO_LAVAGEM28P`, `CUSTO_LAVAGEM4P`, `CUSTO_LAVAGEM6P`, `CUSTO_LAVAGEM8P`, `DATA_LIMITE_NEGOCIACAO`, `DATA_QUINZENA_VIGENCIA`, `FAIXA_BENCHMARK`, `FAIXA_REFLEXIVA`, `FROTA_FIXA_DENTRO_MUNICIPIO`, `FROTA_FIXA_FORA_MUNICIPIO`, `FROTA_LEVE_CARRO`, `FROTA_LEVE_PICKUP`, `ICMS`, `ICMS_CREDITO_SEM_ISUMO`, `INICIO_DATA_VIGENCIA`, `INICIO_OPERACAO`, `ISS`, `KM_MENSAL_ELETRICO`, `KM_MENSAL_NOTURNA`, `KM_MENSAL_PRIMEIRA_VIAGEM`, `KM_RECARREGA_POR_VIAGEM`, `LUCRO_PRESUMIDO`, `PERCENTUAL_ICMS_CREDITO_PNEU`, `PIS_PRESUMIDO`, `PIS_REAL`, `QUANTIDADE_LAVAGENS`, `QUANTIDADE_MES`, `QUANTIDADE_ROTAS_NOTURNA`, `RASTREADOR`, `REGIAO`, `RISCO`, `SEGURO`, `TAMANHO_OPERACAO`, `TELEFONIA_MOVEL`, `TOTAL_QUANTIDADE_DESPESAS`, `TOTAL_VALOR_DESPESAS`, `_ID`\"\n",
    "    elif tabela == \"ENCARGOS_COM_FERIAS_AS\":\n",
    "        colunas = \"`Vigencia`, `Unidade_CNPJ`, `Unidade_Nome`, `Unidade_SAP`, `Unidade_TMS`, `Unidade_Promax_UNB`, `Unidade_Regional`, `Operador_CNPJ`, `Operador_Nome`, `Operador_SAP`, `Operador_TMS`, `Operador_Promax`, `Organizacao_de_Compras`, `Prazo_Pagamento`, `ausenciaLegal`, `ausenciaLegalRpsA`, `ausenciaLegalRpsB`, `ausenciaLegalRpsC`, `avisoPrevio`, `avisoPrevioFormula`, `avisoPrevioRpsA`, `avisoPrevioRpsB`, `avisoPrevioRpsC`, `decimoTerceiroSalario`, `decimoTerceiroSalarioRpsA`, `decimoTerceiroSalarioRpsB`, `decimoTerceiroSalarioRpsC`, `diasDeAviso`, `diferencaProvisaoFerias`, `diferencaProvisaoFeriasRpsA`, `diferencaProvisaoFeriasRpsB`, `diferencaProvisaoFeriasRpsC`, `feriasNormais`, `feriasNormaisRpsA`, `feriasNormaisRpsB`, `feriasNormaisRpsC`, `feriasProporcionaisIndenizadas`, `feriasProporcionaisIndenizadasFormula`, `feriasProporcionaisIndenizadasRpsA`, `feriasProporcionaisIndenizadasRpsB`, `feriasProporcionaisIndenizadasRpsC`, `feriasUmTerco`, `feriasUmTercoRpsA`, `feriasUmTercoRpsB`, `feriasUmTercoRpsC`, `fgts`, `incidenciaCumulativa`, `incidenciaUmTercoFeriasSobreAviso`, `incidenciaUmTercoFeriasSobreAvisoRpsA`, `incidenciaUmTercoFeriasSobreAvisoRpsB`, `incidenciaUmTercoFeriasSobreAvisoRpsC`, `incra`, `inss`, `involuntario`, `mesDissidio`, `multaFGTS`, `salarioEducacao`, `sebrae`, `seguroAcidenteTrabalho`, `senat`, `sest`, `tempoMedioCasa`, `total`, `totalEncargos`, `totalProvisoes`, `totalRpsA`, `totalRpsB`, `totalRpsC`, `turnOver`, `voluntario`, `_ID`\"\n",
    "    elif tabela == \"ENCARGO_SEM_FERIAS_AS\":\n",
    "        colunas = \"`VIGENCIA`, `UNIDADE_CNPJ`, `UNIDADE_NOME`, `UNIDADE_SAP`, `UNIDADE_TMS`, `UNIDADE_PROMAX_UNB`, `UNIDADE_REGIONAL`, `OPERADOR_CNPJ`, `OPERADOR_NOME`, `OPERADOR_SAP`, `OPERADOR_TMS`, `OPERADOR_PROMAX`, `ORGANIZACAO_DE_COMPRAS`, `PRAZO_PAGAMENTO`, `AUSENCIA_LEGAL`, `AUSENCIA_LEGAL_RPSA`, `AUSENCIA_LEGAL_RPSB`, `AUSENCIA_LEGAL_RPSC`, `AVISO_PREVIO`, `AVISOPREVIO_FORMULA`, `AVISO_PREVIORPSA`, `AVISO_PREVIORPSB`, `AVISO_PREVIORPSC`, `DECIMO_TERCEIRO_SALARIO`, `DECIMO_TERCEIRO_SALARIORPSA`, `DECIMO_TERCEIROS_ALARIORPSB`, `DECIMO_TERCEIRO_SALARIORPSC`, `DIAS_DE_AVISO`, `DIFERENCA_PROVISAO_FERIAS`, `DIFERENCA_PROVISAO_FERIASRPSA`, `DIFERENCA_PROVISAO_FERIASRPSB`, `DIFERENCA_PROVISAO_FERIASRPSC`, `FERIAS_NORMAIS`, `FERIAS_NORMAIS_RPSA`, `FERIAS_NORMAIS_RPSB`, `FERIAS_NORMAIS_RPS`, `FERIAS_PROPORCIONAISINDENIZADAS`, `FERIASPROPORCIONAISINDENIZADASFORMULA`, `FERIASPROPORCIONAISINDENIZADASRPSA`, `FERIASPROPORCIONAISINDENIZADASRPSB`, `FERIASPROPORCIONAISINDENIZADASRPSC`, `FERIASUMTERCO`, `FERIASUMTERCORPSA`, `FERIASUMTERCORPSB`, `FERIASUMTERCORPSC`, `FGTS`, `INCIDENCIACUMULATIVA`, `INCIDENCIUMTERCOFERIASSOBREAVISO`, `INCIDENCIUMTERCOFERIASSOBREAVISORPSA`, `INCIDENCIUMTERCOFERIASSOBREAVISORPSB`, `INCIDENCIUMTERCOFERIASSOBREAVISORPSC`, `INCRA`, `INSS`, `INVOLUNTARIO`, `MESDISSIDIO`, `MULTAFGTS`, `SALARIOEDUCACAO`, `SEBRAE`, `SEGUROACIDENTETRABALHO`, `SENAT`, `SEST`, `TEMPOMEDIOCASA`, `TOTAL`, `TOTALENCARGOS`, `TOTALPROVISOES`, `TOTALRPSA`, `TOTALRPSB`, `TOTALRPSC`, `TURNOVER`, `VOLUNTARIO`, `_ID`\"\n",
    "    elif tabela == \"RESUMO_SRTRANS_AS\":\n",
    "        colunas = \"`Vigencia`, `Unidade_CNPJ`, `Unidade_Nome`, `Unidade_SAP`, `Unidade_TMS`, `Unidade_Promax_UNB`, `Unidade_Regional`, `Operador_CNPJ`, `Operador_Nome`, `Operador_SAP`, `Operador_TMS`, `Operador_Promax`, `Organizacao_de_Compras`, `Prazo_Pagamento`, `Aderencia_Tracking`, `Ajudante_Fator_1_Bate_Jornada`, `Ajudante_Fator_1_Nao_Bate_Jornada`, `Ajudante_Fator_1_Recarga`, `Ajudante_Fator_1_Recarga_Viagem`, `Ajudante_Fator_2_Bate_Jornada`, `Ajudante_Fator_2_Nao_Bate_Jornada`, `Ajudante_Fator_2_Recarga`, `Ajudante_Fator_2_Recarga_Viagem`, `Custo_Ajudante`, `Custo_Ajudante_Reserva`, `Custo_Equipe_Entrega_Especial`, `Custo_Equipe_Entrega_Fixo`, `Custo_Equipe_Entrega_Mkt`, `Custo_Equipe_Entrega_Noturna`, `Custo_Equipe_Entrega_Padrao`, `Custo_Equipe_Entrega_Refrigeracao`, `Custo_Fixo_Especial`, `Custo_Fixo_Finame`, `Custo_Fixo_Fixo`, `Custo_Fixo_Mkt`, `Custo_Fixo_Noturna`, `Custo_Fixo_Padrao`, `Custo_Fixo_Quitado`, `Custo_Fixo_Refrigeracao`, `Custo_Variavel_Especial`, `Custo_Variavel_Fixo`, `Custo_Variavel_Mkt`, `Custo_Variavel_Noturna`, `Custo_Variavel_Padrao`, `Custo_Variavel_Recarga`, `Custo_Variavel_Refrigeracao`, `Custos_Indiretos_Especial`, `Custos_Indiretos_Fixo`, `Custos_Indiretos_Mkt`, `Custos_Indiretos_Noturna`, `Custos_Indiretos_Padrao`, `Custos_Indiretos_Refrigeracao`, `Encargos`, `Entregue_Tracking`, `Fator_Ajudante`, `Fator_Primeira_Viagem_Ajudante`, `Finame_Finame`, `Item_1_Descricao`, `Item_1_Rem`, `Item_1_Rem_Ajudante`, `Item_1_Rem_Motorista`, `Item_1_Rem_Valor`, `Item_1_Remuneracao`, `Item_1_Valor`, `Item_2_Descricao`, `Item_2_Rem`, `Item_2_Rem_Ajudante`, `Item_2_Rem_Motorista`, `Item_2_Rem_Valor`, `Item_2_Remuneracao`, `Item_2_Valor`, `Item_3_Descricao`, `Item_3_Rem`, `Item_3_Rem_Ajudante`, `Item_3_Rem_Motorista`, `Item_3_Rem_Valor`, `Item_3_Remuneracao`, `Item_3_Valor`, `Lucro_Especial`, `Lucro_Fixo`, `Lucro_Mkt`, `Lucro_Noturna`, `Lucro_Padrao`, `Lucro_Refrigeracao`, `Meta`, `Meta_Disponivel_FF`, `Meta_Jornada_Liquida`, `Meta_Jornada_Liquida_12x36_HH`, `Meta_Jornada_Liquida_12x36_MM`, `Meta_Jornada_Liquida_Hora`, `Meta_Jornada_Liquida_MM`, `Meta_Jornada_Liquida_Minuto`, `Motorista_Fator_1_Bate_Jornada`, `Motorista_Fator_1_Nao_Bate_Jornada`, `Motorista_Fator_1_Recarga`, `Motorista_Fator_1_Recarga_Viagem`, `Motorista_Fator_2_Bate_Jornada`, `Motorista_Fator_2_Nao_Bate_Jornada`, `Motorista_Fator_2_Recarga`, `Motorista_Fator_2_Recarga_Viagem`, `Nivel_Servico`, `Numero_Minimo_Viagens`, `Pagar_Lucro`, `Pagar_Remuneracao`, `Realizar_Desc`, `Total_Veiculo_Padrao`, `Total_Veiculos_Especial`, `Total_Veiculos_Fixo`, `Total_Veiculos_Inativos_Ambev`, `Total_Veiculos_Inativos_Finame`, `Total_Veiculos_Inativos_Quitado`, `Total_Veiculos_Inativos_Total`, `Total_Veiculos_Mkt`, `Total_Veiculos_Noturna`, `Total_Veiculos_Refrigeracao`, `Valor_Bonus_Ajudante`, `Valor_Bonus_Motorista`, `Valor_Lucro`, `Valor_Ponto_Ajudante`, `Valor_Ponto_Ajudante_Para_Cada`, `Valor_Ponto_Motorista`, `Valor_Ponto_Motorista_Para_Cada`, `_ID`\"\n",
    "    elif tabela == \"BENEFICIO_AS\":\n",
    "        colunas = \"`VIGENCIA`, `UNIDADE_CNPJ`, `UNIDADE_NOME`, `UNIDADE_SAP`, `UNIDADE_TMS`, `UNIDADE_PROMAX_UNB`, `UNIDADE_REGIONAL`, `OPERADOR_CNPJ`, `OPERADOR_NOME`, `OPERADOR_SAP`, `OPERADOR_TMS`, `OPERADOR_PROMAX`, `ORGANIZACAO_DE_COMPRAS`, `PRAZO_PAGAMENTO`, `CARGO_BENEFICIO`, `ITEM_BENEFICIO`, `PARTICIPACAO_DA_EMPRESA`, `QUANTIDADE`, `QUANTIDADE_DE_DIAS_UTEIS`, `RESSARCIMENTO_FUNCIONARIO`, `TOTAL`, `VALOR`, `_ID`\"    \n",
    "    return colunas\n",
    "    \n",
    "def conectar_banco(host_name, user_name, user_password, database):\n",
    "    try:\n",
    "        connection = mysql.connector.connect(\n",
    "            host=host_name,\n",
    "            user=user_name,\n",
    "            password=user_password,\n",
    "            database=database\n",
    "        )\n",
    "        # print(\"Conexão ao banco de dados MySQL realizada com sucesso\")\n",
    "    except mysql.connector.Error as err:\n",
    "        print(f\"Erro ao conectar ao banco de dados: '{err}'\")\n",
    "    return connection\n",
    "\n",
    "def encontrar_arquivo_mais_recente(diretorio, prefixo):\n",
    "    arquivos = [f for f in os.listdir(diretorio) if f.startswith(prefixo) and f.endswith('.xlsx')]\n",
    "    if not arquivos:\n",
    "        return None\n",
    "    return max(arquivos, key=lambda f: os.path.getmtime(os.path.join(diretorio, f)))\n",
    "\n",
    "diretorio =  r'C:\\\\Freightech\\\\load\\\\AS'\n",
    "prefixo = 'AS'\n",
    "\n",
    "nome_arquivo_mais_recente = encontrar_arquivo_mais_recente(diretorio, prefixo)\n",
    "\n",
    "if nome_arquivo_mais_recente:\n",
    "    nome_arquivo = os.path.join(diretorio, nome_arquivo_mais_recente)\n",
    "    print(f\"Arquivo mais recente encontrado: {nome_arquivo}\")\n",
    "    \n",
    "    arquivo_excel = pd.ExcelFile(nome_arquivo)\n",
    "    nomes_abas = arquivo_excel.sheet_names\n",
    "\n",
    "    for nome_aba in nomes_abas:\n",
    "        arquivo = pd.read_excel(nome_arquivo, sheet_name=nome_aba)\n",
    "        tabelaInsert = nome_tabela(nome_arquivo, nome_aba)\n",
    "        colunasInsert = colunas_tabela(tabelaInsert)\n",
    "        colunas = arquivo.columns.tolist()\n",
    "        todosValores = \"\"\n",
    "        for index, linha in arquivo.iterrows():\n",
    "            valores = linha.tolist()\n",
    "            valores_string = ','.join(['\"'+str(valor).rstrip('\\'\"')+'\"' for valor in valores])\n",
    "            valores_string = \"(\" + valores_string + \"),\"\n",
    "            todosValores += valores_string\n",
    "\n",
    "        todosValores = todosValores.rstrip(',')\n",
    "        sql = f\"INSERT IGNORE INTO {tabelaInsert}({colunasInsert}) VALUES {todosValores}\"\n",
    "\n",
    "        conexao = conectar_banco(host_name, user_name, user_password, database)\n",
    "        cursor = conexao.cursor()\n",
    "        try:\n",
    "            cursor.execute(sql) \n",
    "            conexao.commit()\n",
    "            print(f\"Query executada com sucesso na tabela {nome_aba}.\")\n",
    "        except Exception as e:\n",
    "            conexao.rollback()\n",
    "            print(f\"Erro ao executar a query: {e}\")\n",
    "            print(sql)\n",
    "        finally:\n",
    "            cursor.close()\n",
    "            conexao.close()\n",
    "else:\n",
    "    print(\"Nenhum arquivo encontrado com o prefixo especificado.\")\n",
    "\n"
   ]
  },
  {
   "cell_type": "code",
   "execution_count": 1,
   "metadata": {},
   "outputs": [
    {
     "name": "stdout",
     "output_type": "stream",
     "text": [
      "C:\\Users\\ADMIN.JOAO\\AppData\\Local\\Microsoft\\WindowsApps\\PythonSoftwareFoundation.Python.3.12_qbz5n2kfra8p0\\python.exe\n"
     ]
    }
   ],
   "source": [
    "import sys\n",
    "print(sys.executable) "
   ]
  },
  {
   "cell_type": "markdown",
   "metadata": {},
   "source": [
    "1.EQP_FAD_AS- 143 - 143-144-168 \n",
    "2.FATURAMENTO_AS- 26 - 26 -36 \n",
    "3. RESUMO_AS-0-17 27-27 \n",
    "4. DADOS_FF_AS-306-306 - 307-358 \n",
    "5.DESPESAS_OPERACIONAIS_AS-797- 797-802 -929 \n",
    "6.EQUIPE_ENTREGA_AS-161 - 161 - 162-\n",
    "7. QLP_ADM_AS-1133 -1133 -1134-1512 \n",
    "8.UNIFORMES_EPIS_AS-755 - 755 - 756-1008 \n",
    "9. BENEFICIOS_AS-73.353 - 78.243-80688-85868-657 \n",
    "10. BENEFICIOS_EQP_AS-0-1824-16416- \n",
    "11. BENEFICIO_NOTURNA_AS-0-(corrigir)-657 \n",
    "12. COMBUSTIVEL_AS-215 -215-216-252 \n",
    "13. EQP_NOTURNA_AS-2851 -95-96-144  \n",
    "14. PARAMETRO_OPERACAO_AS-53 -53-54-63 \n",
    "13.ENCARGOS_COM_FERIAS_AS-53 -53-54-63 \n",
    "16. ENCARGO_SEM_FERIAS_AS- -53-53-54-63 \n"
   ]
  }
 ],
 "metadata": {
  "kernelspec": {
   "display_name": "Python 3",
   "language": "python",
   "name": "python3"
  },
  "language_info": {
   "codemirror_mode": {
    "name": "ipython",
    "version": 3
   },
   "file_extension": ".py",
   "mimetype": "text/x-python",
   "name": "python",
   "nbconvert_exporter": "python",
   "pygments_lexer": "ipython3",
   "version": "3.12.9"
  }
 },
 "nbformat": 4,
 "nbformat_minor": 2
}
